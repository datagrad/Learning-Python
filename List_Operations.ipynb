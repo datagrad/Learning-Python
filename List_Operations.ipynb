{
  "nbformat": 4,
  "nbformat_minor": 0,
  "metadata": {
    "colab": {
      "name": "List Operations.ipynb",
      "provenance": [],
      "collapsed_sections": [
        "ueLiOUEjFqMD",
        "1OCNrGKYFtqG",
        "6QvcjAnClOO7",
        "ck1_qsaDF2xO",
        "eSOPEv86lSUS",
        "xvpxsQKZlSIU",
        "H0lKpzCclR7I",
        "Ukwh3dAQljQI",
        "x_eSaFu5lmtY",
        "oQreG3wMlpKK",
        "K2TpBn09ltWv",
        "L2BojPaIltGn",
        "ttA-oEy8Guui",
        "bwX5HQcil-Vy",
        "8atFksk6l-Iw",
        "CpVh62AdHBRF",
        "oFS6lj7OmPVO",
        "2S2TJgN-H1Ea"
      ],
      "toc_visible": true,
      "authorship_tag": "ABX9TyMK6gfrnP4AnxzIHmH9BxDU",
      "include_colab_link": true
    },
    "kernelspec": {
      "name": "python3",
      "display_name": "Python 3"
    },
    "language_info": {
      "name": "python"
    }
  },
  "cells": [
    {
      "cell_type": "markdown",
      "metadata": {
        "id": "view-in-github",
        "colab_type": "text"
      },
      "source": [
        "<a href=\"https://colab.research.google.com/github/datagrad/Learning-Python/blob/main/List_Operations.ipynb\" target=\"_parent\"><img src=\"https://colab.research.google.com/assets/colab-badge.svg\" alt=\"Open In Colab\"/></a>"
      ]
    },
    {
      "cell_type": "markdown",
      "source": [
        "# Creating a List\n"
      ],
      "metadata": {
        "id": "ueLiOUEjFqMD"
      }
    },
    {
      "cell_type": "code",
      "execution_count": 1,
      "metadata": {
        "colab": {
          "base_uri": "https://localhost:8080/"
        },
        "id": "mZzm4vLMFN7p",
        "outputId": "a3263d4f-867f-4a8b-9c6b-4e44ef7eaae4"
      },
      "outputs": [
        {
          "output_type": "stream",
          "name": "stdout",
          "text": [
            "[]\n",
            "===========================================================\n",
            "[10, 20, 14]\n",
            "===========================================================\n",
            "Start\n",
            "Lists\n",
            "===========================================================\n",
            "[['Geeks', 'For'], ['Geeks']]\n"
          ]
        }
      ],
      "source": [
        "# Creating a List\n",
        "List_1 = []\n",
        "print(List_1)\n",
        "\n",
        "print(\"===========================================================\")\n",
        "\n",
        "# Creating a List of numbers\n",
        "List_2 = [10, 20, 14]\n",
        "print(List_2)\n",
        "\n",
        "print(\"===========================================================\")\n",
        "\n",
        "# Creating a List of strings and accessing\n",
        "List_3 = [\"Start\", \"Learning\", \"Lists\"]\n",
        "print(List_3[0])\n",
        "print(List_3[2])\n",
        "\n",
        "print(\"===========================================================\")\n",
        "\n",
        "# Creating a Multi-Dimensional List By Nesting a list inside a List)\n",
        "List_4 = [['Geeks', 'For'], ['Geeks']]\n",
        "print(List_4)\n"
      ]
    },
    {
      "cell_type": "markdown",
      "source": [
        "# Size of List\n"
      ],
      "metadata": {
        "id": "1OCNrGKYFtqG"
      }
    },
    {
      "cell_type": "markdown",
      "source": [
        "## len(List)"
      ],
      "metadata": {
        "id": "6QvcjAnClOO7"
      }
    },
    {
      "cell_type": "code",
      "source": [
        "List= [0,1,2,3,4,5,6,7,8,9]\n",
        "print(List)\n",
        "\n",
        "print(\"Size of List:\",len(List))"
      ],
      "metadata": {
        "colab": {
          "base_uri": "https://localhost:8080/"
        },
        "id": "_XW99vqiF2Kn",
        "outputId": "69cc92be-fb77-4f33-c0c2-fbc6ee518f3d"
      },
      "execution_count": 2,
      "outputs": [
        {
          "output_type": "stream",
          "name": "stdout",
          "text": [
            "[0, 1, 2, 3, 4, 5, 6, 7, 8, 9]\n",
            "Size of List: 10\n"
          ]
        }
      ]
    },
    {
      "cell_type": "markdown",
      "source": [
        "# Adding Elements to a List\n",
        "\n"
      ],
      "metadata": {
        "id": "ck1_qsaDF2xO"
      }
    },
    {
      "cell_type": "markdown",
      "source": [
        "## Append()\n",
        "* The term inside bracket will be added as the last term of list."
      ],
      "metadata": {
        "id": "eSOPEv86lSUS"
      }
    },
    {
      "cell_type": "markdown",
      "source": [
        "\n",
        "## insert()\n",
        "* To add an element at a given index of the list"
      ],
      "metadata": {
        "id": "xvpxsQKZlSIU"
      }
    },
    {
      "cell_type": "markdown",
      "source": [
        "\n",
        "## extend()\n",
        "* To add multiple elements at the same time at the end of the list."
      ],
      "metadata": {
        "id": "H0lKpzCclR7I"
      }
    },
    {
      "cell_type": "code",
      "source": [
        "List.append(3)\n",
        "print(\"New term has been added at the end in the list: \",List)"
      ],
      "metadata": {
        "colab": {
          "base_uri": "https://localhost:8080/"
        },
        "id": "1nt7-NXSGHUP",
        "outputId": "d3113899-852b-4194-c873-c544cab07697"
      },
      "execution_count": 3,
      "outputs": [
        {
          "output_type": "stream",
          "name": "stdout",
          "text": [
            "New term has been added at the end in the list:  [0, 1, 2, 3, 4, 5, 6, 7, 8, 9, 3]\n"
          ]
        }
      ]
    },
    {
      "cell_type": "code",
      "source": [
        "List.insert(0,99)\n",
        "print(\"New term will be added at the 0th index in the list: \",List)"
      ],
      "metadata": {
        "colab": {
          "base_uri": "https://localhost:8080/"
        },
        "id": "JWkRbVuUQuxR",
        "outputId": "79a37132-4219-44b6-88c2-c738b022fd4c"
      },
      "execution_count": 4,
      "outputs": [
        {
          "output_type": "stream",
          "name": "stdout",
          "text": [
            "New term will be added at the 0th index in the list:  [99, 0, 1, 2, 3, 4, 5, 6, 7, 8, 9, 3]\n"
          ]
        }
      ]
    },
    {
      "cell_type": "code",
      "source": [
        "List.insert(-1,199)\n",
        "print(\"New term will be added at the 0th index in the list: \",List)"
      ],
      "metadata": {
        "colab": {
          "base_uri": "https://localhost:8080/"
        },
        "id": "CkqmLYK-Quff",
        "outputId": "2950fd99-c265-4e48-cf81-009750f0b24a"
      },
      "execution_count": 5,
      "outputs": [
        {
          "output_type": "stream",
          "name": "stdout",
          "text": [
            "New term will be added at the 0th index in the list:  [99, 0, 1, 2, 3, 4, 5, 6, 7, 8, 9, 199, 3]\n"
          ]
        }
      ]
    },
    {
      "cell_type": "code",
      "source": [
        "print(List[0])"
      ],
      "metadata": {
        "colab": {
          "base_uri": "https://localhost:8080/"
        },
        "id": "d5X2KVyASRVG",
        "outputId": "1fd8445d-109b-4843-ffaa-ea3caa4e31e5"
      },
      "execution_count": 6,
      "outputs": [
        {
          "output_type": "stream",
          "name": "stdout",
          "text": [
            "99\n"
          ]
        }
      ]
    },
    {
      "cell_type": "code",
      "source": [
        "# Extend\n",
        "List = [0,1,2,3,4,5,6,7,8,9]\n",
        "List.extend([\"a\",\"bcd\",\"efg\",\"hi\",\"JK\",\"L\"])\n",
        "print(List)\n",
        "\n",
        "# Add a list inside (), and the terms will be added to List "
      ],
      "metadata": {
        "colab": {
          "base_uri": "https://localhost:8080/"
        },
        "id": "RaAxKhhQdD2g",
        "outputId": "672de5c3-f187-4942-8296-6b6117a91cf4"
      },
      "execution_count": 7,
      "outputs": [
        {
          "output_type": "stream",
          "name": "stdout",
          "text": [
            "[0, 1, 2, 3, 4, 5, 6, 7, 8, 9, 'a', 'bcd', 'efg', 'hi', 'JK', 'L']\n"
          ]
        }
      ]
    },
    {
      "cell_type": "markdown",
      "source": [
        "# Accessing elements from the List\n",
        "* List[n-1]\n",
        "* List[-m]"
      ],
      "metadata": {
        "id": "6mFTa2B_GGtM"
      }
    },
    {
      "cell_type": "markdown",
      "source": [
        "### List[n]"
      ],
      "metadata": {
        "id": "Ukwh3dAQljQI"
      }
    },
    {
      "cell_type": "markdown",
      "source": [
        "### List[-n]"
      ],
      "metadata": {
        "id": "x_eSaFu5lmtY"
      }
    },
    {
      "cell_type": "markdown",
      "source": [
        "### List[n:]"
      ],
      "metadata": {
        "id": "oQreG3wMlpKK"
      }
    },
    {
      "cell_type": "markdown",
      "source": [
        "### List[:m]"
      ],
      "metadata": {
        "id": "K2TpBn09ltWv"
      }
    },
    {
      "cell_type": "markdown",
      "source": [
        "### List[n:m]"
      ],
      "metadata": {
        "id": "L2BojPaIltGn"
      }
    },
    {
      "cell_type": "markdown",
      "source": [
        "### List[-m:-n]"
      ],
      "metadata": {
        "id": "d1LHrAcglsmA"
      }
    },
    {
      "cell_type": "markdown",
      "source": [
        "###  List[a : b : c]\n",
        "* a is first term of list\n",
        "* b-1 can be the last term of list if satisfies the condition\n",
        "* c is the step size\n",
        "\n",
        "For Example:\n",
        "* List[1 : 17 : 2]:\n",
        "  * 1 can be the first term of list if condition is satisfied*\n",
        "  * 16 will be the last term of the list if condition is satisfied*\n",
        "  * 2 will be the step size"
      ],
      "metadata": {
        "id": "5HxarY8et_F-"
      }
    },
    {
      "cell_type": "code",
      "source": [
        "List = list(range(0,21))\n",
        "#  below list has numbers from 2 to 8 in step 2\n",
        "List_1_17_2 = List[1 : 17 : 2]\n",
        "print (List_1_17_2)\n",
        "\n",
        "\n",
        "List_1_18_2 = List[1 : 18 : 2]\n",
        "print (List_1_18_2)\n"
      ],
      "metadata": {
        "colab": {
          "base_uri": "https://localhost:8080/"
        },
        "id": "9iWDYy07uHBV",
        "outputId": "4fb14615-d651-4a36-c52e-e7b2875feb11"
      },
      "execution_count": 47,
      "outputs": [
        {
          "output_type": "stream",
          "name": "stdout",
          "text": [
            "[1, 3, 5, 7, 9, 11, 13, 15]\n",
            "[1, 3, 5, 7, 9, 11, 13, 15, 17]\n"
          ]
        }
      ]
    },
    {
      "cell_type": "code",
      "source": [
        "List = list(range(0,21))\n",
        "\n",
        "List_1 = List[1 : 17 : 5]    # Here 16 is last term and satisfies the step size of 5 condition\n",
        "print (List_1)\n",
        "\n",
        "\n",
        "List_2 = List[4 : 17 : 5]    # Here 16 is last term but doesn't satisfies the step size of 5 condition\n",
        "print (List_2)\n"
      ],
      "metadata": {
        "colab": {
          "base_uri": "https://localhost:8080/"
        },
        "id": "bmUkpiPIvQki",
        "outputId": "2ac34570-5242-42ae-82c1-9d2bffb9b9a4"
      },
      "execution_count": 49,
      "outputs": [
        {
          "output_type": "stream",
          "name": "stdout",
          "text": [
            "[1, 6, 11, 16]\n",
            "[4, 9, 14]\n"
          ]
        }
      ]
    },
    {
      "cell_type": "code",
      "source": [
        "List= [0,1,2,3,4,5,6,7,8,9]\n",
        "\n",
        "\n",
        "print(List)\n",
        "print (\"========================================================================\")\n",
        "print(\"0th element: \",List[0])\n",
        "print(\"1st element: \",List[1])\n",
        "print(\"2nd element: \",List[2])\n",
        "print(\"Last element: \",List[-1])\n",
        "print(\"3rd element from end: \",List[-3])\n"
      ],
      "metadata": {
        "colab": {
          "base_uri": "https://localhost:8080/"
        },
        "id": "MhA5eNBiGNX3",
        "outputId": "6b8b3fde-1ad1-401a-88e0-65d8a6e17427"
      },
      "execution_count": 8,
      "outputs": [
        {
          "output_type": "stream",
          "name": "stdout",
          "text": [
            "[0, 1, 2, 3, 4, 5, 6, 7, 8, 9]\n",
            "========================================================================\n",
            "0th element:  0\n",
            "1st element:  1\n",
            "2nd element:  2\n",
            "Last element:  9\n",
            "3rd element from end:  7\n"
          ]
        }
      ]
    },
    {
      "cell_type": "markdown",
      "source": [
        "# Removing Elements from list\n",
        "\n"
      ],
      "metadata": {
        "id": "ttA-oEy8Guui"
      }
    },
    {
      "cell_type": "markdown",
      "source": [
        "### remove()\n",
        "* Removes the term mentioned inside bracket.\n"
      ],
      "metadata": {
        "id": "bwX5HQcil-Vy"
      }
    },
    {
      "cell_type": "markdown",
      "source": [
        "### pop()\n",
        "* Removes the term based on index"
      ],
      "metadata": {
        "id": "8atFksk6l-Iw"
      }
    },
    {
      "cell_type": "code",
      "source": [
        "List = [\"a\",\"bcd\",\"efg\",\"hi\",\"JK\",\"L\"]\n",
        "#List.remove(1)\n",
        "print(List.pop())\n",
        "print(List.pop(1))"
      ],
      "metadata": {
        "colab": {
          "base_uri": "https://localhost:8080/"
        },
        "id": "wzJJFOulejQL",
        "outputId": "f512cb0c-6d72-4d2b-f730-474d2822a4be"
      },
      "execution_count": 9,
      "outputs": [
        {
          "output_type": "stream",
          "name": "stdout",
          "text": [
            "L\n",
            "bcd\n"
          ]
        }
      ]
    },
    {
      "cell_type": "code",
      "source": [
        "List = [2,4,6,7,\"a\",\"bcd\",\"efg\",\"hi\",\"JK\",\"L\"]\n",
        "List.remove(7)\n",
        "print(List)"
      ],
      "metadata": {
        "colab": {
          "base_uri": "https://localhost:8080/"
        },
        "id": "SFYQ8gx6GrrD",
        "outputId": "db76cc4f-d9c1-42f6-d71b-8d7bde2f7d11"
      },
      "execution_count": 11,
      "outputs": [
        {
          "output_type": "stream",
          "name": "stdout",
          "text": [
            "[2, 4, 6, 'a', 'bcd', 'efg', 'hi', 'JK', 'L']\n"
          ]
        }
      ]
    },
    {
      "cell_type": "code",
      "source": [
        "List = [\"a\",\"bcd\",\"efg\",\"hi\",\"JK\",\"L\"]\n",
        "print(List.pop(1))\n",
        "print(List)\n"
      ],
      "metadata": {
        "colab": {
          "base_uri": "https://localhost:8080/"
        },
        "id": "Gsn-ZCLXUVCV",
        "outputId": "e6b034e6-82a6-4d89-ed0d-cd25e47df7a0"
      },
      "execution_count": 12,
      "outputs": [
        {
          "output_type": "stream",
          "name": "stdout",
          "text": [
            "bcd\n",
            "['a', 'efg', 'hi', 'JK', 'L']\n"
          ]
        }
      ]
    },
    {
      "cell_type": "code",
      "source": [
        "List.pop(0)\n",
        "print(List)"
      ],
      "metadata": {
        "colab": {
          "base_uri": "https://localhost:8080/"
        },
        "id": "uIQE7rDqUkSz",
        "outputId": "f1ee4e39-edbe-4b5a-ff7d-6c6fe8f65035"
      },
      "execution_count": 13,
      "outputs": [
        {
          "output_type": "stream",
          "name": "stdout",
          "text": [
            "['efg', 'hi', 'JK', 'L']\n"
          ]
        }
      ]
    },
    {
      "cell_type": "code",
      "source": [
        "List1 = [9,8,7,6,5,4,3,2,1,0]\n",
        "List2 = [9,8,7,6,5,4,3,2,1,0]\n",
        "\n",
        "List1.remove(1)\n",
        "print(\"Removes the term 1 from the list: \", List1)\n",
        "\n",
        "List2.pop(1)\n",
        "print(\"Removes the term which is on 1st in the list: \",List2)\n"
      ],
      "metadata": {
        "colab": {
          "base_uri": "https://localhost:8080/"
        },
        "id": "h-B-0ovUUrZy",
        "outputId": "afdf7b33-4374-4798-b1d9-f711db69bba1"
      },
      "execution_count": 14,
      "outputs": [
        {
          "output_type": "stream",
          "name": "stdout",
          "text": [
            "Removes the term 1 from the list:  [9, 8, 7, 6, 5, 4, 3, 2, 0]\n",
            "Removes the term which is on 1st in the list:  [9, 7, 6, 5, 4, 3, 2, 1, 0]\n"
          ]
        }
      ]
    },
    {
      "cell_type": "markdown",
      "source": [
        "# Slicing of list\n",
        "* List[a:b]  =>  ath term is inclusive, bth term is exclusive.\n",
        "* List[a:]\n",
        "* List[:b]"
      ],
      "metadata": {
        "id": "CpVh62AdHBRF"
      }
    },
    {
      "cell_type": "markdown",
      "source": [
        "## List[a:b]"
      ],
      "metadata": {
        "id": "oFS6lj7OmPVO"
      }
    },
    {
      "cell_type": "code",
      "source": [
        "List= [0,1,2,3,4,5,6,7,8,9]\n",
        "print(List[1:6])\n",
        "# O/P: items on 1st index to 5th index"
      ],
      "metadata": {
        "colab": {
          "base_uri": "https://localhost:8080/"
        },
        "id": "AUCmrC9iHp0n",
        "outputId": "6607b504-ae8b-46ad-bca7-c2ae81086c35"
      },
      "execution_count": 15,
      "outputs": [
        {
          "output_type": "stream",
          "name": "stdout",
          "text": [
            "[1, 2, 3, 4, 5]\n"
          ]
        }
      ]
    },
    {
      "cell_type": "code",
      "source": [
        "List= [0,1,2,3,4,5,6,7,8,9]\n",
        "print(List[1:])\n",
        "# O/P: items on 1st index to after that"
      ],
      "metadata": {
        "colab": {
          "base_uri": "https://localhost:8080/"
        },
        "id": "8U8hNGijVjwf",
        "outputId": "9546d759-22a8-4b8d-d654-2b8eefe0d83c"
      },
      "execution_count": 16,
      "outputs": [
        {
          "output_type": "stream",
          "name": "stdout",
          "text": [
            "[1, 2, 3, 4, 5, 6, 7, 8, 9]\n"
          ]
        }
      ]
    },
    {
      "cell_type": "code",
      "source": [
        "List= [0,1,2,3,4,5,6,7,8,9]\n",
        "print(List[:6])\n",
        "# O/P: items before 6th index"
      ],
      "metadata": {
        "colab": {
          "base_uri": "https://localhost:8080/"
        },
        "id": "_fUIH0VYVjnV",
        "outputId": "9e74d72e-ac06-4cf7-ad6b-c25378f6cae6"
      },
      "execution_count": 17,
      "outputs": [
        {
          "output_type": "stream",
          "name": "stdout",
          "text": [
            "[0, 1, 2, 3, 4, 5]\n"
          ]
        }
      ]
    },
    {
      "cell_type": "code",
      "source": [
        "List= [0,1,2,3,4,5,6,7,8,9]\n",
        "print(List[-1])\n",
        "# O/P: items on the last index"
      ],
      "metadata": {
        "colab": {
          "base_uri": "https://localhost:8080/"
        },
        "id": "7894iGQXWcsK",
        "outputId": "0ffa4329-c9cd-4a15-89ca-f1af6c399fdf"
      },
      "execution_count": 18,
      "outputs": [
        {
          "output_type": "stream",
          "name": "stdout",
          "text": [
            "9\n"
          ]
        }
      ]
    },
    {
      "cell_type": "code",
      "source": [
        "List= [0,1,2,3,4,5,6,7,8,9]\n",
        "print(List[-5:-1])\n",
        "# O/P: items on -5th index to -2nd index"
      ],
      "metadata": {
        "colab": {
          "base_uri": "https://localhost:8080/"
        },
        "id": "PJDZZyIQVjbW",
        "outputId": "ae3769e6-a377-43d2-cb9c-5b57c3aadb14"
      },
      "execution_count": 19,
      "outputs": [
        {
          "output_type": "stream",
          "name": "stdout",
          "text": [
            "[5, 6, 7, 8]\n"
          ]
        }
      ]
    },
    {
      "cell_type": "code",
      "source": [
        "List= [0,1,2,3,4,5,6,7,8,9]\n",
        "print(List[:-1])\n",
        "# O/P: items on -5th index to -2nd index"
      ],
      "metadata": {
        "colab": {
          "base_uri": "https://localhost:8080/"
        },
        "id": "uO9a_UgNWV-I",
        "outputId": "42709e09-98a2-4db1-d8e4-5865697d471e"
      },
      "execution_count": 20,
      "outputs": [
        {
          "output_type": "stream",
          "name": "stdout",
          "text": [
            "[0, 1, 2, 3, 4, 5, 6, 7, 8]\n"
          ]
        }
      ]
    },
    {
      "cell_type": "code",
      "source": [
        "List= [0,1,2,3,4,5,6,7,8,9]\n",
        "print(List[-7:])\n",
        "# O/P: items on -5th index to -2nd index"
      ],
      "metadata": {
        "colab": {
          "base_uri": "https://localhost:8080/"
        },
        "id": "5AsTqyXmbmkU",
        "outputId": "825c353e-c807-4cfd-e498-0f5cc13bd775"
      },
      "execution_count": 21,
      "outputs": [
        {
          "output_type": "stream",
          "name": "stdout",
          "text": [
            "[3, 4, 5, 6, 7, 8, 9]\n"
          ]
        }
      ]
    },
    {
      "cell_type": "markdown",
      "source": [
        "# List Comprehension\n",
        "* List comprehensions are used for creating new lists from other iterables like tuples, strings, arrays, lists, etc.\n",
        "* A list comprehension consists of brackets containing the expression, which is executed for each element along with the for loop to iterate over each element. "
      ],
      "metadata": {
        "id": "UFwC87vGHqyk"
      }
    },
    {
      "cell_type": "markdown",
      "source": [
        "#### Steps\n",
        "\n",
        "* Create the empty List\n",
        "* Write the input condition \n",
        "* Pull the required data from input\n",
        "* Check with Operation, if condition is satisfiedm then append to list using .append()\n",
        "* print (List)"
      ],
      "metadata": {
        "id": "Rv9Re2eiqV0V"
      }
    },
    {
      "cell_type": "code",
      "source": [
        "# Creating a List based on expression\n",
        "odd_square = [x ** 2 for x in range(1, 11) if x % 2 == 1]\n",
        "print(odd_square)\n",
        "\n",
        "#O/P : creates a list of squares of all odd number in (1,11)"
      ],
      "metadata": {
        "colab": {
          "base_uri": "https://localhost:8080/"
        },
        "id": "MZBqYBrrmce2",
        "outputId": "ab3afb5b-074b-4d7d-8354-c1d6c3213a69"
      },
      "execution_count": 22,
      "outputs": [
        {
          "output_type": "stream",
          "name": "stdout",
          "text": [
            "[1, 9, 25, 49, 81]\n"
          ]
        }
      ]
    },
    {
      "cell_type": "code",
      "source": [
        "# Detailed Approach\n",
        "odd_square = []                        # Create the empty List\n",
        "for x in range(1, 11):                 # Write the input condition \n",
        "    if x % 2 == 1:                     # Pull the required data from input\n",
        "        odd_square.append(x**2)        # Operation is x**2 and then append to list using .append()\n",
        "print (odd_square)                     # print the output"
      ],
      "metadata": {
        "colab": {
          "base_uri": "https://localhost:8080/"
        },
        "id": "Xtg-A_QdpH2M",
        "outputId": "52970a7c-952f-4b0a-ca4f-4c6489f3d41c"
      },
      "execution_count": 24,
      "outputs": [
        {
          "output_type": "stream",
          "name": "stdout",
          "text": [
            "[1, 9, 25, 49, 81]\n"
          ]
        }
      ]
    },
    {
      "cell_type": "code",
      "source": [
        "# Print the list of terms which are divisible by 3 in (1,37)\n",
        "\n",
        "List = []\n",
        "for x in range(1,37):\n",
        "  if x%3 == 0:\n",
        "    List.append(x)\n",
        "\n",
        "print(List)"
      ],
      "metadata": {
        "colab": {
          "base_uri": "https://localhost:8080/"
        },
        "id": "zfLtES2ZpvNF",
        "outputId": "8a7fde03-b28c-443b-c3d6-c7f4e4aa8133"
      },
      "execution_count": 26,
      "outputs": [
        {
          "output_type": "stream",
          "name": "stdout",
          "text": [
            "[3, 6, 9, 12, 15, 18, 21, 24, 27, 30, 33, 36]\n"
          ]
        }
      ]
    },
    {
      "cell_type": "code",
      "source": [
        "List = [\"A\",\"B\",\"C\",\"D\",\"E\",\"F\",\"G\"]\n",
        "\n",
        "List_Low = []\n",
        "for x in List:\n",
        "  List_Low.append(x.lower())\n",
        "\n",
        "print(List_Low)\n",
        "\n",
        "List_Up = []\n",
        "for y in List_Low:\n",
        "  List_Up.append(y.upper())\n",
        "print(List_Up)"
      ],
      "metadata": {
        "colab": {
          "base_uri": "https://localhost:8080/"
        },
        "id": "aPBkEiJ8q3FB",
        "outputId": "7dee6958-8fa8-4f98-ccc8-9037d0847d6e"
      },
      "execution_count": 32,
      "outputs": [
        {
          "output_type": "stream",
          "name": "stdout",
          "text": [
            "['a', 'b', 'c', 'd', 'e', 'f', 'g']\n",
            "['A', 'B', 'C', 'D', 'E', 'F', 'G']\n"
          ]
        }
      ]
    },
    {
      "cell_type": "code",
      "source": [
        "string = \"my phone number is : 11122 !!\"\n",
        "   \n",
        "\n",
        "numbers = [x for x in string] \n",
        "print (numbers) "
      ],
      "metadata": {
        "colab": {
          "base_uri": "https://localhost:8080/"
        },
        "id": "ZNBbEQ4psFGk",
        "outputId": "6257478b-33bd-425b-8afc-e542f715a254"
      },
      "execution_count": 35,
      "outputs": [
        {
          "output_type": "stream",
          "name": "stdout",
          "text": [
            "['m', 'y', ' ', 'p', 'h', 'o', 'n', 'e', ' ', 'n', 'u', 'm', 'b', 'e', 'r', ' ', 'i', 's', ' ', ':', ' ', '1', '1', '1', '2', '2', ' ', '!', '!']\n"
          ]
        }
      ]
    },
    {
      "cell_type": "code",
      "source": [
        "string = \"my phone number is : 11122 !!\"\n",
        "   \n",
        "print(\"\\nExtracted digits\") \n",
        "numbers = [x for x in string if x.isdigit()] \n",
        "print (numbers) "
      ],
      "metadata": {
        "colab": {
          "base_uri": "https://localhost:8080/"
        },
        "id": "eVdizJSzr72C",
        "outputId": "a86baeaf-b1c1-4487-8d7a-41dbe36cbbb1"
      },
      "execution_count": 36,
      "outputs": [
        {
          "output_type": "stream",
          "name": "stdout",
          "text": [
            "\n",
            "Extracted digits\n",
            "['1', '1', '1', '2', '2']\n"
          ]
        }
      ]
    },
    {
      "cell_type": "code",
      "source": [
        "# A list of list for multiplication table \n",
        "a = int(input())\n",
        "table = [[a, b, a * b] for b in range(1, 11)] \n",
        "   \n",
        "print(\"\\nMultiplication Table\") \n",
        "for i in table: \n",
        "    print (i)"
      ],
      "metadata": {
        "colab": {
          "base_uri": "https://localhost:8080/"
        },
        "id": "3ounC3NNsWlY",
        "outputId": "32d4aa23-9613-47f5-bfa3-bb79bb89767e"
      },
      "execution_count": 39,
      "outputs": [
        {
          "output_type": "stream",
          "name": "stdout",
          "text": [
            "9\n",
            "\n",
            "Multiplication Table\n",
            "[9, 1, 9]\n",
            "[9, 2, 18]\n",
            "[9, 3, 27]\n",
            "[9, 4, 36]\n",
            "[9, 5, 45]\n",
            "[9, 6, 54]\n",
            "[9, 7, 63]\n",
            "[9, 8, 72]\n",
            "[9, 9, 81]\n",
            "[9, 10, 90]\n"
          ]
        }
      ]
    },
    {
      "cell_type": "code",
      "source": [
        "# Take input as an Integer and write the table\n",
        "List=[]\n",
        "b = int(input())\n",
        "\n",
        "for i in range(1,10):\n",
        "  List.append(i*b)\n",
        "print(List)"
      ],
      "metadata": {
        "colab": {
          "base_uri": "https://localhost:8080/"
        },
        "id": "_YZVVHKPsvRk",
        "outputId": "14705731-a4c0-4aac-dac6-fdc90e8481b7"
      },
      "execution_count": 43,
      "outputs": [
        {
          "output_type": "stream",
          "name": "stdout",
          "text": [
            "93\n",
            "[93, 186, 279, 372, 465, 558, 651, 744, 837]\n"
          ]
        }
      ]
    },
    {
      "cell_type": "markdown",
      "source": [
        "\n",
        "# List Functions\t& Description\n",
        "\n",
        "\n",
        "\n",
        "---\n",
        "\n",
        "\n",
        "* Append()\n",
        "    * Adds an element to the end of the list\n",
        "---\n",
        "\n",
        "* Extend()\n",
        "    * Add all elements of a list to another list\n",
        "\n",
        "---\n",
        "\n",
        "* Insert()\n",
        "    * Insert an item at the defined index\n",
        "\n",
        "---\n",
        "\n",
        "* Remove()\n",
        "    * Removes an item from the list\n",
        "\n",
        "---\n",
        "\n",
        "* Pop()\n",
        "    * Removes and returns an element at the given index\n",
        "\n",
        "---\n",
        "\n",
        "* Clear()\n",
        "    * Removes all items from the list\n",
        "\n",
        "---\n",
        "\n",
        "* Index()\n",
        "    * Returns the index of the first matched item\n",
        "\n",
        "---\n",
        "\n",
        "* Count()\n",
        "    * Returns the count of the number of items passed as an argument\n",
        "\n",
        "---\n",
        "\n",
        "* Sort()\n",
        "    * Sort items in a list in ascending order\n",
        "\n",
        "---\n",
        "\n",
        "* Reverse()\n",
        "    * Reverse the order of items in the list\n",
        "\n",
        "---\n",
        "\n",
        "* copy()\n",
        "    * Returns a copy of the list\n",
        "\n",
        "---"
      ],
      "metadata": {
        "id": "2S2TJgN-H1Ea"
      }
    },
    {
      "cell_type": "code",
      "source": [
        ""
      ],
      "metadata": {
        "id": "GAGZTdhaH0ag"
      },
      "execution_count": 21,
      "outputs": []
    },
    {
      "cell_type": "code",
      "source": [
        ""
      ],
      "metadata": {
        "id": "GbLeDlANH0PU"
      },
      "execution_count": 21,
      "outputs": []
    },
    {
      "cell_type": "code",
      "source": [
        ""
      ],
      "metadata": {
        "id": "81ZQvcsfHz_p"
      },
      "execution_count": 21,
      "outputs": []
    }
  ]
}