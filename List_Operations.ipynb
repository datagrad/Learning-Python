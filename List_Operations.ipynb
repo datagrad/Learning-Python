{
  "nbformat": 4,
  "nbformat_minor": 0,
  "metadata": {
    "colab": {
      "name": "List Operations.ipynb",
      "provenance": [],
      "collapsed_sections": [
        "ueLiOUEjFqMD",
        "1OCNrGKYFtqG",
        "6QvcjAnClOO7",
        "ck1_qsaDF2xO",
        "eSOPEv86lSUS",
        "xvpxsQKZlSIU",
        "H0lKpzCclR7I",
        "Ukwh3dAQljQI",
        "x_eSaFu5lmtY",
        "oQreG3wMlpKK",
        "K2TpBn09ltWv",
        "L2BojPaIltGn",
        "ttA-oEy8Guui",
        "bwX5HQcil-Vy",
        "8atFksk6l-Iw",
        "CpVh62AdHBRF",
        "oFS6lj7OmPVO"
      ],
      "toc_visible": true,
      "authorship_tag": "ABX9TyOEPy1N8y17NnDE/6JVce4J",
      "include_colab_link": true
    },
    "kernelspec": {
      "name": "python3",
      "display_name": "Python 3"
    },
    "language_info": {
      "name": "python"
    }
  },
  "cells": [
    {
      "cell_type": "markdown",
      "metadata": {
        "id": "view-in-github",
        "colab_type": "text"
      },
      "source": [
        "<a href=\"https://colab.research.google.com/github/datagrad/Learning-Python/blob/main/List_Operations.ipynb\" target=\"_parent\"><img src=\"https://colab.research.google.com/assets/colab-badge.svg\" alt=\"Open In Colab\"/></a>"
      ]
    },
    {
      "cell_type": "markdown",
      "source": [
        "# Creating a List\n"
      ],
      "metadata": {
        "id": "ueLiOUEjFqMD"
      }
    },
    {
      "cell_type": "code",
      "execution_count": 1,
      "metadata": {
        "colab": {
          "base_uri": "https://localhost:8080/"
        },
        "id": "mZzm4vLMFN7p",
        "outputId": "c49c51d9-be82-4895-8c54-429b5f4c72ee"
      },
      "outputs": [
        {
          "output_type": "stream",
          "name": "stdout",
          "text": [
            "[]\n",
            "===========================================================\n",
            "[10, 20, 14]\n",
            "===========================================================\n",
            "Start\n",
            "Lists\n",
            "===========================================================\n",
            "[['Geeks', 'For'], ['Geeks']]\n"
          ]
        }
      ],
      "source": [
        "# Creating a List\n",
        "List_1 = []\n",
        "print(List_1)\n",
        "\n",
        "print(\"===========================================================\")\n",
        "\n",
        "# Creating a List of numbers\n",
        "List_2 = [10, 20, 14]\n",
        "print(List_2)\n",
        "\n",
        "print(\"===========================================================\")\n",
        "\n",
        "# Creating a List of strings and accessing\n",
        "List_3 = [\"Start\", \"Learning\", \"Lists\"]\n",
        "print(List_3[0])\n",
        "print(List_3[2])\n",
        "\n",
        "print(\"===========================================================\")\n",
        "\n",
        "# Creating a Multi-Dimensional List By Nesting a list inside a List)\n",
        "List_4 = [['Geeks', 'For'], ['Geeks']]\n",
        "print(List_4)\n"
      ]
    },
    {
      "cell_type": "markdown",
      "source": [
        "# Size of List\n"
      ],
      "metadata": {
        "id": "1OCNrGKYFtqG"
      }
    },
    {
      "cell_type": "markdown",
      "source": [
        "## len(List)"
      ],
      "metadata": {
        "id": "6QvcjAnClOO7"
      }
    },
    {
      "cell_type": "code",
      "source": [
        "List= [0,1,2,3,4,5,6,7,8,9]\n",
        "print(List)\n",
        "\n",
        "print(\"Size of List:\",len(List))"
      ],
      "metadata": {
        "colab": {
          "base_uri": "https://localhost:8080/"
        },
        "id": "_XW99vqiF2Kn",
        "outputId": "877face6-520b-4bfc-a7d7-cd1452654381"
      },
      "execution_count": 2,
      "outputs": [
        {
          "output_type": "stream",
          "name": "stdout",
          "text": [
            "[0, 1, 2, 3, 4, 5, 6, 7, 8, 9]\n",
            "Size of List: 10\n"
          ]
        }
      ]
    },
    {
      "cell_type": "markdown",
      "source": [
        "# Adding Elements to a List\n",
        "\n"
      ],
      "metadata": {
        "id": "ck1_qsaDF2xO"
      }
    },
    {
      "cell_type": "markdown",
      "source": [
        "## Append()\n",
        "* The term inside bracket will be added as the last term of list."
      ],
      "metadata": {
        "id": "eSOPEv86lSUS"
      }
    },
    {
      "cell_type": "markdown",
      "source": [
        "\n",
        "## insert()\n",
        "* To add an element at a given index of the list"
      ],
      "metadata": {
        "id": "xvpxsQKZlSIU"
      }
    },
    {
      "cell_type": "markdown",
      "source": [
        "\n",
        "## extend()\n",
        "* To add multiple elements at the same time at the end of the list."
      ],
      "metadata": {
        "id": "H0lKpzCclR7I"
      }
    },
    {
      "cell_type": "code",
      "source": [
        "List.append(3)\n",
        "print(\"New term has been added at the end in the list: \",List)"
      ],
      "metadata": {
        "colab": {
          "base_uri": "https://localhost:8080/"
        },
        "id": "1nt7-NXSGHUP",
        "outputId": "350e1726-033d-4a4d-baa7-a879e033e692"
      },
      "execution_count": 3,
      "outputs": [
        {
          "output_type": "stream",
          "name": "stdout",
          "text": [
            "New term has been added at the end in the list:  [0, 1, 2, 3, 4, 5, 6, 7, 8, 9, 3]\n"
          ]
        }
      ]
    },
    {
      "cell_type": "code",
      "source": [
        "List.insert(0,99)\n",
        "print(\"New term will be added at the 0th index in the list: \",List)"
      ],
      "metadata": {
        "colab": {
          "base_uri": "https://localhost:8080/"
        },
        "id": "JWkRbVuUQuxR",
        "outputId": "448d5eb9-f947-4231-f0b4-43578eb7945a"
      },
      "execution_count": 4,
      "outputs": [
        {
          "output_type": "stream",
          "name": "stdout",
          "text": [
            "New term will be added at the 0th index in the list:  [99, 0, 1, 2, 3, 4, 5, 6, 7, 8, 9, 3]\n"
          ]
        }
      ]
    },
    {
      "cell_type": "code",
      "source": [
        "List.insert(-1,199)\n",
        "print(\"New term will be added at the 0th index in the list: \",List)"
      ],
      "metadata": {
        "colab": {
          "base_uri": "https://localhost:8080/"
        },
        "id": "CkqmLYK-Quff",
        "outputId": "09a97ffc-3612-41e4-916b-edb13d7fab96"
      },
      "execution_count": 5,
      "outputs": [
        {
          "output_type": "stream",
          "name": "stdout",
          "text": [
            "New term will be added at the 0th index in the list:  [99, 0, 1, 2, 3, 4, 5, 6, 7, 8, 9, 199, 3]\n"
          ]
        }
      ]
    },
    {
      "cell_type": "code",
      "source": [
        "print(List[0])"
      ],
      "metadata": {
        "colab": {
          "base_uri": "https://localhost:8080/"
        },
        "id": "d5X2KVyASRVG",
        "outputId": "20736a7c-1b3d-46cd-aa85-6f204a430a78"
      },
      "execution_count": 6,
      "outputs": [
        {
          "output_type": "stream",
          "name": "stdout",
          "text": [
            "99\n"
          ]
        }
      ]
    },
    {
      "cell_type": "code",
      "source": [
        "# Extend\n",
        "List = [0,1,2,3,4,5,6,7,8,9]\n",
        "List.extend([\"a\",\"bcd\",\"efg\",\"hi\",\"JK\",\"L\"])\n",
        "print(List)\n",
        "\n",
        "# Add a list inside (), and the terms will be added to List "
      ],
      "metadata": {
        "colab": {
          "base_uri": "https://localhost:8080/"
        },
        "id": "RaAxKhhQdD2g",
        "outputId": "0e9d848d-f580-4281-fa67-317fea2f1a49"
      },
      "execution_count": 7,
      "outputs": [
        {
          "output_type": "stream",
          "name": "stdout",
          "text": [
            "[0, 1, 2, 3, 4, 5, 6, 7, 8, 9, 'a', 'bcd', 'efg', 'hi', 'JK', 'L']\n"
          ]
        }
      ]
    },
    {
      "cell_type": "markdown",
      "source": [
        "# Accessing elements from the List\n",
        "* List[n-1]\n",
        "* List[-m]"
      ],
      "metadata": {
        "id": "6mFTa2B_GGtM"
      }
    },
    {
      "cell_type": "markdown",
      "source": [
        "### List[n]"
      ],
      "metadata": {
        "id": "Ukwh3dAQljQI"
      }
    },
    {
      "cell_type": "markdown",
      "source": [
        "### List[-n]"
      ],
      "metadata": {
        "id": "x_eSaFu5lmtY"
      }
    },
    {
      "cell_type": "markdown",
      "source": [
        "### List[n:]"
      ],
      "metadata": {
        "id": "oQreG3wMlpKK"
      }
    },
    {
      "cell_type": "markdown",
      "source": [
        "### List[:m]"
      ],
      "metadata": {
        "id": "K2TpBn09ltWv"
      }
    },
    {
      "cell_type": "markdown",
      "source": [
        "### List[n:m]"
      ],
      "metadata": {
        "id": "L2BojPaIltGn"
      }
    },
    {
      "cell_type": "markdown",
      "source": [
        "### List[-m:-n]"
      ],
      "metadata": {
        "id": "d1LHrAcglsmA"
      }
    },
    {
      "cell_type": "markdown",
      "source": [
        "###  List[a : b : c]\n",
        "* a is first term of list\n",
        "* b-1 can be the last term of list if satisfies the condition\n",
        "* c is the step size\n",
        "\n",
        "For Example:\n",
        "* List[1 : 17 : 2]:\n",
        "  * 1 can be the first term of list if condition is satisfied*\n",
        "  * 16 will be the last term of the list if condition is satisfied*\n",
        "  * 2 will be the step size"
      ],
      "metadata": {
        "id": "5HxarY8et_F-"
      }
    },
    {
      "cell_type": "code",
      "source": [
        "List = list(range(0,21))\n",
        "#  below list has numbers from 2 to 8 in step 2\n",
        "List_1_17_2 = List[1 : 17 : 2]\n",
        "print (List_1_17_2)\n",
        "\n",
        "\n",
        "List_1_18_2 = List[1 : 18 : 2]\n",
        "print (List_1_18_2)\n"
      ],
      "metadata": {
        "colab": {
          "base_uri": "https://localhost:8080/"
        },
        "id": "9iWDYy07uHBV",
        "outputId": "d6f45674-7672-402b-cf50-1c813141d0c6"
      },
      "execution_count": 8,
      "outputs": [
        {
          "output_type": "stream",
          "name": "stdout",
          "text": [
            "[1, 3, 5, 7, 9, 11, 13, 15]\n",
            "[1, 3, 5, 7, 9, 11, 13, 15, 17]\n"
          ]
        }
      ]
    },
    {
      "cell_type": "code",
      "source": [
        "List = list(range(0,21))\n",
        "\n",
        "List_1 = List[1 : 17 : 5]    # Here 16 is last term and satisfies the step size of 5 condition\n",
        "print (\"List[1 : 17 : 5] =>  \",List_1)\n",
        "\n",
        "print(\"\")\n",
        "print(\"\")\n",
        "\n",
        "\n",
        "List_2 = List[4 : 17 : 5]    # Here 16 is last term but doesn't satisfies the step size of 5 condition\n",
        "print (\"List[4 : 17 : 5] =>  \",List_2)\n",
        "\n",
        "print(\"\")\n",
        "print(\"\")\n",
        "\n",
        "\n",
        "List_3 = List[ :  : -1]\n",
        "print (\"List[ :  : -1] =>  \",List_3)\n",
        "\n",
        "print(\"\")\n",
        "print(\"\")\n",
        "\n",
        "List_4 = List[ 7: 14 : -4]   # Returns empty list as the -4 indicates a reverse list, while 7 to 14 is towards increasing sequence\n",
        "print (\"List[ 7: 14 : -4] =>  \",List_4)\n",
        "\n",
        "print(\"\")\n",
        "print(\"\")\n",
        "\n",
        "List_5 = List[ : : -4]   # Returns empty list as the -4 indicates a reverse list, while 7 to 14 is towards increasing sequence\n",
        "print (\"List[ : : -4] =>  \",List_5)\n"
      ],
      "metadata": {
        "colab": {
          "base_uri": "https://localhost:8080/"
        },
        "id": "bmUkpiPIvQki",
        "outputId": "3390db82-6a89-4399-a2f1-fa5d02e301b0"
      },
      "execution_count": 9,
      "outputs": [
        {
          "output_type": "stream",
          "name": "stdout",
          "text": [
            "List[1 : 17 : 5] =>   [1, 6, 11, 16]\n",
            "\n",
            "\n",
            "List[4 : 17 : 5] =>   [4, 9, 14]\n",
            "\n",
            "\n",
            "List[ :  : -1] =>   [20, 19, 18, 17, 16, 15, 14, 13, 12, 11, 10, 9, 8, 7, 6, 5, 4, 3, 2, 1, 0]\n",
            "\n",
            "\n",
            "List[ 7: 14 : -4] =>   []\n",
            "\n",
            "\n",
            "List[ : : -4] =>   [20, 16, 12, 8, 4, 0]\n"
          ]
        }
      ]
    },
    {
      "cell_type": "code",
      "source": [
        "List= [0,1,2,3,4,5,6,7,8,9]\n",
        "\n",
        "\n",
        "print(List)\n",
        "print (\"========================================================================\")\n",
        "print(\"0th element: \",List[0])\n",
        "print(\"1st element: \",List[1])\n",
        "print(\"2nd element: \",List[2])\n",
        "print(\"Last element: \",List[-1])\n",
        "print(\"3rd element from end: \",List[-3])\n"
      ],
      "metadata": {
        "colab": {
          "base_uri": "https://localhost:8080/"
        },
        "id": "MhA5eNBiGNX3",
        "outputId": "19f051f7-934c-40b6-9131-2ac17c5c4528"
      },
      "execution_count": 10,
      "outputs": [
        {
          "output_type": "stream",
          "name": "stdout",
          "text": [
            "[0, 1, 2, 3, 4, 5, 6, 7, 8, 9]\n",
            "========================================================================\n",
            "0th element:  0\n",
            "1st element:  1\n",
            "2nd element:  2\n",
            "Last element:  9\n",
            "3rd element from end:  7\n"
          ]
        }
      ]
    },
    {
      "cell_type": "markdown",
      "source": [
        "# Removing Elements from list\n",
        "\n"
      ],
      "metadata": {
        "id": "ttA-oEy8Guui"
      }
    },
    {
      "cell_type": "markdown",
      "source": [
        "### remove()\n",
        "* Removes the term mentioned inside bracket.\n"
      ],
      "metadata": {
        "id": "bwX5HQcil-Vy"
      }
    },
    {
      "cell_type": "markdown",
      "source": [
        "### pop()\n",
        "* Removes the term based on index"
      ],
      "metadata": {
        "id": "8atFksk6l-Iw"
      }
    },
    {
      "cell_type": "code",
      "source": [
        "List = [\"a\",\"bcd\",\"efg\",\"hi\",\"JK\",\"L\"]\n",
        "#List.remove(1)\n",
        "print(List.pop())\n",
        "print(List.pop(1))"
      ],
      "metadata": {
        "colab": {
          "base_uri": "https://localhost:8080/"
        },
        "id": "wzJJFOulejQL",
        "outputId": "7b3dd426-e9ed-47ea-b8e4-397c6dbcf1c1"
      },
      "execution_count": 11,
      "outputs": [
        {
          "output_type": "stream",
          "name": "stdout",
          "text": [
            "L\n",
            "bcd\n"
          ]
        }
      ]
    },
    {
      "cell_type": "code",
      "source": [
        "List = [2,4,6,7,\"a\",\"bcd\",\"efg\",\"hi\",\"JK\",\"L\"]\n",
        "List.remove(7)\n",
        "print(List)"
      ],
      "metadata": {
        "colab": {
          "base_uri": "https://localhost:8080/"
        },
        "id": "SFYQ8gx6GrrD",
        "outputId": "f41e110b-cc4f-4967-d628-4b7e775ee4f5"
      },
      "execution_count": 12,
      "outputs": [
        {
          "output_type": "stream",
          "name": "stdout",
          "text": [
            "[2, 4, 6, 'a', 'bcd', 'efg', 'hi', 'JK', 'L']\n"
          ]
        }
      ]
    },
    {
      "cell_type": "code",
      "source": [
        "List = [\"a\",\"bcd\",\"efg\",\"hi\",\"JK\",\"L\"]\n",
        "print(List.pop(1))\n",
        "print(List)\n"
      ],
      "metadata": {
        "colab": {
          "base_uri": "https://localhost:8080/"
        },
        "id": "Gsn-ZCLXUVCV",
        "outputId": "9624e344-f237-47a2-f0fc-5d600b07054b"
      },
      "execution_count": 13,
      "outputs": [
        {
          "output_type": "stream",
          "name": "stdout",
          "text": [
            "bcd\n",
            "['a', 'efg', 'hi', 'JK', 'L']\n"
          ]
        }
      ]
    },
    {
      "cell_type": "code",
      "source": [
        "List.pop(0)\n",
        "print(List)"
      ],
      "metadata": {
        "colab": {
          "base_uri": "https://localhost:8080/"
        },
        "id": "uIQE7rDqUkSz",
        "outputId": "89d28058-0f61-45ba-c2f3-164acf6498d5"
      },
      "execution_count": 14,
      "outputs": [
        {
          "output_type": "stream",
          "name": "stdout",
          "text": [
            "['efg', 'hi', 'JK', 'L']\n"
          ]
        }
      ]
    },
    {
      "cell_type": "code",
      "source": [
        "List1 = [9,8,7,6,5,4,3,2,1,0]\n",
        "List2 = [9,8,7,6,5,4,3,2,1,0]\n",
        "\n",
        "List1.remove(1)\n",
        "print(\"Removes the term 1 from the list: \", List1)\n",
        "\n",
        "List2.pop(1)\n",
        "print(\"Removes the term which is on 1st in the list: \",List2)\n"
      ],
      "metadata": {
        "colab": {
          "base_uri": "https://localhost:8080/"
        },
        "id": "h-B-0ovUUrZy",
        "outputId": "b2482846-aef8-46a6-e82a-239c1ff6dfd8"
      },
      "execution_count": 15,
      "outputs": [
        {
          "output_type": "stream",
          "name": "stdout",
          "text": [
            "Removes the term 1 from the list:  [9, 8, 7, 6, 5, 4, 3, 2, 0]\n",
            "Removes the term which is on 1st in the list:  [9, 7, 6, 5, 4, 3, 2, 1, 0]\n"
          ]
        }
      ]
    },
    {
      "cell_type": "markdown",
      "source": [
        "# Slicing of list\n",
        "* List[a:b]  =>  ath term is inclusive, bth term is exclusive.\n",
        "* List[a:]\n",
        "* List[:b]"
      ],
      "metadata": {
        "id": "CpVh62AdHBRF"
      }
    },
    {
      "cell_type": "markdown",
      "source": [
        "## List[a:b]"
      ],
      "metadata": {
        "id": "oFS6lj7OmPVO"
      }
    },
    {
      "cell_type": "code",
      "source": [
        "List= [0,1,2,3,4,5,6,7,8,9]\n",
        "print(List[1:6])\n",
        "# O/P: items on 1st index to 5th index"
      ],
      "metadata": {
        "colab": {
          "base_uri": "https://localhost:8080/"
        },
        "id": "AUCmrC9iHp0n",
        "outputId": "6ea0b507-4716-4597-de7c-e12f2aaca3d6"
      },
      "execution_count": 16,
      "outputs": [
        {
          "output_type": "stream",
          "name": "stdout",
          "text": [
            "[1, 2, 3, 4, 5]\n"
          ]
        }
      ]
    },
    {
      "cell_type": "code",
      "source": [
        "List= [0,1,2,3,4,5,6,7,8,9]\n",
        "print(List[1:])\n",
        "# O/P: items on 1st index to after that"
      ],
      "metadata": {
        "colab": {
          "base_uri": "https://localhost:8080/"
        },
        "id": "8U8hNGijVjwf",
        "outputId": "66712351-e074-4350-bb75-68f74a22fb27"
      },
      "execution_count": 17,
      "outputs": [
        {
          "output_type": "stream",
          "name": "stdout",
          "text": [
            "[1, 2, 3, 4, 5, 6, 7, 8, 9]\n"
          ]
        }
      ]
    },
    {
      "cell_type": "code",
      "source": [
        "List= [0,1,2,3,4,5,6,7,8,9]\n",
        "print(List[:6])\n",
        "# O/P: items before 6th index"
      ],
      "metadata": {
        "colab": {
          "base_uri": "https://localhost:8080/"
        },
        "id": "_fUIH0VYVjnV",
        "outputId": "c3a1306c-2893-45cf-df13-d27a85056264"
      },
      "execution_count": 18,
      "outputs": [
        {
          "output_type": "stream",
          "name": "stdout",
          "text": [
            "[0, 1, 2, 3, 4, 5]\n"
          ]
        }
      ]
    },
    {
      "cell_type": "code",
      "source": [
        "List= [0,1,2,3,4,5,6,7,8,9]\n",
        "print(List[-1])\n",
        "# O/P: items on the last index"
      ],
      "metadata": {
        "colab": {
          "base_uri": "https://localhost:8080/"
        },
        "id": "7894iGQXWcsK",
        "outputId": "955928d4-8685-491f-9199-b7b0b0b81a0a"
      },
      "execution_count": 19,
      "outputs": [
        {
          "output_type": "stream",
          "name": "stdout",
          "text": [
            "9\n"
          ]
        }
      ]
    },
    {
      "cell_type": "code",
      "source": [
        "List= [0,1,2,3,4,5,6,7,8,9]\n",
        "print(List[-5:-1])\n",
        "# O/P: items on -5th index to -2nd index"
      ],
      "metadata": {
        "colab": {
          "base_uri": "https://localhost:8080/"
        },
        "id": "PJDZZyIQVjbW",
        "outputId": "0b830c95-d6f0-4da4-946d-8aa28a4c138b"
      },
      "execution_count": 20,
      "outputs": [
        {
          "output_type": "stream",
          "name": "stdout",
          "text": [
            "[5, 6, 7, 8]\n"
          ]
        }
      ]
    },
    {
      "cell_type": "code",
      "source": [
        "List= [0,1,2,3,4,5,6,7,8,9]\n",
        "print(List[:-1])\n",
        "# O/P: items on -5th index to -2nd index"
      ],
      "metadata": {
        "colab": {
          "base_uri": "https://localhost:8080/"
        },
        "id": "uO9a_UgNWV-I",
        "outputId": "62fdc357-73fb-4cb8-e149-567226f25707"
      },
      "execution_count": 21,
      "outputs": [
        {
          "output_type": "stream",
          "name": "stdout",
          "text": [
            "[0, 1, 2, 3, 4, 5, 6, 7, 8]\n"
          ]
        }
      ]
    },
    {
      "cell_type": "code",
      "source": [
        "List= [0,1,2,3,4,5,6,7,8,9]\n",
        "print(List[-7:])\n",
        "# O/P: items on -5th index to -2nd index"
      ],
      "metadata": {
        "colab": {
          "base_uri": "https://localhost:8080/"
        },
        "id": "5AsTqyXmbmkU",
        "outputId": "648337e1-9b4f-4334-ecca-deacdfff7049"
      },
      "execution_count": 22,
      "outputs": [
        {
          "output_type": "stream",
          "name": "stdout",
          "text": [
            "[3, 4, 5, 6, 7, 8, 9]\n"
          ]
        }
      ]
    },
    {
      "cell_type": "markdown",
      "source": [
        "# List Comprehension\n",
        "* List comprehensions are used for creating new lists from other iterables like tuples, strings, arrays, lists, etc.\n",
        "* A list comprehension consists of brackets containing the expression, which is executed for each element along with the for loop to iterate over each element. "
      ],
      "metadata": {
        "id": "UFwC87vGHqyk"
      }
    },
    {
      "cell_type": "markdown",
      "source": [
        "#### Steps\n",
        "\n",
        "* Create the empty List\n",
        "* Write the input condition \n",
        "* Pull the required data from input\n",
        "* Check with Operation, if condition is satisfiedm then append to list using .append()\n",
        "* print (List)"
      ],
      "metadata": {
        "id": "Rv9Re2eiqV0V"
      }
    },
    {
      "cell_type": "code",
      "source": [
        "# Creating a List based on expression\n",
        "odd_square = [x ** 2 for x in range(1, 11) if x % 2 == 1]\n",
        "print(odd_square)\n",
        "\n",
        "#O/P : creates a list of squares of all odd number in (1,11)"
      ],
      "metadata": {
        "colab": {
          "base_uri": "https://localhost:8080/"
        },
        "id": "MZBqYBrrmce2",
        "outputId": "980af4c7-1e4a-4d57-e0a9-2fe1dbe1ae76"
      },
      "execution_count": 23,
      "outputs": [
        {
          "output_type": "stream",
          "name": "stdout",
          "text": [
            "[1, 9, 25, 49, 81]\n"
          ]
        }
      ]
    },
    {
      "cell_type": "code",
      "source": [
        "# Detailed Approach\n",
        "odd_square = []                        # Create the empty List\n",
        "for x in range(1, 11):                 # Write the input condition \n",
        "    if x % 2 == 1:                     # Pull the required data from input\n",
        "        odd_square.append(x**2)        # Operation is x**2 and then append to list using .append()\n",
        "print (odd_square)                     # print the output"
      ],
      "metadata": {
        "colab": {
          "base_uri": "https://localhost:8080/"
        },
        "id": "Xtg-A_QdpH2M",
        "outputId": "15a2275a-55c1-45ae-8ae8-30e466caded9"
      },
      "execution_count": 24,
      "outputs": [
        {
          "output_type": "stream",
          "name": "stdout",
          "text": [
            "[1, 9, 25, 49, 81]\n"
          ]
        }
      ]
    },
    {
      "cell_type": "code",
      "source": [
        "# Print the list of terms which are divisible by 3 in (1,37)\n",
        "\n",
        "List = []\n",
        "for x in range(1,37):\n",
        "  if x%3 == 0:\n",
        "    List.append(x)\n",
        "\n",
        "print(List)"
      ],
      "metadata": {
        "colab": {
          "base_uri": "https://localhost:8080/"
        },
        "id": "zfLtES2ZpvNF",
        "outputId": "c1d8df4a-95c9-4429-9bee-4a678d0a6bbf"
      },
      "execution_count": 25,
      "outputs": [
        {
          "output_type": "stream",
          "name": "stdout",
          "text": [
            "[3, 6, 9, 12, 15, 18, 21, 24, 27, 30, 33, 36]\n"
          ]
        }
      ]
    },
    {
      "cell_type": "code",
      "source": [
        "List = [\"A\",\"B\",\"C\",\"D\",\"E\",\"F\",\"G\"]\n",
        "\n",
        "List_Low = []\n",
        "for x in List:\n",
        "  List_Low.append(x.lower())\n",
        "\n",
        "print(List_Low)\n",
        "\n",
        "List_Up = []\n",
        "for y in List_Low:\n",
        "  List_Up.append(y.upper())\n",
        "print(List_Up)"
      ],
      "metadata": {
        "colab": {
          "base_uri": "https://localhost:8080/"
        },
        "id": "aPBkEiJ8q3FB",
        "outputId": "20ad8025-3c16-45f1-d8cf-b884248dbf46"
      },
      "execution_count": 26,
      "outputs": [
        {
          "output_type": "stream",
          "name": "stdout",
          "text": [
            "['a', 'b', 'c', 'd', 'e', 'f', 'g']\n",
            "['A', 'B', 'C', 'D', 'E', 'F', 'G']\n"
          ]
        }
      ]
    },
    {
      "cell_type": "code",
      "source": [
        "string = \"my phone number is : 11122 !!\"\n",
        "   \n",
        "\n",
        "numbers = [x for x in string] \n",
        "print (numbers) "
      ],
      "metadata": {
        "colab": {
          "base_uri": "https://localhost:8080/"
        },
        "id": "ZNBbEQ4psFGk",
        "outputId": "103f9e74-9c63-4f05-bab4-0634d6e10a31"
      },
      "execution_count": 27,
      "outputs": [
        {
          "output_type": "stream",
          "name": "stdout",
          "text": [
            "['m', 'y', ' ', 'p', 'h', 'o', 'n', 'e', ' ', 'n', 'u', 'm', 'b', 'e', 'r', ' ', 'i', 's', ' ', ':', ' ', '1', '1', '1', '2', '2', ' ', '!', '!']\n"
          ]
        }
      ]
    },
    {
      "cell_type": "code",
      "source": [
        "string = \"my phone number is : 11122 !!\"\n",
        "   \n",
        "print(\"\\nExtracted digits\") \n",
        "numbers = [x for x in string if x.isdigit()] \n",
        "print (numbers) "
      ],
      "metadata": {
        "colab": {
          "base_uri": "https://localhost:8080/"
        },
        "id": "eVdizJSzr72C",
        "outputId": "6a8d1cdb-6755-46d8-e4e1-81af69c14cff"
      },
      "execution_count": 28,
      "outputs": [
        {
          "output_type": "stream",
          "name": "stdout",
          "text": [
            "\n",
            "Extracted digits\n",
            "['1', '1', '1', '2', '2']\n"
          ]
        }
      ]
    },
    {
      "cell_type": "code",
      "source": [
        "# A list of list for multiplication table \n",
        "a = int(input())\n",
        "table = [[a, b, a * b] for b in range(1, 11)] \n",
        "   \n",
        "print(\"\\nMultiplication Table\") \n",
        "for i in table: \n",
        "    print (i)"
      ],
      "metadata": {
        "colab": {
          "base_uri": "https://localhost:8080/"
        },
        "id": "3ounC3NNsWlY",
        "outputId": "9923eef2-927d-48d8-f46e-0de788f13fe0"
      },
      "execution_count": 29,
      "outputs": [
        {
          "output_type": "stream",
          "name": "stdout",
          "text": [
            "9\n",
            "\n",
            "Multiplication Table\n",
            "[9, 1, 9]\n",
            "[9, 2, 18]\n",
            "[9, 3, 27]\n",
            "[9, 4, 36]\n",
            "[9, 5, 45]\n",
            "[9, 6, 54]\n",
            "[9, 7, 63]\n",
            "[9, 8, 72]\n",
            "[9, 9, 81]\n",
            "[9, 10, 90]\n"
          ]
        }
      ]
    },
    {
      "cell_type": "code",
      "source": [
        "# Take input as an Integer and write the table\n",
        "List=[]\n",
        "b = int(input())\n",
        "\n",
        "for i in range(1,10):\n",
        "  List.append(i*b)\n",
        "print(List)"
      ],
      "metadata": {
        "colab": {
          "base_uri": "https://localhost:8080/"
        },
        "id": "_YZVVHKPsvRk",
        "outputId": "23fe3a73-a7ed-48db-da53-548ac0b7373a"
      },
      "execution_count": 30,
      "outputs": [
        {
          "output_type": "stream",
          "name": "stdout",
          "text": [
            "97\n",
            "[97, 194, 291, 388, 485, 582, 679, 776, 873]\n"
          ]
        }
      ]
    },
    {
      "cell_type": "markdown",
      "source": [
        "\n",
        "# List Functions\t& Description\n",
        "\n",
        "\n",
        "\n",
        "---\n",
        "\n",
        "\n",
        "* Append()\n",
        "    * Adds an element to the end of the list\n",
        "---\n",
        "\n",
        "* Extend()\n",
        "    * Add all elements of a list to another list\n",
        "\n",
        "---\n",
        "\n",
        "* Insert()\n",
        "    * Insert an item at the defined index\n",
        "\n",
        "---\n",
        "\n",
        "* Remove()\n",
        "    * Removes an item from the list\n",
        "\n",
        "---\n",
        "\n",
        "* Pop()\n",
        "    * Removes and returns an element at the given index\n",
        "\n",
        "---\n",
        "\n",
        "* Clear()\n",
        "    * Removes all items from the list\n",
        "\n",
        "---\n",
        "\n",
        "* Index()\n",
        "    * Returns the index of the first matched item\n",
        "\n",
        "---\n",
        "\n",
        "* Count()\n",
        "    * Returns the count of the number of items passed as an argument\n",
        "\n",
        "---\n",
        "\n",
        "* Sort()\n",
        "    * Sort items in a list in ascending order\n",
        "\n",
        "---\n",
        "\n",
        "* Reverse()\n",
        "    * Reverse the order of items in the list\n",
        "\n",
        "---\n",
        "\n",
        "* copy()\n",
        "    * Returns a copy of the list\n",
        "\n",
        "---"
      ],
      "metadata": {
        "id": "2S2TJgN-H1Ea"
      }
    },
    {
      "cell_type": "code",
      "source": [
        "List = [0,1,2,3,4,5,6,7,8,9,10,11,132,11, 12, 1312345,999]\n",
        "\n",
        "List.append(5)\n",
        "print(List)\n",
        "\n",
        "\n",
        "List.extend([100,120])\n",
        "print(List)\n",
        "\n",
        "List.insert(1,320)\n",
        "print(List)\n",
        "\n",
        "List.remove(999)\n",
        "print(List)\n",
        "\n",
        "List.pop(-1)\n",
        "print(List)\n",
        "\n",
        "List.sort()\n",
        "print(List)\n",
        "\n",
        "List.reverse()\n",
        "print(List)\n",
        "\n",
        "print(List.index(7))\n",
        "\n",
        "\n",
        "print(List.count(11))\n",
        "\n",
        "\n",
        "\n",
        "List.reverse()\n",
        "\n",
        "List.copy()\n",
        "print(List)\n",
        "\n",
        "List.clear()\n",
        "print(List)"
      ],
      "metadata": {
        "id": "GAGZTdhaH0ag",
        "outputId": "5d9cb12f-db7f-44bd-992f-1f1e38f0320b",
        "colab": {
          "base_uri": "https://localhost:8080/"
        }
      },
      "execution_count": 48,
      "outputs": [
        {
          "output_type": "stream",
          "name": "stdout",
          "text": [
            "[0, 1, 2, 3, 4, 5, 6, 7, 8, 9, 10, 11, 132, 11, 12, 1312345, 999, 5]\n",
            "[0, 1, 2, 3, 4, 5, 6, 7, 8, 9, 10, 11, 132, 11, 12, 1312345, 999, 5, 100, 120]\n",
            "[0, 320, 1, 2, 3, 4, 5, 6, 7, 8, 9, 10, 11, 132, 11, 12, 1312345, 999, 5, 100, 120]\n",
            "[0, 320, 1, 2, 3, 4, 5, 6, 7, 8, 9, 10, 11, 132, 11, 12, 1312345, 5, 100, 120]\n",
            "[0, 320, 1, 2, 3, 4, 5, 6, 7, 8, 9, 10, 11, 132, 11, 12, 1312345, 5, 100]\n",
            "[0, 1, 2, 3, 4, 5, 5, 6, 7, 8, 9, 10, 11, 11, 12, 100, 132, 320, 1312345]\n",
            "[1312345, 320, 132, 100, 12, 11, 11, 10, 9, 8, 7, 6, 5, 5, 4, 3, 2, 1, 0]\n",
            "10\n",
            "2\n",
            "[0, 1, 2, 3, 4, 5, 5, 6, 7, 8, 9, 10, 11, 11, 12, 100, 132, 320, 1312345]\n",
            "[]\n"
          ]
        }
      ]
    },
    {
      "cell_type": "code",
      "source": [
        "List.reverse()\n",
        "\n",
        "print(List)"
      ],
      "metadata": {
        "id": "GbLeDlANH0PU",
        "outputId": "0b6b3e49-fd3c-4774-9502-81969e74c2b1",
        "colab": {
          "base_uri": "https://localhost:8080/"
        }
      },
      "execution_count": 34,
      "outputs": [
        {
          "output_type": "stream",
          "name": "stdout",
          "text": [
            "[]\n"
          ]
        }
      ]
    },
    {
      "cell_type": "code",
      "source": [
        "Clear()\n",
        "    * Removes all items from the list\n",
        "\n",
        "\n",
        "* copy()\n",
        "    * Returns a copy of the list\n",
        "\n",
        "---"
      ],
      "metadata": {
        "id": "81ZQvcsfHz_p"
      },
      "execution_count": 30,
      "outputs": []
    },
    {
      "cell_type": "markdown",
      "source": [
        "# Create list using Lambda Functions "
      ],
      "metadata": {
        "id": "ahgCTPHgyAU4"
      }
    },
    {
      "cell_type": "code",
      "source": [
        "# filtering odd numbers\n",
        "\n",
        "\n",
        "lst = filter(lambda x : x % 2 == 1, range(1, 20))           # Using Lambda Function\n",
        "print (list(lst))\n",
        "\n",
        "List=[]                                                     # Using Loop and append\n",
        "for x in range(1,20):                                       \n",
        "  if x % 2 == 1:\n",
        "    List.append(x)\n",
        "print(List)\n",
        "\n"
      ],
      "metadata": {
        "colab": {
          "base_uri": "https://localhost:8080/"
        },
        "id": "dLuC6UNByHpF",
        "outputId": "4296c40b-e3fd-46cc-a95c-2d870ab3a188"
      },
      "execution_count": 31,
      "outputs": [
        {
          "output_type": "stream",
          "name": "stdout",
          "text": [
            "[1, 3, 5, 7, 9, 11, 13, 15, 17, 19]\n",
            "[1, 3, 5, 7, 9, 11, 13, 15, 17, 19]\n"
          ]
        }
      ]
    },
    {
      "cell_type": "code",
      "source": [
        "# filtering odd square which are divisible by 5\n",
        "List = []\n",
        "\n",
        "for x in range(1,11):\n",
        "  if x%2 == 1:\n",
        "    if (x**2)%5 == 0:\n",
        "      List.append(x**2)\n",
        "print(List)\n",
        "\n",
        "\n",
        "lst = filter(lambda x : x % 5 == 0,\n",
        "\t[x ** 2 for x in range(1, 11) if x % 2 == 1])\n",
        "print (list(lst))\n",
        "\t"
      ],
      "metadata": {
        "colab": {
          "base_uri": "https://localhost:8080/"
        },
        "id": "mQ25A-hmzaxO",
        "outputId": "86fffccf-43f0-4527-8099-9d37a69b1907"
      },
      "execution_count": 32,
      "outputs": [
        {
          "output_type": "stream",
          "name": "stdout",
          "text": [
            "[25]\n",
            "[25]\n"
          ]
        }
      ]
    },
    {
      "cell_type": "code",
      "source": [
        "# filtering negative numbers\n",
        "List = []\n",
        "for x in range(-5,5):\n",
        "  if x<0:\n",
        "    List.append(x)\n",
        "print(List)\n",
        "\n",
        "\n",
        "lst = filter((lambda x: x < 0), range(-5,5))\n",
        "print (list(lst))\n",
        "\t\n"
      ],
      "metadata": {
        "colab": {
          "base_uri": "https://localhost:8080/"
        },
        "id": "l7ZdDdyL0lBD",
        "outputId": "61216850-d782-4b12-92b3-5c140588d53e"
      },
      "execution_count": 33,
      "outputs": [
        {
          "output_type": "stream",
          "name": "stdout",
          "text": [
            "[-5, -4, -3, -2, -1]\n",
            "[-5, -4, -3, -2, -1]\n"
          ]
        }
      ]
    },
    {
      "cell_type": "markdown",
      "source": [
        "# Nested List Comprehensions (MATRIX)\n",
        "\n",
        "\n",
        "* Creating a Matrix\n",
        "matrix = \n",
        "          [[0, 1, 2, 3, 4],\n",
        "          [0, 1, 2, 3, 4],\n",
        "          [0, 1, 2, 3, 4],\n",
        "          [0, 1, 2, 3, 4],\n",
        "          [0, 1, 2, 3, 4]]"
      ],
      "metadata": {
        "id": "HKWY5XZ6GTc3"
      }
    },
    {
      "cell_type": "markdown",
      "source": [
        "Matrix with a set of Lists can be created in 2 Steps:\n",
        "1. Create a List of Sub-lists\n",
        "\n",
        "matrix = []\n",
        "  \n",
        "for i in range(5):\n",
        "      \n",
        "    # Append an empty sublist inside the list\n",
        "    matrix.append([])\n",
        "    for j in range(5):\n",
        "      matrix[i].append(j)\n",
        "      \n",
        "print(matrix)"
      ],
      "metadata": {
        "id": "7GhFHG37Hzj3"
      }
    },
    {
      "cell_type": "code",
      "source": [
        "# 5x5 Matrix\n",
        "\n",
        "matrix = []                       # Create an empty list\n",
        "\n",
        "for i in range(5):                # For 5 rows inset 5 Sub lists using append([]) for range(5)\n",
        "  matrix.append([])               # A matrix (List) is created with i number of sublists  \n",
        "  for j in range(5):              # Feed the number of Columns as j\n",
        "    matrix[i].append(j)           # Fill the values in sublists using .append with values based on j\n",
        "\n",
        "print(matrix)"
      ],
      "metadata": {
        "id": "pabQrV6nIDv6",
        "outputId": "58251d60-8f2d-4816-f88b-a3008093df08",
        "colab": {
          "base_uri": "https://localhost:8080/"
        }
      },
      "execution_count": 54,
      "outputs": [
        {
          "output_type": "stream",
          "name": "stdout",
          "text": [
            "[[0, 1, 2, 3, 4], [0, 1, 2, 3, 4], [0, 1, 2, 3, 4], [0, 1, 2, 3, 4], [0, 1, 2, 3, 4]]\n"
          ]
        }
      ]
    },
    {
      "cell_type": "code",
      "source": [
        "# Method 2\n",
        "matrix = [[j for j in range(5)] for i in range(5)]\n",
        "  \n",
        "print(matrix)\n"
      ],
      "metadata": {
        "id": "UnAtSkHmMX5e"
      },
      "execution_count": null,
      "outputs": []
    },
    {
      "cell_type": "markdown",
      "source": [
        "Output:\n",
        "\n",
        "          [[0, 1, 2, 3, 4],\n",
        "           [0, 1, 2, 3, 4],\n",
        "           [0, 1, 2, 3, 4],\n",
        "           [0, 1, 2, 3, 4],\n",
        "           [0, 1, 2, 3, 4]]"
      ],
      "metadata": {
        "id": "M4QOELxeLwJX"
      }
    },
    {
      "cell_type": "code",
      "source": [
        "# 5x3 Matrix of \"0\"\n",
        "\n",
        "matrix = []                       # Create an empty list\n",
        "\n",
        "for i in range(5):                # For 5 rows inset 5 Sub lists using append([]) for range(5)\n",
        "  matrix.append([])               # A matrix (List) is created with i number of sublists  \n",
        "  for j in range(3):              # Feed the number of Columns as j\n",
        "    matrix[i].append(0)           # Fill the values in sublists using .append with values based on j\n",
        "\n",
        "print(matrix)"
      ],
      "metadata": {
        "id": "Up-1c1JlIj4m",
        "outputId": "72a182b0-f009-4ab2-cb1e-eb4140a1706c",
        "colab": {
          "base_uri": "https://localhost:8080/"
        }
      },
      "execution_count": 55,
      "outputs": [
        {
          "output_type": "stream",
          "name": "stdout",
          "text": [
            "[[0, 0, 0], [0, 0, 0], [0, 0, 0], [0, 0, 0], [0, 0, 0]]\n"
          ]
        }
      ]
    },
    {
      "cell_type": "markdown",
      "source": [
        "Output:\n",
        "        \n",
        "        [[0, 0, 0], \n",
        "        [0, 0, 0], \n",
        "        [0, 0, 0], \n",
        "        [0, 0, 0], \n",
        "        [0, 0, 0]]\n"
      ],
      "metadata": {
        "id": "hd8PZwsMLmQH"
      }
    },
    {
      "cell_type": "code",
      "source": [
        "matrix = []\n",
        "  \n",
        "for i in range(5):\n",
        "      \n",
        "    # Append an empty sublist inside the list\n",
        "    matrix.append([])\n",
        "      \n",
        "    for j in range(5):\n",
        "        matrix[i].append(j)\n",
        "          \n",
        "print(matrix)\n",
        "\n",
        "print(\"=============================================================================\")\n",
        "\n",
        "matrix = [[j for j in range(5)] for i in range(5)]\n",
        "  \n",
        "print(matrix)\n"
      ],
      "metadata": {
        "colab": {
          "base_uri": "https://localhost:8080/"
        },
        "id": "fYEnC-NtybJf",
        "outputId": "12f23a5b-3a1a-47bc-a5e0-905c8b253da7"
      },
      "execution_count": 37,
      "outputs": [
        {
          "output_type": "stream",
          "name": "stdout",
          "text": [
            "[[0, 1, 2, 3, 4], [0, 1, 2, 3, 4], [0, 1, 2, 3, 4], [0, 1, 2, 3, 4], [0, 1, 2, 3, 4]]\n",
            "=============================================================================\n",
            "[[0, 1, 2, 3, 4], [0, 1, 2, 3, 4], [0, 1, 2, 3, 4], [0, 1, 2, 3, 4], [0, 1, 2, 3, 4]]\n"
          ]
        }
      ]
    },
    {
      "cell_type": "code",
      "source": [
        "matrix = []\n",
        "  \n",
        "for i in range(5):\n",
        "      \n",
        "    # Append an empty sublist inside the list\n",
        "    matrix.append([])\n",
        "    for j in range(5):\n",
        "      matrix[i].append(j)\n",
        "      \n",
        "print(matrix)"
      ],
      "metadata": {
        "id": "oSiEOubTGy7T",
        "outputId": "43cba45c-1d3d-4243-9094-d656154b33df",
        "colab": {
          "base_uri": "https://localhost:8080/"
        }
      },
      "execution_count": 43,
      "outputs": [
        {
          "output_type": "stream",
          "name": "stdout",
          "text": [
            "[[0, 1, 2, 3, 4], [0, 1, 2, 3, 4], [0, 1, 2, 3, 4], [0, 1, 2, 3, 4], [0, 1, 2, 3, 4]]\n"
          ]
        }
      ]
    },
    {
      "cell_type": "code",
      "source": [
        "matrix = [[1, 2, 3], [3,4, 5], [6, 7, 8, 9]]\n",
        "  \n",
        "flatten_matrix = []\n",
        "  \n",
        "for sublist in matrix:\n",
        "    for val in sublist:\n",
        "        flatten_matrix.append(val)\n",
        "          \n",
        "print(flatten_matrix)"
      ],
      "metadata": {
        "id": "zu_A3eiuHk-_",
        "outputId": "2e355201-e53d-4546-8ff3-27e8ada8e65b",
        "colab": {
          "base_uri": "https://localhost:8080/"
        }
      },
      "execution_count": 5,
      "outputs": [
        {
          "output_type": "stream",
          "name": "stdout",
          "text": [
            "[1, 2, 3, 3, 4, 5, 6, 7, 8, 9]\n"
          ]
        }
      ]
    },
    {
      "cell_type": "code",
      "source": [
        "# 2-D List\n",
        "matrix = [[1, 2, 3], [4, 5], [6, 7, 8, 9]]\n",
        "\n",
        "# Nested List Comprehension to flatten a given 2-D matrix\n",
        "flatten_matrix = [val for sublist in matrix for val in sublist]\n",
        "\n",
        "print(flatten_matrix)\n"
      ],
      "metadata": {
        "id": "2wUz2WZt-b5f",
        "outputId": "dcea50b5-8046-481c-be0b-c06ecb050149",
        "colab": {
          "base_uri": "https://localhost:8080/"
        }
      },
      "execution_count": 3,
      "outputs": [
        {
          "output_type": "stream",
          "name": "stdout",
          "text": [
            "[1, 2, 3, 4, 5, 6, 7, 8, 9]\n"
          ]
        }
      ]
    },
    {
      "cell_type": "code",
      "source": [
        "# 2-D List of planets\n",
        "planets = [['Mercury', 'Venus', 'Earth'], ['Mars', 'Jupiter', 'Saturn'], ['Uranus', 'Neptune', 'Pluto']]\n",
        "\n",
        "flatten_planets = []\n",
        "\n",
        "for sublist in planets:\n",
        "\tfor planet in sublist:\n",
        "\t\t\n",
        "\t\tif len(planet) < 6:\n",
        "\t\t\tflatten_planets.append(planet)\n",
        "\t\t\n",
        "print(flatten_planets)\n"
      ],
      "metadata": {
        "id": "T5As5w_dAMZz",
        "outputId": "7a8c0e37-cdb1-448b-bd35-09c90afb9886",
        "colab": {
          "base_uri": "https://localhost:8080/"
        }
      },
      "execution_count": 6,
      "outputs": [
        {
          "output_type": "stream",
          "name": "stdout",
          "text": [
            "['Venus', 'Earth', 'Mars', 'Pluto']\n"
          ]
        }
      ]
    },
    {
      "cell_type": "code",
      "source": [
        ""
      ],
      "metadata": {
        "id": "ethBVJTCAMKa"
      },
      "execution_count": null,
      "outputs": []
    },
    {
      "cell_type": "code",
      "source": [
        ""
      ],
      "metadata": {
        "id": "Pho5Mv61AL4w"
      },
      "execution_count": null,
      "outputs": []
    },
    {
      "cell_type": "code",
      "source": [
        ""
      ],
      "metadata": {
        "id": "SbAch-stALtA"
      },
      "execution_count": null,
      "outputs": []
    },
    {
      "cell_type": "code",
      "source": [
        ""
      ],
      "metadata": {
        "id": "mro1AbV2ALe9"
      },
      "execution_count": null,
      "outputs": []
    }
  ]
}