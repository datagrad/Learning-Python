{
  "nbformat": 4,
  "nbformat_minor": 0,
  "metadata": {
    "colab": {
      "name": "List Operations.ipynb",
      "provenance": [],
      "collapsed_sections": [
        "ueLiOUEjFqMD",
        "1OCNrGKYFtqG",
        "6QvcjAnClOO7",
        "ck1_qsaDF2xO",
        "eSOPEv86lSUS",
        "xvpxsQKZlSIU",
        "H0lKpzCclR7I",
        "Ukwh3dAQljQI",
        "x_eSaFu5lmtY",
        "oQreG3wMlpKK",
        "K2TpBn09ltWv",
        "L2BojPaIltGn",
        "ttA-oEy8Guui",
        "bwX5HQcil-Vy",
        "8atFksk6l-Iw",
        "CpVh62AdHBRF",
        "oFS6lj7OmPVO"
      ],
      "toc_visible": true,
      "authorship_tag": "ABX9TyNzsErZfAVbxlfuEkp9VI7g",
      "include_colab_link": true
    },
    "kernelspec": {
      "name": "python3",
      "display_name": "Python 3"
    },
    "language_info": {
      "name": "python"
    }
  },
  "cells": [
    {
      "cell_type": "markdown",
      "metadata": {
        "id": "view-in-github",
        "colab_type": "text"
      },
      "source": [
        "<a href=\"https://colab.research.google.com/github/datagrad/Learning-Python/blob/main/List_Operations.ipynb\" target=\"_parent\"><img src=\"https://colab.research.google.com/assets/colab-badge.svg\" alt=\"Open In Colab\"/></a>"
      ]
    },
    {
      "cell_type": "markdown",
      "source": [
        "# Creating a List\n"
      ],
      "metadata": {
        "id": "ueLiOUEjFqMD"
      }
    },
    {
      "cell_type": "code",
      "execution_count": 53,
      "metadata": {
        "colab": {
          "base_uri": "https://localhost:8080/"
        },
        "id": "mZzm4vLMFN7p",
        "outputId": "8a9034cf-3280-4789-e069-8b25177374ef"
      },
      "outputs": [
        {
          "output_type": "stream",
          "name": "stdout",
          "text": [
            "[]\n",
            "===========================================================\n",
            "[10, 20, 14]\n",
            "===========================================================\n",
            "Start\n",
            "Lists\n",
            "===========================================================\n",
            "[['Geeks', 'For'], ['Geeks']]\n"
          ]
        }
      ],
      "source": [
        "# Creating a List\n",
        "List_1 = []\n",
        "print(List_1)\n",
        "\n",
        "print(\"===========================================================\")\n",
        "\n",
        "# Creating a List of numbers\n",
        "List_2 = [10, 20, 14]\n",
        "print(List_2)\n",
        "\n",
        "print(\"===========================================================\")\n",
        "\n",
        "# Creating a List of strings and accessing\n",
        "List_3 = [\"Start\", \"Learning\", \"Lists\"]\n",
        "print(List_3[0])\n",
        "print(List_3[2])\n",
        "\n",
        "print(\"===========================================================\")\n",
        "\n",
        "# Creating a Multi-Dimensional List By Nesting a list inside a List)\n",
        "List_4 = [['Geeks', 'For'], ['Geeks']]\n",
        "print(List_4)\n"
      ]
    },
    {
      "cell_type": "markdown",
      "source": [
        "# Size of List\n"
      ],
      "metadata": {
        "id": "1OCNrGKYFtqG"
      }
    },
    {
      "cell_type": "markdown",
      "source": [
        "## len(List)"
      ],
      "metadata": {
        "id": "6QvcjAnClOO7"
      }
    },
    {
      "cell_type": "code",
      "source": [
        "List= [0,1,2,3,4,5,6,7,8,9]\n",
        "print(List)\n",
        "\n",
        "print(\"Size of List:\",len(List))"
      ],
      "metadata": {
        "colab": {
          "base_uri": "https://localhost:8080/"
        },
        "id": "_XW99vqiF2Kn",
        "outputId": "4e716db4-e5d8-4d85-f33e-b19829afbe72"
      },
      "execution_count": 54,
      "outputs": [
        {
          "output_type": "stream",
          "name": "stdout",
          "text": [
            "[0, 1, 2, 3, 4, 5, 6, 7, 8, 9]\n",
            "Size of List: 10\n"
          ]
        }
      ]
    },
    {
      "cell_type": "markdown",
      "source": [
        "# Adding Elements to a List\n",
        "\n"
      ],
      "metadata": {
        "id": "ck1_qsaDF2xO"
      }
    },
    {
      "cell_type": "markdown",
      "source": [
        "## Append()\n",
        "* The term inside bracket will be added as the last term of list."
      ],
      "metadata": {
        "id": "eSOPEv86lSUS"
      }
    },
    {
      "cell_type": "markdown",
      "source": [
        "\n",
        "## insert()\n",
        "* To add an element at a given index of the list"
      ],
      "metadata": {
        "id": "xvpxsQKZlSIU"
      }
    },
    {
      "cell_type": "markdown",
      "source": [
        "\n",
        "## extend()\n",
        "* To add multiple elements at the same time at the end of the list."
      ],
      "metadata": {
        "id": "H0lKpzCclR7I"
      }
    },
    {
      "cell_type": "code",
      "source": [
        "List.append(3)\n",
        "print(\"New term has been added at the end in the list: \",List)"
      ],
      "metadata": {
        "colab": {
          "base_uri": "https://localhost:8080/"
        },
        "id": "1nt7-NXSGHUP",
        "outputId": "1a3c4e9c-13b6-4312-8865-585f371b61ad"
      },
      "execution_count": 55,
      "outputs": [
        {
          "output_type": "stream",
          "name": "stdout",
          "text": [
            "New term has been added at the end in the list:  [0, 1, 2, 3, 4, 5, 6, 7, 8, 9, 3]\n"
          ]
        }
      ]
    },
    {
      "cell_type": "code",
      "source": [
        "List.insert(0,99)\n",
        "print(\"New term will be added at the 0th index in the list: \",List)"
      ],
      "metadata": {
        "colab": {
          "base_uri": "https://localhost:8080/"
        },
        "id": "JWkRbVuUQuxR",
        "outputId": "326c739a-9cbe-4eb0-a519-b6d266936429"
      },
      "execution_count": 56,
      "outputs": [
        {
          "output_type": "stream",
          "name": "stdout",
          "text": [
            "New term will be added at the 0th index in the list:  [99, 0, 1, 2, 3, 4, 5, 6, 7, 8, 9, 3]\n"
          ]
        }
      ]
    },
    {
      "cell_type": "code",
      "source": [
        "List.insert(-1,199)\n",
        "print(\"New term will be added at the 0th index in the list: \",List)"
      ],
      "metadata": {
        "colab": {
          "base_uri": "https://localhost:8080/"
        },
        "id": "CkqmLYK-Quff",
        "outputId": "db3520b2-4dae-4d5b-e81a-ac8c22d5f92b"
      },
      "execution_count": 57,
      "outputs": [
        {
          "output_type": "stream",
          "name": "stdout",
          "text": [
            "New term will be added at the 0th index in the list:  [99, 0, 1, 2, 3, 4, 5, 6, 7, 8, 9, 199, 3]\n"
          ]
        }
      ]
    },
    {
      "cell_type": "code",
      "source": [
        "print(List[0])"
      ],
      "metadata": {
        "colab": {
          "base_uri": "https://localhost:8080/"
        },
        "id": "d5X2KVyASRVG",
        "outputId": "e85f16b6-0e54-4f89-991e-033a5e1f4a43"
      },
      "execution_count": 58,
      "outputs": [
        {
          "output_type": "stream",
          "name": "stdout",
          "text": [
            "99\n"
          ]
        }
      ]
    },
    {
      "cell_type": "code",
      "source": [
        "# Extend\n",
        "List = [0,1,2,3,4,5,6,7,8,9]\n",
        "List.extend([\"a\",\"bcd\",\"efg\",\"hi\",\"JK\",\"L\"])\n",
        "print(List)\n",
        "\n",
        "# Add a list inside (), and the terms will be added to List "
      ],
      "metadata": {
        "colab": {
          "base_uri": "https://localhost:8080/"
        },
        "id": "RaAxKhhQdD2g",
        "outputId": "14de7fb7-405d-4e91-c821-c723c7ca5e25"
      },
      "execution_count": 59,
      "outputs": [
        {
          "output_type": "stream",
          "name": "stdout",
          "text": [
            "[0, 1, 2, 3, 4, 5, 6, 7, 8, 9, 'a', 'bcd', 'efg', 'hi', 'JK', 'L']\n"
          ]
        }
      ]
    },
    {
      "cell_type": "markdown",
      "source": [
        "# Accessing elements from the List\n",
        "* List[n-1]\n",
        "* List[-m]"
      ],
      "metadata": {
        "id": "6mFTa2B_GGtM"
      }
    },
    {
      "cell_type": "markdown",
      "source": [
        "### List[n]"
      ],
      "metadata": {
        "id": "Ukwh3dAQljQI"
      }
    },
    {
      "cell_type": "markdown",
      "source": [
        "### List[-n]"
      ],
      "metadata": {
        "id": "x_eSaFu5lmtY"
      }
    },
    {
      "cell_type": "markdown",
      "source": [
        "### List[n:]"
      ],
      "metadata": {
        "id": "oQreG3wMlpKK"
      }
    },
    {
      "cell_type": "markdown",
      "source": [
        "### List[:m]"
      ],
      "metadata": {
        "id": "K2TpBn09ltWv"
      }
    },
    {
      "cell_type": "markdown",
      "source": [
        "### List[n:m]"
      ],
      "metadata": {
        "id": "L2BojPaIltGn"
      }
    },
    {
      "cell_type": "markdown",
      "source": [
        "### List[-m:-n]"
      ],
      "metadata": {
        "id": "d1LHrAcglsmA"
      }
    },
    {
      "cell_type": "markdown",
      "source": [
        "###  List[a : b : c]\n",
        "* a is first term of list\n",
        "* b-1 can be the last term of list if satisfies the condition\n",
        "* c is the step size\n",
        "\n",
        "For Example:\n",
        "* List[1 : 17 : 2]:\n",
        "  * 1 can be the first term of list if condition is satisfied*\n",
        "  * 16 will be the last term of the list if condition is satisfied*\n",
        "  * 2 will be the step size"
      ],
      "metadata": {
        "id": "5HxarY8et_F-"
      }
    },
    {
      "cell_type": "code",
      "source": [
        "List = list(range(0,21))\n",
        "#  below list has numbers from 2 to 8 in step 2\n",
        "List_1_17_2 = List[1 : 17 : 2]\n",
        "print (List_1_17_2)\n",
        "\n",
        "\n",
        "List_1_18_2 = List[1 : 18 : 2]\n",
        "print (List_1_18_2)\n"
      ],
      "metadata": {
        "colab": {
          "base_uri": "https://localhost:8080/"
        },
        "id": "9iWDYy07uHBV",
        "outputId": "35ae5656-b1ae-4a34-92b4-de9ffcea4836"
      },
      "execution_count": 60,
      "outputs": [
        {
          "output_type": "stream",
          "name": "stdout",
          "text": [
            "[1, 3, 5, 7, 9, 11, 13, 15]\n",
            "[1, 3, 5, 7, 9, 11, 13, 15, 17]\n"
          ]
        }
      ]
    },
    {
      "cell_type": "code",
      "source": [
        "List = list(range(0,21))\n",
        "\n",
        "List_1 = List[1 : 17 : 5]    # Here 16 is last term and satisfies the step size of 5 condition\n",
        "print (\"List[1 : 17 : 5] =>  \",List_1)\n",
        "\n",
        "print(\"\")\n",
        "print(\"\")\n",
        "\n",
        "\n",
        "List_2 = List[4 : 17 : 5]    # Here 16 is last term but doesn't satisfies the step size of 5 condition\n",
        "print (\"List[4 : 17 : 5] =>  \",List_2)\n",
        "\n",
        "print(\"\")\n",
        "print(\"\")\n",
        "\n",
        "\n",
        "List_3 = List[ :  : -1]\n",
        "print (\"List[ :  : -1] =>  \",List_3)\n",
        "\n",
        "print(\"\")\n",
        "print(\"\")\n",
        "\n",
        "List_4 = List[ 7: 14 : -4]   # Returns empty list as the -4 indicates a reverse list, while 7 to 14 is towards increasing sequence\n",
        "print (\"List[ 7: 14 : -4] =>  \",List_4)\n",
        "\n",
        "print(\"\")\n",
        "print(\"\")\n",
        "\n",
        "List_5 = List[ : : -4]   # Returns empty list as the -4 indicates a reverse list, while 7 to 14 is towards increasing sequence\n",
        "print (\"List[ : : -4] =>  \",List_5)\n"
      ],
      "metadata": {
        "colab": {
          "base_uri": "https://localhost:8080/"
        },
        "id": "bmUkpiPIvQki",
        "outputId": "4f05d3a0-8ab7-419a-d39e-4851d6691453"
      },
      "execution_count": 61,
      "outputs": [
        {
          "output_type": "stream",
          "name": "stdout",
          "text": [
            "List[1 : 17 : 5] =>   [1, 6, 11, 16]\n",
            "\n",
            "\n",
            "List[4 : 17 : 5] =>   [4, 9, 14]\n",
            "\n",
            "\n",
            "List[ :  : -1] =>   [20, 19, 18, 17, 16, 15, 14, 13, 12, 11, 10, 9, 8, 7, 6, 5, 4, 3, 2, 1, 0]\n",
            "\n",
            "\n",
            "List[ 7: 14 : -4] =>   []\n",
            "\n",
            "\n",
            "List[ : : -4] =>   [20, 16, 12, 8, 4, 0]\n"
          ]
        }
      ]
    },
    {
      "cell_type": "code",
      "source": [
        "List= [0,1,2,3,4,5,6,7,8,9]\n",
        "\n",
        "\n",
        "print(List)\n",
        "print (\"========================================================================\")\n",
        "print(\"0th element: \",List[0])\n",
        "print(\"1st element: \",List[1])\n",
        "print(\"2nd element: \",List[2])\n",
        "print(\"Last element: \",List[-1])\n",
        "print(\"3rd element from end: \",List[-3])\n"
      ],
      "metadata": {
        "colab": {
          "base_uri": "https://localhost:8080/"
        },
        "id": "MhA5eNBiGNX3",
        "outputId": "0a11d18e-13b7-4eba-fa52-88b33c22adff"
      },
      "execution_count": 62,
      "outputs": [
        {
          "output_type": "stream",
          "name": "stdout",
          "text": [
            "[0, 1, 2, 3, 4, 5, 6, 7, 8, 9]\n",
            "========================================================================\n",
            "0th element:  0\n",
            "1st element:  1\n",
            "2nd element:  2\n",
            "Last element:  9\n",
            "3rd element from end:  7\n"
          ]
        }
      ]
    },
    {
      "cell_type": "markdown",
      "source": [
        "# Removing Elements from list\n",
        "\n"
      ],
      "metadata": {
        "id": "ttA-oEy8Guui"
      }
    },
    {
      "cell_type": "markdown",
      "source": [
        "### remove()\n",
        "* Removes the term mentioned inside bracket.\n"
      ],
      "metadata": {
        "id": "bwX5HQcil-Vy"
      }
    },
    {
      "cell_type": "markdown",
      "source": [
        "### pop()\n",
        "* Removes the term based on index"
      ],
      "metadata": {
        "id": "8atFksk6l-Iw"
      }
    },
    {
      "cell_type": "code",
      "source": [
        "List = [\"a\",\"bcd\",\"efg\",\"hi\",\"JK\",\"L\"]\n",
        "#List.remove(1)\n",
        "print(List.pop())\n",
        "print(List.pop(1))"
      ],
      "metadata": {
        "colab": {
          "base_uri": "https://localhost:8080/"
        },
        "id": "wzJJFOulejQL",
        "outputId": "cadd4502-35c5-4a0c-fc18-4792837f1bde"
      },
      "execution_count": 63,
      "outputs": [
        {
          "output_type": "stream",
          "name": "stdout",
          "text": [
            "L\n",
            "bcd\n"
          ]
        }
      ]
    },
    {
      "cell_type": "code",
      "source": [
        "List = [2,4,6,7,\"a\",\"bcd\",\"efg\",\"hi\",\"JK\",\"L\"]\n",
        "List.remove(7)\n",
        "print(List)"
      ],
      "metadata": {
        "colab": {
          "base_uri": "https://localhost:8080/"
        },
        "id": "SFYQ8gx6GrrD",
        "outputId": "de35a7e0-91d1-40c2-c8b6-cbf9b0d199d9"
      },
      "execution_count": 64,
      "outputs": [
        {
          "output_type": "stream",
          "name": "stdout",
          "text": [
            "[2, 4, 6, 'a', 'bcd', 'efg', 'hi', 'JK', 'L']\n"
          ]
        }
      ]
    },
    {
      "cell_type": "code",
      "source": [
        "List = [\"a\",\"bcd\",\"efg\",\"hi\",\"JK\",\"L\"]\n",
        "print(List.pop(1))\n",
        "print(List)\n"
      ],
      "metadata": {
        "colab": {
          "base_uri": "https://localhost:8080/"
        },
        "id": "Gsn-ZCLXUVCV",
        "outputId": "ebd9e454-13dc-45dc-a7f4-c24ea40df1e2"
      },
      "execution_count": 65,
      "outputs": [
        {
          "output_type": "stream",
          "name": "stdout",
          "text": [
            "bcd\n",
            "['a', 'efg', 'hi', 'JK', 'L']\n"
          ]
        }
      ]
    },
    {
      "cell_type": "code",
      "source": [
        "List.pop(0)\n",
        "print(List)"
      ],
      "metadata": {
        "colab": {
          "base_uri": "https://localhost:8080/"
        },
        "id": "uIQE7rDqUkSz",
        "outputId": "b6e43c29-9299-44d2-8002-2a42be8e079e"
      },
      "execution_count": 66,
      "outputs": [
        {
          "output_type": "stream",
          "name": "stdout",
          "text": [
            "['efg', 'hi', 'JK', 'L']\n"
          ]
        }
      ]
    },
    {
      "cell_type": "code",
      "source": [
        "List1 = [9,8,7,6,5,4,3,2,1,0]\n",
        "List2 = [9,8,7,6,5,4,3,2,1,0]\n",
        "\n",
        "List1.remove(1)\n",
        "print(\"Removes the term 1 from the list: \", List1)\n",
        "\n",
        "List2.pop(1)\n",
        "print(\"Removes the term which is on 1st in the list: \",List2)\n"
      ],
      "metadata": {
        "colab": {
          "base_uri": "https://localhost:8080/"
        },
        "id": "h-B-0ovUUrZy",
        "outputId": "a5fb9be7-47e3-45d5-f3f7-b74cc6925340"
      },
      "execution_count": 67,
      "outputs": [
        {
          "output_type": "stream",
          "name": "stdout",
          "text": [
            "Removes the term 1 from the list:  [9, 8, 7, 6, 5, 4, 3, 2, 0]\n",
            "Removes the term which is on 1st in the list:  [9, 7, 6, 5, 4, 3, 2, 1, 0]\n"
          ]
        }
      ]
    },
    {
      "cell_type": "markdown",
      "source": [
        "# Slicing of list\n",
        "* List[a:b]  =>  ath term is inclusive, bth term is exclusive.\n",
        "* List[a:]\n",
        "* List[:b]"
      ],
      "metadata": {
        "id": "CpVh62AdHBRF"
      }
    },
    {
      "cell_type": "markdown",
      "source": [
        "## List[a:b]"
      ],
      "metadata": {
        "id": "oFS6lj7OmPVO"
      }
    },
    {
      "cell_type": "code",
      "source": [
        "List= [0,1,2,3,4,5,6,7,8,9]\n",
        "print(List[1:6])\n",
        "# O/P: items on 1st index to 5th index"
      ],
      "metadata": {
        "colab": {
          "base_uri": "https://localhost:8080/"
        },
        "id": "AUCmrC9iHp0n",
        "outputId": "f48aff63-0042-4b32-e59e-6d815a634f24"
      },
      "execution_count": 68,
      "outputs": [
        {
          "output_type": "stream",
          "name": "stdout",
          "text": [
            "[1, 2, 3, 4, 5]\n"
          ]
        }
      ]
    },
    {
      "cell_type": "code",
      "source": [
        "List= [0,1,2,3,4,5,6,7,8,9]\n",
        "print(List[1:])\n",
        "# O/P: items on 1st index to after that"
      ],
      "metadata": {
        "colab": {
          "base_uri": "https://localhost:8080/"
        },
        "id": "8U8hNGijVjwf",
        "outputId": "0c52728a-5a3a-4591-f075-a07a55227447"
      },
      "execution_count": 69,
      "outputs": [
        {
          "output_type": "stream",
          "name": "stdout",
          "text": [
            "[1, 2, 3, 4, 5, 6, 7, 8, 9]\n"
          ]
        }
      ]
    },
    {
      "cell_type": "code",
      "source": [
        "List= [0,1,2,3,4,5,6,7,8,9]\n",
        "print(List[:6])\n",
        "# O/P: items before 6th index"
      ],
      "metadata": {
        "colab": {
          "base_uri": "https://localhost:8080/"
        },
        "id": "_fUIH0VYVjnV",
        "outputId": "949bd4bb-3b9a-4d6e-8215-229efe5d8218"
      },
      "execution_count": 70,
      "outputs": [
        {
          "output_type": "stream",
          "name": "stdout",
          "text": [
            "[0, 1, 2, 3, 4, 5]\n"
          ]
        }
      ]
    },
    {
      "cell_type": "code",
      "source": [
        "List= [0,1,2,3,4,5,6,7,8,9]\n",
        "print(List[-1])\n",
        "# O/P: items on the last index"
      ],
      "metadata": {
        "colab": {
          "base_uri": "https://localhost:8080/"
        },
        "id": "7894iGQXWcsK",
        "outputId": "810ffbaa-0f3e-440f-fabe-89741938b718"
      },
      "execution_count": 71,
      "outputs": [
        {
          "output_type": "stream",
          "name": "stdout",
          "text": [
            "9\n"
          ]
        }
      ]
    },
    {
      "cell_type": "code",
      "source": [
        "List= [0,1,2,3,4,5,6,7,8,9]\n",
        "print(List[-5:-1])\n",
        "# O/P: items on -5th index to -2nd index"
      ],
      "metadata": {
        "colab": {
          "base_uri": "https://localhost:8080/"
        },
        "id": "PJDZZyIQVjbW",
        "outputId": "ac2b14cf-5d05-4e83-d7b1-47f813185c2b"
      },
      "execution_count": 72,
      "outputs": [
        {
          "output_type": "stream",
          "name": "stdout",
          "text": [
            "[5, 6, 7, 8]\n"
          ]
        }
      ]
    },
    {
      "cell_type": "code",
      "source": [
        "List= [0,1,2,3,4,5,6,7,8,9]\n",
        "print(List[:-1])\n",
        "# O/P: items on -5th index to -2nd index"
      ],
      "metadata": {
        "colab": {
          "base_uri": "https://localhost:8080/"
        },
        "id": "uO9a_UgNWV-I",
        "outputId": "838f6c1b-0ac5-4a5d-bfe3-e5f9cd90ec61"
      },
      "execution_count": 73,
      "outputs": [
        {
          "output_type": "stream",
          "name": "stdout",
          "text": [
            "[0, 1, 2, 3, 4, 5, 6, 7, 8]\n"
          ]
        }
      ]
    },
    {
      "cell_type": "code",
      "source": [
        "List= [0,1,2,3,4,5,6,7,8,9]\n",
        "print(List[-7:])\n",
        "# O/P: items on -5th index to -2nd index"
      ],
      "metadata": {
        "colab": {
          "base_uri": "https://localhost:8080/"
        },
        "id": "5AsTqyXmbmkU",
        "outputId": "12412fb6-11a3-41c8-b2c4-1df69965c54e"
      },
      "execution_count": 74,
      "outputs": [
        {
          "output_type": "stream",
          "name": "stdout",
          "text": [
            "[3, 4, 5, 6, 7, 8, 9]\n"
          ]
        }
      ]
    },
    {
      "cell_type": "markdown",
      "source": [
        "# List Comprehension\n",
        "* List comprehensions are used for creating new lists from other iterables like tuples, strings, arrays, lists, etc.\n",
        "* A list comprehension consists of brackets containing the expression, which is executed for each element along with the for loop to iterate over each element. "
      ],
      "metadata": {
        "id": "UFwC87vGHqyk"
      }
    },
    {
      "cell_type": "markdown",
      "source": [
        "#### Steps\n",
        "\n",
        "* Create the empty List\n",
        "* Write the input condition \n",
        "* Pull the required data from input\n",
        "* Check with Operation, if condition is satisfiedm then append to list using .append()\n",
        "* print (List)"
      ],
      "metadata": {
        "id": "Rv9Re2eiqV0V"
      }
    },
    {
      "cell_type": "code",
      "source": [
        "# Creating a List based on expression\n",
        "odd_square = [x ** 2 for x in range(1, 11) if x % 2 == 1]\n",
        "print(odd_square)\n",
        "\n",
        "#O/P : creates a list of squares of all odd number in (1,11)"
      ],
      "metadata": {
        "colab": {
          "base_uri": "https://localhost:8080/"
        },
        "id": "MZBqYBrrmce2",
        "outputId": "69b5cfb9-5df2-4ebc-83c0-98cbde1829f5"
      },
      "execution_count": 75,
      "outputs": [
        {
          "output_type": "stream",
          "name": "stdout",
          "text": [
            "[1, 9, 25, 49, 81]\n"
          ]
        }
      ]
    },
    {
      "cell_type": "code",
      "source": [
        "# Detailed Approach\n",
        "odd_square = []                        # Create the empty List\n",
        "for x in range(1, 11):                 # Write the input condition \n",
        "    if x % 2 == 1:                     # Pull the required data from input\n",
        "        odd_square.append(x**2)        # Operation is x**2 and then append to list using .append()\n",
        "print (odd_square)                     # print the output"
      ],
      "metadata": {
        "colab": {
          "base_uri": "https://localhost:8080/"
        },
        "id": "Xtg-A_QdpH2M",
        "outputId": "a317164a-c781-495d-e70e-134351e4fdc8"
      },
      "execution_count": 76,
      "outputs": [
        {
          "output_type": "stream",
          "name": "stdout",
          "text": [
            "[1, 9, 25, 49, 81]\n"
          ]
        }
      ]
    },
    {
      "cell_type": "code",
      "source": [
        "# Print the list of terms which are divisible by 3 in (1,37)\n",
        "\n",
        "List = []\n",
        "for x in range(1,37):\n",
        "  if x%3 == 0:\n",
        "    List.append(x)\n",
        "\n",
        "print(List)"
      ],
      "metadata": {
        "colab": {
          "base_uri": "https://localhost:8080/"
        },
        "id": "zfLtES2ZpvNF",
        "outputId": "31bebf16-3cd8-45ba-fc02-af22d917b92a"
      },
      "execution_count": 77,
      "outputs": [
        {
          "output_type": "stream",
          "name": "stdout",
          "text": [
            "[3, 6, 9, 12, 15, 18, 21, 24, 27, 30, 33, 36]\n"
          ]
        }
      ]
    },
    {
      "cell_type": "code",
      "source": [
        "List = [\"A\",\"B\",\"C\",\"D\",\"E\",\"F\",\"G\"]\n",
        "\n",
        "List_Low = []\n",
        "for x in List:\n",
        "  List_Low.append(x.lower())\n",
        "\n",
        "print(List_Low)\n",
        "\n",
        "List_Up = []\n",
        "for y in List_Low:\n",
        "  List_Up.append(y.upper())\n",
        "print(List_Up)"
      ],
      "metadata": {
        "colab": {
          "base_uri": "https://localhost:8080/"
        },
        "id": "aPBkEiJ8q3FB",
        "outputId": "28e5e9c3-3172-4bff-e60e-8ab682a0e765"
      },
      "execution_count": 78,
      "outputs": [
        {
          "output_type": "stream",
          "name": "stdout",
          "text": [
            "['a', 'b', 'c', 'd', 'e', 'f', 'g']\n",
            "['A', 'B', 'C', 'D', 'E', 'F', 'G']\n"
          ]
        }
      ]
    },
    {
      "cell_type": "code",
      "source": [
        "string = \"my phone number is : 11122 !!\"\n",
        "   \n",
        "\n",
        "numbers = [x for x in string] \n",
        "print (numbers) "
      ],
      "metadata": {
        "colab": {
          "base_uri": "https://localhost:8080/"
        },
        "id": "ZNBbEQ4psFGk",
        "outputId": "dae33a5a-6715-432e-eafb-95b01a3cb291"
      },
      "execution_count": 79,
      "outputs": [
        {
          "output_type": "stream",
          "name": "stdout",
          "text": [
            "['m', 'y', ' ', 'p', 'h', 'o', 'n', 'e', ' ', 'n', 'u', 'm', 'b', 'e', 'r', ' ', 'i', 's', ' ', ':', ' ', '1', '1', '1', '2', '2', ' ', '!', '!']\n"
          ]
        }
      ]
    },
    {
      "cell_type": "code",
      "source": [
        "string = \"my phone number is : 11122 !!\"\n",
        "   \n",
        "print(\"\\nExtracted digits\") \n",
        "numbers = [x for x in string if x.isdigit()] \n",
        "print (numbers) "
      ],
      "metadata": {
        "colab": {
          "base_uri": "https://localhost:8080/"
        },
        "id": "eVdizJSzr72C",
        "outputId": "7a2a3a67-ac24-4aaa-eaec-b72da02f0c54"
      },
      "execution_count": 80,
      "outputs": [
        {
          "output_type": "stream",
          "name": "stdout",
          "text": [
            "\n",
            "Extracted digits\n",
            "['1', '1', '1', '2', '2']\n"
          ]
        }
      ]
    },
    {
      "cell_type": "code",
      "source": [
        "# A list of list for multiplication table \n",
        "a = int(input())\n",
        "table = [[a, b, a * b] for b in range(1, 11)] \n",
        "   \n",
        "print(\"\\nMultiplication Table\") \n",
        "for i in table: \n",
        "    print (i)"
      ],
      "metadata": {
        "colab": {
          "base_uri": "https://localhost:8080/"
        },
        "id": "3ounC3NNsWlY",
        "outputId": "3417cb44-cc45-4d0b-95da-e3dd4746d409"
      },
      "execution_count": 81,
      "outputs": [
        {
          "output_type": "stream",
          "name": "stdout",
          "text": [
            "8\n",
            "\n",
            "Multiplication Table\n",
            "[8, 1, 8]\n",
            "[8, 2, 16]\n",
            "[8, 3, 24]\n",
            "[8, 4, 32]\n",
            "[8, 5, 40]\n",
            "[8, 6, 48]\n",
            "[8, 7, 56]\n",
            "[8, 8, 64]\n",
            "[8, 9, 72]\n",
            "[8, 10, 80]\n"
          ]
        }
      ]
    },
    {
      "cell_type": "code",
      "source": [
        "# Take input as an Integer and write the table\n",
        "List=[]\n",
        "b = int(input())\n",
        "\n",
        "for i in range(1,10):\n",
        "  List.append(i*b)\n",
        "print(List)"
      ],
      "metadata": {
        "colab": {
          "base_uri": "https://localhost:8080/"
        },
        "id": "_YZVVHKPsvRk",
        "outputId": "02ef7223-a31d-4856-ab62-305e39c0c7ac"
      },
      "execution_count": 82,
      "outputs": [
        {
          "output_type": "stream",
          "name": "stdout",
          "text": [
            "98\n",
            "[98, 196, 294, 392, 490, 588, 686, 784, 882]\n"
          ]
        }
      ]
    },
    {
      "cell_type": "markdown",
      "source": [
        "\n",
        "# List Functions\t& Description\n",
        "\n",
        "\n",
        "\n",
        "---\n",
        "\n",
        "\n",
        "* Append()\n",
        "    * Adds an element to the end of the list\n",
        "---\n",
        "\n",
        "* Extend()\n",
        "    * Add all elements of a list to another list\n",
        "\n",
        "---\n",
        "\n",
        "* Insert()\n",
        "    * Insert an item at the defined index\n",
        "\n",
        "---\n",
        "\n",
        "* Remove()\n",
        "    * Removes an item from the list\n",
        "\n",
        "---\n",
        "\n",
        "* Pop()\n",
        "    * Removes and returns an element at the given index\n",
        "\n",
        "---\n",
        "\n",
        "* Clear()\n",
        "    * Removes all items from the list\n",
        "\n",
        "---\n",
        "\n",
        "* Index()\n",
        "    * Returns the index of the first matched item\n",
        "\n",
        "---\n",
        "\n",
        "* Count()\n",
        "    * Returns the count of the number of items passed as an argument\n",
        "\n",
        "---\n",
        "\n",
        "* Sort()\n",
        "    * Sort items in a list in ascending order\n",
        "\n",
        "---\n",
        "\n",
        "* Reverse()\n",
        "    * Reverse the order of items in the list\n",
        "\n",
        "---\n",
        "\n",
        "* copy()\n",
        "    * Returns a copy of the list\n",
        "\n",
        "---"
      ],
      "metadata": {
        "id": "2S2TJgN-H1Ea"
      }
    },
    {
      "cell_type": "code",
      "source": [
        "List = [0,1,2,3,4,5,6,7,8,9,10,11,132,11, 12, 1312345,999]\n",
        "\n",
        "List.append(5)\n",
        "print(\"List.append(5) : \",List)"
      ],
      "metadata": {
        "id": "auAoJ6CeJ2dH",
        "outputId": "8cfb1023-e741-4d4b-af9b-0de4e5758852",
        "colab": {
          "base_uri": "https://localhost:8080/"
        }
      },
      "execution_count": 83,
      "outputs": [
        {
          "output_type": "stream",
          "name": "stdout",
          "text": [
            "List.append(5) :  [0, 1, 2, 3, 4, 5, 6, 7, 8, 9, 10, 11, 132, 11, 12, 1312345, 999, 5]\n"
          ]
        }
      ]
    },
    {
      "cell_type": "code",
      "source": [
        "List.extend([100,120])\n",
        "print(\"List.extend([100,120]) : \",List)"
      ],
      "metadata": {
        "id": "kriBUatrJ2S-",
        "outputId": "e4428e9e-be35-450d-84de-ef36bd1a1369",
        "colab": {
          "base_uri": "https://localhost:8080/"
        }
      },
      "execution_count": 84,
      "outputs": [
        {
          "output_type": "stream",
          "name": "stdout",
          "text": [
            "List.extend([100,120]) :  [0, 1, 2, 3, 4, 5, 6, 7, 8, 9, 10, 11, 132, 11, 12, 1312345, 999, 5, 100, 120]\n"
          ]
        }
      ]
    },
    {
      "cell_type": "code",
      "source": [
        "List.insert(1,320)\n",
        "print(\"List.insert(1,320): \",List)\n"
      ],
      "metadata": {
        "id": "-0oQ16AUJ2IS",
        "outputId": "26f04210-efd2-4658-9a3b-48322f622200",
        "colab": {
          "base_uri": "https://localhost:8080/"
        }
      },
      "execution_count": 85,
      "outputs": [
        {
          "output_type": "stream",
          "name": "stdout",
          "text": [
            "List.insert(1,320):  [0, 320, 1, 2, 3, 4, 5, 6, 7, 8, 9, 10, 11, 132, 11, 12, 1312345, 999, 5, 100, 120]\n"
          ]
        }
      ]
    },
    {
      "cell_type": "code",
      "source": [
        "List.remove(999)\n",
        "print(\"List.remove(999): \",List)\n"
      ],
      "metadata": {
        "id": "cysFAkVgJ194",
        "outputId": "5bb14b15-0515-461d-d5eb-56867cb0542a",
        "colab": {
          "base_uri": "https://localhost:8080/"
        }
      },
      "execution_count": 86,
      "outputs": [
        {
          "output_type": "stream",
          "name": "stdout",
          "text": [
            "List.remove(999):  [0, 320, 1, 2, 3, 4, 5, 6, 7, 8, 9, 10, 11, 132, 11, 12, 1312345, 5, 100, 120]\n"
          ]
        }
      ]
    },
    {
      "cell_type": "code",
      "source": [
        "List.pop(-1)\n",
        "print(\"List.pop(-1): \",List)"
      ],
      "metadata": {
        "id": "BIkM2r9HJ10Q",
        "outputId": "f96297bd-7ad5-483d-b78f-21fb584fce3a",
        "colab": {
          "base_uri": "https://localhost:8080/"
        }
      },
      "execution_count": 87,
      "outputs": [
        {
          "output_type": "stream",
          "name": "stdout",
          "text": [
            "List.pop(-1):  [0, 320, 1, 2, 3, 4, 5, 6, 7, 8, 9, 10, 11, 132, 11, 12, 1312345, 5, 100]\n"
          ]
        }
      ]
    },
    {
      "cell_type": "code",
      "source": [
        "List.sort()\n",
        "print(\"List.sort(): \",List)\n"
      ],
      "metadata": {
        "id": "SS6f1uZ5J1m8",
        "outputId": "a9060c01-2d50-4582-9e35-b7f286853e1b",
        "colab": {
          "base_uri": "https://localhost:8080/"
        }
      },
      "execution_count": 88,
      "outputs": [
        {
          "output_type": "stream",
          "name": "stdout",
          "text": [
            "List.sort():  [0, 1, 2, 3, 4, 5, 5, 6, 7, 8, 9, 10, 11, 11, 12, 100, 132, 320, 1312345]\n"
          ]
        }
      ]
    },
    {
      "cell_type": "code",
      "source": [
        "List.reverse()\n",
        "print(\"List.reverse(): \",List)\n"
      ],
      "metadata": {
        "id": "C-0MH7whKEAQ",
        "outputId": "3e48732e-7357-448b-a973-39533278db14",
        "colab": {
          "base_uri": "https://localhost:8080/"
        }
      },
      "execution_count": 89,
      "outputs": [
        {
          "output_type": "stream",
          "name": "stdout",
          "text": [
            "List.reverse():  [1312345, 320, 132, 100, 12, 11, 11, 10, 9, 8, 7, 6, 5, 5, 4, 3, 2, 1, 0]\n"
          ]
        }
      ]
    },
    {
      "cell_type": "code",
      "source": [
        "\n",
        "print(List.index(7))\n"
      ],
      "metadata": {
        "id": "KEaOytIBKDzg",
        "outputId": "df0c6ab3-02ed-49bf-cc44-22407491b764",
        "colab": {
          "base_uri": "https://localhost:8080/"
        }
      },
      "execution_count": 90,
      "outputs": [
        {
          "output_type": "stream",
          "name": "stdout",
          "text": [
            "10\n"
          ]
        }
      ]
    },
    {
      "cell_type": "code",
      "source": [
        "print(List.count(11))"
      ],
      "metadata": {
        "id": "1rip_I3-KDoj",
        "outputId": "1a517cf4-ecc0-49de-db60-67d8aaa38085",
        "colab": {
          "base_uri": "https://localhost:8080/"
        }
      },
      "execution_count": 91,
      "outputs": [
        {
          "output_type": "stream",
          "name": "stdout",
          "text": [
            "2\n"
          ]
        }
      ]
    },
    {
      "cell_type": "code",
      "source": [
        "List.copy()\n",
        "print(List)\n"
      ],
      "metadata": {
        "id": "uQY1uWF4KDcV",
        "outputId": "22ca1f0f-6ad3-4bcd-d0fb-adc95511b7e9",
        "colab": {
          "base_uri": "https://localhost:8080/"
        }
      },
      "execution_count": 92,
      "outputs": [
        {
          "output_type": "stream",
          "name": "stdout",
          "text": [
            "[1312345, 320, 132, 100, 12, 11, 11, 10, 9, 8, 7, 6, 5, 5, 4, 3, 2, 1, 0]\n"
          ]
        }
      ]
    },
    {
      "cell_type": "code",
      "source": [
        "List.clear()\n",
        "print(List)"
      ],
      "metadata": {
        "id": "GAGZTdhaH0ag",
        "colab": {
          "base_uri": "https://localhost:8080/"
        },
        "outputId": "c098e227-b6e9-4150-ade2-865d21e055d8"
      },
      "execution_count": 93,
      "outputs": [
        {
          "output_type": "stream",
          "name": "stdout",
          "text": [
            "[]\n"
          ]
        }
      ]
    },
    {
      "cell_type": "code",
      "source": [
        "List.reverse()\n",
        "\n",
        "print(List)"
      ],
      "metadata": {
        "id": "GbLeDlANH0PU",
        "colab": {
          "base_uri": "https://localhost:8080/"
        },
        "outputId": "29318f7e-7d33-48d2-8a97-acbc23b16b77"
      },
      "execution_count": 94,
      "outputs": [
        {
          "output_type": "stream",
          "name": "stdout",
          "text": [
            "[]\n"
          ]
        }
      ]
    },
    {
      "cell_type": "markdown",
      "source": [
        "# Create list using Lambda Functions "
      ],
      "metadata": {
        "id": "ahgCTPHgyAU4"
      }
    },
    {
      "cell_type": "code",
      "source": [
        "# filtering odd numbers\n",
        "\n",
        "\n",
        "lst = filter(lambda x : x % 2 == 1, range(1, 20))           # Using Lambda Function\n",
        "print (list(lst))\n",
        "\n",
        "List=[]                                                     # Using Loop and append\n",
        "for x in range(1,20):                                       \n",
        "  if x % 2 == 1:\n",
        "    List.append(x)\n",
        "print(List)\n",
        "\n"
      ],
      "metadata": {
        "colab": {
          "base_uri": "https://localhost:8080/"
        },
        "id": "dLuC6UNByHpF",
        "outputId": "91092973-b84d-4810-d51c-bfc9ae77c8b1"
      },
      "execution_count": 96,
      "outputs": [
        {
          "output_type": "stream",
          "name": "stdout",
          "text": [
            "[1, 3, 5, 7, 9, 11, 13, 15, 17, 19]\n",
            "[1, 3, 5, 7, 9, 11, 13, 15, 17, 19]\n"
          ]
        }
      ]
    },
    {
      "cell_type": "code",
      "source": [
        "# filtering odd square which are divisible by 5\n",
        "List = []\n",
        "\n",
        "for x in range(1,11):\n",
        "  if x%2 == 1:\n",
        "    if (x**2)%5 == 0:\n",
        "      List.append(x**2)\n",
        "print(List)\n",
        "\n",
        "\n",
        "lst = filter(lambda x : x % 5 == 0,\n",
        "\t[x ** 2 for x in range(1, 11) if x % 2 == 1])\n",
        "print (list(lst))\n",
        "\t"
      ],
      "metadata": {
        "colab": {
          "base_uri": "https://localhost:8080/"
        },
        "id": "mQ25A-hmzaxO",
        "outputId": "7bb14363-b244-433d-f419-14465ceaa7df"
      },
      "execution_count": 97,
      "outputs": [
        {
          "output_type": "stream",
          "name": "stdout",
          "text": [
            "[25]\n",
            "[25]\n"
          ]
        }
      ]
    },
    {
      "cell_type": "code",
      "source": [
        "# filtering negative numbers\n",
        "List = []\n",
        "for x in range(-5,5):\n",
        "  if x<0:\n",
        "    List.append(x)\n",
        "print(List)\n",
        "\n",
        "\n",
        "lst = filter((lambda x: x < 0), range(-5,5))\n",
        "print (list(lst))\n",
        "\t\n"
      ],
      "metadata": {
        "colab": {
          "base_uri": "https://localhost:8080/"
        },
        "id": "l7ZdDdyL0lBD",
        "outputId": "a571788e-ff4b-496d-929b-0d4b7cc9a0e9"
      },
      "execution_count": 98,
      "outputs": [
        {
          "output_type": "stream",
          "name": "stdout",
          "text": [
            "[-5, -4, -3, -2, -1]\n",
            "[-5, -4, -3, -2, -1]\n"
          ]
        }
      ]
    },
    {
      "cell_type": "markdown",
      "source": [
        "# Nested List Comprehensions (MATRIX)\n",
        "\n",
        "\n",
        "* Creating a Matrix\n",
        "matrix = \n",
        "          [[0, 1, 2, 3, 4],\n",
        "          [0, 1, 2, 3, 4],\n",
        "          [0, 1, 2, 3, 4],\n",
        "          [0, 1, 2, 3, 4],\n",
        "          [0, 1, 2, 3, 4]]"
      ],
      "metadata": {
        "id": "HKWY5XZ6GTc3"
      }
    },
    {
      "cell_type": "markdown",
      "source": [
        "Matrix with a set of Lists can be created in 2 Steps:\n",
        "1. Create a List of Sub-lists\n",
        "\n",
        "matrix = []\n",
        "  \n",
        "for i in range(5):\n",
        "      \n",
        "    # Append an empty sublist inside the list\n",
        "    matrix.append([])\n",
        "    for j in range(5):\n",
        "      matrix[i].append(j)\n",
        "      \n",
        "print(matrix)"
      ],
      "metadata": {
        "id": "7GhFHG37Hzj3"
      }
    },
    {
      "cell_type": "code",
      "source": [
        "# 5x5 Matrix\n",
        "\n",
        "matrix = []                       # Create an empty list\n",
        "\n",
        "for i in range(5):                # For 5 rows inset 5 Sub lists using append([]) for range(5)\n",
        "  matrix.append([])               # A matrix (List) is created with i number of sublists  \n",
        "  for j in range(5):              # Feed the number of Columns as j\n",
        "    matrix[i].append(j)           # Fill the values in sublists using .append with values based on j\n",
        "\n",
        "print(matrix)"
      ],
      "metadata": {
        "colab": {
          "base_uri": "https://localhost:8080/"
        },
        "id": "pabQrV6nIDv6",
        "outputId": "41840ef4-d8b5-4559-fb21-c2c7970b4966"
      },
      "execution_count": 99,
      "outputs": [
        {
          "output_type": "stream",
          "name": "stdout",
          "text": [
            "[[0, 1, 2, 3, 4], [0, 1, 2, 3, 4], [0, 1, 2, 3, 4], [0, 1, 2, 3, 4], [0, 1, 2, 3, 4]]\n"
          ]
        }
      ]
    },
    {
      "cell_type": "code",
      "source": [
        "# Method 2\n",
        "matrix = [[j for j in range(5)] for i in range(5)]\n",
        "  \n",
        "print(matrix)\n"
      ],
      "metadata": {
        "colab": {
          "base_uri": "https://localhost:8080/"
        },
        "id": "UnAtSkHmMX5e",
        "outputId": "6f400d1f-1aa7-459e-8139-1b08ee53531b"
      },
      "execution_count": 100,
      "outputs": [
        {
          "output_type": "stream",
          "name": "stdout",
          "text": [
            "[[0, 1, 2, 3, 4], [0, 1, 2, 3, 4], [0, 1, 2, 3, 4], [0, 1, 2, 3, 4], [0, 1, 2, 3, 4]]\n"
          ]
        }
      ]
    },
    {
      "cell_type": "markdown",
      "source": [
        "Output:\n",
        "\n",
        "          [[0, 1, 2, 3, 4],\n",
        "           [0, 1, 2, 3, 4],\n",
        "           [0, 1, 2, 3, 4],\n",
        "           [0, 1, 2, 3, 4],\n",
        "           [0, 1, 2, 3, 4]]"
      ],
      "metadata": {
        "id": "M4QOELxeLwJX"
      }
    },
    {
      "cell_type": "code",
      "source": [
        "# 5x3 Matrix of \"0\"\n",
        "\n",
        "matrix = []                       # Create an empty list\n",
        "\n",
        "for i in range(5):                # For 5 rows inset 5 Sub lists using append([]) for range(5)\n",
        "  matrix.append([])               # A matrix (List) is created with i number of sublists  \n",
        "  for j in range(3):              # Feed the number of Columns as j\n",
        "    matrix[i].append(0)           # Fill the values in sublists using .append with values based on j\n",
        "\n",
        "print(matrix)"
      ],
      "metadata": {
        "colab": {
          "base_uri": "https://localhost:8080/"
        },
        "id": "Up-1c1JlIj4m",
        "outputId": "a74f63e8-7859-4576-d07c-38a3024cd973"
      },
      "execution_count": 101,
      "outputs": [
        {
          "output_type": "stream",
          "name": "stdout",
          "text": [
            "[[0, 0, 0], [0, 0, 0], [0, 0, 0], [0, 0, 0], [0, 0, 0]]\n"
          ]
        }
      ]
    },
    {
      "cell_type": "markdown",
      "source": [
        "Output:\n",
        "        \n",
        "        [[0, 0, 0], \n",
        "        [0, 0, 0], \n",
        "        [0, 0, 0], \n",
        "        [0, 0, 0], \n",
        "        [0, 0, 0]]\n"
      ],
      "metadata": {
        "id": "hd8PZwsMLmQH"
      }
    },
    {
      "cell_type": "code",
      "source": [
        "matrix = []\n",
        "  \n",
        "for i in range(5):\n",
        "      \n",
        "    # Append an empty sublist inside the list\n",
        "    matrix.append([])\n",
        "      \n",
        "    for j in range(5):\n",
        "        matrix[i].append(j)\n",
        "          \n",
        "print(matrix)\n",
        "\n",
        "print(\"=============================================================================\")\n",
        "\n",
        "matrix = [[j for j in range(5)] for i in range(5)]\n",
        "  \n",
        "print(matrix)\n"
      ],
      "metadata": {
        "colab": {
          "base_uri": "https://localhost:8080/"
        },
        "id": "fYEnC-NtybJf",
        "outputId": "3c81ccdc-3587-4ca3-9038-ed58702930c7"
      },
      "execution_count": 102,
      "outputs": [
        {
          "output_type": "stream",
          "name": "stdout",
          "text": [
            "[[0, 1, 2, 3, 4], [0, 1, 2, 3, 4], [0, 1, 2, 3, 4], [0, 1, 2, 3, 4], [0, 1, 2, 3, 4]]\n",
            "=============================================================================\n",
            "[[0, 1, 2, 3, 4], [0, 1, 2, 3, 4], [0, 1, 2, 3, 4], [0, 1, 2, 3, 4], [0, 1, 2, 3, 4]]\n"
          ]
        }
      ]
    },
    {
      "cell_type": "code",
      "source": [
        "matrix = []\n",
        "  \n",
        "for i in range(5):\n",
        "      \n",
        "    # Append an empty sublist inside the list\n",
        "    matrix.append([])\n",
        "    for j in range(5):\n",
        "      matrix[i].append(j)\n",
        "      \n",
        "print(matrix)"
      ],
      "metadata": {
        "colab": {
          "base_uri": "https://localhost:8080/"
        },
        "id": "oSiEOubTGy7T",
        "outputId": "6f0d6446-268e-42c7-de07-89f69f4224f1"
      },
      "execution_count": 103,
      "outputs": [
        {
          "output_type": "stream",
          "name": "stdout",
          "text": [
            "[[0, 1, 2, 3, 4], [0, 1, 2, 3, 4], [0, 1, 2, 3, 4], [0, 1, 2, 3, 4], [0, 1, 2, 3, 4]]\n"
          ]
        }
      ]
    },
    {
      "cell_type": "code",
      "source": [
        "matrix = [[1, 2, 3], [3,4, 5], [6, 7, 8, 9]]\n",
        "  \n",
        "flatten_matrix = []\n",
        "  \n",
        "for sublist in matrix:\n",
        "    for val in sublist:\n",
        "        flatten_matrix.append(val)\n",
        "          \n",
        "print(flatten_matrix)"
      ],
      "metadata": {
        "colab": {
          "base_uri": "https://localhost:8080/"
        },
        "id": "zu_A3eiuHk-_",
        "outputId": "a273171c-f2ac-4f0d-eda4-b3ad1c62a2af"
      },
      "execution_count": 104,
      "outputs": [
        {
          "output_type": "stream",
          "name": "stdout",
          "text": [
            "[1, 2, 3, 3, 4, 5, 6, 7, 8, 9]\n"
          ]
        }
      ]
    },
    {
      "cell_type": "code",
      "source": [
        "# 2-D List\n",
        "matrix = [[1, 2, 3], [4, 5], [6, 7, 8, 9]]\n",
        "\n",
        "# Nested List Comprehension to flatten a given 2-D matrix\n",
        "flatten_matrix = [val for sublist in matrix for val in sublist]\n",
        "\n",
        "print(flatten_matrix)\n"
      ],
      "metadata": {
        "colab": {
          "base_uri": "https://localhost:8080/"
        },
        "id": "2wUz2WZt-b5f",
        "outputId": "ca77dc9d-1dbf-4571-daab-98be04f626a1"
      },
      "execution_count": 105,
      "outputs": [
        {
          "output_type": "stream",
          "name": "stdout",
          "text": [
            "[1, 2, 3, 4, 5, 6, 7, 8, 9]\n"
          ]
        }
      ]
    },
    {
      "cell_type": "code",
      "source": [
        "# 2-D List of planets\n",
        "planets = [['Mercury', 'Venus', 'Earth'], ['Mars', 'Jupiter', 'Saturn'], ['Uranus', 'Neptune', 'Pluto']]\n",
        "\n",
        "flatten_planets = []\n",
        "\n",
        "for sublist in planets:\n",
        "\tfor planet in sublist:\n",
        "\t\t\n",
        "\t\tif len(planet) < 6:\n",
        "\t\t\tflatten_planets.append(planet)\n",
        "\t\t\n",
        "print(flatten_planets)\n"
      ],
      "metadata": {
        "colab": {
          "base_uri": "https://localhost:8080/"
        },
        "id": "T5As5w_dAMZz",
        "outputId": "dcac47ca-fccb-4e04-cc04-a8086a7fa8ed"
      },
      "execution_count": 106,
      "outputs": [
        {
          "output_type": "stream",
          "name": "stdout",
          "text": [
            "['Venus', 'Earth', 'Mars', 'Pluto']\n"
          ]
        }
      ]
    },
    {
      "cell_type": "code",
      "source": [
        ""
      ],
      "metadata": {
        "id": "ethBVJTCAMKa"
      },
      "execution_count": 106,
      "outputs": []
    },
    {
      "cell_type": "code",
      "source": [
        ""
      ],
      "metadata": {
        "id": "Pho5Mv61AL4w"
      },
      "execution_count": 106,
      "outputs": []
    },
    {
      "cell_type": "code",
      "source": [
        ""
      ],
      "metadata": {
        "id": "SbAch-stALtA"
      },
      "execution_count": 106,
      "outputs": []
    },
    {
      "cell_type": "code",
      "source": [
        ""
      ],
      "metadata": {
        "id": "mro1AbV2ALe9"
      },
      "execution_count": 106,
      "outputs": []
    }
  ]
}