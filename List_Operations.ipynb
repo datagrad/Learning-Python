{
  "nbformat": 4,
  "nbformat_minor": 0,
  "metadata": {
    "colab": {
      "name": "List Operations.ipynb",
      "provenance": [],
      "collapsed_sections": [
        "ueLiOUEjFqMD",
        "1OCNrGKYFtqG",
        "6QvcjAnClOO7",
        "ck1_qsaDF2xO",
        "eSOPEv86lSUS",
        "xvpxsQKZlSIU",
        "H0lKpzCclR7I",
        "Ukwh3dAQljQI",
        "x_eSaFu5lmtY",
        "oQreG3wMlpKK",
        "K2TpBn09ltWv",
        "L2BojPaIltGn",
        "ttA-oEy8Guui",
        "bwX5HQcil-Vy",
        "8atFksk6l-Iw",
        "CpVh62AdHBRF",
        "oFS6lj7OmPVO"
      ],
      "toc_visible": true,
      "authorship_tag": "ABX9TyO/gnJnNQA/UMCSo3uH98cj",
      "include_colab_link": true
    },
    "kernelspec": {
      "name": "python3",
      "display_name": "Python 3"
    },
    "language_info": {
      "name": "python"
    }
  },
  "cells": [
    {
      "cell_type": "markdown",
      "metadata": {
        "id": "view-in-github",
        "colab_type": "text"
      },
      "source": [
        "<a href=\"https://colab.research.google.com/github/datagrad/Learning-Python/blob/main/List_Operations.ipynb\" target=\"_parent\"><img src=\"https://colab.research.google.com/assets/colab-badge.svg\" alt=\"Open In Colab\"/></a>"
      ]
    },
    {
      "cell_type": "markdown",
      "source": [
        "# Creating a List\n"
      ],
      "metadata": {
        "id": "ueLiOUEjFqMD"
      }
    },
    {
      "cell_type": "code",
      "execution_count": 1,
      "metadata": {
        "colab": {
          "base_uri": "https://localhost:8080/"
        },
        "id": "mZzm4vLMFN7p",
        "outputId": "dee7cb1a-5472-42f3-d779-b67bd5c4a99c"
      },
      "outputs": [
        {
          "output_type": "stream",
          "name": "stdout",
          "text": [
            "[]\n",
            "===========================================================\n",
            "[10, 20, 14]\n",
            "===========================================================\n",
            "Start\n",
            "Lists\n",
            "===========================================================\n",
            "[['Geeks', 'For'], ['Geeks']]\n"
          ]
        }
      ],
      "source": [
        "# Creating a List\n",
        "List_1 = []\n",
        "print(List_1)\n",
        "\n",
        "print(\"===========================================================\")\n",
        "\n",
        "# Creating a List of numbers\n",
        "List_2 = [10, 20, 14]\n",
        "print(List_2)\n",
        "\n",
        "print(\"===========================================================\")\n",
        "\n",
        "# Creating a List of strings and accessing\n",
        "List_3 = [\"Start\", \"Learning\", \"Lists\"]\n",
        "print(List_3[0])\n",
        "print(List_3[2])\n",
        "\n",
        "print(\"===========================================================\")\n",
        "\n",
        "# Creating a Multi-Dimensional List By Nesting a list inside a List)\n",
        "List_4 = [['Geeks', 'For'], ['Geeks']]\n",
        "print(List_4)\n"
      ]
    },
    {
      "cell_type": "markdown",
      "source": [
        "# Size of List\n"
      ],
      "metadata": {
        "id": "1OCNrGKYFtqG"
      }
    },
    {
      "cell_type": "markdown",
      "source": [
        "## len(List)"
      ],
      "metadata": {
        "id": "6QvcjAnClOO7"
      }
    },
    {
      "cell_type": "code",
      "source": [
        "List= [0,1,2,3,4,5,6,7,8,9]\n",
        "print(List)\n",
        "\n",
        "print(\"Size of List:\",len(List))"
      ],
      "metadata": {
        "colab": {
          "base_uri": "https://localhost:8080/"
        },
        "id": "_XW99vqiF2Kn",
        "outputId": "941ea24e-ae31-4bf2-e7fe-79febf315776"
      },
      "execution_count": 2,
      "outputs": [
        {
          "output_type": "stream",
          "name": "stdout",
          "text": [
            "[0, 1, 2, 3, 4, 5, 6, 7, 8, 9]\n",
            "Size of List: 10\n"
          ]
        }
      ]
    },
    {
      "cell_type": "markdown",
      "source": [
        "# Adding Elements to a List\n",
        "\n"
      ],
      "metadata": {
        "id": "ck1_qsaDF2xO"
      }
    },
    {
      "cell_type": "markdown",
      "source": [
        "## Append()\n",
        "* The term inside bracket will be added as the last term of list."
      ],
      "metadata": {
        "id": "eSOPEv86lSUS"
      }
    },
    {
      "cell_type": "markdown",
      "source": [
        "\n",
        "## insert()\n",
        "* To add an element at a given index of the list"
      ],
      "metadata": {
        "id": "xvpxsQKZlSIU"
      }
    },
    {
      "cell_type": "markdown",
      "source": [
        "\n",
        "## extend()\n",
        "* To add multiple elements at the same time at the end of the list."
      ],
      "metadata": {
        "id": "H0lKpzCclR7I"
      }
    },
    {
      "cell_type": "code",
      "source": [
        "List.append(3)\n",
        "print(\"New term has been added at the end in the list: \",List)"
      ],
      "metadata": {
        "colab": {
          "base_uri": "https://localhost:8080/"
        },
        "id": "1nt7-NXSGHUP",
        "outputId": "cf948ef1-b809-46cf-9dd0-b2393690a012"
      },
      "execution_count": 3,
      "outputs": [
        {
          "output_type": "stream",
          "name": "stdout",
          "text": [
            "New term has been added at the end in the list:  [0, 1, 2, 3, 4, 5, 6, 7, 8, 9, 3]\n"
          ]
        }
      ]
    },
    {
      "cell_type": "code",
      "source": [
        "List.insert(0,99)\n",
        "print(\"New term will be added at the 0th index in the list: \",List)"
      ],
      "metadata": {
        "colab": {
          "base_uri": "https://localhost:8080/"
        },
        "id": "JWkRbVuUQuxR",
        "outputId": "f4d469d9-faba-4372-fe89-2220db97a23c"
      },
      "execution_count": 4,
      "outputs": [
        {
          "output_type": "stream",
          "name": "stdout",
          "text": [
            "New term will be added at the 0th index in the list:  [99, 0, 1, 2, 3, 4, 5, 6, 7, 8, 9, 3]\n"
          ]
        }
      ]
    },
    {
      "cell_type": "code",
      "source": [
        "List.insert(-1,199)\n",
        "print(\"New term will be added at the 0th index in the list: \",List)"
      ],
      "metadata": {
        "colab": {
          "base_uri": "https://localhost:8080/"
        },
        "id": "CkqmLYK-Quff",
        "outputId": "217b2ab1-a03e-429a-a683-7a241b831a73"
      },
      "execution_count": 5,
      "outputs": [
        {
          "output_type": "stream",
          "name": "stdout",
          "text": [
            "New term will be added at the 0th index in the list:  [99, 0, 1, 2, 3, 4, 5, 6, 7, 8, 9, 199, 3]\n"
          ]
        }
      ]
    },
    {
      "cell_type": "code",
      "source": [
        "print(List[0])"
      ],
      "metadata": {
        "colab": {
          "base_uri": "https://localhost:8080/"
        },
        "id": "d5X2KVyASRVG",
        "outputId": "d49704b9-087c-4005-e7bc-50070cd93442"
      },
      "execution_count": 6,
      "outputs": [
        {
          "output_type": "stream",
          "name": "stdout",
          "text": [
            "99\n"
          ]
        }
      ]
    },
    {
      "cell_type": "code",
      "source": [
        "# Extend\n",
        "List = [0,1,2,3,4,5,6,7,8,9]\n",
        "List.extend([\"a\",\"bcd\",\"efg\",\"hi\",\"JK\",\"L\"])\n",
        "print(List)\n",
        "\n",
        "# Add a list inside (), and the terms will be added to List "
      ],
      "metadata": {
        "colab": {
          "base_uri": "https://localhost:8080/"
        },
        "id": "RaAxKhhQdD2g",
        "outputId": "7d98f413-a88b-4674-a5ed-fa251f3ecc68"
      },
      "execution_count": 7,
      "outputs": [
        {
          "output_type": "stream",
          "name": "stdout",
          "text": [
            "[0, 1, 2, 3, 4, 5, 6, 7, 8, 9, 'a', 'bcd', 'efg', 'hi', 'JK', 'L']\n"
          ]
        }
      ]
    },
    {
      "cell_type": "markdown",
      "source": [
        "# Accessing elements from the List\n",
        "* List[n-1]\n",
        "* List[-m]"
      ],
      "metadata": {
        "id": "6mFTa2B_GGtM"
      }
    },
    {
      "cell_type": "markdown",
      "source": [
        "### List[n]"
      ],
      "metadata": {
        "id": "Ukwh3dAQljQI"
      }
    },
    {
      "cell_type": "markdown",
      "source": [
        "### List[-n]"
      ],
      "metadata": {
        "id": "x_eSaFu5lmtY"
      }
    },
    {
      "cell_type": "markdown",
      "source": [
        "### List[n:]"
      ],
      "metadata": {
        "id": "oQreG3wMlpKK"
      }
    },
    {
      "cell_type": "markdown",
      "source": [
        "### List[:m]"
      ],
      "metadata": {
        "id": "K2TpBn09ltWv"
      }
    },
    {
      "cell_type": "markdown",
      "source": [
        "### List[n:m]"
      ],
      "metadata": {
        "id": "L2BojPaIltGn"
      }
    },
    {
      "cell_type": "markdown",
      "source": [
        "### List[-m:-n]"
      ],
      "metadata": {
        "id": "d1LHrAcglsmA"
      }
    },
    {
      "cell_type": "markdown",
      "source": [
        "###  List[a : b : c]\n",
        "* a is first term of list\n",
        "* b-1 can be the last term of list if satisfies the condition\n",
        "* c is the step size\n",
        "\n",
        "For Example:\n",
        "* List[1 : 17 : 2]:\n",
        "  * 1 can be the first term of list if condition is satisfied*\n",
        "  * 16 will be the last term of the list if condition is satisfied*\n",
        "  * 2 will be the step size"
      ],
      "metadata": {
        "id": "5HxarY8et_F-"
      }
    },
    {
      "cell_type": "code",
      "source": [
        "List = list(range(0,21))\n",
        "#  below list has numbers from 2 to 8 in step 2\n",
        "List_1_17_2 = List[1 : 17 : 2]\n",
        "print (List_1_17_2)\n",
        "\n",
        "\n",
        "List_1_18_2 = List[1 : 18 : 2]\n",
        "print (List_1_18_2)\n"
      ],
      "metadata": {
        "colab": {
          "base_uri": "https://localhost:8080/"
        },
        "id": "9iWDYy07uHBV",
        "outputId": "1c2151ac-d314-4e56-effa-5092398170c7"
      },
      "execution_count": 8,
      "outputs": [
        {
          "output_type": "stream",
          "name": "stdout",
          "text": [
            "[1, 3, 5, 7, 9, 11, 13, 15]\n",
            "[1, 3, 5, 7, 9, 11, 13, 15, 17]\n"
          ]
        }
      ]
    },
    {
      "cell_type": "code",
      "source": [
        "List = list(range(0,21))\n",
        "\n",
        "List_1 = List[1 : 17 : 5]    # Here 16 is last term and satisfies the step size of 5 condition\n",
        "print (\"List[1 : 17 : 5] =>  \",List_1)\n",
        "\n",
        "print(\"\")\n",
        "print(\"\")\n",
        "\n",
        "\n",
        "List_2 = List[4 : 17 : 5]    # Here 16 is last term but doesn't satisfies the step size of 5 condition\n",
        "print (\"List[4 : 17 : 5] =>  \",List_2)\n",
        "\n",
        "print(\"\")\n",
        "print(\"\")\n",
        "\n",
        "\n",
        "List_3 = List[ :  : -1]\n",
        "print (\"List[ :  : -1] =>  \",List_3)\n",
        "\n",
        "print(\"\")\n",
        "print(\"\")\n",
        "\n",
        "List_4 = List[ 7: 14 : -4]   # Returns empty list as the -4 indicates a reverse list, while 7 to 14 is towards increasing sequence\n",
        "print (\"List[ 7: 14 : -4] =>  \",List_4)\n",
        "\n",
        "print(\"\")\n",
        "print(\"\")\n",
        "\n",
        "List_5 = List[ : : -4]   # Returns empty list as the -4 indicates a reverse list, while 7 to 14 is towards increasing sequence\n",
        "print (\"List[ : : -4] =>  \",List_5)\n"
      ],
      "metadata": {
        "colab": {
          "base_uri": "https://localhost:8080/"
        },
        "id": "bmUkpiPIvQki",
        "outputId": "c3896848-afe9-4dcf-e0eb-db748e4080a6"
      },
      "execution_count": 9,
      "outputs": [
        {
          "output_type": "stream",
          "name": "stdout",
          "text": [
            "List[1 : 17 : 5] =>   [1, 6, 11, 16]\n",
            "\n",
            "\n",
            "List[4 : 17 : 5] =>   [4, 9, 14]\n",
            "\n",
            "\n",
            "List[ :  : -1] =>   [20, 19, 18, 17, 16, 15, 14, 13, 12, 11, 10, 9, 8, 7, 6, 5, 4, 3, 2, 1, 0]\n",
            "\n",
            "\n",
            "List[ 7: 14 : -4] =>   []\n",
            "\n",
            "\n",
            "List[ : : -4] =>   [20, 16, 12, 8, 4, 0]\n"
          ]
        }
      ]
    },
    {
      "cell_type": "code",
      "source": [
        "List= [0,1,2,3,4,5,6,7,8,9]\n",
        "\n",
        "\n",
        "print(List)\n",
        "print (\"========================================================================\")\n",
        "print(\"0th element: \",List[0])\n",
        "print(\"1st element: \",List[1])\n",
        "print(\"2nd element: \",List[2])\n",
        "print(\"Last element: \",List[-1])\n",
        "print(\"3rd element from end: \",List[-3])\n"
      ],
      "metadata": {
        "colab": {
          "base_uri": "https://localhost:8080/"
        },
        "id": "MhA5eNBiGNX3",
        "outputId": "ae7fd336-3b24-434d-8dd2-c09661f228e6"
      },
      "execution_count": 10,
      "outputs": [
        {
          "output_type": "stream",
          "name": "stdout",
          "text": [
            "[0, 1, 2, 3, 4, 5, 6, 7, 8, 9]\n",
            "========================================================================\n",
            "0th element:  0\n",
            "1st element:  1\n",
            "2nd element:  2\n",
            "Last element:  9\n",
            "3rd element from end:  7\n"
          ]
        }
      ]
    },
    {
      "cell_type": "markdown",
      "source": [
        "# Removing Elements from list\n",
        "\n"
      ],
      "metadata": {
        "id": "ttA-oEy8Guui"
      }
    },
    {
      "cell_type": "markdown",
      "source": [
        "### remove()\n",
        "* Removes the term mentioned inside bracket.\n"
      ],
      "metadata": {
        "id": "bwX5HQcil-Vy"
      }
    },
    {
      "cell_type": "markdown",
      "source": [
        "### pop()\n",
        "* Removes the term based on index"
      ],
      "metadata": {
        "id": "8atFksk6l-Iw"
      }
    },
    {
      "cell_type": "code",
      "source": [
        "List = [\"a\",\"bcd\",\"efg\",\"hi\",\"JK\",\"L\"]\n",
        "#List.remove(1)\n",
        "print(List.pop())\n",
        "print(List.pop(1))"
      ],
      "metadata": {
        "colab": {
          "base_uri": "https://localhost:8080/"
        },
        "id": "wzJJFOulejQL",
        "outputId": "8c31db79-8669-446d-c412-6dfb911f3e0e"
      },
      "execution_count": 11,
      "outputs": [
        {
          "output_type": "stream",
          "name": "stdout",
          "text": [
            "L\n",
            "bcd\n"
          ]
        }
      ]
    },
    {
      "cell_type": "code",
      "source": [
        "List = [2,4,6,7,\"a\",\"bcd\",\"efg\",\"hi\",\"JK\",\"L\"]\n",
        "List.remove(7)\n",
        "print(List)"
      ],
      "metadata": {
        "colab": {
          "base_uri": "https://localhost:8080/"
        },
        "id": "SFYQ8gx6GrrD",
        "outputId": "64474934-5d33-4196-b52c-558984d44dad"
      },
      "execution_count": 12,
      "outputs": [
        {
          "output_type": "stream",
          "name": "stdout",
          "text": [
            "[2, 4, 6, 'a', 'bcd', 'efg', 'hi', 'JK', 'L']\n"
          ]
        }
      ]
    },
    {
      "cell_type": "code",
      "source": [
        "List = [\"a\",\"bcd\",\"efg\",\"hi\",\"JK\",\"L\"]\n",
        "print(List.pop(1))\n",
        "print(List)\n"
      ],
      "metadata": {
        "colab": {
          "base_uri": "https://localhost:8080/"
        },
        "id": "Gsn-ZCLXUVCV",
        "outputId": "5898483a-4f35-4235-a6e4-bf1a50c44f32"
      },
      "execution_count": 13,
      "outputs": [
        {
          "output_type": "stream",
          "name": "stdout",
          "text": [
            "bcd\n",
            "['a', 'efg', 'hi', 'JK', 'L']\n"
          ]
        }
      ]
    },
    {
      "cell_type": "code",
      "source": [
        "List.pop(0)\n",
        "print(List)"
      ],
      "metadata": {
        "colab": {
          "base_uri": "https://localhost:8080/"
        },
        "id": "uIQE7rDqUkSz",
        "outputId": "2fcdb70a-888f-494d-d256-c54559fd1ee3"
      },
      "execution_count": 14,
      "outputs": [
        {
          "output_type": "stream",
          "name": "stdout",
          "text": [
            "['efg', 'hi', 'JK', 'L']\n"
          ]
        }
      ]
    },
    {
      "cell_type": "code",
      "source": [
        "List1 = [9,8,7,6,5,4,3,2,1,0]\n",
        "List2 = [9,8,7,6,5,4,3,2,1,0]\n",
        "\n",
        "List1.remove(1)\n",
        "print(\"Removes the term 1 from the list: \", List1)\n",
        "\n",
        "List2.pop(1)\n",
        "print(\"Removes the term which is on 1st in the list: \",List2)\n"
      ],
      "metadata": {
        "colab": {
          "base_uri": "https://localhost:8080/"
        },
        "id": "h-B-0ovUUrZy",
        "outputId": "2ffe37da-3382-4e49-9812-928f7efe8748"
      },
      "execution_count": 15,
      "outputs": [
        {
          "output_type": "stream",
          "name": "stdout",
          "text": [
            "Removes the term 1 from the list:  [9, 8, 7, 6, 5, 4, 3, 2, 0]\n",
            "Removes the term which is on 1st in the list:  [9, 7, 6, 5, 4, 3, 2, 1, 0]\n"
          ]
        }
      ]
    },
    {
      "cell_type": "markdown",
      "source": [
        "# Slicing of list\n",
        "* List[a:b]  =>  ath term is inclusive, bth term is exclusive.\n",
        "* List[a:]\n",
        "* List[:b]"
      ],
      "metadata": {
        "id": "CpVh62AdHBRF"
      }
    },
    {
      "cell_type": "markdown",
      "source": [
        "## List[a:b]"
      ],
      "metadata": {
        "id": "oFS6lj7OmPVO"
      }
    },
    {
      "cell_type": "code",
      "source": [
        "List= [0,1,2,3,4,5,6,7,8,9]\n",
        "print(List[1:6])\n",
        "# O/P: items on 1st index to 5th index"
      ],
      "metadata": {
        "colab": {
          "base_uri": "https://localhost:8080/"
        },
        "id": "AUCmrC9iHp0n",
        "outputId": "fec9eb34-d6ed-4bd9-b560-1d3909d05875"
      },
      "execution_count": 16,
      "outputs": [
        {
          "output_type": "stream",
          "name": "stdout",
          "text": [
            "[1, 2, 3, 4, 5]\n"
          ]
        }
      ]
    },
    {
      "cell_type": "code",
      "source": [
        "List= [0,1,2,3,4,5,6,7,8,9]\n",
        "print(List[1:])\n",
        "# O/P: items on 1st index to after that"
      ],
      "metadata": {
        "colab": {
          "base_uri": "https://localhost:8080/"
        },
        "id": "8U8hNGijVjwf",
        "outputId": "0e3aaf1c-62f1-4b9b-efb5-f6ab758c2c6f"
      },
      "execution_count": 17,
      "outputs": [
        {
          "output_type": "stream",
          "name": "stdout",
          "text": [
            "[1, 2, 3, 4, 5, 6, 7, 8, 9]\n"
          ]
        }
      ]
    },
    {
      "cell_type": "code",
      "source": [
        "List= [0,1,2,3,4,5,6,7,8,9]\n",
        "print(List[:6])\n",
        "# O/P: items before 6th index"
      ],
      "metadata": {
        "colab": {
          "base_uri": "https://localhost:8080/"
        },
        "id": "_fUIH0VYVjnV",
        "outputId": "c9cd77ed-16e0-4d74-ae35-c0569ee2c8b8"
      },
      "execution_count": 18,
      "outputs": [
        {
          "output_type": "stream",
          "name": "stdout",
          "text": [
            "[0, 1, 2, 3, 4, 5]\n"
          ]
        }
      ]
    },
    {
      "cell_type": "code",
      "source": [
        "List= [0,1,2,3,4,5,6,7,8,9]\n",
        "print(List[-1])\n",
        "# O/P: items on the last index"
      ],
      "metadata": {
        "colab": {
          "base_uri": "https://localhost:8080/"
        },
        "id": "7894iGQXWcsK",
        "outputId": "3b1af123-dd7e-4edd-ec06-69d0cd6de0e6"
      },
      "execution_count": 19,
      "outputs": [
        {
          "output_type": "stream",
          "name": "stdout",
          "text": [
            "9\n"
          ]
        }
      ]
    },
    {
      "cell_type": "code",
      "source": [
        "List= [0,1,2,3,4,5,6,7,8,9]\n",
        "print(List[-5:-1])\n",
        "# O/P: items on -5th index to -2nd index"
      ],
      "metadata": {
        "colab": {
          "base_uri": "https://localhost:8080/"
        },
        "id": "PJDZZyIQVjbW",
        "outputId": "62c8029b-6fc9-41be-93b0-2809e3a36d7c"
      },
      "execution_count": 20,
      "outputs": [
        {
          "output_type": "stream",
          "name": "stdout",
          "text": [
            "[5, 6, 7, 8]\n"
          ]
        }
      ]
    },
    {
      "cell_type": "code",
      "source": [
        "List= [0,1,2,3,4,5,6,7,8,9]\n",
        "print(List[:-1])\n",
        "# O/P: items on -5th index to -2nd index"
      ],
      "metadata": {
        "colab": {
          "base_uri": "https://localhost:8080/"
        },
        "id": "uO9a_UgNWV-I",
        "outputId": "235821ac-3a02-46fd-f822-e4a3063fb558"
      },
      "execution_count": 21,
      "outputs": [
        {
          "output_type": "stream",
          "name": "stdout",
          "text": [
            "[0, 1, 2, 3, 4, 5, 6, 7, 8]\n"
          ]
        }
      ]
    },
    {
      "cell_type": "code",
      "source": [
        "List= [0,1,2,3,4,5,6,7,8,9]\n",
        "print(List[-7:])\n",
        "# O/P: items on -5th index to -2nd index"
      ],
      "metadata": {
        "colab": {
          "base_uri": "https://localhost:8080/"
        },
        "id": "5AsTqyXmbmkU",
        "outputId": "b4827571-f9dd-49d6-9ed6-5f15b91a2757"
      },
      "execution_count": 22,
      "outputs": [
        {
          "output_type": "stream",
          "name": "stdout",
          "text": [
            "[3, 4, 5, 6, 7, 8, 9]\n"
          ]
        }
      ]
    },
    {
      "cell_type": "markdown",
      "source": [
        "# List Comprehension\n",
        "* List comprehensions are used for creating new lists from other iterables like tuples, strings, arrays, lists, etc.\n",
        "* A list comprehension consists of brackets containing the expression, which is executed for each element along with the for loop to iterate over each element. "
      ],
      "metadata": {
        "id": "UFwC87vGHqyk"
      }
    },
    {
      "cell_type": "markdown",
      "source": [
        "#### Steps\n",
        "\n",
        "* Create the empty List\n",
        "* Write the input condition \n",
        "* Pull the required data from input\n",
        "* Check with Operation, if condition is satisfiedm then append to list using .append()\n",
        "* print (List)"
      ],
      "metadata": {
        "id": "Rv9Re2eiqV0V"
      }
    },
    {
      "cell_type": "code",
      "source": [
        "# Creating a List based on expression\n",
        "odd_square = [x ** 2 for x in range(1, 11) if x % 2 == 1]\n",
        "print(odd_square)\n",
        "\n",
        "#O/P : creates a list of squares of all odd number in (1,11)"
      ],
      "metadata": {
        "colab": {
          "base_uri": "https://localhost:8080/"
        },
        "id": "MZBqYBrrmce2",
        "outputId": "c9651e0c-3106-4d1f-faf6-da56e0f028b3"
      },
      "execution_count": 23,
      "outputs": [
        {
          "output_type": "stream",
          "name": "stdout",
          "text": [
            "[1, 9, 25, 49, 81]\n"
          ]
        }
      ]
    },
    {
      "cell_type": "code",
      "source": [
        "# Detailed Approach\n",
        "odd_square = []                        # Create the empty List\n",
        "for x in range(1, 11):                 # Write the input condition \n",
        "    if x % 2 == 1:                     # Pull the required data from input\n",
        "        odd_square.append(x**2)        # Operation is x**2 and then append to list using .append()\n",
        "print (odd_square)                     # print the output"
      ],
      "metadata": {
        "colab": {
          "base_uri": "https://localhost:8080/"
        },
        "id": "Xtg-A_QdpH2M",
        "outputId": "12b27279-a58e-4156-9a83-409fb67899ea"
      },
      "execution_count": 24,
      "outputs": [
        {
          "output_type": "stream",
          "name": "stdout",
          "text": [
            "[1, 9, 25, 49, 81]\n"
          ]
        }
      ]
    },
    {
      "cell_type": "code",
      "source": [
        "# Print the list of terms which are divisible by 3 in (1,37)\n",
        "\n",
        "List = []\n",
        "for x in range(1,37):\n",
        "  if x%3 == 0:\n",
        "    List.append(x)\n",
        "\n",
        "print(List)"
      ],
      "metadata": {
        "colab": {
          "base_uri": "https://localhost:8080/"
        },
        "id": "zfLtES2ZpvNF",
        "outputId": "2b31f7a1-b7d7-4e66-8863-09f29f39ae95"
      },
      "execution_count": 25,
      "outputs": [
        {
          "output_type": "stream",
          "name": "stdout",
          "text": [
            "[3, 6, 9, 12, 15, 18, 21, 24, 27, 30, 33, 36]\n"
          ]
        }
      ]
    },
    {
      "cell_type": "code",
      "source": [
        "List = [\"A\",\"B\",\"C\",\"D\",\"E\",\"F\",\"G\"]\n",
        "\n",
        "List_Low = []\n",
        "for x in List:\n",
        "  List_Low.append(x.lower())\n",
        "\n",
        "print(List_Low)\n",
        "\n",
        "List_Up = []\n",
        "for y in List_Low:\n",
        "  List_Up.append(y.upper())\n",
        "print(List_Up)"
      ],
      "metadata": {
        "colab": {
          "base_uri": "https://localhost:8080/"
        },
        "id": "aPBkEiJ8q3FB",
        "outputId": "79693805-4cee-4411-cde4-6e58286d75a7"
      },
      "execution_count": 26,
      "outputs": [
        {
          "output_type": "stream",
          "name": "stdout",
          "text": [
            "['a', 'b', 'c', 'd', 'e', 'f', 'g']\n",
            "['A', 'B', 'C', 'D', 'E', 'F', 'G']\n"
          ]
        }
      ]
    },
    {
      "cell_type": "code",
      "source": [
        "string = \"my phone number is : 11122 !!\"\n",
        "   \n",
        "\n",
        "numbers = [x for x in string] \n",
        "print (numbers) "
      ],
      "metadata": {
        "colab": {
          "base_uri": "https://localhost:8080/"
        },
        "id": "ZNBbEQ4psFGk",
        "outputId": "00ae2c1c-eb29-45a9-8359-6e02ee11eb90"
      },
      "execution_count": 27,
      "outputs": [
        {
          "output_type": "stream",
          "name": "stdout",
          "text": [
            "['m', 'y', ' ', 'p', 'h', 'o', 'n', 'e', ' ', 'n', 'u', 'm', 'b', 'e', 'r', ' ', 'i', 's', ' ', ':', ' ', '1', '1', '1', '2', '2', ' ', '!', '!']\n"
          ]
        }
      ]
    },
    {
      "cell_type": "code",
      "source": [
        "string = \"my phone number is : 11122 !!\"\n",
        "   \n",
        "print(\"\\nExtracted digits\") \n",
        "numbers = [x for x in string if x.isdigit()] \n",
        "print (numbers) "
      ],
      "metadata": {
        "colab": {
          "base_uri": "https://localhost:8080/"
        },
        "id": "eVdizJSzr72C",
        "outputId": "e23500c9-1fc7-41f1-b37f-6614b8ad1c2c"
      },
      "execution_count": 28,
      "outputs": [
        {
          "output_type": "stream",
          "name": "stdout",
          "text": [
            "\n",
            "Extracted digits\n",
            "['1', '1', '1', '2', '2']\n"
          ]
        }
      ]
    },
    {
      "cell_type": "code",
      "source": [
        "# A list of list for multiplication table \n",
        "a = int(input())\n",
        "table = [[a, b, a * b] for b in range(1, 11)] \n",
        "   \n",
        "print(\"\\nMultiplication Table\") \n",
        "for i in table: \n",
        "    print (i)"
      ],
      "metadata": {
        "colab": {
          "base_uri": "https://localhost:8080/"
        },
        "id": "3ounC3NNsWlY",
        "outputId": "d8abbfb5-20be-4ff6-e900-27ab31ef2385"
      },
      "execution_count": 29,
      "outputs": [
        {
          "output_type": "stream",
          "name": "stdout",
          "text": [
            "8\n",
            "\n",
            "Multiplication Table\n",
            "[8, 1, 8]\n",
            "[8, 2, 16]\n",
            "[8, 3, 24]\n",
            "[8, 4, 32]\n",
            "[8, 5, 40]\n",
            "[8, 6, 48]\n",
            "[8, 7, 56]\n",
            "[8, 8, 64]\n",
            "[8, 9, 72]\n",
            "[8, 10, 80]\n"
          ]
        }
      ]
    },
    {
      "cell_type": "code",
      "source": [
        "# Take input as an Integer and write the table\n",
        "List=[]\n",
        "b = int(input())\n",
        "\n",
        "for i in range(1,10):\n",
        "  List.append(i*b)\n",
        "print(List)"
      ],
      "metadata": {
        "colab": {
          "base_uri": "https://localhost:8080/"
        },
        "id": "_YZVVHKPsvRk",
        "outputId": "a89af260-201c-4e5f-9aeb-6a39be439b5a"
      },
      "execution_count": 30,
      "outputs": [
        {
          "output_type": "stream",
          "name": "stdout",
          "text": [
            "9\n",
            "[9, 18, 27, 36, 45, 54, 63, 72, 81]\n"
          ]
        }
      ]
    },
    {
      "cell_type": "markdown",
      "source": [
        "\n",
        "# List Functions\t& Description\n",
        "\n",
        "\n",
        "\n",
        "---\n",
        "\n",
        "\n",
        "* Append()\n",
        "    * Adds an element to the end of the list\n",
        "---\n",
        "\n",
        "* Extend()\n",
        "    * Add all elements of a list to another list\n",
        "\n",
        "---\n",
        "\n",
        "* Insert()\n",
        "    * Insert an item at the defined index\n",
        "\n",
        "---\n",
        "\n",
        "* Remove()\n",
        "    * Removes an item from the list\n",
        "\n",
        "---\n",
        "\n",
        "* Pop()\n",
        "    * Removes and returns an element at the given index\n",
        "\n",
        "---\n",
        "\n",
        "* Clear()\n",
        "    * Removes all items from the list\n",
        "\n",
        "---\n",
        "\n",
        "* Index()\n",
        "    * Returns the index of the first matched item\n",
        "\n",
        "---\n",
        "\n",
        "* Count()\n",
        "    * Returns the count of the number of items passed as an argument\n",
        "\n",
        "---\n",
        "\n",
        "* Sort()\n",
        "    * Sort items in a list in ascending order\n",
        "\n",
        "---\n",
        "\n",
        "* Reverse()\n",
        "    * Reverse the order of items in the list\n",
        "\n",
        "---\n",
        "\n",
        "* copy()\n",
        "    * Returns a copy of the list\n",
        "\n",
        "---"
      ],
      "metadata": {
        "id": "2S2TJgN-H1Ea"
      }
    },
    {
      "cell_type": "code",
      "source": [
        ""
      ],
      "metadata": {
        "id": "GAGZTdhaH0ag"
      },
      "execution_count": 30,
      "outputs": []
    },
    {
      "cell_type": "code",
      "source": [
        ""
      ],
      "metadata": {
        "id": "GbLeDlANH0PU"
      },
      "execution_count": 30,
      "outputs": []
    },
    {
      "cell_type": "code",
      "source": [
        ""
      ],
      "metadata": {
        "id": "81ZQvcsfHz_p"
      },
      "execution_count": 30,
      "outputs": []
    },
    {
      "cell_type": "markdown",
      "source": [
        "# Create list using Lambda Functions "
      ],
      "metadata": {
        "id": "ahgCTPHgyAU4"
      }
    },
    {
      "cell_type": "code",
      "source": [
        "# filtering odd numbers\n",
        "\n",
        "\n",
        "lst = filter(lambda x : x % 2 == 1, range(1, 20))           # Using Lambda Function\n",
        "print (list(lst))\n",
        "\n",
        "List=[]                                                     # Using Loop and append\n",
        "for x in range(1,20):                                       \n",
        "  if x % 2 == 1:\n",
        "    List.append(x)\n",
        "print(List)\n",
        "\n"
      ],
      "metadata": {
        "colab": {
          "base_uri": "https://localhost:8080/"
        },
        "id": "dLuC6UNByHpF",
        "outputId": "abf60ff5-7bd8-406e-f213-647148745fbb"
      },
      "execution_count": 44,
      "outputs": [
        {
          "output_type": "stream",
          "name": "stdout",
          "text": [
            "[1, 3, 5, 7, 9, 11, 13, 15, 17, 19]\n",
            "[1, 3, 5, 7, 9, 11, 13, 15, 17, 19]\n"
          ]
        }
      ]
    },
    {
      "cell_type": "code",
      "source": [
        "# filtering odd square which are divisible by 5\n",
        "List = []\n",
        "\n",
        "for x in range(1,11):\n",
        "  if x%2 == 1:\n",
        "    if (x**2)%5 == 0:\n",
        "      List.append(x**2)\n",
        "print(List)\n",
        "\n",
        "\n",
        "lst = filter(lambda x : x % 5 == 0,\n",
        "\t[x ** 2 for x in range(1, 11) if x % 2 == 1])\n",
        "print (list(lst))\n",
        "\t"
      ],
      "metadata": {
        "colab": {
          "base_uri": "https://localhost:8080/"
        },
        "id": "mQ25A-hmzaxO",
        "outputId": "9043874b-c430-4528-bf48-521e2a7f105b"
      },
      "execution_count": 41,
      "outputs": [
        {
          "output_type": "stream",
          "name": "stdout",
          "text": [
            "[25]\n",
            "[25]\n",
            "[-5, -4, -3, -2, -1]\n"
          ]
        }
      ]
    },
    {
      "cell_type": "code",
      "source": [
        "# filtering negative numbers\n",
        "List = []\n",
        "for x in range(-5,5):\n",
        "  if x<0:\n",
        "    List.append(x)\n",
        "print(List)\n",
        "\n",
        "\n",
        "lst = filter((lambda x: x < 0), range(-5,5))\n",
        "print (list(lst))\n",
        "\t\n"
      ],
      "metadata": {
        "colab": {
          "base_uri": "https://localhost:8080/"
        },
        "id": "l7ZdDdyL0lBD",
        "outputId": "6699dc4a-8686-42f6-96c6-e5607316537a"
      },
      "execution_count": 43,
      "outputs": [
        {
          "output_type": "stream",
          "name": "stdout",
          "text": [
            "[-5, -4, -3, -2, -1]\n",
            "[-5, -4, -3, -2, -1]\n"
          ]
        }
      ]
    },
    {
      "cell_type": "code",
      "source": [
        "import functools\n",
        "# implementing max() function, using\n",
        "print (functools.reduce(lambda a,b: a if (a > b) else b, [7, 12, 45, 100, 15]))\n"
      ],
      "metadata": {
        "colab": {
          "base_uri": "https://localhost:8080/"
        },
        "id": "fYEnC-NtybJf",
        "outputId": "9ed8a222-b9cc-46cf-ebc6-b8f6cef02537"
      },
      "execution_count": 33,
      "outputs": [
        {
          "output_type": "stream",
          "name": "stdout",
          "text": [
            "100\n"
          ]
        }
      ]
    }
  ]
}