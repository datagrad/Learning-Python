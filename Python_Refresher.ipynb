{
  "nbformat": 4,
  "nbformat_minor": 0,
  "metadata": {
    "colab": {
      "name": "Python Refresher.ipynb",
      "provenance": [],
      "collapsed_sections": [],
      "authorship_tag": "ABX9TyOoc1rOXPkupcsED6hcd1ax",
      "include_colab_link": true
    },
    "kernelspec": {
      "name": "python3",
      "display_name": "Python 3"
    },
    "language_info": {
      "name": "python"
    }
  },
  "cells": [
    {
      "cell_type": "markdown",
      "metadata": {
        "id": "view-in-github",
        "colab_type": "text"
      },
      "source": [
        "<a href=\"https://colab.research.google.com/github/datagrad/Learning-Python/blob/main/Python_Refresher.ipynb\" target=\"_parent\"><img src=\"https://colab.research.google.com/assets/colab-badge.svg\" alt=\"Open In Colab\"/></a>"
      ]
    },
    {
      "cell_type": "markdown",
      "metadata": {
        "id": "17imxU0enC0l"
      },
      "source": [
        "#Print"
      ]
    },
    {
      "cell_type": "code",
      "metadata": {
        "colab": {
          "base_uri": "https://localhost:8080/"
        },
        "id": "F6vtV-dXnAqP",
        "outputId": "c65f0248-47c3-4cba-f12b-f6ce83e5d362"
      },
      "source": [
        "print(\"Hi Folks!\")\n",
        "print(\"Welcome to DataGrad\")\n",
        "print(\"I am Kamal Kumar\")\n",
        "print(\"And with this you have completed your first set of Python Coding\")\n",
        "print(\"Congratulations!\")"
      ],
      "execution_count": null,
      "outputs": [
        {
          "output_type": "stream",
          "text": [
            "Hi Folks!\n",
            "Welcome to DataGrad\n",
            "I am Kamal Kumar\n",
            "And with this you have completed your first set of Python Coding\n",
            "Congratulations!\n"
          ],
          "name": "stdout"
        }
      ]
    },
    {
      "cell_type": "code",
      "metadata": {
        "colab": {
          "base_uri": "https://localhost:8080/"
        },
        "id": "BQhwDLyvvAfL",
        "outputId": "db1e8d3c-039c-43d6-9717-adbbcfb23a6f"
      },
      "source": [
        "print('''Hi heveryone,\n",
        "\n",
        "How are you doing?\n",
        "\n",
        "It has been quite a long time since we met over a coffee!\n",
        "\n",
        "''')"
      ],
      "execution_count": null,
      "outputs": [
        {
          "output_type": "stream",
          "text": [
            "Hi heveryone,\n",
            "\n",
            "How are you doing?\n",
            "\n",
            "It has been quite a long time since we met over a coffee!\n",
            "\n",
            "\n"
          ],
          "name": "stdout"
        }
      ]
    },
    {
      "cell_type": "code",
      "metadata": {
        "colab": {
          "base_uri": "https://localhost:8080/"
        },
        "id": "as4gD_WKukMr",
        "outputId": "70d156af-e217-4bf3-d57a-447e557ac680"
      },
      "source": [
        "email = '''\n",
        "Hi Kamal,\n",
        "\n",
        "Thanks for getting started with python!\n",
        "We look forward to an amazing coding experience.\n",
        "\n",
        "\n",
        "Thank You,\n",
        "Python support team\n",
        "\n",
        "'''\n",
        "\n",
        "print(email)"
      ],
      "execution_count": null,
      "outputs": [
        {
          "output_type": "stream",
          "text": [
            "\n",
            "Hi Kamal,\n",
            "\n",
            "Thanks for getting started with python!\n",
            "We look forward to an amazing coding experience.\n",
            "\n",
            "\n",
            "Thank You,\n",
            "Python support team\n",
            "\n",
            "\n"
          ],
          "name": "stdout"
        }
      ]
    },
    {
      "cell_type": "code",
      "metadata": {
        "colab": {
          "base_uri": "https://localhost:8080/"
        },
        "id": "OHvhqgqUnh8A",
        "outputId": "22175b81-7a6e-403d-f67b-044d68a60fec"
      },
      "source": [
        "print(\"10\")"
      ],
      "execution_count": null,
      "outputs": [
        {
          "output_type": "stream",
          "text": [
            "10\n"
          ],
          "name": "stdout"
        }
      ]
    },
    {
      "cell_type": "code",
      "metadata": {
        "colab": {
          "base_uri": "https://localhost:8080/"
        },
        "id": "iRQ5yXHPnh_Z",
        "outputId": "24ac73de-498d-4a36-b74d-81992f37110c"
      },
      "source": [
        "print(\"10\"*7)"
      ],
      "execution_count": null,
      "outputs": [
        {
          "output_type": "stream",
          "text": [
            "10101010101010\n"
          ],
          "name": "stdout"
        }
      ]
    },
    {
      "cell_type": "code",
      "metadata": {
        "colab": {
          "base_uri": "https://localhost:8080/"
        },
        "id": "yWfoPN9AniCT",
        "outputId": "6eb8e5ad-a3a0-42e6-fcab-1ab52c1003e4"
      },
      "source": [
        "print(\"_10\"*7)"
      ],
      "execution_count": null,
      "outputs": [
        {
          "output_type": "stream",
          "text": [
            "_10_10_10_10_10_10_10\n"
          ],
          "name": "stdout"
        }
      ]
    },
    {
      "cell_type": "code",
      "metadata": {
        "colab": {
          "base_uri": "https://localhost:8080/"
        },
        "id": "HBUflyu9niEp",
        "outputId": "aa5f57f8-79bb-479e-bf7a-f1a364e589d8"
      },
      "source": [
        "print(\"_Hello_\"*7)"
      ],
      "execution_count": null,
      "outputs": [
        {
          "output_type": "stream",
          "text": [
            "_Hello__Hello__Hello__Hello__Hello__Hello__Hello_\n"
          ],
          "name": "stdout"
        }
      ]
    },
    {
      "cell_type": "markdown",
      "metadata": {
        "id": "1N21qAB6n3Gk"
      },
      "source": [
        "#Variables"
      ]
    },
    {
      "cell_type": "code",
      "metadata": {
        "colab": {
          "base_uri": "https://localhost:8080/"
        },
        "id": "UT2jXI5kn0kO",
        "outputId": "ed36a033-8b73-4796-cc69-4c982cd640d6"
      },
      "source": [
        "Age = 10\n",
        "print (Age)"
      ],
      "execution_count": null,
      "outputs": [
        {
          "output_type": "stream",
          "text": [
            "10\n"
          ],
          "name": "stdout"
        }
      ]
    },
    {
      "cell_type": "code",
      "metadata": {
        "colab": {
          "base_uri": "https://localhost:8080/"
        },
        "id": "-EmLnNTwoakz",
        "outputId": "807fd8e9-ab0f-4107-8635-808d2486f752"
      },
      "source": [
        "print (Age) #Takes as Variable\n",
        "\n",
        "print(\"***\"*20)\n",
        "\n",
        "print (\"Age\") #Takes as String"
      ],
      "execution_count": null,
      "outputs": [
        {
          "output_type": "stream",
          "text": [
            "10\n",
            "************************************************************\n",
            "Age\n"
          ],
          "name": "stdout"
        }
      ]
    },
    {
      "cell_type": "code",
      "metadata": {
        "colab": {
          "base_uri": "https://localhost:8080/"
        },
        "id": "xbLx-1npn0nS",
        "outputId": "45478338-3091-4ec0-b703-ba53b0fd107e"
      },
      "source": [
        "type(Age)"
      ],
      "execution_count": null,
      "outputs": [
        {
          "output_type": "execute_result",
          "data": {
            "text/plain": [
              "int"
            ]
          },
          "metadata": {
            "tags": []
          },
          "execution_count": 18
        }
      ]
    },
    {
      "cell_type": "code",
      "metadata": {
        "colab": {
          "base_uri": "https://localhost:8080/"
        },
        "id": "0oksu444n0qB",
        "outputId": "fbab18bd-728f-4243-9cdb-2f30fb01a08a"
      },
      "source": [
        "Height = 5.7\n",
        "print (Height)"
      ],
      "execution_count": null,
      "outputs": [
        {
          "output_type": "stream",
          "text": [
            "5.7\n"
          ],
          "name": "stdout"
        }
      ]
    },
    {
      "cell_type": "code",
      "metadata": {
        "colab": {
          "base_uri": "https://localhost:8080/"
        },
        "id": "r7pewFJen0s7",
        "outputId": "d003fa8a-b038-4574-c961-872bd5277451"
      },
      "source": [
        "type(Height)"
      ],
      "execution_count": null,
      "outputs": [
        {
          "output_type": "execute_result",
          "data": {
            "text/plain": [
              "float"
            ]
          },
          "metadata": {
            "tags": []
          },
          "execution_count": 21
        }
      ]
    },
    {
      "cell_type": "code",
      "metadata": {
        "colab": {
          "base_uri": "https://localhost:8080/"
        },
        "id": "QuvMafbzpXqA",
        "outputId": "6c382fff-4f56-4386-caf4-4e5574563fe1"
      },
      "source": [
        "height = \"5 feet 7 inch\"\n",
        "print (height)"
      ],
      "execution_count": null,
      "outputs": [
        {
          "output_type": "stream",
          "text": [
            "5 feet 7 inch\n"
          ],
          "name": "stdout"
        }
      ]
    },
    {
      "cell_type": "code",
      "metadata": {
        "colab": {
          "base_uri": "https://localhost:8080/"
        },
        "id": "l5FjGVDNpXtq",
        "outputId": "e86cea16-d5f1-4772-8cc6-3c478a9e8648"
      },
      "source": [
        "type (height)"
      ],
      "execution_count": null,
      "outputs": [
        {
          "output_type": "execute_result",
          "data": {
            "text/plain": [
              "str"
            ]
          },
          "metadata": {
            "tags": []
          },
          "execution_count": 24
        }
      ]
    },
    {
      "cell_type": "code",
      "metadata": {
        "id": "gYrcMFhgn0u2"
      },
      "source": [
        "#float\n",
        "#int\n",
        "#str"
      ],
      "execution_count": null,
      "outputs": []
    },
    {
      "cell_type": "markdown",
      "metadata": {
        "id": "BdZznzVspqjK"
      },
      "source": [
        "#Input"
      ]
    },
    {
      "cell_type": "code",
      "metadata": {
        "colab": {
          "base_uri": "https://localhost:8080/"
        },
        "id": "szG_tcBin0x7",
        "outputId": "5b84bdb9-d2ee-4f9e-c43e-b9a38a8419db"
      },
      "source": [
        "name = input (\"what is your name? \")"
      ],
      "execution_count": null,
      "outputs": [
        {
          "output_type": "stream",
          "text": [
            "what is your name? Kamal\n"
          ],
          "name": "stdout"
        }
      ]
    },
    {
      "cell_type": "code",
      "metadata": {
        "colab": {
          "base_uri": "https://localhost:8080/"
        },
        "id": "w6GFgw4lpsRy",
        "outputId": "d0fcf08c-9a36-4071-dae0-1b929f19cdfd"
      },
      "source": [
        "print (\"Hi\", name)"
      ],
      "execution_count": null,
      "outputs": [
        {
          "output_type": "stream",
          "text": [
            "Hi Kamal\n"
          ],
          "name": "stdout"
        }
      ]
    },
    {
      "cell_type": "code",
      "metadata": {
        "colab": {
          "base_uri": "https://localhost:8080/"
        },
        "id": "4lwx6TuLpsVI",
        "outputId": "e08aac63-e607-4959-8ea7-9fe2573899d1"
      },
      "source": [
        "name = input (\"what is your name? \")\n",
        "Clr = input (\"what is your fvrt colour? \")"
      ],
      "execution_count": null,
      "outputs": [
        {
          "output_type": "stream",
          "text": [
            "what is your name? Kamal\n",
            "what is your fvrt colour? Blue\n"
          ],
          "name": "stdout"
        }
      ]
    },
    {
      "cell_type": "code",
      "metadata": {
        "colab": {
          "base_uri": "https://localhost:8080/"
        },
        "id": "1OvWz1hfrSOI",
        "outputId": "3fbcb354-7533-4485-f079-655d27993d12"
      },
      "source": [
        "Birth_year = int(input(\"what is your birth year: \"))"
      ],
      "execution_count": null,
      "outputs": [
        {
          "output_type": "stream",
          "text": [
            "what is your birth year: 1991\n"
          ],
          "name": "stdout"
        }
      ]
    },
    {
      "cell_type": "code",
      "metadata": {
        "colab": {
          "base_uri": "https://localhost:8080/"
        },
        "id": "jArDQtiurc7h",
        "outputId": "023c6980-612f-4838-db64-47bb48777865"
      },
      "source": [
        "type(Birth_year)"
      ],
      "execution_count": null,
      "outputs": [
        {
          "output_type": "execute_result",
          "data": {
            "text/plain": [
              "int"
            ]
          },
          "metadata": {
            "tags": []
          },
          "execution_count": 43
        }
      ]
    },
    {
      "cell_type": "code",
      "metadata": {
        "id": "nblPWdRYrqC7"
      },
      "source": [
        "age = 2021-Birth_year\n"
      ],
      "execution_count": null,
      "outputs": []
    },
    {
      "cell_type": "code",
      "metadata": {
        "colab": {
          "base_uri": "https://localhost:8080/"
        },
        "id": "b7WMyFq2psX1",
        "outputId": "1d5fe9e8-af83-440b-e452-3ef12be64963"
      },
      "source": [
        "print (\"Hi, i am \", name,\"!\")\n",
        "print (\"My fvrt colour is\", Clr, \".\")\n",
        "print (\"My age is\", age)"
      ],
      "execution_count": null,
      "outputs": [
        {
          "output_type": "stream",
          "text": [
            "Hi, i am  Kamal !\n",
            "My fvrt colour is Blue .\n",
            "My age is 30\n"
          ],
          "name": "stdout"
        }
      ]
    },
    {
      "cell_type": "code",
      "metadata": {
        "colab": {
          "base_uri": "https://localhost:8080/"
        },
        "id": "9ljNgdZUpsaL",
        "outputId": "f9929c43-21b5-45e5-97f5-1f1abac8f202"
      },
      "source": [
        "#if i am above 18, i am an adult or else not\n",
        "bool(age>18)\n"
      ],
      "execution_count": null,
      "outputs": [
        {
          "output_type": "execute_result",
          "data": {
            "text/plain": [
              "True"
            ]
          },
          "metadata": {
            "tags": []
          },
          "execution_count": 41
        }
      ]
    },
    {
      "cell_type": "code",
      "metadata": {
        "colab": {
          "base_uri": "https://localhost:8080/"
        },
        "id": "F5OhJ5e7psc9",
        "outputId": "6343dd18-282c-440a-ae75-08452cb434de"
      },
      "source": [
        "#Ask Weight in pounds & Convert it to KGs, then print in the output\n",
        "\n",
        "weight = input(\"please enter your weight in pounds: \")\n",
        "final_weight_kg = int(weight)*0.453592 \n",
        "print (final_weight_kg)\n",
        "\n",
        "\n",
        "print (\"your weight is \", final_weight_kg, \"kilograms\")\n"
      ],
      "execution_count": null,
      "outputs": [
        {
          "output_type": "stream",
          "text": [
            "please enter your weight in pounds: 34\n",
            "15.422128\n",
            "your weight is  15.422128 kilograms\n"
          ],
          "name": "stdout"
        }
      ]
    },
    {
      "cell_type": "markdown",
      "metadata": {
        "id": "gduL_nS5vkie"
      },
      "source": [
        "#String (Indexing)"
      ]
    },
    {
      "cell_type": "markdown",
      "metadata": {
        "id": "1-up6LE_ym1N"
      },
      "source": [
        "[start:end:step]"
      ]
    },
    {
      "cell_type": "code",
      "metadata": {
        "colab": {
          "base_uri": "https://localhost:8080/"
        },
        "id": "qYU88dg7pshC",
        "outputId": "7e06c774-50a3-46ec-d49f-4ca2b6ad71ad"
      },
      "source": [
        "Wlcm_note = \"Python is easy to begin with!\"\n",
        "print(Wlcm_note[0]) #only the first character\n",
        "print(\"***\"*30)\n",
        "print(Wlcm_note[6]) # only the 7th character \n",
        "\n",
        "print(\"***\"*30)\n",
        "print(Wlcm_note[-1]) # only the last character \n",
        "\n",
        "print(\"***\"*30)\n",
        "print(Wlcm_note[0:6])  # only the 1st to 7th character \n",
        "\n",
        "print(\"***\"*30)\n",
        "print(Wlcm_note[:])     # all the characters \n",
        "\n",
        "print(\"***\"*30)\n",
        "print(Wlcm_note[3:12:2])  # 4th, 6th, 8th, 10th, & 12th character, \n",
        "#3 takes you to 4th character\n",
        "#12 limites the output till 12th character\n",
        "#2 decides the step size, that is alternate\n"
      ],
      "execution_count": null,
      "outputs": [
        {
          "output_type": "stream",
          "text": [
            "P\n",
            "******************************************************************************************\n",
            " \n",
            "******************************************************************************************\n",
            "!\n",
            "******************************************************************************************\n",
            "Python\n",
            "******************************************************************************************\n",
            "Python is easy to begin with!\n",
            "******************************************************************************************\n",
            "hni a\n",
            "******************************************************************************************\n",
            "hni \n"
          ],
          "name": "stdout"
        }
      ]
    },
    {
      "cell_type": "code",
      "metadata": {
        "colab": {
          "base_uri": "https://localhost:8080/"
        },
        "id": "ij5lM6lXpsmA",
        "outputId": "f727f29d-0bf6-4fa1-c75c-861dfc9faf99"
      },
      "source": [
        "a_note = \"0123456789\"\n",
        "print(\"***\"*30)\n",
        "print(a_note[1:9:3])\n",
        "\n",
        "print(\"***\"*30)\n",
        "print(a_note[-3:-1])"
      ],
      "execution_count": null,
      "outputs": [
        {
          "output_type": "stream",
          "text": [
            "******************************************************************************************\n",
            "147\n",
            "******************************************************************************************\n",
            "78\n"
          ],
          "name": "stdout"
        }
      ]
    },
    {
      "cell_type": "code",
      "metadata": {
        "colab": {
          "base_uri": "https://localhost:8080/"
        },
        "id": "Cp6zKM7YpsvQ",
        "outputId": "6095d5b7-e306-40c3-fcfc-77caf86b450b"
      },
      "source": [
        "a_name = \"Ramanatham\"\n",
        "print(\"***\"*30)\n",
        "print(a_name[1:-1])   #include and start from 1st, end by excluding -1th \n",
        "print(\"***\"*30)\n",
        "print(a_name[0:-1])\n",
        "print(\"***\"*30)\n"
      ],
      "execution_count": null,
      "outputs": [
        {
          "output_type": "stream",
          "text": [
            "******************************************************************************************\n",
            "amanatha\n",
            "******************************************************************************************\n",
            "Ramanatha\n",
            "******************************************************************************************\n"
          ],
          "name": "stdout"
        }
      ]
    },
    {
      "cell_type": "markdown",
      "metadata": {
        "id": "3HAJL9IszyIb"
      },
      "source": [
        "#Formatted String"
      ]
    },
    {
      "cell_type": "code",
      "metadata": {
        "colab": {
          "base_uri": "https://localhost:8080/"
        },
        "id": "YvMk0rMIps8F",
        "outputId": "6e3514c7-9963-4139-a62d-84376285ca43"
      },
      "source": [
        "First_name = input()\n",
        "Last_name = input()\n"
      ],
      "execution_count": null,
      "outputs": [
        {
          "output_type": "stream",
          "text": [
            "Kamal\n",
            "Kumar\n"
          ],
          "name": "stdout"
        }
      ]
    },
    {
      "cell_type": "code",
      "metadata": {
        "colab": {
          "base_uri": "https://localhost:8080/"
        },
        "id": "YwKXVTDKn00i",
        "outputId": "b61adc21-3f29-4ee9-f6e7-a156dde4bd59"
      },
      "source": [
        "msg =f\"{First_name} [{Last_name}] is a coder!\"\n",
        "print(msg)"
      ],
      "execution_count": null,
      "outputs": [
        {
          "output_type": "stream",
          "text": [
            "Kamal [Kumar] is a coder!\n"
          ],
          "name": "stdout"
        }
      ]
    },
    {
      "cell_type": "markdown",
      "metadata": {
        "id": "0nIG0hP80hsF"
      },
      "source": [
        "#Methods of String"
      ]
    },
    {
      "cell_type": "code",
      "metadata": {
        "colab": {
          "base_uri": "https://localhost:8080/"
        },
        "id": "0FPXxcq6n03J",
        "outputId": "56fcee45-78d3-47a3-adb9-92a6136e42e4"
      },
      "source": [
        "#Length\n",
        "b_note = \"abcdefghijklmn\"\n",
        "len(b_note)"
      ],
      "execution_count": null,
      "outputs": [
        {
          "output_type": "execute_result",
          "data": {
            "text/plain": [
              "14"
            ]
          },
          "metadata": {
            "tags": []
          },
          "execution_count": 94
        }
      ]
    },
    {
      "cell_type": "code",
      "metadata": {
        "colab": {
          "base_uri": "https://localhost:8080/"
        },
        "id": "xLs01wJmz1cA",
        "outputId": "4aba8fcb-4815-4bf3-d4ea-8472d6fc1bdf"
      },
      "source": [
        "print(b_note.capitalize())\n",
        "print(\"***\"*30)\n",
        "print(b_note.casefold())\n",
        "print(\"***\"*30)\n",
        "print(b_note.center(3))\n",
        "print(\"***\"*30)\n",
        "\n",
        "print(b_note.find('d'))\n",
        "print(\"***\"*30)\n"
      ],
      "execution_count": null,
      "outputs": [
        {
          "output_type": "stream",
          "text": [
            "Abcdefghijklmn\n",
            "******************************************************************************************\n",
            "abcdefghijklmn\n",
            "******************************************************************************************\n",
            "abcdefghijklmn\n",
            "******************************************************************************************\n",
            "3\n",
            "******************************************************************************************\n"
          ],
          "name": "stdout"
        }
      ]
    },
    {
      "cell_type": "code",
      "metadata": {
        "colab": {
          "base_uri": "https://localhost:8080/"
        },
        "id": "KWpNQQkiz1gN",
        "outputId": "d192e056-da0b-4815-b5a7-deff06980d90"
      },
      "source": [
        "print(b_note.find('defgh'))\n",
        "print(\"***\"*30)"
      ],
      "execution_count": null,
      "outputs": [
        {
          "output_type": "stream",
          "text": [
            "3\n",
            "******************************************************************************************\n"
          ],
          "name": "stdout"
        }
      ]
    },
    {
      "cell_type": "code",
      "metadata": {
        "colab": {
          "base_uri": "https://localhost:8080/"
        },
        "id": "Gm-TnYiYz1jo",
        "outputId": "a13399fd-f284-4ee9-d6c2-d3646ac1e206"
      },
      "source": [
        "print(b_note.replace('defgh', \"123456789\"))\n",
        "print(\"***\"*30)"
      ],
      "execution_count": null,
      "outputs": [
        {
          "output_type": "stream",
          "text": [
            "abc123456789ijklmn\n",
            "******************************************************************************************\n"
          ],
          "name": "stdout"
        }
      ]
    },
    {
      "cell_type": "code",
      "metadata": {
        "colab": {
          "base_uri": "https://localhost:8080/"
        },
        "id": "Zr_QgMguz1lh",
        "outputId": "ec64abf1-4d72-473b-cb84-23f2c70d736c"
      },
      "source": [
        "print(b_note)"
      ],
      "execution_count": null,
      "outputs": [
        {
          "output_type": "stream",
          "text": [
            "abcdefghijklmn\n"
          ],
          "name": "stdout"
        }
      ]
    },
    {
      "cell_type": "code",
      "metadata": {
        "colab": {
          "base_uri": "https://localhost:8080/"
        },
        "id": "9CGnxfXCz1n4",
        "outputId": "ad4accc5-be4c-4c1b-8d3a-0c6b536d391f"
      },
      "source": [
        "print(\"abc\" in b_note)\n",
        "print(\"***\"*30)\n",
        "print(\"cba\" in b_note)"
      ],
      "execution_count": null,
      "outputs": [
        {
          "output_type": "stream",
          "text": [
            "True\n",
            "******************************************************************************************\n",
            "False\n"
          ],
          "name": "stdout"
        }
      ]
    },
    {
      "cell_type": "code",
      "metadata": {
        "colab": {
          "base_uri": "https://localhost:8080/"
        },
        "id": "LQ96gHXVz1qj",
        "outputId": "18359a4e-50db-43fe-da9d-1b96e6dc7323"
      },
      "source": [
        "print(b_note.upper())\n",
        "print(b_note.lower())\n",
        "print(b_note.title())\n",
        "print(b_note.find(\"c\"))\n",
        "print(b_note.replace(\"abcde\",\"123\"))\n"
      ],
      "execution_count": null,
      "outputs": [
        {
          "output_type": "stream",
          "text": [
            "ABCDEFGHIJKLMN\n",
            "abcdefghijklmn\n",
            "Abcdefghijklmn\n",
            "2\n",
            "123fghijklmn\n"
          ],
          "name": "stdout"
        }
      ]
    },
    {
      "cell_type": "markdown",
      "metadata": {
        "id": "CbK4sBnU50up"
      },
      "source": [
        "#Airthmetic"
      ]
    },
    {
      "cell_type": "code",
      "metadata": {
        "id": "9s0yAuuj5S7H"
      },
      "source": [
        "a = 10\n",
        "b = 3\n",
        "c = 4\n",
        "d = 7\n",
        "e = 131\n",
        "f = 123421\n"
      ],
      "execution_count": null,
      "outputs": []
    },
    {
      "cell_type": "code",
      "metadata": {
        "colab": {
          "base_uri": "https://localhost:8080/"
        },
        "id": "L_5IcWiK5S-9",
        "outputId": "0c639953-019a-4933-bc1c-e0bc04f69436"
      },
      "source": [
        "print(a+b)\n",
        "print(\"***\"*10)\n",
        "\n",
        "print(b-c)\n",
        "print(\"***\"*10)\n",
        "\n",
        "print(c*d)\n",
        "print(\"***\"*10)\n",
        "\n",
        "print(d/b)\n",
        "print(\"***\"*10, \"/ gives exact division\")\n",
        "\n",
        "print(e//a)\n",
        "print(\"***\"*10, \"// gives the quotient\")\n",
        "\n",
        "print(f%a)\n",
        "print(\"***\"*10, \"% gives Reminder\")\n"
      ],
      "execution_count": null,
      "outputs": [
        {
          "output_type": "stream",
          "text": [
            "13\n",
            "******************************\n",
            "-1\n",
            "******************************\n",
            "28\n",
            "******************************\n",
            "2.3333333333333335\n",
            "****************************** / gives exact division\n",
            "13\n",
            "****************************** // gives the quotient\n",
            "1\n",
            "****************************** % gives Reminder\n"
          ],
          "name": "stdout"
        }
      ]
    },
    {
      "cell_type": "code",
      "metadata": {
        "colab": {
          "base_uri": "https://localhost:8080/"
        },
        "id": "cvA4qhqb5TOr",
        "outputId": "730b1117-3657-444a-ad05-dc4eb442a5da"
      },
      "source": [
        "print (10**3)"
      ],
      "execution_count": null,
      "outputs": [
        {
          "output_type": "stream",
          "text": [
            "1000\n"
          ],
          "name": "stdout"
        }
      ]
    },
    {
      "cell_type": "code",
      "metadata": {
        "colab": {
          "base_uri": "https://localhost:8080/"
        },
        "id": "I8l8HUB67NLN",
        "outputId": "4b19d9c6-a473-49ef-9bf9-8952e18e1d92"
      },
      "source": [
        "b -= 7\n",
        "print (b)"
      ],
      "execution_count": null,
      "outputs": [
        {
          "output_type": "stream",
          "text": [
            "-1\n"
          ],
          "name": "stdout"
        }
      ]
    },
    {
      "cell_type": "code",
      "metadata": {
        "colab": {
          "base_uri": "https://localhost:8080/"
        },
        "id": "WnJMOG7A7NPK",
        "outputId": "cc9e7a28-8516-4ca4-c0f5-3fb02d755817"
      },
      "source": [
        "b += 3\n",
        "print (b)"
      ],
      "execution_count": null,
      "outputs": [
        {
          "output_type": "stream",
          "text": [
            "6\n"
          ],
          "name": "stdout"
        }
      ]
    },
    {
      "cell_type": "code",
      "metadata": {
        "colab": {
          "base_uri": "https://localhost:8080/"
        },
        "id": "xvyN2YQ87NSx",
        "outputId": "525f5c33-17b2-4565-e2fb-7faf4979ce9e"
      },
      "source": [
        "x1 = 2.9\n",
        "y1 = 2.5\n",
        "z1 = -2.2\n",
        "print(round(x1))\n",
        "print(round(y1))\n",
        "print(round(z1))\n",
        "print(abs(z1))\n"
      ],
      "execution_count": null,
      "outputs": [
        {
          "output_type": "stream",
          "text": [
            "3\n",
            "2\n",
            "-2\n",
            "2.2\n"
          ],
          "name": "stdout"
        }
      ]
    },
    {
      "cell_type": "markdown",
      "metadata": {
        "id": "c9LE2rU78vrJ"
      },
      "source": [
        "#Import Math Module"
      ]
    },
    {
      "cell_type": "code",
      "metadata": {
        "id": "FIcRKAcd7NV5"
      },
      "source": [
        "import math"
      ],
      "execution_count": null,
      "outputs": []
    },
    {
      "cell_type": "code",
      "metadata": {
        "id": "hQYxrSpo7NeX"
      },
      "source": [
        "math.asin\n"
      ],
      "execution_count": null,
      "outputs": []
    },
    {
      "cell_type": "code",
      "metadata": {
        "id": "mEeUXW5m7NiP"
      },
      "source": [
        ""
      ],
      "execution_count": null,
      "outputs": []
    },
    {
      "cell_type": "markdown",
      "metadata": {
        "id": "TIglyHFnzHRT"
      },
      "source": [
        "#IF Statement"
      ]
    },
    {
      "cell_type": "code",
      "metadata": {
        "id": "Iz8ujC6N0jhE"
      },
      "source": [
        ""
      ],
      "execution_count": null,
      "outputs": []
    },
    {
      "cell_type": "code",
      "metadata": {
        "id": "Ydw_Rc6w7NmQ",
        "colab": {
          "base_uri": "https://localhost:8080/"
        },
        "outputId": "84fc4e81-9437-4357-a798-c10bb1c692b1"
      },
      "source": [
        "is_hot = True\n",
        "is_cold = True\n",
        "\n",
        "\n",
        "if is_hot:\n",
        "  print(\"it's a hot day\")\n",
        "  print(\"drink a lot of water\")\n",
        "\n",
        "elif is_cold:\n",
        "  print(\"it's a cold day\")\n",
        "  print(\"Wear warm clothes\")\n",
        "\n",
        "else:\n",
        "  print(\"it's a lovely day\")\n",
        "\n",
        "print(\"Enjoy your day!\")"
      ],
      "execution_count": null,
      "outputs": [
        {
          "output_type": "stream",
          "text": [
            "it's a hot day\n",
            "drink a lot of water\n",
            "Enjoy your day!\n"
          ],
          "name": "stdout"
        }
      ]
    },
    {
      "cell_type": "code",
      "metadata": {
        "colab": {
          "base_uri": "https://localhost:8080/"
        },
        "id": "KxYEWnNtzo1j",
        "outputId": "cf7f2940-32fe-4270-e6ff-3ad89c19eeb1"
      },
      "source": [
        "#Downpayment based on Credit Score\n",
        "\n",
        "price = int(input(\"enter the price of the goods: \"))\n",
        "has_good_credit = False    #True or False\n",
        "\n",
        "if has_good_credit:\n",
        "  down_payment = 0.1*price\n",
        "\n",
        "else:\n",
        "  down_payment = 0.2*price\n",
        "\n",
        "print(f'Please do the down payment of: ${down_payment}')"
      ],
      "execution_count": null,
      "outputs": [
        {
          "output_type": "stream",
          "text": [
            "enter the price of the goods: 100000000\n",
            "Please do the down payment of: $20000000.0\n"
          ],
          "name": "stdout"
        }
      ]
    },
    {
      "cell_type": "markdown",
      "metadata": {
        "id": "Tj_Ll1dk3lL2"
      },
      "source": [
        "#Logical Conditions\n",
        "AND, OR, NOT"
      ]
    },
    {
      "cell_type": "code",
      "metadata": {
        "colab": {
          "base_uri": "https://localhost:8080/"
        },
        "id": "ccGjIjJSzo5q",
        "outputId": "4d97a219-4584-49cb-d3fa-15f6259060d8"
      },
      "source": [
        "# Loan for those with  good income and good credit score\n",
        "# Background Check for those with either good income or good credit score\n",
        "# Reject if not good score and not good credit\n",
        "\n",
        "has_good_income = False       #True or False\n",
        "has_good_credit = False       #True or False\n",
        "\n",
        "if has_good_income and has_good_credit:\n",
        "  print(\"Loan Approved\")\n",
        "\n",
        "elif has_good_income or has_good_credit:\n",
        "  print(\"Background Check required\")\n",
        "\n",
        "else:\n",
        "  print(\"Loan Rejected\")\n"
      ],
      "execution_count": null,
      "outputs": [
        {
          "output_type": "stream",
          "text": [
            "Loan Rejected\n"
          ],
          "name": "stdout"
        }
      ]
    },
    {
      "cell_type": "code",
      "metadata": {
        "colab": {
          "base_uri": "https://localhost:8080/"
        },
        "id": "9OmH2hwszo9i",
        "outputId": "125d0ec4-9b83-4ac2-a236-1a9d33a9bc38"
      },
      "source": [
        "# Loan for those with  good income and good credit score\n",
        "# Background Check for those with either good income or good credit score\n",
        "# Reject if not good score and not good credit\n",
        "\n",
        "has_good_credit = True\n",
        "has_criminal_history = True\n",
        "\n",
        "if has_good_credit and not has_criminal_history:\n",
        "  print(\"Loan Approved\")\n",
        "\n",
        "elif not has_good_credit and not has_criminal_history:\n",
        "  print(\"Background Check\")\n",
        "\n",
        "else:\n",
        "  print(\"Reject\")\n"
      ],
      "execution_count": null,
      "outputs": [
        {
          "output_type": "stream",
          "text": [
            "Reject\n"
          ],
          "name": "stdout"
        }
      ]
    },
    {
      "cell_type": "code",
      "metadata": {
        "colab": {
          "base_uri": "https://localhost:8080/"
        },
        "id": "rbAVzeSJzo_n",
        "outputId": "ee4fb99a-0322-4c10-cb5e-cc76c1477fc8"
      },
      "source": [
        "name = input(\"enter your name:  \")\n",
        "number_of_character = int(len(name))\n",
        "\n",
        "if number_of_character < 3:\n",
        "  print(\"Name must be atleast 3 charater long!\")\n",
        "\n",
        "elif number_of_character > 15:\n",
        "  print (\"Name can be maximum of 15 charater!\")\n",
        "\n",
        "else:\n",
        "  print(\"Thanks for entering your name!\")\n"
      ],
      "execution_count": null,
      "outputs": [
        {
          "output_type": "stream",
          "text": [
            "enter your name:  abcderfgjkaljjnksalkxmls\n",
            "Name can be maximum of 15 charater!\n"
          ],
          "name": "stdout"
        }
      ]
    },
    {
      "cell_type": "code",
      "metadata": {
        "colab": {
          "base_uri": "https://localhost:8080/"
        },
        "id": "95IjexfCzpCi",
        "outputId": "1e25e6a8-a851-468c-ec6e-f09ec662ea6c"
      },
      "source": [
        "#Convert the weight from KG to pounds / pounds to KG\n",
        "\n",
        "\n",
        "weight = int (input(\"enter your weight: \"))\n",
        "unit = input ('(L)bs or (K)g: ')\n",
        "\n",
        "if unit.upper() == \"L\":\n",
        "  converted = weight * .45\n",
        "  print (f\"you are {converted} kilos\")\n",
        "\n",
        "else:\n",
        "  converted = weight / .45\n",
        "  print (f\"you are {converted} pounds\")\n",
        "\n"
      ],
      "execution_count": null,
      "outputs": [
        {
          "output_type": "stream",
          "text": [
            "enter your weight: 72\n",
            "(L)bs or (K)g: k\n",
            "you are 160.0 pounds\n"
          ],
          "name": "stdout"
        }
      ]
    },
    {
      "cell_type": "markdown",
      "metadata": {
        "id": "2SRlFh6CQaiX"
      },
      "source": [
        "#While Loop "
      ]
    },
    {
      "cell_type": "code",
      "metadata": {
        "colab": {
          "base_uri": "https://localhost:8080/"
        },
        "id": "YLrjZUckzpFo",
        "outputId": "95c041bf-4c85-4ba6-bae2-7bbbc958120c"
      },
      "source": [
        "i=5\n",
        "\n",
        "while i <=11:\n",
        "  print (i)\n",
        "  i = i+1\n",
        "print (\"Done\")"
      ],
      "execution_count": null,
      "outputs": [
        {
          "output_type": "stream",
          "text": [
            "5\n",
            "6\n",
            "7\n",
            "8\n",
            "9\n",
            "10\n",
            "11\n",
            "Done\n"
          ],
          "name": "stdout"
        }
      ]
    },
    {
      "cell_type": "code",
      "metadata": {
        "colab": {
          "base_uri": "https://localhost:8080/"
        },
        "id": "AEbQOOo3zpIi",
        "outputId": "ac5941f1-ce2c-453a-aeb1-dd64c879708c"
      },
      "source": [
        "i=5\n",
        "\n",
        "while i <=11:\n",
        "  print (\"*\" * i)\n",
        "  i = i+1\n",
        "print (\"Done\")"
      ],
      "execution_count": null,
      "outputs": [
        {
          "output_type": "stream",
          "text": [
            "*****\n",
            "******\n",
            "*******\n",
            "********\n",
            "*********\n",
            "**********\n",
            "***********\n",
            "Done\n"
          ],
          "name": "stdout"
        }
      ]
    },
    {
      "cell_type": "code",
      "metadata": {
        "colab": {
          "base_uri": "https://localhost:8080/"
        },
        "id": "4sUObNE4eWln",
        "outputId": "d030e5c2-edf2-4663-dccf-c303ec6dd739"
      },
      "source": [
        "secret_number = 123\n",
        "Guess_count = 1\n",
        "Guess_limit = 3\n",
        "while Guess_count <= Guess_limit:\n",
        "  guess = int(input(\"Guess: \"))\n",
        "  Guess_count += 1\n",
        "  if guess == secret_number:\n",
        "    print ('''\n",
        "Congrats!\n",
        "You Won''')\n",
        "    break\n",
        "\n",
        "\n",
        "else:\n",
        "  print ('''\n",
        "  Sorry!\n",
        "You Loose''')\n"
      ],
      "execution_count": null,
      "outputs": [
        {
          "output_type": "stream",
          "text": [
            "Guess: 332134\n",
            "Guess: 32145\n",
            "Guess: 54321\n",
            "\n",
            "  Sorry!\n",
            "You Loose\n"
          ],
          "name": "stdout"
        }
      ]
    },
    {
      "cell_type": "markdown",
      "metadata": {
        "id": "QxuaBWjBkLTu"
      },
      "source": [
        "#Car Game"
      ]
    },
    {
      "cell_type": "code",
      "metadata": {
        "id": "sabsqs8CzpLH"
      },
      "source": [
        "\n",
        "\n",
        "\n",
        "\n"
      ],
      "execution_count": null,
      "outputs": []
    },
    {
      "cell_type": "code",
      "metadata": {
        "id": "8g3xtsAozpO_"
      },
      "source": [
        ""
      ],
      "execution_count": null,
      "outputs": []
    },
    {
      "cell_type": "code",
      "metadata": {
        "id": "3PgHXWE0QfDA"
      },
      "source": [
        ""
      ],
      "execution_count": null,
      "outputs": []
    },
    {
      "cell_type": "code",
      "metadata": {
        "id": "4vv2l0R4QfGe"
      },
      "source": [
        ""
      ],
      "execution_count": null,
      "outputs": []
    },
    {
      "cell_type": "code",
      "metadata": {
        "id": "2jlqHP9OQfJF"
      },
      "source": [
        ""
      ],
      "execution_count": null,
      "outputs": []
    },
    {
      "cell_type": "code",
      "metadata": {
        "id": "dN1VfB_EQfLt"
      },
      "source": [
        ""
      ],
      "execution_count": null,
      "outputs": []
    },
    {
      "cell_type": "code",
      "metadata": {
        "id": "CRLZKkaSQfO0"
      },
      "source": [
        ""
      ],
      "execution_count": null,
      "outputs": []
    },
    {
      "cell_type": "code",
      "metadata": {
        "id": "PjsL-qX1QfVI"
      },
      "source": [
        ""
      ],
      "execution_count": null,
      "outputs": []
    }
  ]
}