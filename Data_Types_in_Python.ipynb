{
  "nbformat": 4,
  "nbformat_minor": 0,
  "metadata": {
    "colab": {
      "name": "Data Types in Python.ipynb",
      "provenance": [],
      "toc_visible": true,
      "authorship_tag": "ABX9TyOvZ6dG4rxb/N8Fbbx5txu8",
      "include_colab_link": true
    },
    "kernelspec": {
      "name": "python3",
      "display_name": "Python 3"
    },
    "language_info": {
      "name": "python"
    }
  },
  "cells": [
    {
      "cell_type": "markdown",
      "metadata": {
        "id": "view-in-github",
        "colab_type": "text"
      },
      "source": [
        "<a href=\"https://colab.research.google.com/github/datagrad/Learning-Python/blob/main/Data_Types_in_Python.ipynb\" target=\"_parent\"><img src=\"https://colab.research.google.com/assets/colab-badge.svg\" alt=\"Open In Colab\"/></a>"
      ]
    },
    {
      "cell_type": "markdown",
      "source": [
        "# Data Types\n",
        "\n",
        "Python has the following data types built-in by default, in these categories:\n",
        "\n",
        "* Text Type:\t`str`\n",
        "* Numeric Types:\t`int`, `float`, `complex`\n",
        "* Sequence Types:\t`list`, `tuple`, `range`\n",
        "* Mapping Type:\t`dict`\n",
        "* Set Types:\t`set`, `frozenset`\n",
        "* Boolean Type:\t`bool`\n",
        "* Binary Types:\t`bytes`, `bytearray`, `memoryview`"
      ],
      "metadata": {
        "id": "wmWg-T3RXScA"
      }
    },
    {
      "cell_type": "code",
      "execution_count": null,
      "metadata": {
        "id": "rmdKJaQIXIWY"
      },
      "outputs": [],
      "source": [
        ""
      ]
    },
    {
      "cell_type": "markdown",
      "source": [
        "## Finding the data type of given data"
      ],
      "metadata": {
        "id": "kgrceJIfXyXm"
      }
    },
    {
      "cell_type": "code",
      "source": [
        "x = 5\n",
        "y = \"My Text\"\n",
        "\n",
        "print(type(x))\n",
        "print(type(y))\n"
      ],
      "metadata": {
        "colab": {
          "base_uri": "https://localhost:8080/"
        },
        "id": "-MN_rOzLX_fk",
        "outputId": "00b50fa0-bdc8-4eaa-859d-fe4afcf43205"
      },
      "execution_count": 5,
      "outputs": [
        {
          "output_type": "stream",
          "name": "stdout",
          "text": [
            "<class 'int'>\n",
            "<class 'str'>\n"
          ]
        }
      ]
    },
    {
      "cell_type": "markdown",
      "source": [
        "\n",
        "---\n",
        "\n",
        "## string\t\n",
        "a = \"Hello World\"\t\n",
        "\n",
        "---\n",
        "\n",
        "## Integer\n",
        "b = 20\n",
        "\n",
        "---\n",
        "\n",
        "## float\t\n",
        "c = 20.5\n",
        "\n",
        "---\n",
        "\n",
        "## complex\n",
        "d = 1j\t\n",
        "\n",
        "---\n",
        "## list\t\n",
        "e = [\"apple\", \"banana\", \"cherry\"]\n",
        "\n",
        "---\n",
        "## tuple\t\n",
        "f = (\"apple\", \"banana\", \"cherry\")\n",
        "---\n",
        "\n",
        "## range\t\n",
        "g = range(6)\n",
        "---\n",
        "\n",
        "\n",
        "## dict\t\n",
        "h = {\"name\" : \"John\", \"age\" : 36}\n",
        "---\n",
        "## set\t\n",
        "i = {\"apple\", \"banana\", \"cherry\"}\n",
        "---\n",
        "## frozenset\t\n",
        "j = frozenset({\"apple\", \"banana\", \"cherry\"})\n",
        "---\n",
        "\n",
        "## bool\t\n",
        "k = True\n",
        "---\n",
        "\n",
        "## bytes\t\n",
        "l = b\"Hello\"\n",
        "---\n",
        "\n",
        "## bytearray\t\n",
        "m = bytearray(5)\n",
        "---\n",
        "\n",
        "## memoryview\n",
        "n = memoryview(bytes(5))\n",
        "---"
      ],
      "metadata": {
        "id": "BU_xWmXIZHXG"
      }
    },
    {
      "cell_type": "code",
      "source": [
        "\n",
        "# string\t\n",
        "a = \"Hello World\"\t\n",
        "\n",
        "# Integer\n",
        "b = 20\n",
        "\n",
        "# float\t\n",
        "c = 20.5\n",
        "\n",
        "# complex\n",
        "d = 1j\t\n",
        "\n",
        "# list\t\n",
        "e = [\"apple\", \"banana\", \"cherry\"]\n",
        "\n",
        "\n",
        "# tuple\t\n",
        "f = (\"apple\", \"banana\", \"cherry\")\n",
        "\n",
        "\n",
        "# range\t\n",
        "g = range(6)\n",
        "\n",
        "\n",
        "\n",
        "# dict\t\n",
        "h = {\"name\" : \"John\", \"age\" : 36}\n",
        "\n",
        "# set\t\n",
        "i = {\"apple\", \"banana\", \"cherry\"}\n",
        "\n",
        "# frozenset\t\n",
        "j = frozenset({\"apple\", \"banana\", \"cherry\"})\n",
        "\n",
        "\n",
        "# bool\t\n",
        "k = True\n",
        "\n",
        "\n",
        "# bytes\t\n",
        "l = b\"Hello\"\n",
        "\n",
        "\n",
        "# bytearray\t\n",
        "m = bytearray(5)\n",
        "\n",
        "\n",
        "# memoryview\n",
        "n = memoryview(bytes(5))"
      ],
      "metadata": {
        "id": "Xp5rUCuWYUrv"
      },
      "execution_count": null,
      "outputs": []
    }
  ]
}