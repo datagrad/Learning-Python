{
  "nbformat": 4,
  "nbformat_minor": 0,
  "metadata": {
    "colab": {
      "name": "Data Types in Python.ipynb",
      "provenance": [],
      "collapsed_sections": [],
      "toc_visible": true,
      "authorship_tag": "ABX9TyNbP5WJOlov01kKQcbRa98I",
      "include_colab_link": true
    },
    "kernelspec": {
      "name": "python3",
      "display_name": "Python 3"
    },
    "language_info": {
      "name": "python"
    }
  },
  "cells": [
    {
      "cell_type": "markdown",
      "metadata": {
        "id": "view-in-github",
        "colab_type": "text"
      },
      "source": [
        "<a href=\"https://colab.research.google.com/github/datagrad/Learning-Python/blob/main/Data_Types_in_Python.ipynb\" target=\"_parent\"><img src=\"https://colab.research.google.com/assets/colab-badge.svg\" alt=\"Open In Colab\"/></a>"
      ]
    },
    {
      "cell_type": "markdown",
      "source": [
        "# Data Types\n",
        "\n",
        "Python has the following data types built-in by default, in these categories:\n",
        "\n",
        "* Text Type:\t`str`\n",
        "* Numeric Types:\t`int`, `float`, `complex`\n",
        "* Sequence Types:\t`list`, `tuple`, `range`\n",
        "* Mapping Type:\t`dict`\n",
        "* Set Types:\t`set`, `frozenset`\n",
        "* Boolean Type:\t`bool`\n",
        "* Binary Types:\t`bytes`, `bytearray`, `memoryview`"
      ],
      "metadata": {
        "id": "wmWg-T3RXScA"
      }
    },
    {
      "cell_type": "code",
      "execution_count": null,
      "metadata": {
        "id": "rmdKJaQIXIWY"
      },
      "outputs": [],
      "source": [
        ""
      ]
    },
    {
      "cell_type": "markdown",
      "source": [
        "# Finding the data type of given data"
      ],
      "metadata": {
        "id": "kgrceJIfXyXm"
      }
    },
    {
      "cell_type": "code",
      "source": [
        "x = 5\n",
        "y = \"My Text\"\n",
        "\n",
        "print(type(x))\n",
        "print(type(y))\n"
      ],
      "metadata": {
        "colab": {
          "base_uri": "https://localhost:8080/"
        },
        "id": "-MN_rOzLX_fk",
        "outputId": "00b50fa0-bdc8-4eaa-859d-fe4afcf43205"
      },
      "execution_count": 5,
      "outputs": [
        {
          "output_type": "stream",
          "name": "stdout",
          "text": [
            "<class 'int'>\n",
            "<class 'str'>\n"
          ]
        }
      ]
    },
    {
      "cell_type": "markdown",
      "source": [
        "\n",
        "---\n",
        "\n",
        "## string\t\n",
        "a = \"Hello World\"\t\n",
        "\n",
        "---\n",
        "\n",
        "## Integer\n",
        "b = 20\n",
        "\n",
        "---\n",
        "\n",
        "## float\t\n",
        "c = 20.5\n",
        "\n",
        "---\n",
        "\n",
        "## complex\n",
        "d = 1j\t\n",
        "\n",
        "---\n",
        "\n",
        "## list\t\n",
        "e = [\"apple\", \"banana\", \"cherry\"]\n",
        "\n",
        "---\n",
        "\n",
        "## tuple\t\n",
        "f = (\"apple\", \"banana\", \"cherry\")\n",
        "\n",
        "---\n",
        "\n",
        "## range\t\n",
        "g = range(6)\n",
        "\n",
        "---\n",
        "\n",
        "\n",
        "## dict\t\n",
        "h = {\"name\" : \"John\", \"age\" : 36}\n",
        "\n",
        "---\n",
        "\n",
        "## set\t\n",
        "i = {\"apple\", \"banana\", \"cherry\"}\n",
        "\n",
        "---\n",
        "\n",
        "## frozenset\t\n",
        "j = frozenset({\"apple\", \"banana\", \"cherry\"})\n",
        "\n",
        "---\n",
        "\n",
        "## bool\t\n",
        "k = True\n",
        "\n",
        "---\n",
        "\n",
        "## bytes\t\n",
        "l = b\"Hello\"\n",
        "\n",
        "---\n",
        "\n",
        "## bytearray\t\n",
        "m = bytearray(5)\n",
        "\n",
        "---\n",
        "\n",
        "## memoryview\n",
        "n = memoryview(bytes(5))\n",
        "\n",
        "---"
      ],
      "metadata": {
        "id": "BU_xWmXIZHXG"
      }
    },
    {
      "cell_type": "code",
      "source": [
        "# string\t\n",
        "a = \"Hello World\"\t\n",
        "print(a)\n",
        "print(type(a))"
      ],
      "metadata": {
        "colab": {
          "base_uri": "https://localhost:8080/"
        },
        "id": "Xp5rUCuWYUrv",
        "outputId": "079c5912-0d83-49d0-f48d-c352b9ddb424"
      },
      "execution_count": 33,
      "outputs": [
        {
          "output_type": "stream",
          "name": "stdout",
          "text": [
            "Hello World\n",
            "<class 'str'>\n"
          ]
        }
      ]
    },
    {
      "cell_type": "code",
      "source": [
        "# Integer\n",
        "b = 20\n",
        "print(b)\n",
        "print(type(b))"
      ],
      "metadata": {
        "colab": {
          "base_uri": "https://localhost:8080/"
        },
        "id": "gXNPOPAybt_K",
        "outputId": "ed4b3111-2b77-43a4-933e-e4b78c70cb54"
      },
      "execution_count": 34,
      "outputs": [
        {
          "output_type": "stream",
          "name": "stdout",
          "text": [
            "20\n",
            "<class 'int'>\n"
          ]
        }
      ]
    },
    {
      "cell_type": "code",
      "source": [
        "# float\t\n",
        "c = 20.5\n",
        "\n",
        "print(c)\n",
        "print(type(c))\n"
      ],
      "metadata": {
        "colab": {
          "base_uri": "https://localhost:8080/"
        },
        "id": "_okeP447bunB",
        "outputId": "bd2de256-9ea4-459a-9468-387358c1e0b7"
      },
      "execution_count": 35,
      "outputs": [
        {
          "output_type": "stream",
          "name": "stdout",
          "text": [
            "20.5\n",
            "<class 'float'>\n"
          ]
        }
      ]
    },
    {
      "cell_type": "code",
      "source": [
        "# complex\n",
        "d = 1j\t\n",
        "print(d)\n",
        "print(type(d))\n"
      ],
      "metadata": {
        "colab": {
          "base_uri": "https://localhost:8080/"
        },
        "id": "vNs-9cxvbvC-",
        "outputId": "3911a64f-81f0-4f42-9a20-54d1c29bda9c"
      },
      "execution_count": 36,
      "outputs": [
        {
          "output_type": "stream",
          "name": "stdout",
          "text": [
            "1j\n",
            "<class 'complex'>\n"
          ]
        }
      ]
    },
    {
      "cell_type": "code",
      "source": [
        "# list\t\n",
        "e = [\"apple\", \"banana\", \"cherry\"]\n",
        "print(e)\n",
        "print(type(e))\n"
      ],
      "metadata": {
        "colab": {
          "base_uri": "https://localhost:8080/"
        },
        "id": "UlI1oWwqbvcE",
        "outputId": "d7fa92b3-d471-4d16-c25b-ecaaf70cbdcd"
      },
      "execution_count": 37,
      "outputs": [
        {
          "output_type": "stream",
          "name": "stdout",
          "text": [
            "['apple', 'banana', 'cherry']\n",
            "<class 'list'>\n"
          ]
        }
      ]
    },
    {
      "cell_type": "code",
      "source": [
        "# tuple\t\n",
        "f = (\"apple\", \"banana\", \"cherry\")\n",
        "print(type(f))\n"
      ],
      "metadata": {
        "colab": {
          "base_uri": "https://localhost:8080/"
        },
        "id": "xErYc4Q6bxNn",
        "outputId": "cf32866c-a6a9-409c-8bc1-06e4b7d8963f"
      },
      "execution_count": 27,
      "outputs": [
        {
          "output_type": "stream",
          "name": "stdout",
          "text": [
            "<class 'tuple'>\n"
          ]
        }
      ]
    },
    {
      "cell_type": "code",
      "source": [
        "# range\t\n",
        "g = range(6)\n",
        "print(g)\n",
        "print(type(g))\n"
      ],
      "metadata": {
        "colab": {
          "base_uri": "https://localhost:8080/"
        },
        "id": "SmycGPPvb2q6",
        "outputId": "9b6c9dca-4485-482d-b5a8-480e88c07290"
      },
      "execution_count": 38,
      "outputs": [
        {
          "output_type": "stream",
          "name": "stdout",
          "text": [
            "range(0, 6)\n",
            "<class 'range'>\n"
          ]
        }
      ]
    },
    {
      "cell_type": "code",
      "source": [
        "# dict\t\n",
        "h = {\"name\" : \"John\", \"age\" : 36}\n",
        "print(h)\n",
        "print(type(h))\n"
      ],
      "metadata": {
        "colab": {
          "base_uri": "https://localhost:8080/"
        },
        "id": "9lYGPfADb3qu",
        "outputId": "a8a7b06a-e991-4214-87f8-1aa6ccf71180"
      },
      "execution_count": 39,
      "outputs": [
        {
          "output_type": "stream",
          "name": "stdout",
          "text": [
            "{'name': 'John', 'age': 36}\n",
            "<class 'dict'>\n"
          ]
        }
      ]
    },
    {
      "cell_type": "code",
      "source": [
        "# set\t\n",
        "i = {\"apple\", \"banana\", \"cherry\"}\n",
        "print(i)\n",
        "print(type(i))\n"
      ],
      "metadata": {
        "colab": {
          "base_uri": "https://localhost:8080/"
        },
        "id": "FlTr_3iLel8N",
        "outputId": "37a05b44-f2b1-47e9-cbbf-b24efa4b03ee"
      },
      "execution_count": 40,
      "outputs": [
        {
          "output_type": "stream",
          "name": "stdout",
          "text": [
            "{'apple', 'cherry', 'banana'}\n",
            "<class 'set'>\n"
          ]
        }
      ]
    },
    {
      "cell_type": "code",
      "source": [
        "# frozenset\t\n",
        "j = frozenset({\"apple\", \"banana\", \"cherry\"})\n",
        "print(type(j))\n"
      ],
      "metadata": {
        "colab": {
          "base_uri": "https://localhost:8080/"
        },
        "id": "5hPCmG98entZ",
        "outputId": "1cf55b3f-0bcf-46e5-8d96-f62835cdcddb"
      },
      "execution_count": 31,
      "outputs": [
        {
          "output_type": "stream",
          "name": "stdout",
          "text": [
            "<class 'frozenset'>\n"
          ]
        }
      ]
    },
    {
      "cell_type": "code",
      "source": [
        "# bool\t\n",
        "k = True\n",
        "print(type(k))\n"
      ],
      "metadata": {
        "colab": {
          "base_uri": "https://localhost:8080/"
        },
        "id": "DGrI2rv4epjT",
        "outputId": "fd142b58-f242-4ec8-fd31-6607d3007dc9"
      },
      "execution_count": 32,
      "outputs": [
        {
          "output_type": "stream",
          "name": "stdout",
          "text": [
            "<class 'bool'>\n"
          ]
        }
      ]
    },
    {
      "cell_type": "code",
      "source": [
        "# bytes\t\n",
        "l = b\"Hello\"\n",
        "print(type(l))"
      ],
      "metadata": {
        "colab": {
          "base_uri": "https://localhost:8080/"
        },
        "id": "X-u_dtlferV3",
        "outputId": "71a861bf-dae9-4ebb-c557-570bbd1133fb"
      },
      "execution_count": 19,
      "outputs": [
        {
          "output_type": "stream",
          "name": "stdout",
          "text": [
            "<class 'bytes'>\n"
          ]
        }
      ]
    },
    {
      "cell_type": "code",
      "source": [
        "# bytearray\t\n",
        "m = bytearray(5)\n",
        "print(type(m))\n",
        "\n"
      ],
      "metadata": {
        "colab": {
          "base_uri": "https://localhost:8080/"
        },
        "id": "vrPt1peAetGO",
        "outputId": "e10c826d-00c4-47b7-e042-10f5fde11f2e"
      },
      "execution_count": 20,
      "outputs": [
        {
          "output_type": "stream",
          "name": "stdout",
          "text": [
            "<class 'bytearray'>\n"
          ]
        }
      ]
    },
    {
      "cell_type": "code",
      "source": [
        "\n",
        "# memoryview\n",
        "n = memoryview(bytes(5))\n",
        "print(type(n))"
      ],
      "metadata": {
        "colab": {
          "base_uri": "https://localhost:8080/"
        },
        "id": "7IAMoWaMeuon",
        "outputId": "3fb9b4df-d7eb-4f06-eec4-f685d9f97258"
      },
      "execution_count": 21,
      "outputs": [
        {
          "output_type": "stream",
          "name": "stdout",
          "text": [
            "<class 'memoryview'>\n"
          ]
        }
      ]
    },
    {
      "cell_type": "markdown",
      "source": [
        "# Setting the Data Type for input\n"
      ],
      "metadata": {
        "id": "7T8aQo0Dgikf"
      }
    },
    {
      "cell_type": "code",
      "source": [
        "x = str(\"Hello World\")\t"
      ],
      "metadata": {
        "id": "qqHLagDievwv"
      },
      "execution_count": 41,
      "outputs": []
    },
    {
      "cell_type": "code",
      "source": [
        "x = int(20)\t"
      ],
      "metadata": {
        "id": "CPVOCrEoiYt_"
      },
      "execution_count": 42,
      "outputs": []
    },
    {
      "cell_type": "code",
      "source": [
        "x = float(20.5)\t"
      ],
      "metadata": {
        "id": "JGLj9avYiagd"
      },
      "execution_count": 43,
      "outputs": []
    },
    {
      "cell_type": "code",
      "source": [
        "x = int(20.5)\t\n",
        "print(x)"
      ],
      "metadata": {
        "colab": {
          "base_uri": "https://localhost:8080/"
        },
        "id": "s7ZJf25-ib-f",
        "outputId": "70cfab97-76e0-49d3-8875-bf016f050ee8"
      },
      "execution_count": 45,
      "outputs": [
        {
          "output_type": "stream",
          "name": "stdout",
          "text": [
            "20\n"
          ]
        }
      ]
    },
    {
      "cell_type": "code",
      "source": [
        "x = complex(1j)\t\n",
        "print(x)\n"
      ],
      "metadata": {
        "colab": {
          "base_uri": "https://localhost:8080/"
        },
        "id": "0zX_F6KRieqK",
        "outputId": "34261347-9336-4de6-9b61-003d6916daf8"
      },
      "execution_count": 47,
      "outputs": [
        {
          "output_type": "stream",
          "name": "stdout",
          "text": [
            "1j\n"
          ]
        }
      ]
    },
    {
      "cell_type": "code",
      "source": [
        "x = list((\"apple\", \"banana\", \"cherry\"))\t\n",
        "print(x)"
      ],
      "metadata": {
        "colab": {
          "base_uri": "https://localhost:8080/"
        },
        "id": "zGF6lnWzilfc",
        "outputId": "8603b276-fa01-4e5a-e122-6475c0469710"
      },
      "execution_count": 49,
      "outputs": [
        {
          "output_type": "stream",
          "name": "stdout",
          "text": [
            "['apple', 'banana', 'cherry']\n"
          ]
        }
      ]
    },
    {
      "cell_type": "code",
      "source": [
        "x = tuple((\"apple\", \"banana\", \"cherry\"))\t\n",
        "print(x)"
      ],
      "metadata": {
        "colab": {
          "base_uri": "https://localhost:8080/"
        },
        "id": "jCa9rZc_islW",
        "outputId": "a26cf64c-7eb7-41eb-8363-d3a1f403976c"
      },
      "execution_count": 51,
      "outputs": [
        {
          "output_type": "stream",
          "name": "stdout",
          "text": [
            "('apple', 'banana', 'cherry')\n"
          ]
        }
      ]
    },
    {
      "cell_type": "code",
      "source": [
        "x = dict(name=\"John\", age=36)\t\n",
        "print(x)"
      ],
      "metadata": {
        "colab": {
          "base_uri": "https://localhost:8080/"
        },
        "id": "cJDI2-jli1pH",
        "outputId": "6730ba0e-4590-493f-cf11-b0f1afd6806c"
      },
      "execution_count": 55,
      "outputs": [
        {
          "output_type": "stream",
          "name": "stdout",
          "text": [
            "{'name': 'John', 'age': 36}\n"
          ]
        }
      ]
    },
    {
      "cell_type": "code",
      "source": [
        "x = set((\"apple\", \"banana\", \"cherry\"))\t\n",
        "print(x)\n"
      ],
      "metadata": {
        "colab": {
          "base_uri": "https://localhost:8080/"
        },
        "id": "DQ3MTgqMi7Nr",
        "outputId": "69e236c3-1136-4d72-c532-56ee72a208c9"
      },
      "execution_count": 56,
      "outputs": [
        {
          "output_type": "stream",
          "name": "stdout",
          "text": [
            "{'apple', 'cherry', 'banana'}\n"
          ]
        }
      ]
    },
    {
      "cell_type": "code",
      "source": [
        "x = frozenset((\"apple\", \"banana\", \"cherry\"))\t\n",
        "print(x)"
      ],
      "metadata": {
        "colab": {
          "base_uri": "https://localhost:8080/"
        },
        "id": "YqIJzchJi89y",
        "outputId": "2e3965c1-3fd2-494a-fd4b-b7b3026a25df"
      },
      "execution_count": 58,
      "outputs": [
        {
          "output_type": "stream",
          "name": "stdout",
          "text": [
            "frozenset({'apple', 'cherry', 'banana'})\n"
          ]
        }
      ]
    },
    {
      "cell_type": "code",
      "source": [
        "x = bool(5)\t"
      ],
      "metadata": {
        "id": "7bO9txMri-qw"
      },
      "execution_count": 59,
      "outputs": []
    },
    {
      "cell_type": "code",
      "source": [
        "x = bytes(5)\t"
      ],
      "metadata": {
        "id": "9f4pGGFmjQVQ"
      },
      "execution_count": 60,
      "outputs": []
    },
    {
      "cell_type": "code",
      "source": [
        "x = bytearray(5)\t"
      ],
      "metadata": {
        "id": "yF_WjZ-VjR0Z"
      },
      "execution_count": 61,
      "outputs": []
    },
    {
      "cell_type": "code",
      "source": [
        "x = memoryview(bytes(5))\t"
      ],
      "metadata": {
        "id": "FwXpEbcWjTR0"
      },
      "execution_count": 62,
      "outputs": []
    },
    {
      "cell_type": "markdown",
      "source": [
        "# Numbers in Python\n",
        "* A given number in one format can be converted from one type to another with the `int()`, `float()`, and `complex()` methods.\n",
        "* A complex number with imaginary part can not be converted to integer or Float. For example: `3+3j`. Even a complex number with \"0j\" as imaginary part can't be converted to Float or Int.\n"
      ],
      "metadata": {
        "id": "GPdbbiEWjbMs"
      }
    },
    {
      "cell_type": "markdown",
      "source": [
        "\n",
        "\n",
        "---\n",
        "\n",
        "\n",
        "* int: Int, or integer, is a whole number, positive or negative, without decimals, of unlimited length.\n",
        "\n",
        "\n",
        " *  x = 1\n",
        "\n",
        "\n",
        "---\n",
        "\n",
        "\n",
        "* float: Float, or \"floating point number\" is a number, positive or negative, containing one or more decimals. Float can also be scientific numbers with an \"e\" to indicate the power of 10.\n",
        "\n",
        "\n",
        "\n",
        "  * y = 2.8\n",
        "\n",
        "\n",
        "---\n",
        "\n",
        "\n",
        "* complex: Complex numbers are written with a \"j\" as the imaginary part.\n",
        "\n",
        "\n",
        "  * z = 1j\n",
        "\n",
        "---"
      ],
      "metadata": {
        "id": "-Ukum9NQjfaR"
      }
    },
    {
      "cell_type": "code",
      "source": [
        "# convert an integer to other two number forms\n",
        "\n",
        "x = 5\n",
        "print(int(x))\n",
        "print(float(x))\n",
        "print(complex(x))"
      ],
      "metadata": {
        "colab": {
          "base_uri": "https://localhost:8080/"
        },
        "id": "-54MhdrvjUs_",
        "outputId": "418c4070-ec5e-497c-83d8-4f366e66e32e"
      },
      "execution_count": 65,
      "outputs": [
        {
          "output_type": "stream",
          "name": "stdout",
          "text": [
            "5\n",
            "5.0\n",
            "(5+0j)\n"
          ]
        }
      ]
    },
    {
      "cell_type": "code",
      "source": [
        "# convert an integer to other two number forms\n",
        "\n",
        "x = 5.5\n",
        "print(int(x))\n",
        "print(float(x))\n",
        "print(complex(x))"
      ],
      "metadata": {
        "colab": {
          "base_uri": "https://localhost:8080/"
        },
        "id": "dBN_PWULk_vC",
        "outputId": "46c13faf-a4b3-4f2b-9d25-0d8f40e9fe32"
      },
      "execution_count": 66,
      "outputs": [
        {
          "output_type": "stream",
          "name": "stdout",
          "text": [
            "5\n",
            "5.5\n",
            "(5.5+0j)\n"
          ]
        }
      ]
    },
    {
      "cell_type": "code",
      "source": [
        "# converting an complex number to other two number forms fails\n",
        "\n",
        "x = 5-3j\n",
        "#print(int(x))\n",
        "#print(float(x))\n",
        "print(complex(x))"
      ],
      "metadata": {
        "colab": {
          "base_uri": "https://localhost:8080/"
        },
        "id": "TrWzZWKplQkH",
        "outputId": "d7cb1f29-2fcc-4473-efa0-ecb87edc9972"
      },
      "execution_count": 72,
      "outputs": [
        {
          "output_type": "stream",
          "name": "stdout",
          "text": [
            "(5-3j)\n"
          ]
        }
      ]
    },
    {
      "cell_type": "code",
      "source": [
        "# converting an complex number to other two number forms fails\n",
        "\n",
        "x = 5-0j\n",
        "print(complex(x))"
      ],
      "metadata": {
        "colab": {
          "base_uri": "https://localhost:8080/"
        },
        "id": "Gd54PpFxlURg",
        "outputId": "e3e3d3c8-a6e4-412d-e8ec-fe09325c3b59"
      },
      "execution_count": 75,
      "outputs": [
        {
          "output_type": "stream",
          "name": "stdout",
          "text": [
            "(5+0j)\n"
          ]
        }
      ]
    },
    {
      "cell_type": "markdown",
      "source": [
        "# Random Number\n"
      ],
      "metadata": {
        "id": "9SP4ktTWn75h"
      }
    },
    {
      "cell_type": "markdown",
      "source": [
        "Python has a built-in module called random that can be used to make random numbers."
      ],
      "metadata": {
        "id": "OAewEzRVn7pR"
      }
    },
    {
      "cell_type": "code",
      "source": [
        "# Import the random module, and display a random number between 1 and 9:\n",
        "\n",
        "import random\n",
        "\n",
        "print(random.randrange(1, 10))"
      ],
      "metadata": {
        "colab": {
          "base_uri": "https://localhost:8080/"
        },
        "id": "dJ5x-Mk4mmZ-",
        "outputId": "6935287f-7e4c-4763-91a7-c253c49444b0"
      },
      "execution_count": 77,
      "outputs": [
        {
          "output_type": "stream",
          "name": "stdout",
          "text": [
            "3\n"
          ]
        }
      ]
    },
    {
      "cell_type": "markdown",
      "source": [
        "# Casting"
      ],
      "metadata": {
        "id": "exiB7fnnorp7"
      }
    },
    {
      "cell_type": "markdown",
      "source": [
        "Casting in python is done using constructor functions:\n",
        "\n",
        "\n",
        "---\n",
        "\n",
        "\n",
        "* int() - constructs an integer number from an integer literal, a float literal (by removing all decimals), or a string literal (providing the string represents a whole number)\n",
        "\n",
        "\n",
        "---\n",
        "\n",
        "\n",
        "* float() - constructs a float number from an integer literal, a float literal or a string literal (providing the string represents a float or an integer)\n",
        "\n",
        "\n",
        "---\n",
        "\n",
        "\n",
        "* str() - constructs a string from a wide variety of data types, including strings, integer literals and float literals\n",
        "\n",
        "\n",
        "---\n",
        "\n"
      ],
      "metadata": {
        "id": "NWxMdti_orcW"
      }
    },
    {
      "cell_type": "code",
      "source": [
        "# Converting to Integer\n",
        "\n",
        "x = int(1)   # x will be 1\n",
        "y = int(2.8) # y will be 2\n",
        "z = int(\"3\") # z will be 3\n",
        "\n",
        "print(x)\n",
        "print(y)\n",
        "print(z)"
      ],
      "metadata": {
        "colab": {
          "base_uri": "https://localhost:8080/"
        },
        "id": "ybBwvMV-oGHm",
        "outputId": "dffbce4e-1ea2-4130-8387-3383f26ed228"
      },
      "execution_count": 81,
      "outputs": [
        {
          "output_type": "stream",
          "name": "stdout",
          "text": [
            "1\n",
            "2\n",
            "3\n"
          ]
        }
      ]
    },
    {
      "cell_type": "code",
      "source": [
        "# Converting to Float\n",
        "\n",
        "x = float(1)     # x will be 1.0\n",
        "y = float(2.8)   # y will be 2.8\n",
        "z = float(\"3\")   # z will be 3.0\n",
        "w = float(\"4.2\") # w will be 4.2\n",
        "\n",
        "print(x)\n",
        "print(y)\n",
        "print(z)\n",
        "print(w)"
      ],
      "metadata": {
        "colab": {
          "base_uri": "https://localhost:8080/"
        },
        "id": "BpW5Fdx4pLkw",
        "outputId": "e8966c36-d909-440e-c187-948158209b96"
      },
      "execution_count": 82,
      "outputs": [
        {
          "output_type": "stream",
          "name": "stdout",
          "text": [
            "1.0\n",
            "2.8\n",
            "3.0\n",
            "4.2\n"
          ]
        }
      ]
    },
    {
      "cell_type": "code",
      "source": [
        "# Converting to string\n",
        "\n",
        "x = str(\"s1\") # x will be 's1'\n",
        "y = str(2)    # y will be '2'\n",
        "z = str(3.0)  # z will be '3.0'\n",
        "print(x)\n",
        "print(y)\n",
        "print(z)"
      ],
      "metadata": {
        "colab": {
          "base_uri": "https://localhost:8080/"
        },
        "id": "0BIjNx1EpOED",
        "outputId": "24781acd-4d49-4b56-9c8e-914f962a3542"
      },
      "execution_count": 85,
      "outputs": [
        {
          "output_type": "stream",
          "name": "stdout",
          "text": [
            "s1\n",
            "2\n",
            "3.0\n"
          ]
        }
      ]
    },
    {
      "cell_type": "code",
      "source": [
        ""
      ],
      "metadata": {
        "id": "bzNXoibQpQ4L"
      },
      "execution_count": null,
      "outputs": []
    }
  ]
}