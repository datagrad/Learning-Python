{
  "nbformat": 4,
  "nbformat_minor": 0,
  "metadata": {
    "colab": {
      "name": "Data Types in Python.ipynb",
      "provenance": [],
      "collapsed_sections": [],
      "toc_visible": true,
      "authorship_tag": "ABX9TyP8jLQRKm97swcSUWEOmdqI",
      "include_colab_link": true
    },
    "kernelspec": {
      "name": "python3",
      "display_name": "Python 3"
    },
    "language_info": {
      "name": "python"
    }
  },
  "cells": [
    {
      "cell_type": "markdown",
      "metadata": {
        "id": "view-in-github",
        "colab_type": "text"
      },
      "source": [
        "<a href=\"https://colab.research.google.com/github/datagrad/Learning-Python/blob/main/Data_Types_in_Python.ipynb\" target=\"_parent\"><img src=\"https://colab.research.google.com/assets/colab-badge.svg\" alt=\"Open In Colab\"/></a>"
      ]
    },
    {
      "cell_type": "markdown",
      "source": [
        "# Data Types\n",
        "\n",
        "Python has the following data types built-in by default, in these categories:\n",
        "\n",
        "* Text Type:\t`str`\n",
        "* Numeric Types:\t`int`, `float`, `complex`\n",
        "* Sequence Types:\t`list`, `tuple`, `range`\n",
        "* Mapping Type:\t`dict`\n",
        "* Set Types:\t`set`, `frozenset`\n",
        "* Boolean Type:\t`bool`\n",
        "* Binary Types:\t`bytes`, `bytearray`, `memoryview`"
      ],
      "metadata": {
        "id": "wmWg-T3RXScA"
      }
    },
    {
      "cell_type": "code",
      "execution_count": null,
      "metadata": {
        "id": "rmdKJaQIXIWY"
      },
      "outputs": [],
      "source": [
        ""
      ]
    },
    {
      "cell_type": "markdown",
      "source": [
        "## Finding the data type of given data"
      ],
      "metadata": {
        "id": "kgrceJIfXyXm"
      }
    },
    {
      "cell_type": "code",
      "source": [
        "x = 5\n",
        "y = \"My Text\"\n",
        "\n",
        "print(type(x))\n",
        "print(type(y))\n"
      ],
      "metadata": {
        "colab": {
          "base_uri": "https://localhost:8080/"
        },
        "id": "-MN_rOzLX_fk",
        "outputId": "00b50fa0-bdc8-4eaa-859d-fe4afcf43205"
      },
      "execution_count": 5,
      "outputs": [
        {
          "output_type": "stream",
          "name": "stdout",
          "text": [
            "<class 'int'>\n",
            "<class 'str'>\n"
          ]
        }
      ]
    },
    {
      "cell_type": "markdown",
      "source": [
        "\n",
        "---\n",
        "\n",
        "## string\t\n",
        "a = \"Hello World\"\t\n",
        "\n",
        "---\n",
        "\n",
        "## Integer\n",
        "b = 20\n",
        "\n",
        "---\n",
        "\n",
        "## float\t\n",
        "c = 20.5\n",
        "\n",
        "---\n",
        "\n",
        "## complex\n",
        "d = 1j\t\n",
        "\n",
        "---\n",
        "\n",
        "## list\t\n",
        "e = [\"apple\", \"banana\", \"cherry\"]\n",
        "\n",
        "---\n",
        "\n",
        "## tuple\t\n",
        "f = (\"apple\", \"banana\", \"cherry\")\n",
        "\n",
        "---\n",
        "\n",
        "## range\t\n",
        "g = range(6)\n",
        "\n",
        "---\n",
        "\n",
        "\n",
        "## dict\t\n",
        "h = {\"name\" : \"John\", \"age\" : 36}\n",
        "\n",
        "---\n",
        "\n",
        "## set\t\n",
        "i = {\"apple\", \"banana\", \"cherry\"}\n",
        "\n",
        "---\n",
        "\n",
        "## frozenset\t\n",
        "j = frozenset({\"apple\", \"banana\", \"cherry\"})\n",
        "\n",
        "---\n",
        "\n",
        "## bool\t\n",
        "k = True\n",
        "\n",
        "---\n",
        "\n",
        "## bytes\t\n",
        "l = b\"Hello\"\n",
        "\n",
        "---\n",
        "\n",
        "## bytearray\t\n",
        "m = bytearray(5)\n",
        "\n",
        "---\n",
        "\n",
        "## memoryview\n",
        "n = memoryview(bytes(5))\n",
        "\n",
        "---"
      ],
      "metadata": {
        "id": "BU_xWmXIZHXG"
      }
    },
    {
      "cell_type": "code",
      "source": [
        "# string\t\n",
        "a = \"Hello World\"\t\n",
        "print(type(a))"
      ],
      "metadata": {
        "colab": {
          "base_uri": "https://localhost:8080/"
        },
        "id": "Xp5rUCuWYUrv",
        "outputId": "5a7d7b7d-9036-49d8-94c1-f057f8251b2c"
      },
      "execution_count": 22,
      "outputs": [
        {
          "output_type": "stream",
          "name": "stdout",
          "text": [
            "<class 'str'>\n"
          ]
        }
      ]
    },
    {
      "cell_type": "code",
      "source": [
        "# Integer\n",
        "b = 20\n",
        "print(type(b))"
      ],
      "metadata": {
        "colab": {
          "base_uri": "https://localhost:8080/"
        },
        "id": "gXNPOPAybt_K",
        "outputId": "9d37eda2-c742-4ada-938d-a6a466fda7e2"
      },
      "execution_count": 23,
      "outputs": [
        {
          "output_type": "stream",
          "name": "stdout",
          "text": [
            "<class 'int'>\n"
          ]
        }
      ]
    },
    {
      "cell_type": "code",
      "source": [
        "# float\t\n",
        "c = 20.5\n",
        "print(type(c))\n"
      ],
      "metadata": {
        "colab": {
          "base_uri": "https://localhost:8080/"
        },
        "id": "_okeP447bunB",
        "outputId": "f25cfbde-926c-48eb-ddef-da3487a2fd53"
      },
      "execution_count": 24,
      "outputs": [
        {
          "output_type": "stream",
          "name": "stdout",
          "text": [
            "<class 'float'>\n"
          ]
        }
      ]
    },
    {
      "cell_type": "code",
      "source": [
        "# complex\n",
        "d = 1j\t\n",
        "print(type(d))\n"
      ],
      "metadata": {
        "colab": {
          "base_uri": "https://localhost:8080/"
        },
        "id": "vNs-9cxvbvC-",
        "outputId": "632a6ce0-67de-4775-e63c-0f4e303c7a98"
      },
      "execution_count": 25,
      "outputs": [
        {
          "output_type": "stream",
          "name": "stdout",
          "text": [
            "<class 'complex'>\n"
          ]
        }
      ]
    },
    {
      "cell_type": "code",
      "source": [
        "# list\t\n",
        "e = [\"apple\", \"banana\", \"cherry\"]\n",
        "print(type(e))\n",
        "\n"
      ],
      "metadata": {
        "colab": {
          "base_uri": "https://localhost:8080/"
        },
        "id": "UlI1oWwqbvcE",
        "outputId": "f581944b-7219-4918-db2d-87622aeb29f1"
      },
      "execution_count": 26,
      "outputs": [
        {
          "output_type": "stream",
          "name": "stdout",
          "text": [
            "<class 'list'>\n"
          ]
        }
      ]
    },
    {
      "cell_type": "code",
      "source": [
        "# tuple\t\n",
        "f = (\"apple\", \"banana\", \"cherry\")\n",
        "print(type(f))\n"
      ],
      "metadata": {
        "colab": {
          "base_uri": "https://localhost:8080/"
        },
        "id": "xErYc4Q6bxNn",
        "outputId": "cf32866c-a6a9-409c-8bc1-06e4b7d8963f"
      },
      "execution_count": 27,
      "outputs": [
        {
          "output_type": "stream",
          "name": "stdout",
          "text": [
            "<class 'tuple'>\n"
          ]
        }
      ]
    },
    {
      "cell_type": "code",
      "source": [
        "# range\t\n",
        "g = range(6)\n",
        "print(type(g))\n"
      ],
      "metadata": {
        "colab": {
          "base_uri": "https://localhost:8080/"
        },
        "id": "SmycGPPvb2q6",
        "outputId": "a3d0e7ad-1630-4930-897d-e057e2da9666"
      },
      "execution_count": 28,
      "outputs": [
        {
          "output_type": "stream",
          "name": "stdout",
          "text": [
            "<class 'range'>\n"
          ]
        }
      ]
    },
    {
      "cell_type": "code",
      "source": [
        "# dict\t\n",
        "h = {\"name\" : \"John\", \"age\" : 36}\n",
        "print(type(h))\n"
      ],
      "metadata": {
        "colab": {
          "base_uri": "https://localhost:8080/"
        },
        "id": "9lYGPfADb3qu",
        "outputId": "b60aaf62-e98e-4739-c3a1-2ab800eb9b9c"
      },
      "execution_count": 29,
      "outputs": [
        {
          "output_type": "stream",
          "name": "stdout",
          "text": [
            "<class 'dict'>\n"
          ]
        }
      ]
    },
    {
      "cell_type": "code",
      "source": [
        "# set\t\n",
        "i = {\"apple\", \"banana\", \"cherry\"}\n",
        "print(type(i))\n"
      ],
      "metadata": {
        "colab": {
          "base_uri": "https://localhost:8080/"
        },
        "id": "FlTr_3iLel8N",
        "outputId": "bbd6fbd9-3539-4c2b-a27c-f5de514f7ea1"
      },
      "execution_count": 30,
      "outputs": [
        {
          "output_type": "stream",
          "name": "stdout",
          "text": [
            "<class 'set'>\n"
          ]
        }
      ]
    },
    {
      "cell_type": "code",
      "source": [
        "# frozenset\t\n",
        "j = frozenset({\"apple\", \"banana\", \"cherry\"})\n",
        "print(type(j))\n"
      ],
      "metadata": {
        "colab": {
          "base_uri": "https://localhost:8080/"
        },
        "id": "5hPCmG98entZ",
        "outputId": "1cf55b3f-0bcf-46e5-8d96-f62835cdcddb"
      },
      "execution_count": 31,
      "outputs": [
        {
          "output_type": "stream",
          "name": "stdout",
          "text": [
            "<class 'frozenset'>\n"
          ]
        }
      ]
    },
    {
      "cell_type": "code",
      "source": [
        "# bool\t\n",
        "k = True\n",
        "print(type(k))\n"
      ],
      "metadata": {
        "colab": {
          "base_uri": "https://localhost:8080/"
        },
        "id": "DGrI2rv4epjT",
        "outputId": "fd142b58-f242-4ec8-fd31-6607d3007dc9"
      },
      "execution_count": 32,
      "outputs": [
        {
          "output_type": "stream",
          "name": "stdout",
          "text": [
            "<class 'bool'>\n"
          ]
        }
      ]
    },
    {
      "cell_type": "code",
      "source": [
        "# bytes\t\n",
        "l = b\"Hello\"\n",
        "print(type(l))"
      ],
      "metadata": {
        "colab": {
          "base_uri": "https://localhost:8080/"
        },
        "id": "X-u_dtlferV3",
        "outputId": "71a861bf-dae9-4ebb-c557-570bbd1133fb"
      },
      "execution_count": 19,
      "outputs": [
        {
          "output_type": "stream",
          "name": "stdout",
          "text": [
            "<class 'bytes'>\n"
          ]
        }
      ]
    },
    {
      "cell_type": "code",
      "source": [
        "# bytearray\t\n",
        "m = bytearray(5)\n",
        "print(type(m))\n",
        "\n"
      ],
      "metadata": {
        "colab": {
          "base_uri": "https://localhost:8080/"
        },
        "id": "vrPt1peAetGO",
        "outputId": "e10c826d-00c4-47b7-e042-10f5fde11f2e"
      },
      "execution_count": 20,
      "outputs": [
        {
          "output_type": "stream",
          "name": "stdout",
          "text": [
            "<class 'bytearray'>\n"
          ]
        }
      ]
    },
    {
      "cell_type": "code",
      "source": [
        "\n",
        "# memoryview\n",
        "n = memoryview(bytes(5))\n",
        "print(type(n))"
      ],
      "metadata": {
        "colab": {
          "base_uri": "https://localhost:8080/"
        },
        "id": "7IAMoWaMeuon",
        "outputId": "3fb9b4df-d7eb-4f06-eec4-f685d9f97258"
      },
      "execution_count": 21,
      "outputs": [
        {
          "output_type": "stream",
          "name": "stdout",
          "text": [
            "<class 'memoryview'>\n"
          ]
        }
      ]
    },
    {
      "cell_type": "code",
      "source": [
        ""
      ],
      "metadata": {
        "id": "qqHLagDievwv"
      },
      "execution_count": null,
      "outputs": []
    }
  ]
}