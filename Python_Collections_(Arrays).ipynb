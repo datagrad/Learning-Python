{
  "nbformat": 4,
  "nbformat_minor": 0,
  "metadata": {
    "colab": {
      "name": "Python Collections (Arrays).ipynb",
      "provenance": [],
      "toc_visible": true,
      "authorship_tag": "ABX9TyPCyXWU2f5MW+h6czpz350t",
      "include_colab_link": true
    },
    "kernelspec": {
      "name": "python3",
      "display_name": "Python 3"
    },
    "language_info": {
      "name": "python"
    }
  },
  "cells": [
    {
      "cell_type": "markdown",
      "metadata": {
        "id": "view-in-github",
        "colab_type": "text"
      },
      "source": [
        "<a href=\"https://colab.research.google.com/github/datagrad/Learning-Python/blob/main/Python_Collections_(Arrays).ipynb\" target=\"_parent\"><img src=\"https://colab.research.google.com/assets/colab-badge.svg\" alt=\"Open In Colab\"/></a>"
      ]
    },
    {
      "cell_type": "markdown",
      "source": [
        "# Intro to Arrays"
      ],
      "metadata": {
        "id": "EMe0fPWDnj8t"
      }
    },
    {
      "cell_type": "markdown",
      "source": [
        "There are four collection data types in the Python programming language:\n",
        "\n",
        "1. **List** is an ordered and changeable collection that allows duplicate members.\n",
        "        [1,2,3]\n",
        "\n",
        "\n",
        "---\n",
        "\n",
        "\n",
        "\n",
        "2. **Set** is an unordered, unchangeable, and unindexed collection that can't have any duplicate members. \n",
        "        {1,2,3}\n",
        "\n",
        "\n",
        "---\n",
        "\n",
        "\n",
        "\n",
        "3. **Tuple** is an ordered and unchangeable collection that allows duplicate members.\n",
        "        (1,2,3)\n",
        "\n",
        "\n",
        "\n",
        "---\n",
        "\n",
        "\n",
        "4. **Dictionary** is an ordered and changeable collection without any duplicate members, it can have duplicate values for distinct key, but can never have duplicate key.\n",
        "        {5:'Five', 3:'Three', 10:'Ten'}\n",
        "\n",
        "\n",
        "\n",
        "---\n",
        "\n"
      ],
      "metadata": {
        "id": "Mo9t1TesvqmZ"
      }
    },
    {
      "cell_type": "markdown",
      "source": [
        "# Adding and Removing Items from List, Set, Dictionary\n",
        "**Note that tuples are immutable.**\n"
      ],
      "metadata": {
        "id": "zf3DOf051Fsz"
      }
    },
    {
      "cell_type": "markdown",
      "source": [
        "## Lists"
      ],
      "metadata": {
        "id": "HytdMYyk1UJx"
      }
    },
    {
      "cell_type": "code",
      "execution_count": null,
      "metadata": {
        "colab": {
          "base_uri": "https://localhost:8080/"
        },
        "id": "z_UUpdl5vn4b",
        "outputId": "54c28e2f-deb8-4987-b690-f3dd2dece02e"
      },
      "outputs": [
        {
          "output_type": "stream",
          "name": "stdout",
          "text": [
            "Adding a and 10 in list ['a', 10]\n",
            "Popped one element from end of the list ['a']\n",
            "\n"
          ]
        }
      ],
      "source": [
        "l = []\n",
        "\n",
        "# Adding Element into list\n",
        "l.append(\"a\")\n",
        "l.append(10)\n",
        "print(\"Adding a and 10 in list\", l)\n",
        "\n",
        "# Popping Elements from list\n",
        "l.pop()\n",
        "print(\"Popped one element from end of the list\", l)\n",
        "print()\n"
      ]
    },
    {
      "cell_type": "markdown",
      "source": [
        "## Set"
      ],
      "metadata": {
        "id": "Rn9xKZKx1l08"
      }
    },
    {
      "cell_type": "code",
      "source": [
        "\n",
        "s = set()\n",
        "\n",
        "# Adding element into set\n",
        "s.add(\"abc\")\n",
        "s.add(10)\n",
        "print(\"Adding abc and 10 in set\", s)\n",
        "\n",
        "# Removing element from set\n",
        "s.remove(\"abc\")\n",
        "print(\"Removing abc from set\", s)\n",
        "print()\n",
        "\n"
      ],
      "metadata": {
        "colab": {
          "base_uri": "https://localhost:8080/"
        },
        "id": "Eg6Xm1Vyznhn",
        "outputId": "945626a0-a0a1-4164-fa87-92a7b5b9d1fe"
      },
      "execution_count": null,
      "outputs": [
        {
          "output_type": "stream",
          "name": "stdout",
          "text": [
            "Adding abc and 10 in set {10, 'abc'}\n",
            "Removing abc from set {10}\n",
            "\n"
          ]
        }
      ]
    },
    {
      "cell_type": "markdown",
      "source": [
        "## Tuple"
      ],
      "metadata": {
        "id": "RtHCmIva1pqm"
      }
    },
    {
      "cell_type": "code",
      "source": [
        "#Creating a tuple with elements of a list\n",
        "\n",
        "list_p=[1,\"abc\",3.5]\n",
        "\n",
        "t = tuple(list_p)\n",
        "print(\"Tuple\", t)\n",
        "print()\n",
        "\n",
        "# cant add or remove an item, Tuples are immutable!\n",
        "\n",
        "\n",
        "#creating a tuple with simple elements \n",
        "thistuple = (\"apple\", \"banana\", \"cherry\")\n",
        "print(thistuple)\n"
      ],
      "metadata": {
        "colab": {
          "base_uri": "https://localhost:8080/"
        },
        "id": "-7n9XR4EzpeO",
        "outputId": "74605115-8acb-4bf2-c52d-af461f83060e"
      },
      "execution_count": null,
      "outputs": [
        {
          "output_type": "stream",
          "name": "stdout",
          "text": [
            "Tuple (1, 'abc', 3.5)\n",
            "\n",
            "('apple', 'banana', 'cherry')\n"
          ]
        }
      ]
    },
    {
      "cell_type": "markdown",
      "source": [
        "## Dictionary"
      ],
      "metadata": {
        "id": "KWZva8vP1sTm"
      }
    },
    {
      "cell_type": "code",
      "source": [
        "d = {}\n",
        "\n",
        "# Adding key value pair to dictionary\n",
        "d[5] = \"Five\"\n",
        "d[3] = \"Three\"\n",
        "d[10] = \"Ten\"\n",
        "print(\"Dictionary\", d)\n",
        "\n",
        "# dropping a key-value pair\n",
        "del d[10]\n",
        "print(\"Dictionary\", d)\n",
        "\n"
      ],
      "metadata": {
        "colab": {
          "base_uri": "https://localhost:8080/"
        },
        "id": "pNIpjLxZzrhE",
        "outputId": "3e632149-9350-4343-c64a-59408644b3a9"
      },
      "execution_count": null,
      "outputs": [
        {
          "output_type": "stream",
          "name": "stdout",
          "text": [
            "Dictionary {5: 'Five', 3: 'Three', 10: 'Ten'}\n",
            "Dictionary {5: 'Five', 3: 'Three'}\n"
          ]
        }
      ]
    },
    {
      "cell_type": "markdown",
      "source": [
        "# List\n",
        "\n",
        "\n",
        "* Lists need not be homogeneous always which makes it the most powerful tool in Python. \n",
        "* A single list may contain DataTypes like Integers, Strings, as well as Objects.\n",
        "* Lists are **mutable**, and hence, they can be altered even after their creation.\n",
        "* List in Python are ordered and have a definite count.\n",
        "* The elements in a list are indexed according to a **definite sequence** and the indexing of a list is done with **0 being the first index**.\n",
        "* Each element in the list has its definite place in the list, which **allows duplicating of elements in the list**, with each element having its own distinct place and credibility.\n",
        "\n",
        "* Lists are a useful tool for preserving a sequence of data and further iterating over it."
      ],
      "metadata": {
        "id": "XkrbOiyOEVA6"
      }
    },
    {
      "cell_type": "code",
      "source": [
        "# Python program to demonstrate\n",
        "# Creation of List\n",
        "\n",
        "# Creating a List\n",
        "List_e = []\n",
        "print(\"Blank List: \")\n",
        "print(List_e)\n",
        "\n",
        "# Creating a List of numbers\n",
        "List_n = [10, 20, 14]\n",
        "print(\"\\nList of numbers: \")\n",
        "print(List_n)\n",
        "\n",
        "# Creating a List of strings and accessing\n",
        "# using index\n",
        "List_s = [\"Geeks\", \"For\", \"Geeks\"]\n",
        "print(\"\\nList Items: \")\n",
        "print(List_s[0])\n",
        "print(List_s[2])\n",
        "\n",
        "# Creating a Multi-Dimensional List\n",
        "# (By Nesting a list inside a List)\n",
        "List = [['Geeks', 'For'], ['Geeks']]\n",
        "print(\"\\nMulti-Dimensional List: \")\n",
        "print(List)\n",
        "print(List[0])\n",
        "print(List[1])"
      ],
      "metadata": {
        "colab": {
          "base_uri": "https://localhost:8080/"
        },
        "id": "Jose90AR0Idr",
        "outputId": "b5a338c3-3cb0-4d36-b234-efcbc2f9a39e"
      },
      "execution_count": null,
      "outputs": [
        {
          "output_type": "stream",
          "name": "stdout",
          "text": [
            "Blank List: \n",
            "[]\n",
            "\n",
            "List of numbers: \n",
            "[10, 20, 14]\n",
            "\n",
            "List Items: \n",
            "Geeks\n",
            "Geeks\n",
            "\n",
            "Multi-Dimensional List: \n",
            "[['Geeks', 'For'], ['Geeks']]\n",
            "['Geeks', 'For']\n",
            "['Geeks']\n"
          ]
        }
      ]
    },
    {
      "cell_type": "code",
      "source": [
        "# Creating a List with\n",
        "# the use of Numbers\n",
        "# (Having duplicate values)\n",
        "List = [1, 2, 4, 4, 3, 3, 3, 6, 5]\n",
        "print(\"\\nList with the use of Numbers: \")\n",
        "print(List)\n",
        "\n",
        "# Creating a List with\n",
        "# mixed type of values\n",
        "# (Having numbers and strings)\n",
        "List = [1, 2, 'Geeks', 4, 'For', 6, 'Geeks']\n",
        "print(\"\\nList with the use of Mixed Values: \")\n",
        "print(List)\n"
      ],
      "metadata": {
        "colab": {
          "base_uri": "https://localhost:8080/"
        },
        "id": "XiHoqmsLFAnQ",
        "outputId": "b0483c22-e305-4dd1-b86f-34a9ccba1c78"
      },
      "execution_count": null,
      "outputs": [
        {
          "output_type": "stream",
          "name": "stdout",
          "text": [
            "\n",
            "List with the use of Numbers: \n",
            "[1, 2, 4, 4, 3, 3, 3, 6, 5]\n",
            "\n",
            "List with the use of Mixed Values: \n",
            "[1, 2, 'Geeks', 4, 'For', 6, 'Geeks']\n"
          ]
        }
      ]
    },
    {
      "cell_type": "markdown",
      "source": [
        "## Size of List"
      ],
      "metadata": {
        "id": "R8-GAw49F7m5"
      }
    },
    {
      "cell_type": "code",
      "source": [
        "# Creating a List\n",
        "List1 = []\n",
        "print(len(List1))\n",
        "\n",
        "# Creating a List of numbers\n",
        "List2 = [10, 20, 14]\n",
        "print(len(List2))\n"
      ],
      "metadata": {
        "colab": {
          "base_uri": "https://localhost:8080/"
        },
        "id": "_atin17tF2JS",
        "outputId": "7dd97bd4-f2b6-4a85-c66d-c0bf3191c2c8"
      },
      "execution_count": null,
      "outputs": [
        {
          "output_type": "stream",
          "name": "stdout",
          "text": [
            "0\n",
            "3\n"
          ]
        }
      ]
    },
    {
      "cell_type": "code",
      "source": [
        "List_n = [['Geeks', 'For'], ['Geeks']]\n",
        "print(len(List_n))"
      ],
      "metadata": {
        "colab": {
          "base_uri": "https://localhost:8080/"
        },
        "id": "XwQe1kbsF6r1",
        "outputId": "4bba90ee-200e-4465-eef3-f3eab5a9d49a"
      },
      "execution_count": null,
      "outputs": [
        {
          "output_type": "stream",
          "name": "stdout",
          "text": [
            "2\n"
          ]
        }
      ]
    },
    {
      "cell_type": "code",
      "source": [
        "List_n.append(3)\n",
        "print(List_n)"
      ],
      "metadata": {
        "colab": {
          "base_uri": "https://localhost:8080/"
        },
        "id": "YA2YajRBGHe_",
        "outputId": "c4023337-9772-4ef9-dc5a-4bcfca5b94c3"
      },
      "execution_count": null,
      "outputs": [
        {
          "output_type": "stream",
          "name": "stdout",
          "text": [
            "[['Geeks', 'For'], ['Geeks'], 3, 3]\n"
          ]
        }
      ]
    },
    {
      "cell_type": "code",
      "source": [
        "List_n.append([4,5,6,7,4])\n",
        "print(List_n)\n"
      ],
      "metadata": {
        "colab": {
          "base_uri": "https://localhost:8080/"
        },
        "id": "iLenVhyjGQfO",
        "outputId": "ed679c82-d330-4da0-fb1b-f3ce03474a37"
      },
      "execution_count": null,
      "outputs": [
        {
          "output_type": "stream",
          "name": "stdout",
          "text": [
            "[['Geeks', 'For'], ['Geeks'], 3, 3, [4, 5, 6, 7, 4]]\n"
          ]
        }
      ]
    },
    {
      "cell_type": "code",
      "source": [
        "print(len(List_n))"
      ],
      "metadata": {
        "colab": {
          "base_uri": "https://localhost:8080/"
        },
        "id": "VbJ3Z6iPGbnn",
        "outputId": "a43db9f7-74ed-4297-8016-bbb11ba09a11"
      },
      "execution_count": null,
      "outputs": [
        {
          "output_type": "stream",
          "name": "stdout",
          "text": [
            "5\n"
          ]
        }
      ]
    },
    {
      "cell_type": "markdown",
      "source": [
        "## Adding element to the list using append"
      ],
      "metadata": {
        "id": "8ZCgor1eJaD3"
      }
    },
    {
      "cell_type": "code",
      "source": [
        "# Adding elements to the List using Iterator\n",
        "for i in range(1, 4):\n",
        "    List_n.append(i)\n",
        "print(\"\\nList after Addition of elements from 1-3: \")\n",
        "print(List_n)"
      ],
      "metadata": {
        "colab": {
          "base_uri": "https://localhost:8080/"
        },
        "id": "Y_n9Bl23GhrO",
        "outputId": "4b592cb7-540f-4819-d5d1-9a1626de5728"
      },
      "execution_count": null,
      "outputs": [
        {
          "output_type": "stream",
          "name": "stdout",
          "text": [
            "\n",
            "List after Addition of elements from 1-3: \n",
            "[['Geeks', 'For'], ['Geeks'], 3, 3, [4, 5, 6, 7, 4], 1, 2, 3, 1, 2, 3]\n"
          ]
        }
      ]
    },
    {
      "cell_type": "code",
      "source": [
        "# Adding elements to the List using Iterator\n",
        "for i in range(1, 2):\n",
        "    List_n.append(i)\n",
        "print(\"\\nList after Addition of elements from 1-3: \")\n",
        "print(List_n)"
      ],
      "metadata": {
        "colab": {
          "base_uri": "https://localhost:8080/"
        },
        "id": "kWPCb2LXGwIQ",
        "outputId": "8ad3e6b7-cc05-4ce0-e6c5-e52d3b56c527"
      },
      "execution_count": null,
      "outputs": [
        {
          "output_type": "stream",
          "name": "stdout",
          "text": [
            "\n",
            "List after Addition of elements from 1-3: \n",
            "[['Geeks', 'For'], ['Geeks'], 3, 3, [4, 5, 6, 7, 4], 1, 2, 3, 1, 2, 3, 1, 1]\n"
          ]
        }
      ]
    },
    {
      "cell_type": "code",
      "source": [
        "# Adding Tuples to the List\n",
        "List.append((5, 6))\n",
        "print(\"\\nList after Addition of a Tuple: \")\n",
        "print(List)"
      ],
      "metadata": {
        "colab": {
          "base_uri": "https://localhost:8080/"
        },
        "id": "ExTNRWw1G7Cu",
        "outputId": "f59577ac-4638-4741-f2ec-c02884c8cb77"
      },
      "execution_count": null,
      "outputs": [
        {
          "output_type": "stream",
          "name": "stdout",
          "text": [
            "\n",
            "List after Addition of a Tuple: \n",
            "[1, 2, 'Geeks', 4, 'For', 6, 'Geeks', (5, 6), (5, 6)]\n"
          ]
        }
      ]
    },
    {
      "cell_type": "code",
      "source": [
        "# Addition of List to a List\n",
        "List2 = ['For', 'Geeks']\n",
        "List.append(List2)\n",
        "print(\"\\nList after Addition of a List: \")\n",
        "print(List)"
      ],
      "metadata": {
        "colab": {
          "base_uri": "https://localhost:8080/"
        },
        "id": "QmtIM0X9IQTE",
        "outputId": "f49fa67d-0ed9-44d7-b13c-ecc7dd4d075f"
      },
      "execution_count": null,
      "outputs": [
        {
          "output_type": "stream",
          "name": "stdout",
          "text": [
            "\n",
            "List after Addition of a List: \n",
            "[1, 2, 'Geeks', 4, 'For', 6, 'Geeks', (5, 6), (5, 6), ['For', 'Geeks'], ['For', 'Geeks']]\n"
          ]
        }
      ]
    },
    {
      "cell_type": "markdown",
      "source": [
        "## Add elements to the list using insert() method\n",
        "`List.insert(0, 'Geeks')`\n",
        "* append() method only works for the addition of elements at the end of the List\n",
        "* insert() method is used for addition of elements at the desired position.\n",
        "* insert() method requires two `arguments(position, value)`"
      ],
      "metadata": {
        "id": "q5ghrUkZIm-E"
      }
    },
    {
      "cell_type": "code",
      "source": [
        "# Python program to demonstrate\n",
        "# Addition of elements in a List\n",
        "\n",
        "# Creating a List\n",
        "List = [1,2,3,4]\n",
        "print(\"Initial List: \")\n",
        "print(List)\n",
        "\n",
        "# Addition of Element at\n",
        "# specific Position\n",
        "# (using Insert Method)\n",
        "List.insert(3, 12)\n",
        "List.insert(0, 'Geeks')\n",
        "print(\"\\nList after performing Insert Operation: \")\n",
        "print(List)\n"
      ],
      "metadata": {
        "colab": {
          "base_uri": "https://localhost:8080/"
        },
        "id": "HS4-HJB5IXwa",
        "outputId": "c8783078-9539-40eb-e7c0-52f0cdded7c2"
      },
      "execution_count": null,
      "outputs": [
        {
          "output_type": "stream",
          "name": "stdout",
          "text": [
            "Initial List: \n",
            "[1, 2, 3, 4]\n",
            "\n",
            "List after performing Insert Operation: \n",
            "['Geeks', 1, 2, 3, 12, 4]\n"
          ]
        }
      ]
    },
    {
      "cell_type": "code",
      "source": [
        ""
      ],
      "metadata": {
        "id": "kD7-NrA2JKQH"
      },
      "execution_count": null,
      "outputs": []
    }
  ]
}