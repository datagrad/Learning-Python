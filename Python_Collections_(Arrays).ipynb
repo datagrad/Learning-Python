{
  "nbformat": 4,
  "nbformat_minor": 0,
  "metadata": {
    "colab": {
      "name": "Python Collections (Arrays).ipynb",
      "provenance": [],
      "authorship_tag": "ABX9TyOfRliQRyercq7FitjlU7B7",
      "include_colab_link": true
    },
    "kernelspec": {
      "name": "python3",
      "display_name": "Python 3"
    },
    "language_info": {
      "name": "python"
    }
  },
  "cells": [
    {
      "cell_type": "markdown",
      "metadata": {
        "id": "view-in-github",
        "colab_type": "text"
      },
      "source": [
        "<a href=\"https://colab.research.google.com/github/datagrad/Learning-Python/blob/main/Python_Collections_(Arrays).ipynb\" target=\"_parent\"><img src=\"https://colab.research.google.com/assets/colab-badge.svg\" alt=\"Open In Colab\"/></a>"
      ]
    },
    {
      "cell_type": "markdown",
      "source": [
        "There are four collection data types in the Python programming language:\n",
        "\n",
        "1. **List** is an ordered and changeable collection that allows duplicate members. \n",
        "2. **Tuple** is an ordered and unchangeable collection that allows duplicate members.\n",
        "3. **Set** is an unordered, unchangeable, and unindexed collection that can't have any duplicate members.\n",
        "4. **Dictionary** is an ordered and changeable collection without any duplicate members, it can have duplicate values for distinct key, but can never have duplicate key."
      ],
      "metadata": {
        "id": "Mo9t1TesvqmZ"
      }
    },
    {
      "cell_type": "markdown",
      "source": [
        "# Adding and Removing Items from List, Set, Dictionary\n",
        "Note that tuples are immutable."
      ],
      "metadata": {
        "id": "zf3DOf051Fsz"
      }
    },
    {
      "cell_type": "markdown",
      "source": [
        "## Lists"
      ],
      "metadata": {
        "id": "HytdMYyk1UJx"
      }
    },
    {
      "cell_type": "code",
      "execution_count": 6,
      "metadata": {
        "colab": {
          "base_uri": "https://localhost:8080/"
        },
        "id": "z_UUpdl5vn4b",
        "outputId": "54c28e2f-deb8-4987-b690-f3dd2dece02e"
      },
      "outputs": [
        {
          "output_type": "stream",
          "name": "stdout",
          "text": [
            "Adding a and 10 in list ['a', 10]\n",
            "Popped one element from end of the list ['a']\n",
            "\n"
          ]
        }
      ],
      "source": [
        "l = []\n",
        "\n",
        "# Adding Element into list\n",
        "l.append(\"a\")\n",
        "l.append(10)\n",
        "print(\"Adding a and 10 in list\", l)\n",
        "\n",
        "# Popping Elements from list\n",
        "l.pop()\n",
        "print(\"Popped one element from end of the list\", l)\n",
        "print()\n"
      ]
    },
    {
      "cell_type": "markdown",
      "source": [
        "## Set"
      ],
      "metadata": {
        "id": "Rn9xKZKx1l08"
      }
    },
    {
      "cell_type": "code",
      "source": [
        "\n",
        "s = set()\n",
        "\n",
        "# Adding element into set\n",
        "s.add(\"abc\")\n",
        "s.add(10)\n",
        "print(\"Adding abc and 10 in set\", s)\n",
        "\n",
        "# Removing element from set\n",
        "s.remove(\"abc\")\n",
        "print(\"Removing abc from set\", s)\n",
        "print()\n",
        "\n"
      ],
      "metadata": {
        "colab": {
          "base_uri": "https://localhost:8080/"
        },
        "id": "Eg6Xm1Vyznhn",
        "outputId": "945626a0-a0a1-4164-fa87-92a7b5b9d1fe"
      },
      "execution_count": 9,
      "outputs": [
        {
          "output_type": "stream",
          "name": "stdout",
          "text": [
            "Adding abc and 10 in set {10, 'abc'}\n",
            "Removing abc from set {10}\n",
            "\n"
          ]
        }
      ]
    },
    {
      "cell_type": "markdown",
      "source": [
        "## Tuple"
      ],
      "metadata": {
        "id": "RtHCmIva1pqm"
      }
    },
    {
      "cell_type": "code",
      "source": [
        "#Creating a tuple with elements of a list\n",
        "\n",
        "list_p=[1,\"abc\",3.5]\n",
        "\n",
        "t = tuple(list_p)\n",
        "print(\"Tuple\", t)\n",
        "print()\n",
        "\n",
        "# cant add or remove an item, Tuples are immutable!\n",
        "\n",
        "\n",
        "#creating a tuple with simple elements \n",
        "thistuple = (\"apple\", \"banana\", \"cherry\")\n",
        "print(thistuple)\n"
      ],
      "metadata": {
        "colab": {
          "base_uri": "https://localhost:8080/"
        },
        "id": "-7n9XR4EzpeO",
        "outputId": "74605115-8acb-4bf2-c52d-af461f83060e"
      },
      "execution_count": 17,
      "outputs": [
        {
          "output_type": "stream",
          "name": "stdout",
          "text": [
            "Tuple (1, 'abc', 3.5)\n",
            "\n",
            "('apple', 'banana', 'cherry')\n"
          ]
        }
      ]
    },
    {
      "cell_type": "markdown",
      "source": [
        "## Dictionary"
      ],
      "metadata": {
        "id": "KWZva8vP1sTm"
      }
    },
    {
      "cell_type": "code",
      "source": [
        "d = {}\n",
        "\n",
        "# Adding key value pair to dictionary\n",
        "d[5] = \"Five\"\n",
        "d[3] = \"Three\"\n",
        "d[10] = \"Ten\"\n",
        "print(\"Dictionary\", d)\n",
        "\n",
        "# dropping a key-value pair\n",
        "del d[10]\n",
        "print(\"Dictionary\", d)\n",
        "\n"
      ],
      "metadata": {
        "colab": {
          "base_uri": "https://localhost:8080/"
        },
        "id": "pNIpjLxZzrhE",
        "outputId": "3e632149-9350-4343-c64a-59408644b3a9"
      },
      "execution_count": 18,
      "outputs": [
        {
          "output_type": "stream",
          "name": "stdout",
          "text": [
            "Dictionary {5: 'Five', 3: 'Three', 10: 'Ten'}\n",
            "Dictionary {5: 'Five', 3: 'Three'}\n"
          ]
        }
      ]
    },
    {
      "cell_type": "code",
      "source": [
        ""
      ],
      "metadata": {
        "id": "Jose90AR0Idr"
      },
      "execution_count": null,
      "outputs": []
    }
  ]
}