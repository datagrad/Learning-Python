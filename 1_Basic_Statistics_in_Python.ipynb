{
  "nbformat": 4,
  "nbformat_minor": 0,
  "metadata": {
    "colab": {
      "name": "1. Basic Statistics in Python.ipynb",
      "provenance": [],
      "toc_visible": true,
      "include_colab_link": true
    },
    "kernelspec": {
      "name": "python3",
      "display_name": "Python 3"
    }
  },
  "cells": [
    {
      "cell_type": "markdown",
      "metadata": {
        "id": "view-in-github",
        "colab_type": "text"
      },
      "source": [
        "<a href=\"https://colab.research.google.com/github/datagrad/Learning-Python/blob/main/1_Basic_Statistics_in_Python.ipynb\" target=\"_parent\"><img src=\"https://colab.research.google.com/assets/colab-badge.svg\" alt=\"Open In Colab\"/></a>"
      ]
    },
    {
      "cell_type": "markdown",
      "source": [
        "# Central Tendency and Dispersion"
      ],
      "metadata": {
        "id": "jYLvHcaT3iV9"
      }
    },
    {
      "cell_type": "markdown",
      "source": [
        "Central Tendency and dispersion are the concepts used to check the data distribution.\n",
        "The distribution of dat can be examined in three step exploration:\n",
        "\n",
        "\n",
        "1.   Local Concentration:\n",
        "      This involves checking the basic statistical figure like **Mean, Median, Mode, Quantile, Percentile**.\n",
        "\n",
        "\n",
        "\n",
        "2.   Dispersion: \n",
        "      This involves checking the data dispersion from the local concentration point. **Standard Deviation and Variance** are the measures used to check dispersion.\n",
        "\n",
        "3.   Shape:\n",
        "      This involves checking how data is distributed around Local Concentration Points using plot. This is done by **Skewness and Kurtosis** check.\n",
        "\n",
        "\n"
      ],
      "metadata": {
        "id": "rnydaY6n3o40"
      }
    },
    {
      "cell_type": "code",
      "metadata": {
        "id": "10pwKHiUIjnv"
      },
      "source": [
        "import pandas as pd\n",
        "import numpy as np\n",
        "import matplotlib.pyplot as plt\n",
        "import seaborn as sns"
      ],
      "execution_count": 1,
      "outputs": []
    },
    {
      "cell_type": "markdown",
      "metadata": {
        "id": "fzt1yt3QJeWX"
      },
      "source": [
        "## 1. Read the Dataset"
      ]
    },
    {
      "cell_type": "code",
      "metadata": {
        "id": "6fqgrhxOJdmR",
        "outputId": "52b49c38-9d3f-472a-925e-c64baff59589",
        "colab": {
          "base_uri": "https://localhost:8080/",
          "height": 206
        }
      },
      "source": [
        "df = pd.read_csv('https://raw.githubusercontent.com/datagrad/Learning-Python/main/Marks%20Data.csv')\n",
        "df.head()"
      ],
      "execution_count": 2,
      "outputs": [
        {
          "output_type": "execute_result",
          "data": {
            "text/plain": [
              "     Roll_Code  Math  English  Science  Total\n",
              "0  2022_B10001   100       35       72    207\n",
              "1  2019_B10002     0       57       77    134\n",
              "2  2019_B10003    86       19       53    158\n",
              "3  2022_A10004    14       29       69    112\n",
              "4  2022_B10005     8       89       88    185"
            ],
            "text/html": [
              "\n",
              "  <div id=\"df-eb478b5e-ed73-48a3-bc76-46c7a0167c46\">\n",
              "    <div class=\"colab-df-container\">\n",
              "      <div>\n",
              "<style scoped>\n",
              "    .dataframe tbody tr th:only-of-type {\n",
              "        vertical-align: middle;\n",
              "    }\n",
              "\n",
              "    .dataframe tbody tr th {\n",
              "        vertical-align: top;\n",
              "    }\n",
              "\n",
              "    .dataframe thead th {\n",
              "        text-align: right;\n",
              "    }\n",
              "</style>\n",
              "<table border=\"1\" class=\"dataframe\">\n",
              "  <thead>\n",
              "    <tr style=\"text-align: right;\">\n",
              "      <th></th>\n",
              "      <th>Roll_Code</th>\n",
              "      <th>Math</th>\n",
              "      <th>English</th>\n",
              "      <th>Science</th>\n",
              "      <th>Total</th>\n",
              "    </tr>\n",
              "  </thead>\n",
              "  <tbody>\n",
              "    <tr>\n",
              "      <th>0</th>\n",
              "      <td>2022_B10001</td>\n",
              "      <td>100</td>\n",
              "      <td>35</td>\n",
              "      <td>72</td>\n",
              "      <td>207</td>\n",
              "    </tr>\n",
              "    <tr>\n",
              "      <th>1</th>\n",
              "      <td>2019_B10002</td>\n",
              "      <td>0</td>\n",
              "      <td>57</td>\n",
              "      <td>77</td>\n",
              "      <td>134</td>\n",
              "    </tr>\n",
              "    <tr>\n",
              "      <th>2</th>\n",
              "      <td>2019_B10003</td>\n",
              "      <td>86</td>\n",
              "      <td>19</td>\n",
              "      <td>53</td>\n",
              "      <td>158</td>\n",
              "    </tr>\n",
              "    <tr>\n",
              "      <th>3</th>\n",
              "      <td>2022_A10004</td>\n",
              "      <td>14</td>\n",
              "      <td>29</td>\n",
              "      <td>69</td>\n",
              "      <td>112</td>\n",
              "    </tr>\n",
              "    <tr>\n",
              "      <th>4</th>\n",
              "      <td>2022_B10005</td>\n",
              "      <td>8</td>\n",
              "      <td>89</td>\n",
              "      <td>88</td>\n",
              "      <td>185</td>\n",
              "    </tr>\n",
              "  </tbody>\n",
              "</table>\n",
              "</div>\n",
              "      <button class=\"colab-df-convert\" onclick=\"convertToInteractive('df-eb478b5e-ed73-48a3-bc76-46c7a0167c46')\"\n",
              "              title=\"Convert this dataframe to an interactive table.\"\n",
              "              style=\"display:none;\">\n",
              "        \n",
              "  <svg xmlns=\"http://www.w3.org/2000/svg\" height=\"24px\"viewBox=\"0 0 24 24\"\n",
              "       width=\"24px\">\n",
              "    <path d=\"M0 0h24v24H0V0z\" fill=\"none\"/>\n",
              "    <path d=\"M18.56 5.44l.94 2.06.94-2.06 2.06-.94-2.06-.94-.94-2.06-.94 2.06-2.06.94zm-11 1L8.5 8.5l.94-2.06 2.06-.94-2.06-.94L8.5 2.5l-.94 2.06-2.06.94zm10 10l.94 2.06.94-2.06 2.06-.94-2.06-.94-.94-2.06-.94 2.06-2.06.94z\"/><path d=\"M17.41 7.96l-1.37-1.37c-.4-.4-.92-.59-1.43-.59-.52 0-1.04.2-1.43.59L10.3 9.45l-7.72 7.72c-.78.78-.78 2.05 0 2.83L4 21.41c.39.39.9.59 1.41.59.51 0 1.02-.2 1.41-.59l7.78-7.78 2.81-2.81c.8-.78.8-2.07 0-2.86zM5.41 20L4 18.59l7.72-7.72 1.47 1.35L5.41 20z\"/>\n",
              "  </svg>\n",
              "      </button>\n",
              "      \n",
              "  <style>\n",
              "    .colab-df-container {\n",
              "      display:flex;\n",
              "      flex-wrap:wrap;\n",
              "      gap: 12px;\n",
              "    }\n",
              "\n",
              "    .colab-df-convert {\n",
              "      background-color: #E8F0FE;\n",
              "      border: none;\n",
              "      border-radius: 50%;\n",
              "      cursor: pointer;\n",
              "      display: none;\n",
              "      fill: #1967D2;\n",
              "      height: 32px;\n",
              "      padding: 0 0 0 0;\n",
              "      width: 32px;\n",
              "    }\n",
              "\n",
              "    .colab-df-convert:hover {\n",
              "      background-color: #E2EBFA;\n",
              "      box-shadow: 0px 1px 2px rgba(60, 64, 67, 0.3), 0px 1px 3px 1px rgba(60, 64, 67, 0.15);\n",
              "      fill: #174EA6;\n",
              "    }\n",
              "\n",
              "    [theme=dark] .colab-df-convert {\n",
              "      background-color: #3B4455;\n",
              "      fill: #D2E3FC;\n",
              "    }\n",
              "\n",
              "    [theme=dark] .colab-df-convert:hover {\n",
              "      background-color: #434B5C;\n",
              "      box-shadow: 0px 1px 3px 1px rgba(0, 0, 0, 0.15);\n",
              "      filter: drop-shadow(0px 1px 2px rgba(0, 0, 0, 0.3));\n",
              "      fill: #FFFFFF;\n",
              "    }\n",
              "  </style>\n",
              "\n",
              "      <script>\n",
              "        const buttonEl =\n",
              "          document.querySelector('#df-eb478b5e-ed73-48a3-bc76-46c7a0167c46 button.colab-df-convert');\n",
              "        buttonEl.style.display =\n",
              "          google.colab.kernel.accessAllowed ? 'block' : 'none';\n",
              "\n",
              "        async function convertToInteractive(key) {\n",
              "          const element = document.querySelector('#df-eb478b5e-ed73-48a3-bc76-46c7a0167c46');\n",
              "          const dataTable =\n",
              "            await google.colab.kernel.invokeFunction('convertToInteractive',\n",
              "                                                     [key], {});\n",
              "          if (!dataTable) return;\n",
              "\n",
              "          const docLinkHtml = 'Like what you see? Visit the ' +\n",
              "            '<a target=\"_blank\" href=https://colab.research.google.com/notebooks/data_table.ipynb>data table notebook</a>'\n",
              "            + ' to learn more about interactive tables.';\n",
              "          element.innerHTML = '';\n",
              "          dataTable['output_type'] = 'display_data';\n",
              "          await google.colab.output.renderOutput(dataTable, element);\n",
              "          const docLink = document.createElement('div');\n",
              "          docLink.innerHTML = docLinkHtml;\n",
              "          element.appendChild(docLink);\n",
              "        }\n",
              "      </script>\n",
              "    </div>\n",
              "  </div>\n",
              "  "
            ]
          },
          "metadata": {},
          "execution_count": 2
        }
      ]
    },
    {
      "cell_type": "markdown",
      "metadata": {
        "id": "WaMw8ANjOmCc"
      },
      "source": [
        "## 2. Local Concentration"
      ]
    },
    {
      "cell_type": "markdown",
      "source": [
        "### Mean"
      ],
      "metadata": {
        "id": "1gGRPVKJ5Ur2"
      }
    },
    {
      "cell_type": "code",
      "metadata": {
        "id": "JH5LqsyYKi8z",
        "outputId": "b2498364-2df0-49c6-936c-fb4d9d4371c1",
        "colab": {
          "base_uri": "https://localhost:8080/"
        }
      },
      "source": [
        "from statistics import mean\n",
        "\n",
        "a1 = df['Total'].mean() # pandas function\n",
        "a2 = mean(df['Total'])  # statistics function\n",
        "a3 = np.mean(df['Total']) # numpy mean\n",
        "\n",
        "print(f'{a1}, {a2}, {a3}')"
      ],
      "execution_count": 3,
      "outputs": [
        {
          "output_type": "stream",
          "name": "stdout",
          "text": [
            "164.61990081586947, 164.61990081586947, 164.61990081586947\n"
          ]
        }
      ]
    },
    {
      "cell_type": "markdown",
      "source": [
        "### Mode"
      ],
      "metadata": {
        "id": "w3cNMUdQ5Xg_"
      }
    },
    {
      "cell_type": "code",
      "metadata": {
        "id": "U2XIO98mPHB4",
        "outputId": "99942265-324b-42ad-fa24-89f9f0b43cde",
        "colab": {
          "base_uri": "https://localhost:8080/"
        }
      },
      "source": [
        "from statistics import mode\n",
        "from scipy import stats\n",
        "\n",
        "a1 = df['Total'].mode() # pandas function\n",
        "#a2 = mode(df['Total'])  # statistics function\n",
        "a3 = stats.mode(df['Total']) # stats function\n",
        "\n",
        "print(f'{a1}, {a3}')"
      ],
      "execution_count": 4,
      "outputs": [
        {
          "output_type": "stream",
          "name": "stdout",
          "text": [
            "0    163\n",
            "dtype: int64, ModeResult(mode=array([163]), count=array([83]))\n"
          ]
        }
      ]
    },
    {
      "cell_type": "markdown",
      "source": [
        "### Median"
      ],
      "metadata": {
        "id": "R5i3QbHc5bPd"
      }
    },
    {
      "cell_type": "code",
      "metadata": {
        "id": "a_scWsL5VCbb",
        "outputId": "abc0a017-87b9-4573-c218-e86b8747f17d",
        "colab": {
          "base_uri": "https://localhost:8080/"
        }
      },
      "source": [
        "from statistics import median\n",
        "\n",
        "a1 = df['Total'].median() # pandas function\n",
        "a2 = median(df['Total'])  # statistics function\n",
        "a3 = np.median(df['Total']) # numpy function\n",
        "\n",
        "print(f'{a1}, {a2}, {a3}')"
      ],
      "execution_count": 5,
      "outputs": [
        {
          "output_type": "stream",
          "name": "stdout",
          "text": [
            "165.0, 165, 165.0\n"
          ]
        }
      ]
    },
    {
      "cell_type": "markdown",
      "source": [
        "### Quartle"
      ],
      "metadata": {
        "id": "a6vwCBx55inn"
      }
    },
    {
      "cell_type": "code",
      "source": [
        "Q1 = np.percentile(df[\"Total\"], 25)\n",
        "Q2 = np.percentile(df[\"Total\"], 50)\n",
        "Q3 = np.percentile(df[\"Total\"], 75)\n",
        "\n",
        "print(\"1st Quartile: \",Q1)\n",
        "print(\"2nd Quartile: \",Q2)\n",
        "print(\"3rd Quartile: \",Q3)\n",
        "\n"
      ],
      "metadata": {
        "colab": {
          "base_uri": "https://localhost:8080/"
        },
        "id": "v2egR6i_7XIR",
        "outputId": "332d2256-49ff-4759-ea80-057d933e854c"
      },
      "execution_count": 6,
      "outputs": [
        {
          "output_type": "stream",
          "name": "stdout",
          "text": [
            "1st Quartile:  134.0\n",
            "2nd Quartile:  165.0\n",
            "3rd Quartile:  196.0\n"
          ]
        }
      ]
    },
    {
      "cell_type": "markdown",
      "source": [
        "### Percentile\n"
      ],
      "metadata": {
        "id": "QumgmHzq5miE"
      }
    },
    {
      "cell_type": "code",
      "source": [
        "P90th = np.percentile(df[\"Total\"], 90)\n",
        "\n",
        "\n",
        "print(\"90th percentile: \",P90th)"
      ],
      "metadata": {
        "colab": {
          "base_uri": "https://localhost:8080/"
        },
        "id": "Ogz8XlbX6eZY",
        "outputId": "d7e3b4db-26cd-4e4b-d55e-f9a099f2c922"
      },
      "execution_count": 7,
      "outputs": [
        {
          "output_type": "stream",
          "name": "stdout",
          "text": [
            "90th percentile:  222.0\n"
          ]
        }
      ]
    },
    {
      "cell_type": "code",
      "source": [
        "P10th = np.percentile(df[\"Total\"], 10)\n",
        "\n",
        "\n",
        "print(\"10th percentile: \",P10th)"
      ],
      "metadata": {
        "colab": {
          "base_uri": "https://localhost:8080/"
        },
        "id": "sEQx0bd17PVQ",
        "outputId": "4dd1f6a7-524c-4dd6-d05c-d00fd8fa25d8"
      },
      "execution_count": 8,
      "outputs": [
        {
          "output_type": "stream",
          "name": "stdout",
          "text": [
            "10th percentile:  106.0\n"
          ]
        }
      ]
    },
    {
      "cell_type": "markdown",
      "metadata": {
        "id": "2H29Ii3mVoyj"
      },
      "source": [
        "## 3. Dispersion"
      ]
    },
    {
      "cell_type": "markdown",
      "source": [
        "### Standard Deviation"
      ],
      "metadata": {
        "id": "j8-7sc2T5rPY"
      }
    },
    {
      "cell_type": "code",
      "metadata": {
        "id": "5jdKUfjjVNOE",
        "outputId": "5e3cb0f6-2ad2-4914-b896-d82af5af3145",
        "colab": {
          "base_uri": "https://localhost:8080/"
        }
      },
      "source": [
        "from statistics import stdev\n",
        "\n",
        "a1 = df['Total'].std() # pandas function\n",
        "a2 = stdev(df['Total'])  # statistics function\n",
        "a3 = np.std(df['Total']) # numpy function\n",
        "\n",
        "print(f'{a1}, {a2}, {a3}')"
      ],
      "execution_count": 9,
      "outputs": [
        {
          "output_type": "stream",
          "name": "stdout",
          "text": [
            "44.566970521835685, 44.56697052183557, 44.563405591979816\n"
          ]
        }
      ]
    },
    {
      "cell_type": "markdown",
      "source": [
        "### Variance"
      ],
      "metadata": {
        "id": "r6BxEqIW5vj_"
      }
    },
    {
      "cell_type": "code",
      "metadata": {
        "id": "9rj6TfdzWlVA",
        "outputId": "5753e568-834e-47e6-c7e6-3a5c9077a613",
        "colab": {
          "base_uri": "https://localhost:8080/"
        }
      },
      "source": [
        "from statistics import variance\n",
        "\n",
        "a1 = df['Total'].var() # pandas function\n",
        "a2 = variance(df['Total'])  # statistics function\n",
        "a3 = np.var(df['Total']) # numpy function\n",
        "\n",
        "print(f'{a1}, {a2}, {a3}')"
      ],
      "execution_count": 10,
      "outputs": [
        {
          "output_type": "stream",
          "name": "stdout",
          "text": [
            "1986.214861494171, 1986.214861494161, 1985.8971179552982\n"
          ]
        }
      ]
    },
    {
      "cell_type": "markdown",
      "metadata": {
        "id": "LpcsdLO3YDGo"
      },
      "source": [
        "## 4. Shape"
      ]
    },
    {
      "cell_type": "markdown",
      "source": [
        "### Skewness"
      ],
      "metadata": {
        "id": "5MjTWzTJ5yzq"
      }
    },
    {
      "cell_type": "code",
      "metadata": {
        "id": "VfDZpF6iWsSy",
        "outputId": "31a5179e-5831-4311-eea3-fa4088e27405",
        "colab": {
          "base_uri": "https://localhost:8080/"
        }
      },
      "source": [
        "from scipy.stats import skew\n",
        "\n",
        "a1 = df['Total'].skew() # pandas function\n",
        "a2 = skew(df['Total'])  # scipy stats\n",
        "\n",
        "print(a1, a2)"
      ],
      "execution_count": 11,
      "outputs": [
        {
          "output_type": "stream",
          "name": "stdout",
          "text": [
            "-0.03064463280716832 -0.03063727878164809\n"
          ]
        }
      ]
    },
    {
      "cell_type": "markdown",
      "source": [
        "### Kurtosis"
      ],
      "metadata": {
        "id": "af6F73Nc51gp"
      }
    },
    {
      "cell_type": "code",
      "metadata": {
        "id": "kyulOWGFYKoC",
        "outputId": "74904cef-d9ba-4f13-de64-a9313ad6bd50",
        "colab": {
          "base_uri": "https://localhost:8080/"
        }
      },
      "source": [
        "from scipy.stats import kurtosis\n",
        "\n",
        "a1 = df['Total'].kurt() # pandas function\n",
        "a2 = kurtosis(df['Total'])  # scipy stats\n",
        "\n",
        "print(a1, a2)"
      ],
      "execution_count": 12,
      "outputs": [
        {
          "output_type": "stream",
          "name": "stdout",
          "text": [
            "-0.37278369065806904 -0.3734452710863301\n"
          ]
        }
      ]
    },
    {
      "cell_type": "markdown",
      "metadata": {
        "id": "SXTOsJo0br3f"
      },
      "source": [
        "## 5. Describe Method"
      ]
    },
    {
      "cell_type": "code",
      "metadata": {
        "id": "bANQIQWEbnxH",
        "outputId": "60673072-20fd-4f6f-bc9c-4b28a2c54dab",
        "colab": {
          "base_uri": "https://localhost:8080/",
          "height": 300
        }
      },
      "source": [
        "df.describe()"
      ],
      "execution_count": 13,
      "outputs": [
        {
          "output_type": "execute_result",
          "data": {
            "text/plain": [
              "              Math      English      Science        Total\n",
              "count  6251.000000  6251.000000  6251.000000  6251.000000\n",
              "mean     49.988002    54.266037    60.365861   164.619901\n",
              "std      29.430330    24.996014    23.153333    44.566971\n",
              "min       0.000000    11.000000    21.000000    43.000000\n",
              "25%      25.000000    33.000000    40.000000   134.000000\n",
              "50%      50.000000    54.000000    61.000000   165.000000\n",
              "75%      75.000000    75.500000    81.000000   196.000000\n",
              "max     100.000000    97.000000    99.000000   288.000000"
            ],
            "text/html": [
              "\n",
              "  <div id=\"df-af82ef3a-dfe2-472b-b400-c58517740bfa\">\n",
              "    <div class=\"colab-df-container\">\n",
              "      <div>\n",
              "<style scoped>\n",
              "    .dataframe tbody tr th:only-of-type {\n",
              "        vertical-align: middle;\n",
              "    }\n",
              "\n",
              "    .dataframe tbody tr th {\n",
              "        vertical-align: top;\n",
              "    }\n",
              "\n",
              "    .dataframe thead th {\n",
              "        text-align: right;\n",
              "    }\n",
              "</style>\n",
              "<table border=\"1\" class=\"dataframe\">\n",
              "  <thead>\n",
              "    <tr style=\"text-align: right;\">\n",
              "      <th></th>\n",
              "      <th>Math</th>\n",
              "      <th>English</th>\n",
              "      <th>Science</th>\n",
              "      <th>Total</th>\n",
              "    </tr>\n",
              "  </thead>\n",
              "  <tbody>\n",
              "    <tr>\n",
              "      <th>count</th>\n",
              "      <td>6251.000000</td>\n",
              "      <td>6251.000000</td>\n",
              "      <td>6251.000000</td>\n",
              "      <td>6251.000000</td>\n",
              "    </tr>\n",
              "    <tr>\n",
              "      <th>mean</th>\n",
              "      <td>49.988002</td>\n",
              "      <td>54.266037</td>\n",
              "      <td>60.365861</td>\n",
              "      <td>164.619901</td>\n",
              "    </tr>\n",
              "    <tr>\n",
              "      <th>std</th>\n",
              "      <td>29.430330</td>\n",
              "      <td>24.996014</td>\n",
              "      <td>23.153333</td>\n",
              "      <td>44.566971</td>\n",
              "    </tr>\n",
              "    <tr>\n",
              "      <th>min</th>\n",
              "      <td>0.000000</td>\n",
              "      <td>11.000000</td>\n",
              "      <td>21.000000</td>\n",
              "      <td>43.000000</td>\n",
              "    </tr>\n",
              "    <tr>\n",
              "      <th>25%</th>\n",
              "      <td>25.000000</td>\n",
              "      <td>33.000000</td>\n",
              "      <td>40.000000</td>\n",
              "      <td>134.000000</td>\n",
              "    </tr>\n",
              "    <tr>\n",
              "      <th>50%</th>\n",
              "      <td>50.000000</td>\n",
              "      <td>54.000000</td>\n",
              "      <td>61.000000</td>\n",
              "      <td>165.000000</td>\n",
              "    </tr>\n",
              "    <tr>\n",
              "      <th>75%</th>\n",
              "      <td>75.000000</td>\n",
              "      <td>75.500000</td>\n",
              "      <td>81.000000</td>\n",
              "      <td>196.000000</td>\n",
              "    </tr>\n",
              "    <tr>\n",
              "      <th>max</th>\n",
              "      <td>100.000000</td>\n",
              "      <td>97.000000</td>\n",
              "      <td>99.000000</td>\n",
              "      <td>288.000000</td>\n",
              "    </tr>\n",
              "  </tbody>\n",
              "</table>\n",
              "</div>\n",
              "      <button class=\"colab-df-convert\" onclick=\"convertToInteractive('df-af82ef3a-dfe2-472b-b400-c58517740bfa')\"\n",
              "              title=\"Convert this dataframe to an interactive table.\"\n",
              "              style=\"display:none;\">\n",
              "        \n",
              "  <svg xmlns=\"http://www.w3.org/2000/svg\" height=\"24px\"viewBox=\"0 0 24 24\"\n",
              "       width=\"24px\">\n",
              "    <path d=\"M0 0h24v24H0V0z\" fill=\"none\"/>\n",
              "    <path d=\"M18.56 5.44l.94 2.06.94-2.06 2.06-.94-2.06-.94-.94-2.06-.94 2.06-2.06.94zm-11 1L8.5 8.5l.94-2.06 2.06-.94-2.06-.94L8.5 2.5l-.94 2.06-2.06.94zm10 10l.94 2.06.94-2.06 2.06-.94-2.06-.94-.94-2.06-.94 2.06-2.06.94z\"/><path d=\"M17.41 7.96l-1.37-1.37c-.4-.4-.92-.59-1.43-.59-.52 0-1.04.2-1.43.59L10.3 9.45l-7.72 7.72c-.78.78-.78 2.05 0 2.83L4 21.41c.39.39.9.59 1.41.59.51 0 1.02-.2 1.41-.59l7.78-7.78 2.81-2.81c.8-.78.8-2.07 0-2.86zM5.41 20L4 18.59l7.72-7.72 1.47 1.35L5.41 20z\"/>\n",
              "  </svg>\n",
              "      </button>\n",
              "      \n",
              "  <style>\n",
              "    .colab-df-container {\n",
              "      display:flex;\n",
              "      flex-wrap:wrap;\n",
              "      gap: 12px;\n",
              "    }\n",
              "\n",
              "    .colab-df-convert {\n",
              "      background-color: #E8F0FE;\n",
              "      border: none;\n",
              "      border-radius: 50%;\n",
              "      cursor: pointer;\n",
              "      display: none;\n",
              "      fill: #1967D2;\n",
              "      height: 32px;\n",
              "      padding: 0 0 0 0;\n",
              "      width: 32px;\n",
              "    }\n",
              "\n",
              "    .colab-df-convert:hover {\n",
              "      background-color: #E2EBFA;\n",
              "      box-shadow: 0px 1px 2px rgba(60, 64, 67, 0.3), 0px 1px 3px 1px rgba(60, 64, 67, 0.15);\n",
              "      fill: #174EA6;\n",
              "    }\n",
              "\n",
              "    [theme=dark] .colab-df-convert {\n",
              "      background-color: #3B4455;\n",
              "      fill: #D2E3FC;\n",
              "    }\n",
              "\n",
              "    [theme=dark] .colab-df-convert:hover {\n",
              "      background-color: #434B5C;\n",
              "      box-shadow: 0px 1px 3px 1px rgba(0, 0, 0, 0.15);\n",
              "      filter: drop-shadow(0px 1px 2px rgba(0, 0, 0, 0.3));\n",
              "      fill: #FFFFFF;\n",
              "    }\n",
              "  </style>\n",
              "\n",
              "      <script>\n",
              "        const buttonEl =\n",
              "          document.querySelector('#df-af82ef3a-dfe2-472b-b400-c58517740bfa button.colab-df-convert');\n",
              "        buttonEl.style.display =\n",
              "          google.colab.kernel.accessAllowed ? 'block' : 'none';\n",
              "\n",
              "        async function convertToInteractive(key) {\n",
              "          const element = document.querySelector('#df-af82ef3a-dfe2-472b-b400-c58517740bfa');\n",
              "          const dataTable =\n",
              "            await google.colab.kernel.invokeFunction('convertToInteractive',\n",
              "                                                     [key], {});\n",
              "          if (!dataTable) return;\n",
              "\n",
              "          const docLinkHtml = 'Like what you see? Visit the ' +\n",
              "            '<a target=\"_blank\" href=https://colab.research.google.com/notebooks/data_table.ipynb>data table notebook</a>'\n",
              "            + ' to learn more about interactive tables.';\n",
              "          element.innerHTML = '';\n",
              "          dataTable['output_type'] = 'display_data';\n",
              "          await google.colab.output.renderOutput(dataTable, element);\n",
              "          const docLink = document.createElement('div');\n",
              "          docLink.innerHTML = docLinkHtml;\n",
              "          element.appendChild(docLink);\n",
              "        }\n",
              "      </script>\n",
              "    </div>\n",
              "  </div>\n",
              "  "
            ]
          },
          "metadata": {},
          "execution_count": 13
        }
      ]
    },
    {
      "cell_type": "markdown",
      "metadata": {
        "id": "9WaqT2Qd0iE9"
      },
      "source": [
        "## 6. Visualization"
      ]
    },
    {
      "cell_type": "code",
      "source": [
        "# Density Plot\n",
        "\n",
        "import seaborn as sns\n",
        "\n",
        "sns.set(color_codes=True)\n",
        "\n",
        "sns.kdeplot(df['Total'], shade=True)\n"
      ],
      "metadata": {
        "colab": {
          "base_uri": "https://localhost:8080/",
          "height": 303
        },
        "id": "ymbrj1MhwY4O",
        "outputId": "e9cfa3db-b8c2-411c-bf1d-a03a6d4cdaf6"
      },
      "execution_count": 14,
      "outputs": [
        {
          "output_type": "execute_result",
          "data": {
            "text/plain": [
              "<matplotlib.axes._subplots.AxesSubplot at 0x7f8878ffd810>"
            ]
          },
          "metadata": {},
          "execution_count": 14
        },
        {
          "output_type": "display_data",
          "data": {
            "text/plain": [
              "<Figure size 432x288 with 1 Axes>"
            ],
            "image/png": "[encoded data removed]"
          },
          "metadata": {}
        }
      ]
    },
    {
      "cell_type": "code",
      "metadata": {
        "outputId": "7dd26072-2fea-4462-d211-78c6a5028d49",
        "colab": {
          "base_uri": "https://localhost:8080/",
          "height": 303
        },
        "id": "QKW9lOlL0iFK"
      },
      "source": [
        "import seaborn as sns\n",
        "import matplotlib.pyplot as plt\n",
        "\n",
        "sns.set(color_codes=True)\n",
        "\n",
        "sns.kdeplot(df['Total'], shade=True)\n",
        "\n",
        "plt.axvline(df['Total'].mean(), 0, 1)                         # Darw Mean Line\n",
        "plt.axvline(df['Total'].median(), 0, 1, color='r')            # Darw Median Line\n"
      ],
      "execution_count": 15,
      "outputs": [
        {
          "output_type": "execute_result",
          "data": {
            "text/plain": [
              "<matplotlib.lines.Line2D at 0x7f889c1c75d0>"
            ]
          },
          "metadata": {},
          "execution_count": 15
        },
        {
          "output_type": "display_data",
          "data": {
            "text/plain": [
              "<Figure size 432x288 with 1 Axes>"
            ],
            "image/png": "[encoded data removed]"
          },
          "metadata": {}
        }
      ]
    },
    {
      "cell_type": "code",
      "source": [
        "# Insert 25 percentile and 75 percentile Line\n",
        "result = df.describe()\n",
        "result.Total                        # Created result df with values"
      ],
      "metadata": {
        "colab": {
          "base_uri": "https://localhost:8080/"
        },
        "id": "1MLLzSQiw8S7",
        "outputId": "4205690c-f9c6-4524-ae24-ff52164c2ffa"
      },
      "execution_count": 16,
      "outputs": [
        {
          "output_type": "execute_result",
          "data": {
            "text/plain": [
              "count    6251.000000\n",
              "mean      164.619901\n",
              "std        44.566971\n",
              "min        43.000000\n",
              "25%       134.000000\n",
              "50%       165.000000\n",
              "75%       196.000000\n",
              "max       288.000000\n",
              "Name: Total, dtype: float64"
            ]
          },
          "metadata": {},
          "execution_count": 16
        }
      ]
    },
    {
      "cell_type": "code",
      "source": [
        "import seaborn as sns\n",
        "import matplotlib.pyplot as plt\n",
        "\n",
        "sns.set(color_codes=True)\n",
        "\n",
        "sns.kdeplot(df['Total'], shade=True)\n",
        "\n",
        "plt.axvline(df['Total'].mean(), 0, 1)                         # Darw Mean Line\n",
        "plt.axvline(df['Total'].median(), 0, 1, color='r')            # Darw Median Line\n",
        "\n",
        "plt.axvline(result['Total']['25%'], 0, 1, color='g')            # Darw 25 Percentile Line\n",
        "plt.axvline(result['Total']['75%'], 0, 1, color='g')            # Darw 75th Percentile Line"
      ],
      "metadata": {
        "colab": {
          "base_uri": "https://localhost:8080/",
          "height": 303
        },
        "id": "2yje0IVPxVxP",
        "outputId": "0b4e41ee-5333-495d-a6a1-2ae8be2d00d7"
      },
      "execution_count": 17,
      "outputs": [
        {
          "output_type": "execute_result",
          "data": {
            "text/plain": [
              "<matplotlib.lines.Line2D at 0x7f8873c47610>"
            ]
          },
          "metadata": {},
          "execution_count": 17
        },
        {
          "output_type": "display_data",
          "data": {
            "text/plain": [
              "<Figure size 432x288 with 1 Axes>"
            ],
            "image/png": "[encoded data removed]"
          },
          "metadata": {}
        }
      ]
    },
    {
      "cell_type": "code",
      "source": [
        "# Upper and Lower Outliners \n",
        "\n",
        "# IQR=Q3-Q1\n",
        "IQR = result['Total']['75%']-result['Total']['25%']\n",
        "\n",
        "\n",
        "# Upper Outliner = Q3 + (1.5*IQR)\n",
        "upper_Outliner = result['Total']['75%']+(1.5*IQR)\n",
        "\n",
        "# Lower Outliner = Q1 - (1.5*IQR)\n",
        "lower_Outliner = result['Total']['25%']-(1.5*IQR)\n",
        "\n",
        "\n",
        "print(lower_Outliner)\n",
        "print(upper_Outliner)\n",
        "\n"
      ],
      "metadata": {
        "colab": {
          "base_uri": "https://localhost:8080/"
        },
        "id": "uAFU9xZ4yYdk",
        "outputId": "38ebface-a925-420c-b18f-37ec487e459a"
      },
      "execution_count": 18,
      "outputs": [
        {
          "output_type": "stream",
          "name": "stdout",
          "text": [
            "41.0\n",
            "289.0\n"
          ]
        }
      ]
    },
    {
      "cell_type": "code",
      "source": [
        "\n",
        "\n",
        "import seaborn as sns\n",
        "import matplotlib.pyplot as plt\n",
        "\n",
        "sns.set(color_codes=True)\n",
        "\n",
        "sns.kdeplot(df['Total'], shade=True)\n",
        "\n",
        "plt.axvline(df['Total'].mean(), 0, 1)                         # Darw Mean Line\n",
        "plt.axvline(df['Total'].median(), 0, 1, color='r')            # Darw Median Line\n",
        "\n",
        "plt.axvline(result['Total']['25%'], 0, 1, color='g')            # Darw 25 Percentile Line\n",
        "plt.axvline(result['Total']['75%'], 0, 1, color='g')            # Darw 75th Percentile Line\n",
        "\n",
        "plt.axvline(upper_Outliner, 0, 1, color ='r')                  # Upper Outliner\n",
        "plt.axvline(lower_Outliner, 0, 1, color ='r')                  # Lower Outliner"
      ],
      "metadata": {
        "colab": {
          "base_uri": "https://localhost:8080/",
          "height": 303
        },
        "id": "qdO-9Li5vE5b",
        "outputId": "1267eb90-7690-42e2-a757-e027642667ae"
      },
      "execution_count": 19,
      "outputs": [
        {
          "output_type": "execute_result",
          "data": {
            "text/plain": [
              "<matplotlib.lines.Line2D at 0x7f8873bcd650>"
            ]
          },
          "metadata": {},
          "execution_count": 19
        },
        {
          "output_type": "display_data",
          "data": {
            "text/plain": [
              "<Figure size 432x288 with 1 Axes>"
            ],
            "image/png": "[encoded data removed]"
          },
          "metadata": {}
        }
      ]
    },
    {
      "cell_type": "code",
      "metadata": {
        "id": "uI-8Hs_zeveo"
      },
      "source": [
        ""
      ],
      "execution_count": 19,
      "outputs": []
    }
  ]
}