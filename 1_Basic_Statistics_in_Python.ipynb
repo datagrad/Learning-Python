{
  "nbformat": 4,
  "nbformat_minor": 0,
  "metadata": {
    "colab": {
      "name": "1. Basic Statistics in Python.ipynb",
      "provenance": [],
      "collapsed_sections": [],
      "toc_visible": true,
      "include_colab_link": true
    },
    "kernelspec": {
      "name": "python3",
      "display_name": "Python 3"
    }
  },
  "cells": [
    {
      "cell_type": "markdown",
      "metadata": {
        "id": "view-in-github",
        "colab_type": "text"
      },
      "source": [
        "<a href=\"https://colab.research.google.com/github/datagrad/Learning-Python/blob/main/1_Basic_Statistics_in_Python.ipynb\" target=\"_parent\"><img src=\"https://colab.research.google.com/assets/colab-badge.svg\" alt=\"Open In Colab\"/></a>"
      ]
    },
    {
      "cell_type": "markdown",
      "source": [
        "# Central Tendency and Dispersion"
      ],
      "metadata": {
        "id": "jYLvHcaT3iV9"
      }
    },
    {
      "cell_type": "markdown",
      "source": [
        "Central Tendency and dispersion are the concepts used to check the data distribution.\n",
        "The distribution of dat can be examined in three step exploration:\n",
        "\n",
        "\n",
        "1.   Local Concentration:\n",
        "      This involves checking the basic statistical figure like **Mean, Median, Mode, Quartile, Percentile**.\n",
        "\n",
        "\n",
        "\n",
        "2.   Dispersion: \n",
        "      This involves checking the data dispersion from the local concentration point. **Standard Deviation and Variance** are the measures used to check dispersion.\n",
        "\n",
        "3.   Shape:\n",
        "      This involves checking how data is distributed around Local Concentration Points using plot. This is done by **Skewness and Kurtosis** check.\n",
        "\n",
        "\n"
      ],
      "metadata": {
        "id": "rnydaY6n3o40"
      }
    },
    {
      "cell_type": "code",
      "metadata": {
        "id": "10pwKHiUIjnv"
      },
      "source": [
        "import pandas as pd\n",
        "import numpy as np\n",
        "import matplotlib.pyplot as plt\n",
        "import seaborn as sns"
      ],
      "execution_count": 1,
      "outputs": []
    },
    {
      "cell_type": "markdown",
      "metadata": {
        "id": "fzt1yt3QJeWX"
      },
      "source": [
        "## 1. Read the Dataset"
      ]
    },
    {
      "cell_type": "code",
      "metadata": {
        "id": "6fqgrhxOJdmR",
        "outputId": "77d10889-f85f-4c35-d21b-c9db7b4d92e0",
        "colab": {
          "base_uri": "https://localhost:8080/",
          "height": 206
        }
      },
      "source": [
        "df = pd.read_csv('https://raw.githubusercontent.com/datagrad/Learning-Python/main/Marks%20Data.csv')\n",
        "df.head()"
      ],
      "execution_count": 2,
      "outputs": [
        {
          "output_type": "execute_result",
          "data": {
            "text/plain": [
              "     Roll_Code  Math  English  Science  Hindi  Social  Total  Year    Sports  \\\n",
              "0  2019_A10001    66       72       88     69      69    364  2019  Football   \n",
              "1  2018_A10002    49       38       22     89      66    264  2018    Hockey   \n",
              "2  2021_A10003     7       73       35     79      54    248  2021    Tennis   \n",
              "3  2021_B10004    17       79       73     72      86    327  2021    Hockey   \n",
              "4  2018_A10005    35       48       61     94      87    325  2018    Tennis   \n",
              "\n",
              "  Acting Hostler Previous_Grade  Attandence    Tuition  \n",
              "0    Yes     Yes              E          87        Yes  \n",
              "1    Yes      No              C          90        Yes  \n",
              "2     No      No              C          94  Partially  \n",
              "3    Yes     Yes              E          83  Partially  \n",
              "4    Yes     Yes              E          96        Yes  "
            ],
            "text/html": [
              "\n",
              "  <div id=\"df-5db2de65-6a8e-4fb2-b945-6ca6a763afc6\">\n",
              "    <div class=\"colab-df-container\">\n",
              "      <div>\n",
              "<style scoped>\n",
              "    .dataframe tbody tr th:only-of-type {\n",
              "        vertical-align: middle;\n",
              "    }\n",
              "\n",
              "    .dataframe tbody tr th {\n",
              "        vertical-align: top;\n",
              "    }\n",
              "\n",
              "    .dataframe thead th {\n",
              "        text-align: right;\n",
              "    }\n",
              "</style>\n",
              "<table border=\"1\" class=\"dataframe\">\n",
              "  <thead>\n",
              "    <tr style=\"text-align: right;\">\n",
              "      <th></th>\n",
              "      <th>Roll_Code</th>\n",
              "      <th>Math</th>\n",
              "      <th>English</th>\n",
              "      <th>Science</th>\n",
              "      <th>Hindi</th>\n",
              "      <th>Social</th>\n",
              "      <th>Total</th>\n",
              "      <th>Year</th>\n",
              "      <th>Sports</th>\n",
              "      <th>Acting</th>\n",
              "      <th>Hostler</th>\n",
              "      <th>Previous_Grade</th>\n",
              "      <th>Attandence</th>\n",
              "      <th>Tuition</th>\n",
              "    </tr>\n",
              "  </thead>\n",
              "  <tbody>\n",
              "    <tr>\n",
              "      <th>0</th>\n",
              "      <td>2019_A10001</td>\n",
              "      <td>66</td>\n",
              "      <td>72</td>\n",
              "      <td>88</td>\n",
              "      <td>69</td>\n",
              "      <td>69</td>\n",
              "      <td>364</td>\n",
              "      <td>2019</td>\n",
              "      <td>Football</td>\n",
              "      <td>Yes</td>\n",
              "      <td>Yes</td>\n",
              "      <td>E</td>\n",
              "      <td>87</td>\n",
              "      <td>Yes</td>\n",
              "    </tr>\n",
              "    <tr>\n",
              "      <th>1</th>\n",
              "      <td>2018_A10002</td>\n",
              "      <td>49</td>\n",
              "      <td>38</td>\n",
              "      <td>22</td>\n",
              "      <td>89</td>\n",
              "      <td>66</td>\n",
              "      <td>264</td>\n",
              "      <td>2018</td>\n",
              "      <td>Hockey</td>\n",
              "      <td>Yes</td>\n",
              "      <td>No</td>\n",
              "      <td>C</td>\n",
              "      <td>90</td>\n",
              "      <td>Yes</td>\n",
              "    </tr>\n",
              "    <tr>\n",
              "      <th>2</th>\n",
              "      <td>2021_A10003</td>\n",
              "      <td>7</td>\n",
              "      <td>73</td>\n",
              "      <td>35</td>\n",
              "      <td>79</td>\n",
              "      <td>54</td>\n",
              "      <td>248</td>\n",
              "      <td>2021</td>\n",
              "      <td>Tennis</td>\n",
              "      <td>No</td>\n",
              "      <td>No</td>\n",
              "      <td>C</td>\n",
              "      <td>94</td>\n",
              "      <td>Partially</td>\n",
              "    </tr>\n",
              "    <tr>\n",
              "      <th>3</th>\n",
              "      <td>2021_B10004</td>\n",
              "      <td>17</td>\n",
              "      <td>79</td>\n",
              "      <td>73</td>\n",
              "      <td>72</td>\n",
              "      <td>86</td>\n",
              "      <td>327</td>\n",
              "      <td>2021</td>\n",
              "      <td>Hockey</td>\n",
              "      <td>Yes</td>\n",
              "      <td>Yes</td>\n",
              "      <td>E</td>\n",
              "      <td>83</td>\n",
              "      <td>Partially</td>\n",
              "    </tr>\n",
              "    <tr>\n",
              "      <th>4</th>\n",
              "      <td>2018_A10005</td>\n",
              "      <td>35</td>\n",
              "      <td>48</td>\n",
              "      <td>61</td>\n",
              "      <td>94</td>\n",
              "      <td>87</td>\n",
              "      <td>325</td>\n",
              "      <td>2018</td>\n",
              "      <td>Tennis</td>\n",
              "      <td>Yes</td>\n",
              "      <td>Yes</td>\n",
              "      <td>E</td>\n",
              "      <td>96</td>\n",
              "      <td>Yes</td>\n",
              "    </tr>\n",
              "  </tbody>\n",
              "</table>\n",
              "</div>\n",
              "      <button class=\"colab-df-convert\" onclick=\"convertToInteractive('df-5db2de65-6a8e-4fb2-b945-6ca6a763afc6')\"\n",
              "              title=\"Convert this dataframe to an interactive table.\"\n",
              "              style=\"display:none;\">\n",
              "        \n",
              "  <svg xmlns=\"http://www.w3.org/2000/svg\" height=\"24px\"viewBox=\"0 0 24 24\"\n",
              "       width=\"24px\">\n",
              "    <path d=\"M0 0h24v24H0V0z\" fill=\"none\"/>\n",
              "    <path d=\"M18.56 5.44l.94 2.06.94-2.06 2.06-.94-2.06-.94-.94-2.06-.94 2.06-2.06.94zm-11 1L8.5 8.5l.94-2.06 2.06-.94-2.06-.94L8.5 2.5l-.94 2.06-2.06.94zm10 10l.94 2.06.94-2.06 2.06-.94-2.06-.94-.94-2.06-.94 2.06-2.06.94z\"/><path d=\"M17.41 7.96l-1.37-1.37c-.4-.4-.92-.59-1.43-.59-.52 0-1.04.2-1.43.59L10.3 9.45l-7.72 7.72c-.78.78-.78 2.05 0 2.83L4 21.41c.39.39.9.59 1.41.59.51 0 1.02-.2 1.41-.59l7.78-7.78 2.81-2.81c.8-.78.8-2.07 0-2.86zM5.41 20L4 18.59l7.72-7.72 1.47 1.35L5.41 20z\"/>\n",
              "  </svg>\n",
              "      </button>\n",
              "      \n",
              "  <style>\n",
              "    .colab-df-container {\n",
              "      display:flex;\n",
              "      flex-wrap:wrap;\n",
              "      gap: 12px;\n",
              "    }\n",
              "\n",
              "    .colab-df-convert {\n",
              "      background-color: #E8F0FE;\n",
              "      border: none;\n",
              "      border-radius: 50%;\n",
              "      cursor: pointer;\n",
              "      display: none;\n",
              "      fill: #1967D2;\n",
              "      height: 32px;\n",
              "      padding: 0 0 0 0;\n",
              "      width: 32px;\n",
              "    }\n",
              "\n",
              "    .colab-df-convert:hover {\n",
              "      background-color: #E2EBFA;\n",
              "      box-shadow: 0px 1px 2px rgba(60, 64, 67, 0.3), 0px 1px 3px 1px rgba(60, 64, 67, 0.15);\n",
              "      fill: #174EA6;\n",
              "    }\n",
              "\n",
              "    [theme=dark] .colab-df-convert {\n",
              "      background-color: #3B4455;\n",
              "      fill: #D2E3FC;\n",
              "    }\n",
              "\n",
              "    [theme=dark] .colab-df-convert:hover {\n",
              "      background-color: #434B5C;\n",
              "      box-shadow: 0px 1px 3px 1px rgba(0, 0, 0, 0.15);\n",
              "      filter: drop-shadow(0px 1px 2px rgba(0, 0, 0, 0.3));\n",
              "      fill: #FFFFFF;\n",
              "    }\n",
              "  </style>\n",
              "\n",
              "      <script>\n",
              "        const buttonEl =\n",
              "          document.querySelector('#df-5db2de65-6a8e-4fb2-b945-6ca6a763afc6 button.colab-df-convert');\n",
              "        buttonEl.style.display =\n",
              "          google.colab.kernel.accessAllowed ? 'block' : 'none';\n",
              "\n",
              "        async function convertToInteractive(key) {\n",
              "          const element = document.querySelector('#df-5db2de65-6a8e-4fb2-b945-6ca6a763afc6');\n",
              "          const dataTable =\n",
              "            await google.colab.kernel.invokeFunction('convertToInteractive',\n",
              "                                                     [key], {});\n",
              "          if (!dataTable) return;\n",
              "\n",
              "          const docLinkHtml = 'Like what you see? Visit the ' +\n",
              "            '<a target=\"_blank\" href=https://colab.research.google.com/notebooks/data_table.ipynb>data table notebook</a>'\n",
              "            + ' to learn more about interactive tables.';\n",
              "          element.innerHTML = '';\n",
              "          dataTable['output_type'] = 'display_data';\n",
              "          await google.colab.output.renderOutput(dataTable, element);\n",
              "          const docLink = document.createElement('div');\n",
              "          docLink.innerHTML = docLinkHtml;\n",
              "          element.appendChild(docLink);\n",
              "        }\n",
              "      </script>\n",
              "    </div>\n",
              "  </div>\n",
              "  "
            ]
          },
          "metadata": {},
          "execution_count": 2
        }
      ]
    },
    {
      "cell_type": "markdown",
      "source": [
        "## 2. Describe"
      ],
      "metadata": {
        "id": "UXKYSCQY8SQb"
      }
    },
    {
      "cell_type": "code",
      "metadata": {
        "id": "bANQIQWEbnxH",
        "outputId": "d40ff1e3-9199-40a6-a698-9c5af4563c4d",
        "colab": {
          "base_uri": "https://localhost:8080/",
          "height": 300
        }
      },
      "source": [
        "df.describe()"
      ],
      "execution_count": 3,
      "outputs": [
        {
          "output_type": "execute_result",
          "data": {
            "text/plain": [
              "               Math       English       Science         Hindi        Social  \\\n",
              "count  12294.000000  12294.000000  12294.000000  12294.000000  12294.000000   \n",
              "mean      66.963803     61.821295     58.465512     82.021311     71.291443   \n",
              "std       27.109230     22.338289     18.695362     10.075774     16.440751   \n",
              "min        0.000000     11.000000     21.000000     65.000000     43.000000   \n",
              "25%       50.000000     48.000000     44.000000     73.000000     57.000000   \n",
              "50%       77.000000     64.000000     58.000000     82.000000     71.000000   \n",
              "75%       87.000000     80.000000     72.000000     91.000000     85.000000   \n",
              "max      100.000000     97.000000     99.000000     99.000000     99.000000   \n",
              "\n",
              "              Total          Year    Attandence  \n",
              "count  12294.000000  12294.000000  12294.000000  \n",
              "mean     340.563364   2019.209696     84.019115  \n",
              "std       46.491375      1.607541      9.598304  \n",
              "min      171.000000   2017.000000     68.000000  \n",
              "25%      312.000000   2018.000000     76.000000  \n",
              "50%      346.000000   2019.000000     84.000000  \n",
              "75%      374.000000   2021.000000     92.000000  \n",
              "max      467.000000   2021.000000    100.000000  "
            ],
            "text/html": [
              "\n",
              "  <div id=\"df-69dbedbd-109f-40ec-b961-f905b6771012\">\n",
              "    <div class=\"colab-df-container\">\n",
              "      <div>\n",
              "<style scoped>\n",
              "    .dataframe tbody tr th:only-of-type {\n",
              "        vertical-align: middle;\n",
              "    }\n",
              "\n",
              "    .dataframe tbody tr th {\n",
              "        vertical-align: top;\n",
              "    }\n",
              "\n",
              "    .dataframe thead th {\n",
              "        text-align: right;\n",
              "    }\n",
              "</style>\n",
              "<table border=\"1\" class=\"dataframe\">\n",
              "  <thead>\n",
              "    <tr style=\"text-align: right;\">\n",
              "      <th></th>\n",
              "      <th>Math</th>\n",
              "      <th>English</th>\n",
              "      <th>Science</th>\n",
              "      <th>Hindi</th>\n",
              "      <th>Social</th>\n",
              "      <th>Total</th>\n",
              "      <th>Year</th>\n",
              "      <th>Attandence</th>\n",
              "    </tr>\n",
              "  </thead>\n",
              "  <tbody>\n",
              "    <tr>\n",
              "      <th>count</th>\n",
              "      <td>12294.000000</td>\n",
              "      <td>12294.000000</td>\n",
              "      <td>12294.000000</td>\n",
              "      <td>12294.000000</td>\n",
              "      <td>12294.000000</td>\n",
              "      <td>12294.000000</td>\n",
              "      <td>12294.000000</td>\n",
              "      <td>12294.000000</td>\n",
              "    </tr>\n",
              "    <tr>\n",
              "      <th>mean</th>\n",
              "      <td>66.963803</td>\n",
              "      <td>61.821295</td>\n",
              "      <td>58.465512</td>\n",
              "      <td>82.021311</td>\n",
              "      <td>71.291443</td>\n",
              "      <td>340.563364</td>\n",
              "      <td>2019.209696</td>\n",
              "      <td>84.019115</td>\n",
              "    </tr>\n",
              "    <tr>\n",
              "      <th>std</th>\n",
              "      <td>27.109230</td>\n",
              "      <td>22.338289</td>\n",
              "      <td>18.695362</td>\n",
              "      <td>10.075774</td>\n",
              "      <td>16.440751</td>\n",
              "      <td>46.491375</td>\n",
              "      <td>1.607541</td>\n",
              "      <td>9.598304</td>\n",
              "    </tr>\n",
              "    <tr>\n",
              "      <th>min</th>\n",
              "      <td>0.000000</td>\n",
              "      <td>11.000000</td>\n",
              "      <td>21.000000</td>\n",
              "      <td>65.000000</td>\n",
              "      <td>43.000000</td>\n",
              "      <td>171.000000</td>\n",
              "      <td>2017.000000</td>\n",
              "      <td>68.000000</td>\n",
              "    </tr>\n",
              "    <tr>\n",
              "      <th>25%</th>\n",
              "      <td>50.000000</td>\n",
              "      <td>48.000000</td>\n",
              "      <td>44.000000</td>\n",
              "      <td>73.000000</td>\n",
              "      <td>57.000000</td>\n",
              "      <td>312.000000</td>\n",
              "      <td>2018.000000</td>\n",
              "      <td>76.000000</td>\n",
              "    </tr>\n",
              "    <tr>\n",
              "      <th>50%</th>\n",
              "      <td>77.000000</td>\n",
              "      <td>64.000000</td>\n",
              "      <td>58.000000</td>\n",
              "      <td>82.000000</td>\n",
              "      <td>71.000000</td>\n",
              "      <td>346.000000</td>\n",
              "      <td>2019.000000</td>\n",
              "      <td>84.000000</td>\n",
              "    </tr>\n",
              "    <tr>\n",
              "      <th>75%</th>\n",
              "      <td>87.000000</td>\n",
              "      <td>80.000000</td>\n",
              "      <td>72.000000</td>\n",
              "      <td>91.000000</td>\n",
              "      <td>85.000000</td>\n",
              "      <td>374.000000</td>\n",
              "      <td>2021.000000</td>\n",
              "      <td>92.000000</td>\n",
              "    </tr>\n",
              "    <tr>\n",
              "      <th>max</th>\n",
              "      <td>100.000000</td>\n",
              "      <td>97.000000</td>\n",
              "      <td>99.000000</td>\n",
              "      <td>99.000000</td>\n",
              "      <td>99.000000</td>\n",
              "      <td>467.000000</td>\n",
              "      <td>2021.000000</td>\n",
              "      <td>100.000000</td>\n",
              "    </tr>\n",
              "  </tbody>\n",
              "</table>\n",
              "</div>\n",
              "      <button class=\"colab-df-convert\" onclick=\"convertToInteractive('df-69dbedbd-109f-40ec-b961-f905b6771012')\"\n",
              "              title=\"Convert this dataframe to an interactive table.\"\n",
              "              style=\"display:none;\">\n",
              "        \n",
              "  <svg xmlns=\"http://www.w3.org/2000/svg\" height=\"24px\"viewBox=\"0 0 24 24\"\n",
              "       width=\"24px\">\n",
              "    <path d=\"M0 0h24v24H0V0z\" fill=\"none\"/>\n",
              "    <path d=\"M18.56 5.44l.94 2.06.94-2.06 2.06-.94-2.06-.94-.94-2.06-.94 2.06-2.06.94zm-11 1L8.5 8.5l.94-2.06 2.06-.94-2.06-.94L8.5 2.5l-.94 2.06-2.06.94zm10 10l.94 2.06.94-2.06 2.06-.94-2.06-.94-.94-2.06-.94 2.06-2.06.94z\"/><path d=\"M17.41 7.96l-1.37-1.37c-.4-.4-.92-.59-1.43-.59-.52 0-1.04.2-1.43.59L10.3 9.45l-7.72 7.72c-.78.78-.78 2.05 0 2.83L4 21.41c.39.39.9.59 1.41.59.51 0 1.02-.2 1.41-.59l7.78-7.78 2.81-2.81c.8-.78.8-2.07 0-2.86zM5.41 20L4 18.59l7.72-7.72 1.47 1.35L5.41 20z\"/>\n",
              "  </svg>\n",
              "      </button>\n",
              "      \n",
              "  <style>\n",
              "    .colab-df-container {\n",
              "      display:flex;\n",
              "      flex-wrap:wrap;\n",
              "      gap: 12px;\n",
              "    }\n",
              "\n",
              "    .colab-df-convert {\n",
              "      background-color: #E8F0FE;\n",
              "      border: none;\n",
              "      border-radius: 50%;\n",
              "      cursor: pointer;\n",
              "      display: none;\n",
              "      fill: #1967D2;\n",
              "      height: 32px;\n",
              "      padding: 0 0 0 0;\n",
              "      width: 32px;\n",
              "    }\n",
              "\n",
              "    .colab-df-convert:hover {\n",
              "      background-color: #E2EBFA;\n",
              "      box-shadow: 0px 1px 2px rgba(60, 64, 67, 0.3), 0px 1px 3px 1px rgba(60, 64, 67, 0.15);\n",
              "      fill: #174EA6;\n",
              "    }\n",
              "\n",
              "    [theme=dark] .colab-df-convert {\n",
              "      background-color: #3B4455;\n",
              "      fill: #D2E3FC;\n",
              "    }\n",
              "\n",
              "    [theme=dark] .colab-df-convert:hover {\n",
              "      background-color: #434B5C;\n",
              "      box-shadow: 0px 1px 3px 1px rgba(0, 0, 0, 0.15);\n",
              "      filter: drop-shadow(0px 1px 2px rgba(0, 0, 0, 0.3));\n",
              "      fill: #FFFFFF;\n",
              "    }\n",
              "  </style>\n",
              "\n",
              "      <script>\n",
              "        const buttonEl =\n",
              "          document.querySelector('#df-69dbedbd-109f-40ec-b961-f905b6771012 button.colab-df-convert');\n",
              "        buttonEl.style.display =\n",
              "          google.colab.kernel.accessAllowed ? 'block' : 'none';\n",
              "\n",
              "        async function convertToInteractive(key) {\n",
              "          const element = document.querySelector('#df-69dbedbd-109f-40ec-b961-f905b6771012');\n",
              "          const dataTable =\n",
              "            await google.colab.kernel.invokeFunction('convertToInteractive',\n",
              "                                                     [key], {});\n",
              "          if (!dataTable) return;\n",
              "\n",
              "          const docLinkHtml = 'Like what you see? Visit the ' +\n",
              "            '<a target=\"_blank\" href=https://colab.research.google.com/notebooks/data_table.ipynb>data table notebook</a>'\n",
              "            + ' to learn more about interactive tables.';\n",
              "          element.innerHTML = '';\n",
              "          dataTable['output_type'] = 'display_data';\n",
              "          await google.colab.output.renderOutput(dataTable, element);\n",
              "          const docLink = document.createElement('div');\n",
              "          docLink.innerHTML = docLinkHtml;\n",
              "          element.appendChild(docLink);\n",
              "        }\n",
              "      </script>\n",
              "    </div>\n",
              "  </div>\n",
              "  "
            ]
          },
          "metadata": {},
          "execution_count": 3
        }
      ]
    },
    {
      "cell_type": "markdown",
      "metadata": {
        "id": "WaMw8ANjOmCc"
      },
      "source": [
        "## 3. Local Concentration"
      ]
    },
    {
      "cell_type": "markdown",
      "source": [
        "### Mean"
      ],
      "metadata": {
        "id": "1gGRPVKJ5Ur2"
      }
    },
    {
      "cell_type": "code",
      "metadata": {
        "id": "JH5LqsyYKi8z",
        "outputId": "a1c3cb65-725b-4e72-e576-d037493321c3",
        "colab": {
          "base_uri": "https://localhost:8080/"
        }
      },
      "source": [
        "from statistics import mean\n",
        "\n",
        "a1 = df['Total'].mean() # pandas function\n",
        "a2 = mean(df['Total'])  # statistics function\n",
        "a3 = np.mean(df['Total']) # numpy mean\n",
        "\n",
        "print(f'{a1}, {a2}, {a3}')"
      ],
      "execution_count": 4,
      "outputs": [
        {
          "output_type": "stream",
          "name": "stdout",
          "text": [
            "340.56336424272, 340.56336424272, 340.56336424272\n"
          ]
        }
      ]
    },
    {
      "cell_type": "markdown",
      "source": [
        "### Mode"
      ],
      "metadata": {
        "id": "w3cNMUdQ5Xg_"
      }
    },
    {
      "cell_type": "code",
      "metadata": {
        "id": "U2XIO98mPHB4",
        "outputId": "3f886432-d08f-444f-b38f-68813a2f5bad",
        "colab": {
          "base_uri": "https://localhost:8080/"
        }
      },
      "source": [
        "from statistics import mode\n",
        "from scipy import stats\n",
        "\n",
        "a1 = df['Total'].mode() # pandas function\n",
        "#a2 = mode(df['Total'])  # statistics function\n",
        "a3 = stats.mode(df['Total']) # stats function\n",
        "\n",
        "print(f'{a1}, {a3}')"
      ],
      "execution_count": 5,
      "outputs": [
        {
          "output_type": "stream",
          "name": "stdout",
          "text": [
            "0    351\n",
            "dtype: int64, ModeResult(mode=array([351]), count=array([127]))\n"
          ]
        }
      ]
    },
    {
      "cell_type": "markdown",
      "source": [
        "### Median"
      ],
      "metadata": {
        "id": "R5i3QbHc5bPd"
      }
    },
    {
      "cell_type": "code",
      "metadata": {
        "id": "a_scWsL5VCbb",
        "outputId": "0f1d41cd-54ff-494d-df0d-496006ada1d6",
        "colab": {
          "base_uri": "https://localhost:8080/"
        }
      },
      "source": [
        "from statistics import median\n",
        "\n",
        "a1 = df['Total'].median() # pandas function\n",
        "a2 = median(df['Total'])  # statistics function\n",
        "a3 = np.median(df['Total']) # numpy function\n",
        "\n",
        "print(f'{a1}, {a2}, {a3}')"
      ],
      "execution_count": 6,
      "outputs": [
        {
          "output_type": "stream",
          "name": "stdout",
          "text": [
            "346.0, 346.0, 346.0\n"
          ]
        }
      ]
    },
    {
      "cell_type": "markdown",
      "source": [
        "### Quartile"
      ],
      "metadata": {
        "id": "a6vwCBx55inn"
      }
    },
    {
      "cell_type": "code",
      "source": [
        "Q1 = np.percentile(df[\"Total\"], 25)\n",
        "Q2 = np.percentile(df[\"Total\"], 50)\n",
        "Q3 = np.percentile(df[\"Total\"], 75)\n",
        "\n",
        "print(\"1st Quartile: \",Q1)\n",
        "print(\"2nd Quartile: \",Q2)\n",
        "print(\"3rd Quartile: \",Q3)\n",
        "\n"
      ],
      "metadata": {
        "colab": {
          "base_uri": "https://localhost:8080/"
        },
        "id": "v2egR6i_7XIR",
        "outputId": "a6737131-117f-4ea3-b794-e91946683688"
      },
      "execution_count": 7,
      "outputs": [
        {
          "output_type": "stream",
          "name": "stdout",
          "text": [
            "1st Quartile:  312.0\n",
            "2nd Quartile:  346.0\n",
            "3rd Quartile:  374.0\n"
          ]
        }
      ]
    },
    {
      "cell_type": "markdown",
      "source": [
        "### Percentile\n"
      ],
      "metadata": {
        "id": "QumgmHzq5miE"
      }
    },
    {
      "cell_type": "code",
      "source": [
        "P90th = np.percentile(df[\"Total\"], 90)\n",
        "\n",
        "\n",
        "print(\"90th percentile: \",P90th)"
      ],
      "metadata": {
        "colab": {
          "base_uri": "https://localhost:8080/"
        },
        "id": "Ogz8XlbX6eZY",
        "outputId": "d54bc13c-a698-4944-fd1f-53243c35069c"
      },
      "execution_count": 8,
      "outputs": [
        {
          "output_type": "stream",
          "name": "stdout",
          "text": [
            "90th percentile:  396.0\n"
          ]
        }
      ]
    },
    {
      "cell_type": "code",
      "source": [
        "P10th = np.percentile(df[\"Total\"], 10)\n",
        "\n",
        "\n",
        "print(\"10th percentile: \",P10th)"
      ],
      "metadata": {
        "colab": {
          "base_uri": "https://localhost:8080/"
        },
        "id": "sEQx0bd17PVQ",
        "outputId": "45ff5e6c-85cd-4845-da57-be236da1cb15"
      },
      "execution_count": 9,
      "outputs": [
        {
          "output_type": "stream",
          "name": "stdout",
          "text": [
            "10th percentile:  275.0\n"
          ]
        }
      ]
    },
    {
      "cell_type": "markdown",
      "metadata": {
        "id": "2H29Ii3mVoyj"
      },
      "source": [
        "## 4. Dispersion"
      ]
    },
    {
      "cell_type": "markdown",
      "source": [
        "### Standard Deviation"
      ],
      "metadata": {
        "id": "j8-7sc2T5rPY"
      }
    },
    {
      "cell_type": "code",
      "metadata": {
        "id": "5jdKUfjjVNOE",
        "outputId": "19e52098-0f7b-4d06-ecba-9b6193fc8357",
        "colab": {
          "base_uri": "https://localhost:8080/"
        }
      },
      "source": [
        "from statistics import stdev\n",
        "\n",
        "a1 = df['Total'].std() # pandas function\n",
        "a2 = stdev(df['Total'])  # statistics function\n",
        "a3 = np.std(df['Total']) # numpy function\n",
        "\n",
        "print(f'{a1}, {a2}, {a3}')"
      ],
      "execution_count": 10,
      "outputs": [
        {
          "output_type": "stream",
          "name": "stdout",
          "text": [
            "46.491375435153394, 46.49137543515301, 46.48948458104238\n"
          ]
        }
      ]
    },
    {
      "cell_type": "markdown",
      "source": [
        "### Variance"
      ],
      "metadata": {
        "id": "r6BxEqIW5vj_"
      }
    },
    {
      "cell_type": "code",
      "metadata": {
        "id": "9rj6TfdzWlVA",
        "outputId": "5b0eb524-0ae3-4104-c2a9-d5b0b785163c",
        "colab": {
          "base_uri": "https://localhost:8080/"
        }
      },
      "source": [
        "from statistics import variance\n",
        "\n",
        "a1 = df['Total'].var() # pandas function\n",
        "a2 = variance(df['Total'])  # statistics function\n",
        "a3 = np.var(df['Total']) # numpy function\n",
        "\n",
        "print(f'{a1}, {a2}, {a3}')"
      ],
      "execution_count": 11,
      "outputs": [
        {
          "output_type": "stream",
          "name": "stdout",
          "text": [
            "2161.447989852384, 2161.4479898523487, 2161.2721766109776\n"
          ]
        }
      ]
    },
    {
      "cell_type": "markdown",
      "metadata": {
        "id": "LpcsdLO3YDGo"
      },
      "source": [
        "## 5. Shape"
      ]
    },
    {
      "cell_type": "markdown",
      "source": [
        "### Skewness"
      ],
      "metadata": {
        "id": "5MjTWzTJ5yzq"
      }
    },
    {
      "cell_type": "code",
      "metadata": {
        "id": "VfDZpF6iWsSy",
        "outputId": "e8de79be-f8f5-4d10-efc5-c33a3b1eb467",
        "colab": {
          "base_uri": "https://localhost:8080/"
        }
      },
      "source": [
        "from scipy.stats import skew\n",
        "\n",
        "a1 = df['Total'].skew() # pandas function\n",
        "a2 = skew(df['Total'])  # scipy stats\n",
        "\n",
        "print(a1, a2)"
      ],
      "execution_count": 12,
      "outputs": [
        {
          "output_type": "stream",
          "name": "stdout",
          "text": [
            "-0.5087494584208861 -0.5086873834206574\n"
          ]
        }
      ]
    },
    {
      "cell_type": "markdown",
      "source": [
        "### Kurtosis"
      ],
      "metadata": {
        "id": "af6F73Nc51gp"
      }
    },
    {
      "cell_type": "code",
      "metadata": {
        "id": "kyulOWGFYKoC",
        "outputId": "923c1894-30fb-4c07-9652-b30f579605d7",
        "colab": {
          "base_uri": "https://localhost:8080/"
        }
      },
      "source": [
        "from scipy.stats import kurtosis\n",
        "\n",
        "a1 = df['Total'].kurt() # pandas function\n",
        "a2 = kurtosis(df['Total'])  # scipy stats\n",
        "\n",
        "print(a1, a2)"
      ],
      "execution_count": 13,
      "outputs": [
        {
          "output_type": "stream",
          "name": "stdout",
          "text": [
            "-0.009985681320738404 -0.010469623835420272\n"
          ]
        }
      ]
    },
    {
      "cell_type": "markdown",
      "metadata": {
        "id": "SXTOsJo0br3f"
      },
      "source": [
        ""
      ]
    },
    {
      "cell_type": "markdown",
      "metadata": {
        "id": "9WaqT2Qd0iE9"
      },
      "source": [
        "## 6. Visualization"
      ]
    },
    {
      "cell_type": "code",
      "source": [
        "# Density Plot\n",
        "\n",
        "import seaborn as sns\n",
        "\n",
        "sns.set(color_codes=True)\n",
        "\n",
        "sns.kdeplot(df['Total'], shade=True)\n"
      ],
      "metadata": {
        "colab": {
          "base_uri": "https://localhost:8080/",
          "height": 303
        },
        "id": "ymbrj1MhwY4O",
        "outputId": "b96d9f8c-93d4-448a-fb64-ab76759831ec"
      },
      "execution_count": 14,
      "outputs": [
        {
          "output_type": "execute_result",
          "data": {
            "text/plain": [
              "<matplotlib.axes._subplots.AxesSubplot at 0x7f4a61be9fd0>"
            ]
          },
          "metadata": {},
          "execution_count": 14
        },
        {
          "output_type": "display_data",
          "data": {
            "text/plain": [
              "<Figure size 432x288 with 1 Axes>"
            ],
            "image/png": "[encoded data removed]"
          },
          "metadata": {}
        }
      ]
    },
    {
      "cell_type": "code",
      "metadata": {
        "outputId": "524cc525-0fc7-4bf7-ae7d-c6ceb6d3f5dd",
        "colab": {
          "base_uri": "https://localhost:8080/",
          "height": 303
        },
        "id": "QKW9lOlL0iFK"
      },
      "source": [
        "import seaborn as sns\n",
        "import matplotlib.pyplot as plt\n",
        "\n",
        "sns.set(color_codes=True)\n",
        "\n",
        "sns.kdeplot(df['Total'], shade=True)\n",
        "\n",
        "plt.axvline(df['Total'].mean(), 0, 1)                         # Darw Mean Line\n",
        "plt.axvline(df['Total'].median(), 0, 1, color='r')            # Darw Median Line\n"
      ],
      "execution_count": 15,
      "outputs": [
        {
          "output_type": "execute_result",
          "data": {
            "text/plain": [
              "<matplotlib.lines.Line2D at 0x7f4a62980ad0>"
            ]
          },
          "metadata": {},
          "execution_count": 15
        },
        {
          "output_type": "display_data",
          "data": {
            "text/plain": [
              "<Figure size 432x288 with 1 Axes>"
            ],
            "image/png": "[encoded data removed]"
          },
          "metadata": {}
        }
      ]
    },
    {
      "cell_type": "code",
      "source": [
        "# Insert 25 percentile and 75 percentile Line\n",
        "result = df.describe()\n",
        "result.Total                        # Created result df with values"
      ],
      "metadata": {
        "colab": {
          "base_uri": "https://localhost:8080/"
        },
        "id": "1MLLzSQiw8S7",
        "outputId": "94b59d50-7cf4-43b0-9506-6cb3f93ead14"
      },
      "execution_count": 16,
      "outputs": [
        {
          "output_type": "execute_result",
          "data": {
            "text/plain": [
              "count    12294.000000\n",
              "mean       340.563364\n",
              "std         46.491375\n",
              "min        171.000000\n",
              "25%        312.000000\n",
              "50%        346.000000\n",
              "75%        374.000000\n",
              "max        467.000000\n",
              "Name: Total, dtype: float64"
            ]
          },
          "metadata": {},
          "execution_count": 16
        }
      ]
    },
    {
      "cell_type": "code",
      "source": [
        "import seaborn as sns\n",
        "import matplotlib.pyplot as plt\n",
        "\n",
        "sns.set(color_codes=True)\n",
        "\n",
        "sns.kdeplot(df['Total'], shade=True)\n",
        "\n",
        "plt.axvline(df['Total'].mean(), 0, 1)                         # Darw Mean Line\n",
        "plt.axvline(df['Total'].median(), 0, 1, color='r')            # Darw Median Line\n",
        "\n",
        "plt.axvline(result['Total']['25%'], 0, 1, color='g')            # Darw 25 Percentile Line\n",
        "plt.axvline(result['Total']['75%'], 0, 1, color='g')            # Darw 75th Percentile Line"
      ],
      "metadata": {
        "colab": {
          "base_uri": "https://localhost:8080/",
          "height": 303
        },
        "id": "2yje0IVPxVxP",
        "outputId": "f6610d2d-86f2-490c-c5bf-8f27fc80944a"
      },
      "execution_count": 17,
      "outputs": [
        {
          "output_type": "execute_result",
          "data": {
            "text/plain": [
              "<matplotlib.lines.Line2D at 0x7f4a5cdd8b10>"
            ]
          },
          "metadata": {},
          "execution_count": 17
        },
        {
          "output_type": "display_data",
          "data": {
            "text/plain": [
              "<Figure size 432x288 with 1 Axes>"
            ],
            "image/png": "[encoded data removed]"
          },
          "metadata": {}
        }
      ]
    },
    {
      "cell_type": "code",
      "source": [
        "# Upper and Lower Outliners \n",
        "\n",
        "# IQR=Q3-Q1\n",
        "IQR = result['Total']['75%']-result['Total']['25%']\n",
        "\n",
        "\n",
        "# Upper Outliner = Q3 + (1.5*IQR)\n",
        "upper_Outliner = result['Total']['75%']+(1.5*IQR)\n",
        "\n",
        "# Lower Outliner = Q1 - (1.5*IQR)\n",
        "lower_Outliner = result['Total']['25%']-(1.5*IQR)\n",
        "\n",
        "\n",
        "print(lower_Outliner)\n",
        "print(upper_Outliner)\n",
        "\n"
      ],
      "metadata": {
        "colab": {
          "base_uri": "https://localhost:8080/"
        },
        "id": "uAFU9xZ4yYdk",
        "outputId": "40c329f3-b7b9-4ca5-aeec-b626ff41c59d"
      },
      "execution_count": 18,
      "outputs": [
        {
          "output_type": "stream",
          "name": "stdout",
          "text": [
            "219.0\n",
            "467.0\n"
          ]
        }
      ]
    },
    {
      "cell_type": "code",
      "source": [
        "\n",
        "\n",
        "import seaborn as sns\n",
        "import matplotlib.pyplot as plt\n",
        "\n",
        "sns.set(color_codes=True)\n",
        "\n",
        "sns.kdeplot(df['Total'], shade=True)\n",
        "\n",
        "plt.axvline(df['Total'].mean(), 0, 1)                         # Darw Mean Line\n",
        "plt.axvline(df['Total'].median(), 0, 1, color='r')            # Darw Median Line\n",
        "\n",
        "plt.axvline(result['Total']['25%'], 0, 1, color='g')            # Darw 25 Percentile Line\n",
        "plt.axvline(result['Total']['75%'], 0, 1, color='g')            # Darw 75th Percentile Line\n",
        "\n",
        "plt.axvline(upper_Outliner, 0, 1, color ='r')                  # Upper Outliner\n",
        "plt.axvline(lower_Outliner, 0, 1, color ='r')                  # Lower Outliner"
      ],
      "metadata": {
        "colab": {
          "base_uri": "https://localhost:8080/",
          "height": 303
        },
        "id": "qdO-9Li5vE5b",
        "outputId": "645b47a4-198d-4190-d759-f5d5c7cb5651"
      },
      "execution_count": 19,
      "outputs": [
        {
          "output_type": "execute_result",
          "data": {
            "text/plain": [
              "<matplotlib.lines.Line2D at 0x7f4a5cd66bd0>"
            ]
          },
          "metadata": {},
          "execution_count": 19
        },
        {
          "output_type": "display_data",
          "data": {
            "text/plain": [
              "<Figure size 432x288 with 1 Axes>"
            ],
            "image/png": "[encoded data removed]"
          },
          "metadata": {}
        }
      ]
    },
    {
      "cell_type": "code",
      "metadata": {
        "id": "uI-8Hs_zeveo"
      },
      "source": [
        ""
      ],
      "execution_count": 19,
      "outputs": []
    }
  ]
}