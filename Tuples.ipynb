{
  "nbformat": 4,
  "nbformat_minor": 0,
  "metadata": {
    "colab": {
      "name": "Tuples.ipynb",
      "provenance": [],
      "authorship_tag": "ABX9TyOSHNtYLqNTmj/z3v0HVWvi",
      "include_colab_link": true
    },
    "kernelspec": {
      "name": "python3",
      "display_name": "Python 3"
    },
    "language_info": {
      "name": "python"
    }
  },
  "cells": [
    {
      "cell_type": "markdown",
      "metadata": {
        "id": "view-in-github",
        "colab_type": "text"
      },
      "source": [
        "<a href=\"https://colab.research.google.com/github/datagrad/Learning-Python/blob/main/Tuples.ipynb\" target=\"_parent\"><img src=\"https://colab.research.google.com/assets/colab-badge.svg\" alt=\"Open In Colab\"/></a>"
      ]
    },
    {
      "cell_type": "markdown",
      "source": [
        "# Tuple\n",
        "\n",
        "### Tuple = ('G', 1, 'G', 4, 7) \n",
        "\n",
        "\n",
        "Tuple is a collection of Python objects much like a list. The sequence of values stored in a tuple can be of any type, and they are indexed by integers. \n",
        "\n",
        "Values of a tuple are syntactically separated by ‘commas’. Although it is not necessary, it is more common to define a tuple by closing the sequence of values in parentheses. This helps in understanding the Python tuples more easily.\n"
      ],
      "metadata": {
        "id": "o7nilkxvoRkN"
      }
    },
    {
      "cell_type": "markdown",
      "source": [
        "Tuples are **immutable**, and usually, they contain a sequence of heterogeneous elements that are accessed via unpacking or indexing (or even by attribute in the case of named tuples)."
      ],
      "metadata": {
        "id": "SR4y89Nzu2IK"
      }
    },
    {
      "cell_type": "code",
      "execution_count": 24,
      "metadata": {
        "colab": {
          "base_uri": "https://localhost:8080/"
        },
        "id": "vfw2Xr1BoJcP",
        "outputId": "516d55c4-456d-42bb-b406-c731cc00ed0f"
      },
      "outputs": [
        {
          "output_type": "stream",
          "name": "stdout",
          "text": [
            "Empty Tuple :  ()\n",
            "=====\n",
            "Tuple with elements :  ('Orange', 'For')\n",
            "=====\n",
            "Tuple with Mixed Datatypes:  (5, 'Welcome', 7, 'Oranges')\n",
            "=====\n"
          ]
        }
      ],
      "source": [
        "# Empty Tuple\n",
        "Tuple1 = ()\n",
        "print(\"Empty Tuple : \",Tuple1)\n",
        "\n",
        "print(\"=\"*5)\n",
        "# Tuple with elements\n",
        "Tuple2 = ('Orange', 'For')\n",
        "print(\"Tuple with elements : \",Tuple2)\n",
        "print(\"=\"*5)\n",
        "\n",
        "Tuple3 = (5, 'Welcome', 7, 'Oranges')\n",
        "print(\"Tuple with Mixed Datatypes: \",Tuple3)\n",
        "print(\"=\"*5)\n",
        "\n"
      ]
    },
    {
      "cell_type": "code",
      "source": [
        "print(\"=\"*5)\n",
        "\n",
        "Tuple4 = (Tuple1, Tuple2, Tuple3)\n",
        "print(Tuple4)\n",
        "print(\"=\"*5)\n",
        "\n",
        "Tuple5 = Tuple2*3\n",
        "print(Tuple5)\n",
        "print(\"=\"*5)"
      ],
      "metadata": {
        "colab": {
          "base_uri": "https://localhost:8080/"
        },
        "id": "0O0KIqKKu_Zu",
        "outputId": "a89db1ee-3874-4db4-b83a-da45eee1f7e7"
      },
      "execution_count": 25,
      "outputs": [
        {
          "output_type": "stream",
          "name": "stdout",
          "text": [
            "=====\n",
            "((), ('Orange', 'For'), (5, 'Welcome', 7, 'Oranges'))\n",
            "=====\n",
            "('Orange', 'For', 'Orange', 'For', 'Orange', 'For')\n",
            "=====\n"
          ]
        }
      ]
    },
    {
      "cell_type": "code",
      "source": [
        "# Concatenation\n",
        "\n",
        "print(Tuple1)\n",
        "print(Tuple2)\n",
        "print(Tuple3)\n",
        "\n",
        "Tuple7= Tuple1 + Tuple2 + Tuple3\n",
        "\n",
        "print(Tuple7)"
      ],
      "metadata": {
        "colab": {
          "base_uri": "https://localhost:8080/"
        },
        "id": "o3QPVWlCzMHj",
        "outputId": "cf1af547-5d2d-4fdf-c937-91df58f18990"
      },
      "execution_count": 26,
      "outputs": [
        {
          "output_type": "stream",
          "name": "stdout",
          "text": [
            "()\n",
            "('Orange', 'For')\n",
            "(5, 'Welcome', 7, 'Oranges')\n",
            "('Orange', 'For', 5, 'Welcome', 7, 'Oranges')\n"
          ]
        }
      ]
    },
    {
      "cell_type": "code",
      "source": [
        "# Creating a Tuple from the list and list from tuple\n",
        "list1 = [1, 2, 4, 5, 6]\n",
        "Tuple = tuple(list1)\n",
        "\n",
        "print(Tuple)\n",
        "\n",
        "List2 = list(Tuple)\n",
        "\n",
        "print(List2)"
      ],
      "metadata": {
        "colab": {
          "base_uri": "https://localhost:8080/"
        },
        "id": "7MSbJxAupvey",
        "outputId": "1d6eb136-f3fc-4469-b7d7-768ffb50849f"
      },
      "execution_count": 27,
      "outputs": [
        {
          "output_type": "stream",
          "name": "stdout",
          "text": [
            "(1, 2, 4, 5, 6)\n",
            "[1, 2, 4, 5, 6]\n"
          ]
        }
      ]
    },
    {
      "cell_type": "code",
      "source": [
        "# Creating a Tuple and list from String\n",
        "Tuple1 = tuple('ORANGE')\n",
        "print(Tuple1)\n",
        "\n",
        "print(list(Tuple1))\n",
        "print(list(\"STRING\"))"
      ],
      "metadata": {
        "colab": {
          "base_uri": "https://localhost:8080/"
        },
        "id": "_bttvngQpwUg",
        "outputId": "ea246fd3-fa2e-4a2f-b569-058a09c7fb84"
      },
      "execution_count": 28,
      "outputs": [
        {
          "output_type": "stream",
          "name": "stdout",
          "text": [
            "('O', 'R', 'A', 'N', 'G', 'E')\n",
            "['O', 'R', 'A', 'N', 'G', 'E']\n",
            "['S', 'T', 'R', 'I', 'N', 'G']\n"
          ]
        }
      ]
    },
    {
      "cell_type": "code",
      "source": [
        "# Indexing\n",
        "Tuple1 = tuple(\"STRING\")\n",
        "\n",
        "print(\"First Element of Tuple : \",Tuple1[0])\n",
        "\n",
        "print(\"Third Element of Tuple : \",Tuple1[2])\n",
        "\n",
        "print(\"Lats Element of Tuple : \",Tuple1[-1])"
      ],
      "metadata": {
        "colab": {
          "base_uri": "https://localhost:8080/"
        },
        "id": "R1iNhg3wpxGc",
        "outputId": "2ae0de8e-cda4-49d0-a181-d3a1ded79c6a"
      },
      "execution_count": 29,
      "outputs": [
        {
          "output_type": "stream",
          "name": "stdout",
          "text": [
            "First Element of Tuple :  S\n",
            "Third Element of Tuple :  R\n",
            "Lats Element of Tuple :  G\n"
          ]
        }
      ]
    },
    {
      "cell_type": "code",
      "source": [
        "# Tuple unpacking\n",
        "Tuple2 = (\"Apple\", \"Grapes\", \"Mango\")\n",
        "\n",
        "# This line unpack\n",
        "# values of Tuple1\n",
        "a, b, c = Tuple2\n",
        "print(\"\\nValues after unpacking: \")\n",
        "print(\"\\n\",a)\n",
        "print(\"\\n\",b)\n",
        "print(\"\\n\",c)\n"
      ],
      "metadata": {
        "colab": {
          "base_uri": "https://localhost:8080/"
        },
        "id": "yA831CpIxM5l",
        "outputId": "e7bc6963-c136-4c71-a04d-42b4c06140c6"
      },
      "execution_count": 37,
      "outputs": [
        {
          "output_type": "stream",
          "name": "stdout",
          "text": [
            "\n",
            "Values after unpacking: \n",
            "\n",
            " Apple\n",
            "\n",
            " Grapes\n",
            "\n",
            " Mango\n"
          ]
        }
      ]
    },
    {
      "cell_type": "code",
      "source": [
        "# Indexing\n",
        "Tuple3 = tuple(\"STRING\")\n",
        "\n",
        "a,b,c,d,e,f = Tuple3\n",
        "\n",
        "print(\"\\n\",a)\n",
        "print(\"\\n\",b)\n",
        "print(\"\\n\",c)\n",
        "print(\"\\n\",d)\n",
        "print(\"\\n\",e)\n",
        "print(\"\\n\",f)\n"
      ],
      "metadata": {
        "colab": {
          "base_uri": "https://localhost:8080/"
        },
        "id": "Q4qcB1SRxV52",
        "outputId": "e1dff695-5fac-488a-b525-98016e0b6740"
      },
      "execution_count": 36,
      "outputs": [
        {
          "output_type": "stream",
          "name": "stdout",
          "text": [
            "\n",
            " S\n",
            "\n",
            " T\n",
            "\n",
            " R\n",
            "\n",
            " I\n",
            "\n",
            " N\n",
            "\n",
            " G\n"
          ]
        }
      ]
    },
    {
      "cell_type": "markdown",
      "source": [
        "## Slicing of a Tuple"
      ],
      "metadata": {
        "id": "fKmVpxKq0foQ"
      }
    },
    {
      "cell_type": "code",
      "source": [
        "Tuple1 = tuple('ORANGEISBESTFRUIT')\n",
        "\n",
        "# Removing First element\n",
        "print(\"Removal of First Element: \")\n",
        "print(Tuple1[1:])\n",
        "\n",
        "# Reversing the Tuple\n",
        "print(\"\\nTuple after sequence of Element is reversed: \")\n",
        "print(Tuple1[::-1])\n",
        "\n"
      ],
      "metadata": {
        "colab": {
          "base_uri": "https://localhost:8080/"
        },
        "id": "FND7dx63yRqn",
        "outputId": "d788cb4d-7edf-4013-ab3e-df73aabac2de"
      },
      "execution_count": 38,
      "outputs": [
        {
          "output_type": "stream",
          "name": "stdout",
          "text": [
            "Removal of First Element: \n",
            "('R', 'A', 'N', 'G', 'E', 'I', 'S', 'B', 'E', 'S', 'T', 'F', 'R', 'U', 'I', 'T')\n",
            "\n",
            "Tuple after sequence of Element is reversed: \n",
            "('T', 'I', 'U', 'R', 'F', 'T', 'S', 'E', 'B', 'S', 'I', 'E', 'G', 'N', 'A', 'R', 'O')\n"
          ]
        }
      ]
    },
    {
      "cell_type": "code",
      "source": [
        "# Printing elements of a Range\n",
        "print(\"\\nPrinting elements between Range 4-9: \")\n",
        "print(Tuple1[4:9])\n"
      ],
      "metadata": {
        "colab": {
          "base_uri": "https://localhost:8080/"
        },
        "id": "H4_6Ir2s0olV",
        "outputId": "2411d3f6-d917-46f8-cbd2-70d99355c133"
      },
      "execution_count": 39,
      "outputs": [
        {
          "output_type": "stream",
          "name": "stdout",
          "text": [
            "\n",
            "Printing elements between Range 4-9: \n",
            "('G', 'E', 'I', 'S', 'B')\n"
          ]
        }
      ]
    },
    {
      "cell_type": "markdown",
      "source": [
        "## Deleting a Tuple"
      ],
      "metadata": {
        "id": "Mt7o8DKZ03ji"
      }
    },
    {
      "cell_type": "code",
      "source": [
        "# Deleting a Tuple\n",
        "\n",
        "Tuple3 = (0, 1, 2, 3, 4)\n",
        "del Tuple3\n"
      ],
      "metadata": {
        "id": "CMNezbfj0pF8"
      },
      "execution_count": 44,
      "outputs": []
    },
    {
      "cell_type": "markdown",
      "source": [
        "Check if it is deleted"
      ],
      "metadata": {
        "id": "7LOQFBah06Mc"
      }
    },
    {
      "cell_type": "code",
      "source": [
        "# Run this to check if tuple is deleted or not\n",
        "\n",
        "#print(Tuple1)\n"
      ],
      "metadata": {
        "id": "qhbLUpGB0_uH"
      },
      "execution_count": 45,
      "outputs": []
    },
    {
      "cell_type": "markdown",
      "source": [
        "## Built-in-Methods\n",
        "\n",
        "Tuple.index()\n"
      ],
      "metadata": {
        "id": "qgZF1PW81rCJ"
      }
    },
    {
      "cell_type": "code",
      "source": [
        "Tuple1 = tuple('ORANGEISBESTFRUIT')\n",
        "\n",
        "print(Tuple1.index(\"I\"))"
      ],
      "metadata": {
        "colab": {
          "base_uri": "https://localhost:8080/"
        },
        "id": "-M7056pj1T7q",
        "outputId": "cc9b975c-8d59-4532-e7a8-e55ef2b4095b"
      },
      "execution_count": 52,
      "outputs": [
        {
          "output_type": "stream",
          "name": "stdout",
          "text": [
            "6\n"
          ]
        }
      ]
    },
    {
      "cell_type": "code",
      "source": [
        "Tuple1 = tuple('ORANGEISBESTFRUIT')\n",
        "\n",
        "print(Tuple1.count(\"I\"))"
      ],
      "metadata": {
        "colab": {
          "base_uri": "https://localhost:8080/"
        },
        "id": "mSI4CStd11q_",
        "outputId": "e1ebd3fb-95a9-44dd-c59c-926ae4133204"
      },
      "execution_count": 54,
      "outputs": [
        {
          "output_type": "stream",
          "name": "stdout",
          "text": [
            "2\n"
          ]
        }
      ]
    },
    {
      "cell_type": "markdown",
      "source": [
        "* all()\tReturns true if all element are true or if tuple is empty\n",
        "* any()\treturn true if any element of the tuple is true. if tuple is empty, return false\n",
        "* len()\tReturns length of the tuple or size of the tuple\n",
        "* enumerate()\tReturns enumerate object of tuple\n",
        "* max()\treturn maximum element of given tuple\n",
        "* min()\treturn minimum element of given tuple\n",
        "* sum()\tSums up the numbers in the tuple\n",
        "* sorted()\tinput elements in the tuple and return a new sorted list\n",
        "* tuple()\tConvert an iterable to a tuple.\n"
      ],
      "metadata": {
        "id": "vxwPbgvV2PNB"
      }
    },
    {
      "cell_type": "code",
      "source": [
        "print(all(Tuple1))"
      ],
      "metadata": {
        "colab": {
          "base_uri": "https://localhost:8080/"
        },
        "id": "s1Ht_aTZ14at",
        "outputId": "35d24e9e-e60f-4182-cdaf-72768ba17e75"
      },
      "execution_count": 56,
      "outputs": [
        {
          "output_type": "stream",
          "name": "stdout",
          "text": [
            "True\n"
          ]
        }
      ]
    }
  ]
}