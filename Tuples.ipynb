{
  "nbformat": 4,
  "nbformat_minor": 0,
  "metadata": {
    "colab": {
      "name": "Tuples.ipynb",
      "provenance": [],
      "authorship_tag": "ABX9TyOIpGDbX7xhLgFt8jBYT/bQ",
      "include_colab_link": true
    },
    "kernelspec": {
      "name": "python3",
      "display_name": "Python 3"
    },
    "language_info": {
      "name": "python"
    }
  },
  "cells": [
    {
      "cell_type": "markdown",
      "metadata": {
        "id": "view-in-github",
        "colab_type": "text"
      },
      "source": [
        "<a href=\"https://colab.research.google.com/github/datagrad/Learning-Python/blob/main/Tuples.ipynb\" target=\"_parent\"><img src=\"https://colab.research.google.com/assets/colab-badge.svg\" alt=\"Open In Colab\"/></a>"
      ]
    },
    {
      "cell_type": "markdown",
      "source": [
        "# Tuple\n",
        "\n",
        "`Tuple = ('G', 1, 'G', 4, 7) `\n",
        "\n",
        "\n",
        "\n",
        "---\n",
        "\n",
        "\n",
        "Tuple is a collection of Python objects much like a list. The sequence of values stored in a tuple can be of any type, and they are indexed by integers. \n",
        "\n",
        "Values of a tuple are syntactically separated by ‘commas’. Although it is not necessary, it is more common to define a tuple by closing the sequence of values in parentheses. This helps in understanding the Python tuples more easily.\n",
        "\n",
        "\n",
        "\n",
        "---\n",
        "\n"
      ],
      "metadata": {
        "id": "o7nilkxvoRkN"
      }
    },
    {
      "cell_type": "markdown",
      "source": [
        "Tuples are **immutable**, and usually, they contain a sequence of heterogeneous elements that are accessed via unpacking or indexing (or even by attribute in the case of named tuples).\n",
        "\n",
        "\n",
        "---\n",
        "\n"
      ],
      "metadata": {
        "id": "SR4y89Nzu2IK"
      }
    },
    {
      "cell_type": "markdown",
      "source": [
        "## Simple Tuple"
      ],
      "metadata": {
        "id": "qysQ_Dvu6maN"
      }
    },
    {
      "cell_type": "code",
      "execution_count": 86,
      "metadata": {
        "colab": {
          "base_uri": "https://localhost:8080/"
        },
        "id": "vfw2Xr1BoJcP",
        "outputId": "4bcb56c9-4f10-4855-ef65-283be4d48fe9"
      },
      "outputs": [
        {
          "output_type": "stream",
          "name": "stdout",
          "text": [
            "Empty Tuple :  ()\n",
            "=====\n",
            "Tuple with elements :  ('Orange', 'For')\n",
            "=====\n",
            "Tuple with Mixed Datatypes:  (5, 'Welcome', 7, 'Oranges')\n",
            "=====\n"
          ]
        }
      ],
      "source": [
        "# Empty Tuple\n",
        "Tuple1 = ()\n",
        "print(\"Empty Tuple : \",Tuple1)\n",
        "\n",
        "print(\"=\"*5)\n",
        "# Tuple with elements\n",
        "Tuple2 = ('Orange', 'For')\n",
        "print(\"Tuple with elements : \",Tuple2)\n",
        "print(\"=\"*5)\n",
        "\n",
        "Tuple3 = (5, 'Welcome', 7, 'Oranges')\n",
        "print(\"Tuple with Mixed Datatypes: \",Tuple3)\n",
        "print(\"=\"*5)\n",
        "\n"
      ]
    },
    {
      "cell_type": "markdown",
      "source": [
        "## Sub-Tuple"
      ],
      "metadata": {
        "id": "y35Hg4LJ6sDI"
      }
    },
    {
      "cell_type": "code",
      "source": [
        "print(\"=\"*5)\n",
        "\n",
        "Tuple4 = (Tuple1, Tuple2, Tuple3)\n",
        "print(Tuple4)\n",
        "print(\"=\"*5)\n",
        "\n"
      ],
      "metadata": {
        "colab": {
          "base_uri": "https://localhost:8080/"
        },
        "id": "0O0KIqKKu_Zu",
        "outputId": "1025a856-d449-49bf-a3d0-c7aea71a1d66"
      },
      "execution_count": 87,
      "outputs": [
        {
          "output_type": "stream",
          "name": "stdout",
          "text": [
            "=====\n",
            "((), ('Orange', 'For'), (5, 'Welcome', 7, 'Oranges'))\n",
            "=====\n"
          ]
        }
      ]
    },
    {
      "cell_type": "markdown",
      "source": [
        "## Concatenation\n",
        "* Tuple1 = (1,2,h,i)\n",
        "* Tuple2 = (4,t,5,6)\n",
        "          * Tuple = Tuple1 + Tuple2\n",
        "                  = (1,2,h,i, 4,t,5,6)"
      ],
      "metadata": {
        "id": "VcZZs64z60O6"
      }
    },
    {
      "cell_type": "code",
      "source": [
        "# Concatenation of different Tuples\n",
        "\n",
        "print(Tuple1)\n",
        "print(Tuple2)\n",
        "print(Tuple3)\n",
        "\n",
        "Tuple7= Tuple1 + Tuple2 + Tuple3\n",
        "\n",
        "print(Tuple7)"
      ],
      "metadata": {
        "colab": {
          "base_uri": "https://localhost:8080/"
        },
        "id": "o3QPVWlCzMHj",
        "outputId": "c3dd46e0-9789-4fa8-ac46-fd2ed6fb5323"
      },
      "execution_count": 88,
      "outputs": [
        {
          "output_type": "stream",
          "name": "stdout",
          "text": [
            "()\n",
            "('Orange', 'For')\n",
            "(5, 'Welcome', 7, 'Oranges')\n",
            "('Orange', 'For', 5, 'Welcome', 7, 'Oranges')\n"
          ]
        }
      ]
    },
    {
      "cell_type": "code",
      "source": [
        "# Concatenation of Same Tuple\n",
        "\n",
        "Tuple5 = Tuple2*3\n",
        "print(Tuple5)\n",
        "print(\"=\"*5)"
      ],
      "metadata": {
        "colab": {
          "base_uri": "https://localhost:8080/"
        },
        "id": "bOHjEsIE9h-5",
        "outputId": "00647833-2913-4309-e2e2-17e1369db528"
      },
      "execution_count": 89,
      "outputs": [
        {
          "output_type": "stream",
          "name": "stdout",
          "text": [
            "('Orange', 'For', 'Orange', 'For', 'Orange', 'For')\n",
            "=====\n"
          ]
        }
      ]
    },
    {
      "cell_type": "markdown",
      "source": [
        "## Tuple <=> List"
      ],
      "metadata": {
        "id": "TQTOCgEQ7XDz"
      }
    },
    {
      "cell_type": "code",
      "source": [
        "# Creating a Tuple from the list and list from tuple\n",
        "list1 = [1, 2, 4, 5, 6]\n",
        "Tuple = tuple(list1)\n",
        "\n",
        "print(Tuple)\n",
        "\n",
        "List2 = list(Tuple)\n",
        "\n",
        "print(List2)"
      ],
      "metadata": {
        "colab": {
          "base_uri": "https://localhost:8080/"
        },
        "id": "7MSbJxAupvey",
        "outputId": "1173489f-c130-4d68-afae-940686098c9b"
      },
      "execution_count": 90,
      "outputs": [
        {
          "output_type": "stream",
          "name": "stdout",
          "text": [
            "(1, 2, 4, 5, 6)\n",
            "[1, 2, 4, 5, 6]\n"
          ]
        }
      ]
    },
    {
      "cell_type": "markdown",
      "source": [
        "## String to Tuple"
      ],
      "metadata": {
        "id": "O-3C6ZY27dgB"
      }
    },
    {
      "cell_type": "code",
      "source": [
        "# Creating a Tuple and list from String\n",
        "Tuple1 = tuple('ORANGE')\n",
        "print(Tuple1)\n",
        "\n",
        "print(list(Tuple1))\n",
        "print(list(\"STRING\"))"
      ],
      "metadata": {
        "colab": {
          "base_uri": "https://localhost:8080/"
        },
        "id": "_bttvngQpwUg",
        "outputId": "5298302e-66a4-4174-fe59-00a97f2b9ce8"
      },
      "execution_count": 91,
      "outputs": [
        {
          "output_type": "stream",
          "name": "stdout",
          "text": [
            "('O', 'R', 'A', 'N', 'G', 'E')\n",
            "['O', 'R', 'A', 'N', 'G', 'E']\n",
            "['S', 'T', 'R', 'I', 'N', 'G']\n"
          ]
        }
      ]
    },
    {
      "cell_type": "markdown",
      "source": [
        "## Indexing"
      ],
      "metadata": {
        "id": "eMEFjJpW7hrC"
      }
    },
    {
      "cell_type": "code",
      "source": [
        "# Indexing\n",
        "Tuple1 = tuple(\"STRING\")\n",
        "\n",
        "print(\"First Element of Tuple : \",Tuple1[0])\n",
        "\n",
        "print(\"Third Element of Tuple : \",Tuple1[2])\n",
        "\n",
        "print(\"Lats Element of Tuple : \",Tuple1[-1])"
      ],
      "metadata": {
        "colab": {
          "base_uri": "https://localhost:8080/"
        },
        "id": "R1iNhg3wpxGc",
        "outputId": "68ffe2b9-9f6c-483e-e119-f3fb8c7409f9"
      },
      "execution_count": 92,
      "outputs": [
        {
          "output_type": "stream",
          "name": "stdout",
          "text": [
            "First Element of Tuple :  S\n",
            "Third Element of Tuple :  R\n",
            "Lats Element of Tuple :  G\n"
          ]
        }
      ]
    },
    {
      "cell_type": "code",
      "source": [
        "# Indexing\n",
        "Tuple3 = tuple(\"STRING\")\n",
        "\n",
        "a,b,c,d,e,f = Tuple3\n",
        "\n",
        "print(\"\\n\",a)\n",
        "print(\"\\n\",b)\n",
        "print(\"\\n\",c)\n",
        "print(\"\\n\",d)\n",
        "print(\"\\n\",e)\n",
        "print(\"\\n\",f)\n"
      ],
      "metadata": {
        "colab": {
          "base_uri": "https://localhost:8080/"
        },
        "id": "Q4qcB1SRxV52",
        "outputId": "bd460298-973a-43e3-8ae5-42fe7e895d13"
      },
      "execution_count": 93,
      "outputs": [
        {
          "output_type": "stream",
          "name": "stdout",
          "text": [
            "\n",
            " S\n",
            "\n",
            " T\n",
            "\n",
            " R\n",
            "\n",
            " I\n",
            "\n",
            " N\n",
            "\n",
            " G\n"
          ]
        }
      ]
    },
    {
      "cell_type": "markdown",
      "source": [
        "## Tuple unpacking"
      ],
      "metadata": {
        "id": "VzR33Qcf7lVj"
      }
    },
    {
      "cell_type": "code",
      "source": [
        "# Tuple unpacking\n",
        "Tuple2 = (\"Apple\", \"Grapes\", \"Mango\")\n",
        "\n",
        "# This line unpack\n",
        "# values of Tuple1\n",
        "a, b, c = Tuple2\n",
        "print(\"\\nValues after unpacking: \")\n",
        "print(\"\\n\",a)\n",
        "print(\"\\n\",b)\n",
        "print(\"\\n\",c)\n"
      ],
      "metadata": {
        "colab": {
          "base_uri": "https://localhost:8080/"
        },
        "id": "yA831CpIxM5l",
        "outputId": "a65c2e21-0064-46f5-a207-c89b36cdd08a"
      },
      "execution_count": 94,
      "outputs": [
        {
          "output_type": "stream",
          "name": "stdout",
          "text": [
            "\n",
            "Values after unpacking: \n",
            "\n",
            " Apple\n",
            "\n",
            " Grapes\n",
            "\n",
            " Mango\n"
          ]
        }
      ]
    },
    {
      "cell_type": "markdown",
      "source": [
        "## Slicing of a Tuple"
      ],
      "metadata": {
        "id": "fKmVpxKq0foQ"
      }
    },
    {
      "cell_type": "code",
      "source": [
        "Tuple1 = tuple('ORANGEISBESTFRUIT')\n",
        "\n",
        "# Removing First element\n",
        "print(\"Removal of First Element: \")\n",
        "print(Tuple1[1:])\n",
        "\n",
        "# Reversing the Tuple\n",
        "print(\"\\nTuple after sequence of Element is reversed: \")\n",
        "print(Tuple1[::-1])\n",
        "\n"
      ],
      "metadata": {
        "colab": {
          "base_uri": "https://localhost:8080/"
        },
        "id": "FND7dx63yRqn",
        "outputId": "662f80f8-71a8-45e2-e132-19c33e38a12d"
      },
      "execution_count": 95,
      "outputs": [
        {
          "output_type": "stream",
          "name": "stdout",
          "text": [
            "Removal of First Element: \n",
            "('R', 'A', 'N', 'G', 'E', 'I', 'S', 'B', 'E', 'S', 'T', 'F', 'R', 'U', 'I', 'T')\n",
            "\n",
            "Tuple after sequence of Element is reversed: \n",
            "('T', 'I', 'U', 'R', 'F', 'T', 'S', 'E', 'B', 'S', 'I', 'E', 'G', 'N', 'A', 'R', 'O')\n"
          ]
        }
      ]
    },
    {
      "cell_type": "code",
      "source": [
        "# Printing elements of a Range\n",
        "print(\"\\nPrinting elements between Range 4-9: \")\n",
        "print(Tuple1[4:9])\n"
      ],
      "metadata": {
        "colab": {
          "base_uri": "https://localhost:8080/"
        },
        "id": "H4_6Ir2s0olV",
        "outputId": "638feb55-58bc-4100-d5d0-1fa1ce910c8c"
      },
      "execution_count": 96,
      "outputs": [
        {
          "output_type": "stream",
          "name": "stdout",
          "text": [
            "\n",
            "Printing elements between Range 4-9: \n",
            "('G', 'E', 'I', 'S', 'B')\n"
          ]
        }
      ]
    },
    {
      "cell_type": "markdown",
      "source": [
        "## Deleting a Tuple"
      ],
      "metadata": {
        "id": "Mt7o8DKZ03ji"
      }
    },
    {
      "cell_type": "code",
      "source": [
        "# Deleting a Tuple\n",
        "\n",
        "Tuple3 = (0, 1, 2, 3, 4)\n",
        "del Tuple3\n"
      ],
      "metadata": {
        "id": "CMNezbfj0pF8"
      },
      "execution_count": 97,
      "outputs": []
    },
    {
      "cell_type": "markdown",
      "source": [
        "Check if it is deleted"
      ],
      "metadata": {
        "id": "7LOQFBah06Mc"
      }
    },
    {
      "cell_type": "code",
      "source": [
        "# Run this to check if tuple is deleted or not\n",
        "\n",
        "#print(Tuple1)\n"
      ],
      "metadata": {
        "id": "qhbLUpGB0_uH"
      },
      "execution_count": 98,
      "outputs": []
    },
    {
      "cell_type": "markdown",
      "source": [
        "## Built-in-Methods\n",
        "\n",
        "Tuple.index()\n"
      ],
      "metadata": {
        "id": "qgZF1PW81rCJ"
      }
    },
    {
      "cell_type": "code",
      "source": [
        "Tuple1 = tuple('ORANGEISBESTFRUIT')\n",
        "\n",
        "print(Tuple1.index(\"I\"))"
      ],
      "metadata": {
        "colab": {
          "base_uri": "https://localhost:8080/"
        },
        "id": "-M7056pj1T7q",
        "outputId": "38483d38-7c3e-4f14-aa65-fdfed6f6db47"
      },
      "execution_count": 99,
      "outputs": [
        {
          "output_type": "stream",
          "name": "stdout",
          "text": [
            "6\n"
          ]
        }
      ]
    },
    {
      "cell_type": "code",
      "source": [
        "Tuple1 = tuple('ORANGEISBESTFRUIT')\n",
        "\n",
        "print(Tuple1.count(\"I\"))"
      ],
      "metadata": {
        "colab": {
          "base_uri": "https://localhost:8080/"
        },
        "id": "mSI4CStd11q_",
        "outputId": "42cba156-243a-43cb-9c3e-5bce1aa832b5"
      },
      "execution_count": 100,
      "outputs": [
        {
          "output_type": "stream",
          "name": "stdout",
          "text": [
            "2\n"
          ]
        }
      ]
    },
    {
      "cell_type": "markdown",
      "source": [
        "* all()\n",
        "        Returns true if all element are true or if tuple is empty\n",
        "* any()\n",
        "        Return true if any element of the tuple is true. if tuple is empty, return false\n",
        "* len()\n",
        "        Returns length of the tuple or size of the tuple\n",
        "* enumerate()\n",
        "        Returns enumerate object of tuple\n",
        "* max()\n",
        "        Return maximum element of given tuple\n",
        "* min()\n",
        "        Return minimum element of given tuple\n",
        "* sum()\n",
        "        Sums up the numbers in the tuple\n",
        "* sorted()\n",
        "        input elements in the tuple and return a new sorted list\n",
        "* tuple()\n",
        "        Convert an iterable to a tuple.\n"
      ],
      "metadata": {
        "id": "vxwPbgvV2PNB"
      }
    },
    {
      "cell_type": "code",
      "source": [
        "print(all(Tuple1))\n",
        "\n"
      ],
      "metadata": {
        "colab": {
          "base_uri": "https://localhost:8080/"
        },
        "id": "s1Ht_aTZ14at",
        "outputId": "3e10115a-74e8-4661-ad67-1a48af115d3e"
      },
      "execution_count": 101,
      "outputs": [
        {
          "output_type": "stream",
          "name": "stdout",
          "text": [
            "True\n"
          ]
        }
      ]
    },
    {
      "cell_type": "code",
      "source": [
        "print(any(Tuple1))\n"
      ],
      "metadata": {
        "colab": {
          "base_uri": "https://localhost:8080/"
        },
        "id": "v_sMB5AA8Ffg",
        "outputId": "06737d36-5ba0-4d0e-be23-2f458eb30f51"
      },
      "execution_count": 102,
      "outputs": [
        {
          "output_type": "stream",
          "name": "stdout",
          "text": [
            "True\n"
          ]
        }
      ]
    },
    {
      "cell_type": "markdown",
      "source": [
        "#### len(Tuple)"
      ],
      "metadata": {
        "id": "BFFEmgiA8-rn"
      }
    },
    {
      "cell_type": "code",
      "source": [
        "print(len(Tuple1))\n"
      ],
      "metadata": {
        "colab": {
          "base_uri": "https://localhost:8080/"
        },
        "id": "MOa1tGuY8R0E",
        "outputId": "840a22ca-9644-4f55-d1b2-e787d9c4f549"
      },
      "execution_count": 103,
      "outputs": [
        {
          "output_type": "stream",
          "name": "stdout",
          "text": [
            "17\n"
          ]
        }
      ]
    },
    {
      "cell_type": "code",
      "source": [
        "print(enumerate(Tuple1))\n"
      ],
      "metadata": {
        "colab": {
          "base_uri": "https://localhost:8080/"
        },
        "id": "nP5Hfcct8RsO",
        "outputId": "5f730f7b-72d4-464a-879b-74a38cc7212f"
      },
      "execution_count": 104,
      "outputs": [
        {
          "output_type": "stream",
          "name": "stdout",
          "text": [
            "<enumerate object at 0x7f563aca3460>\n"
          ]
        }
      ]
    },
    {
      "cell_type": "markdown",
      "source": [
        "#### max(Tuple1)"
      ],
      "metadata": {
        "id": "2nOv-Vm787AT"
      }
    },
    {
      "cell_type": "code",
      "source": [
        "print(max(Tuple1))\n"
      ],
      "metadata": {
        "colab": {
          "base_uri": "https://localhost:8080/"
        },
        "id": "caBTUWQV8RiO",
        "outputId": "a336781f-a3f6-4fe2-a69c-211acf6e8e40"
      },
      "execution_count": 105,
      "outputs": [
        {
          "output_type": "stream",
          "name": "stdout",
          "text": [
            "U\n"
          ]
        }
      ]
    },
    {
      "cell_type": "markdown",
      "source": [
        "#### min(Tuple1)"
      ],
      "metadata": {
        "id": "L5mFQmtt84TU"
      }
    },
    {
      "cell_type": "code",
      "source": [
        "print(min(Tuple1))\n"
      ],
      "metadata": {
        "colab": {
          "base_uri": "https://localhost:8080/"
        },
        "id": "nO--mBAy8RVu",
        "outputId": "d823409c-1a94-4231-a108-2e88fbe6fa90"
      },
      "execution_count": 106,
      "outputs": [
        {
          "output_type": "stream",
          "name": "stdout",
          "text": [
            "A\n"
          ]
        }
      ]
    },
    {
      "cell_type": "markdown",
      "source": [
        "#### sorted(Tuple1)"
      ],
      "metadata": {
        "id": "k5Ro00Nk81lC"
      }
    },
    {
      "cell_type": "code",
      "source": [
        "print(sorted(Tuple1))\n"
      ],
      "metadata": {
        "colab": {
          "base_uri": "https://localhost:8080/"
        },
        "id": "1R63K2Hd8tb0",
        "outputId": "88297606-d6ec-4865-b4ec-453ace2a1a27"
      },
      "execution_count": 107,
      "outputs": [
        {
          "output_type": "stream",
          "name": "stdout",
          "text": [
            "['A', 'B', 'E', 'E', 'F', 'G', 'I', 'I', 'N', 'O', 'R', 'R', 'S', 'S', 'T', 'T', 'U']\n"
          ]
        }
      ]
    },
    {
      "cell_type": "code",
      "source": [
        ""
      ],
      "metadata": {
        "id": "_Tky2_mc8tSu"
      },
      "execution_count": 107,
      "outputs": []
    }
  ]
}