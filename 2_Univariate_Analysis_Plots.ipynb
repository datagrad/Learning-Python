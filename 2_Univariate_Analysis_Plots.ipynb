{
  "nbformat": 4,
  "nbformat_minor": 0,
  "metadata": {
    "colab": {
      "name": "2. Univariate_Analysis_Plots.ipynb",
      "provenance": [],
      "collapsed_sections": [],
      "include_colab_link": true
    },
    "kernelspec": {
      "name": "python3",
      "display_name": "Python 3"
    }
  },
  "cells": [
    {
      "cell_type": "markdown",
      "metadata": {
        "id": "view-in-github",
        "colab_type": "text"
      },
      "source": [
        "<a href=\"https://colab.research.google.com/github/datagrad/Learning-Python/blob/main/2_Univariate_Analysis_Plots.ipynb\" target=\"_parent\"><img src=\"https://colab.research.google.com/assets/colab-badge.svg\" alt=\"Open In Colab\"/></a>"
      ]
    },
    {
      "cell_type": "code",
      "metadata": {
        "id": "RDCP_buZZ-jZ"
      },
      "source": [
        "import numpy as np\n",
        "import pandas as pd\n",
        "\n",
        "\n",
        "import seaborn as sns\n",
        "import matplotlib.pyplot as plt\n",
        "\n"
      ],
      "execution_count": null,
      "outputs": []
    },
    {
      "cell_type": "code",
      "source": [
        "df = pd.read_csv('https://raw.githubusercontent.com/datagrad/Learning-Python/main/Marks%20Data.csv')\n",
        "df.head()"
      ],
      "metadata": {
        "id": "Yh3aMTuXDbuQ"
      },
      "execution_count": null,
      "outputs": []
    },
    {
      "cell_type": "code",
      "metadata": {
        "id": "-SdJ1Xuybnia"
      },
      "source": [
        "marks = df[\"Total\"]\n",
        "marks"
      ],
      "execution_count": null,
      "outputs": []
    },
    {
      "cell_type": "markdown",
      "source": [
        "## Distribution Plot\n",
        "A Distplot or distribution plot, depicts the variation in the data distribution. \n",
        "\n",
        "* It represents the overall distribution of continuous data variables.\n",
        "* The Seaborn module along with the Matplotlib module is used to depict the distplot with different variations in it."
      ],
      "metadata": {
        "id": "u36pSmnbHllQ"
      }
    },
    {
      "cell_type": "code",
      "metadata": {
        "id": "T540G8Ukb4NZ"
      },
      "source": [
        "p = sns.distplot(marks, \n",
        "                 color='#F15B2A', \n",
        "                 hist_kws=dict(edgecolor='#F15B2A', linewidth=2),\n",
        "                 bins=50,\n",
        "                 kde=True,\n",
        "                 kde_kws=dict(shade=True))"
      ],
      "execution_count": null,
      "outputs": []
    },
    {
      "cell_type": "markdown",
      "source": [
        "## Kdeplot\n",
        "\n",
        "A kernel density estimate (KDE) plot is a method for visualizing the distribution of observations in a dataset, analagous to a histogram.\n",
        "\n",
        "KDE represents the data using a continuous probability density curve in one or more dimensions.\n"
      ],
      "metadata": {
        "id": "CxFISSVGHp43"
      }
    },
    {
      "cell_type": "code",
      "source": [
        "p = sns.kdeplot(df['Total'],\n",
        "                color='#F15B2A',\n",
        "                shade=True)"
      ],
      "metadata": {
        "id": "UgdHh6O9VL-i"
      },
      "execution_count": null,
      "outputs": []
    },
    {
      "cell_type": "code",
      "source": [
        "p = sns.kdeplot(df['Year'],\n",
        "                color='#F15B2A',\n",
        "                shade=True)"
      ],
      "metadata": {
        "id": "RVbSinkSVRVc"
      },
      "execution_count": null,
      "outputs": []
    },
    {
      "cell_type": "code",
      "metadata": {
        "id": "-C-Coxnub-sE"
      },
      "source": [
        "p = sns.kdeplot(df['Year'],df['Total'],\n",
        "                color='#F15B2A',\n",
        "                shade=True)"
      ],
      "execution_count": null,
      "outputs": []
    },
    {
      "cell_type": "code",
      "source": [
        "p = sns.kdeplot(df['Math'],df['English'],\n",
        "                color='#F15B2A',\n",
        "                shade=True)"
      ],
      "metadata": {
        "id": "ahJb9ER-bv9y"
      },
      "execution_count": null,
      "outputs": []
    },
    {
      "cell_type": "markdown",
      "source": [
        "## BoxPlot\n"
      ],
      "metadata": {
        "id": "1gg6ybL1cuH4"
      }
    },
    {
      "cell_type": "code",
      "source": [
        "p = sns.boxplot(marks,\n",
        "               palette=[\"#F15B2A\"])"
      ],
      "metadata": {
        "id": "t-P6Nz5UMLql"
      },
      "execution_count": null,
      "outputs": []
    },
    {
      "cell_type": "code",
      "source": [
        "p = sns.boxplot(df[\"Year\"], df[\"Total\"] )"
      ],
      "metadata": {
        "id": "OgfIE8ImNJ7O"
      },
      "execution_count": null,
      "outputs": []
    },
    {
      "cell_type": "code",
      "metadata": {
        "id": "yJeAY90Yc8JK"
      },
      "source": [
        "p = sns.boxplot(marks,\n",
        "               palette=[\"#F15B2A\"])\n",
        "\n",
        "for e in p.artists:\n",
        "  r, g, b, a = e.get_facecolor()\n",
        "  e.set_facecolor((r, g, b, .3))\n",
        "  \n",
        "for i, artist in enumerate(p.artists):\n",
        "    artist.set_edgecolor(\"#F15B2A\")\n",
        "    \n",
        "for j in range(0,6):\n",
        "    line = p.lines[j]\n",
        "    line.set_color(\"#F15B2A\")\n",
        "    line.set_mfc(\"#F15B2A\")\n",
        "    line.set_mec(\"#F15B2A\")"
      ],
      "execution_count": null,
      "outputs": []
    },
    {
      "cell_type": "markdown",
      "source": [
        "## Violin Plot\n"
      ],
      "metadata": {
        "id": "8xdV-Kp6cydl"
      }
    },
    {
      "cell_type": "code",
      "metadata": {
        "id": "OMqWUpSQd2ch"
      },
      "source": [
        "p = sns.violinplot(marks,\n",
        "                  palette=['#F15B2A'])"
      ],
      "execution_count": null,
      "outputs": []
    },
    {
      "cell_type": "code",
      "metadata": {
        "id": "vuREkDsbfgaF"
      },
      "source": [
        "# Using matplotlib to change elements properties\n",
        "\n",
        "parts = plt.violinplot(marks,\n",
        "                      vert=False,\n",
        "                      showmeans=False,\n",
        "                      showmedians=True)\n",
        "\n",
        "for p in parts['bodies']:\n",
        "  p.set_facecolor('#F15B2A')\n",
        "  p.set_edgecolor('#F15B2A')\n",
        "  p.set_alpha(0.3)"
      ],
      "execution_count": null,
      "outputs": []
    },
    {
      "cell_type": "markdown",
      "source": [
        "## Strip Plot"
      ],
      "metadata": {
        "id": "DNc1Tox7c5P-"
      }
    },
    {
      "cell_type": "code",
      "metadata": {
        "id": "MnIhTUXugDU_"
      },
      "source": [
        "tips = sns.load_dataset('tips')\n",
        "\n",
        "p = sns.stripplot(x=marks,\n",
        "                  color = '#F15B2A',\n",
        "                  jitter = 1)"
      ],
      "execution_count": null,
      "outputs": []
    },
    {
      "cell_type": "markdown",
      "source": [
        "## SwarmPlot"
      ],
      "metadata": {
        "id": "ZFy9LNouc_R3"
      }
    },
    {
      "cell_type": "code",
      "metadata": {
        "id": "Av8v8v94hORc"
      },
      "source": [
        "p = sns.swarmplot(x=marks,\n",
        "                  color = '#F15B2A')"
      ],
      "execution_count": null,
      "outputs": []
    },
    {
      "cell_type": "markdown",
      "source": [
        "## BarPlot"
      ],
      "metadata": {
        "id": "Kiy54GFCee30"
      }
    },
    {
      "cell_type": "code",
      "source": [
        "fig = plt.figure(figsize=(10.5, 7.2))\n",
        "ax = sns.barplot(df['Year'], y=df['Total'], \n",
        "                 data=tips, palette=['#F15B2A'],\n",
        "                 errwidth=0)"
      ],
      "metadata": {
        "id": "TfBLGDoveRLj"
      },
      "execution_count": null,
      "outputs": []
    },
    {
      "cell_type": "code",
      "source": [
        "value = [3, 12, 5, 18, 45]\n",
        "label = ('A', 'B', 'C', 'D', 'E')\n",
        "pos = np.arange(len(label))\n",
        "\n",
        "plt.bar(pos, value,\n",
        "        color=(240/256, 90/256, 40/256, 0.25),\n",
        "        edgecolor='#F15B2A', linewidth=2)\n",
        "\n",
        "plt.xticks(pos, label)\n",
        "plt.show()"
      ],
      "metadata": {
        "id": "8woT4uDFehbZ"
      },
      "execution_count": null,
      "outputs": []
    },
    {
      "cell_type": "code",
      "source": [
        "ax = sns.lineplot(x='Year', y='Total', data=df)"
      ],
      "metadata": {
        "id": "zpcxv3aJeic_"
      },
      "execution_count": null,
      "outputs": []
    },
    {
      "cell_type": "code",
      "source": [
        "df1 = pd.DataFrame(data={'time':[6, 7, 8, 9, 10],\n",
        "                       'sun_light':[50, 80, 100, 300, 170]})\n",
        "\n",
        "\n",
        "ax = sns.lineplot(x='time', y='sun_light', data=df1)\n",
        "\n"
      ],
      "metadata": {
        "id": "IeQzYePVhL76"
      },
      "execution_count": null,
      "outputs": []
    },
    {
      "cell_type": "code",
      "source": [
        "df1['wind_speed'] = [46, 98, 110, 70, 150]\n",
        "\n",
        "df1.head()\n"
      ],
      "metadata": {
        "id": "DoN_0vPxhTWr"
      },
      "execution_count": null,
      "outputs": []
    },
    {
      "cell_type": "code",
      "source": [
        "ax = sns.lineplot(data=[df1['sun_light'], df1['wind_speed']])"
      ],
      "metadata": {
        "id": "Egl2qvfDhTlY"
      },
      "execution_count": null,
      "outputs": []
    },
    {
      "cell_type": "code",
      "source": [
        "temp_series = pd.DataFrame(data={'temperature':[45, 46, 47, 54, 78, 65, 98, 76]})\n",
        "\n",
        "pd.plotting.lag_plot(temp_series, lag=2, c='#F15B2A')"
      ],
      "metadata": {
        "id": "DbjjBC1ihTyJ"
      },
      "execution_count": null,
      "outputs": []
    },
    {
      "cell_type": "code",
      "source": [
        "subjects = {'Maths':8, 'Language':7, 'Technology':10, 'Natural Science':6}     # Create DataFrame\n",
        "\n",
        "df2 = pd.DataFrame(data=subjects, index=['John'])\n",
        "\n",
        "\n",
        "\n",
        "values = df2.iloc[0].tolist()\n",
        "values.append(values[0])\n",
        "values\n",
        "\n",
        "angles = [a/4 * 2 * np.pi for a in range(4)]\n",
        "angles.append(angles[0])\n",
        "angles\n",
        "\n",
        "\n",
        "plt.subplot(111, polar=True)\n",
        "plt.xticks(angles[:-1], subjects.keys())\n",
        "plt.plot(angles, values)\n",
        "plt.fill(angles, values, '#F15B2A', alpha=0.2)"
      ],
      "metadata": {
        "id": "j8P0yKmVhT8-"
      },
      "execution_count": null,
      "outputs": []
    },
    {
      "cell_type": "markdown",
      "source": [
        "# GeoMaps"
      ],
      "metadata": {
        "id": "TrSPKr71ojqH"
      }
    },
    {
      "cell_type": "code",
      "source": [
        "!pip install geopandas\n",
        "!apt-get install libproj-dev proj-data proj-bin\n",
        "!apt-get install libgeos-dev\n",
        "!pip install cython\n",
        "!pip install cartopy\n",
        "!pip install mapclassify\n",
        "!pip install geoplot"
      ],
      "metadata": {
        "id": "YURDFdAgoeAW"
      },
      "execution_count": null,
      "outputs": []
    },
    {
      "cell_type": "code",
      "source": [
        "import geopandas\n",
        "import geoplot\n",
        "\n",
        "path = geopandas.datasets.get_path('naturalearth_lowres')\n",
        "dfgeo = geopandas.read_file(path)\n",
        "dfgeo['gdp_pp'] = dfgeo['gdp_md_est'] / dfgeo['pop_est']\n",
        "\n",
        "dfgeo.head()"
      ],
      "metadata": {
        "colab": {
          "base_uri": "https://localhost:8080/",
          "height": 390
        },
        "id": "xpDwil9WpIFC",
        "outputId": "6b94bbcb-c868-4964-8715-c5af917f8d82"
      },
      "execution_count": 2,
      "outputs": [
        {
          "output_type": "error",
          "ename": "ModuleNotFoundError",
          "evalue": "ignored",
          "traceback": [
            "\u001b[0;31m---------------------------------------------------------------------------\u001b[0m",
            "\u001b[0;31mModuleNotFoundError\u001b[0m                       Traceback (most recent call last)",
            "\u001b[0;32m<ipython-input-2-d813d236e8c8>\u001b[0m in \u001b[0;36m<module>\u001b[0;34m()\u001b[0m\n\u001b[0;32m----> 1\u001b[0;31m \u001b[0;32mimport\u001b[0m \u001b[0mgeopandas\u001b[0m\u001b[0;34m\u001b[0m\u001b[0;34m\u001b[0m\u001b[0m\n\u001b[0m\u001b[1;32m      2\u001b[0m \u001b[0;32mimport\u001b[0m \u001b[0mgeoplot\u001b[0m\u001b[0;34m\u001b[0m\u001b[0;34m\u001b[0m\u001b[0m\n\u001b[1;32m      3\u001b[0m \u001b[0;34m\u001b[0m\u001b[0m\n\u001b[1;32m      4\u001b[0m \u001b[0mpath\u001b[0m \u001b[0;34m=\u001b[0m \u001b[0mgeopandas\u001b[0m\u001b[0;34m.\u001b[0m\u001b[0mdatasets\u001b[0m\u001b[0;34m.\u001b[0m\u001b[0mget_path\u001b[0m\u001b[0;34m(\u001b[0m\u001b[0;34m'naturalearth_lowres'\u001b[0m\u001b[0;34m)\u001b[0m\u001b[0;34m\u001b[0m\u001b[0;34m\u001b[0m\u001b[0m\n\u001b[1;32m      5\u001b[0m \u001b[0mdfgeo\u001b[0m \u001b[0;34m=\u001b[0m \u001b[0mgeopandas\u001b[0m\u001b[0;34m.\u001b[0m\u001b[0mread_file\u001b[0m\u001b[0;34m(\u001b[0m\u001b[0mpath\u001b[0m\u001b[0;34m)\u001b[0m\u001b[0;34m\u001b[0m\u001b[0;34m\u001b[0m\u001b[0m\n",
            "\u001b[0;31mModuleNotFoundError\u001b[0m: No module named 'geopandas'",
            "",
            "\u001b[0;31m---------------------------------------------------------------------------\u001b[0;32m\nNOTE: If your import is failing due to a missing package, you can\nmanually install dependencies using either !pip or !apt.\n\nTo view examples of installing some common dependencies, click the\n\"Open Examples\" button below.\n\u001b[0;31m---------------------------------------------------------------------------\u001b[0m\n"
          ],
          "errorDetails": {
            "actions": [
              {
                "action": "open_url",
                "actionText": "Open Examples",
                "url": "/notebooks/snippets/importing_libraries.ipynb"
              }
            ]
          }
        }
      ]
    },
    {
      "cell_type": "code",
      "source": [
        "geoplot.choropleth(dfgeo, hue='gdp_pp', cmap='Greens', figsize=(12, 8))"
      ],
      "metadata": {
        "id": "QFdZW6TXpM7W"
      },
      "execution_count": null,
      "outputs": []
    },
    {
      "cell_type": "code",
      "source": [
        "corrmat = df.corr()\n",
        "f, ax = plt.subplots(figsize=(10, 9))\n",
        "\n",
        "sns.heatmap(corrmat, ax=ax, cmap=\"YlGnBu\", linewidths=0.1)"
      ],
      "metadata": {
        "colab": {
          "base_uri": "https://localhost:8080/",
          "height": 226
        },
        "id": "Cj2I6sy8sl-W",
        "outputId": "d4dd83cc-e360-4979-d717-4299ac8b5ade"
      },
      "execution_count": 1,
      "outputs": [
        {
          "output_type": "error",
          "ename": "NameError",
          "evalue": "ignored",
          "traceback": [
            "\u001b[0;31m---------------------------------------------------------------------------\u001b[0m",
            "\u001b[0;31mNameError\u001b[0m                                 Traceback (most recent call last)",
            "\u001b[0;32m<ipython-input-1-14ac6c36e105>\u001b[0m in \u001b[0;36m<module>\u001b[0;34m()\u001b[0m\n\u001b[0;32m----> 1\u001b[0;31m \u001b[0mcorrmat\u001b[0m \u001b[0;34m=\u001b[0m \u001b[0mdf\u001b[0m\u001b[0;34m.\u001b[0m\u001b[0mcorr\u001b[0m\u001b[0;34m(\u001b[0m\u001b[0;34m)\u001b[0m\u001b[0;34m\u001b[0m\u001b[0;34m\u001b[0m\u001b[0m\n\u001b[0m\u001b[1;32m      2\u001b[0m \u001b[0mf\u001b[0m\u001b[0;34m,\u001b[0m \u001b[0max\u001b[0m \u001b[0;34m=\u001b[0m \u001b[0mplt\u001b[0m\u001b[0;34m.\u001b[0m\u001b[0msubplots\u001b[0m\u001b[0;34m(\u001b[0m\u001b[0mfigsize\u001b[0m\u001b[0;34m=\u001b[0m\u001b[0;34m(\u001b[0m\u001b[0;36m10\u001b[0m\u001b[0;34m,\u001b[0m \u001b[0;36m9\u001b[0m\u001b[0;34m)\u001b[0m\u001b[0;34m)\u001b[0m\u001b[0;34m\u001b[0m\u001b[0;34m\u001b[0m\u001b[0m\n\u001b[1;32m      3\u001b[0m \u001b[0;34m\u001b[0m\u001b[0m\n\u001b[1;32m      4\u001b[0m \u001b[0msns\u001b[0m\u001b[0;34m.\u001b[0m\u001b[0mheatmap\u001b[0m\u001b[0;34m(\u001b[0m\u001b[0mcorrmat\u001b[0m\u001b[0;34m,\u001b[0m \u001b[0max\u001b[0m\u001b[0;34m=\u001b[0m\u001b[0max\u001b[0m\u001b[0;34m,\u001b[0m \u001b[0mcmap\u001b[0m\u001b[0;34m=\u001b[0m\u001b[0;34m\"YlGnBu\"\u001b[0m\u001b[0;34m,\u001b[0m \u001b[0mlinewidths\u001b[0m\u001b[0;34m=\u001b[0m\u001b[0;36m0.1\u001b[0m\u001b[0;34m)\u001b[0m\u001b[0;34m\u001b[0m\u001b[0;34m\u001b[0m\u001b[0m\n",
            "\u001b[0;31mNameError\u001b[0m: name 'df' is not defined"
          ]
        }
      ]
    }
  ]
}