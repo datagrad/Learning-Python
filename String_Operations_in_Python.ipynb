{
  "nbformat": 4,
  "nbformat_minor": 0,
  "metadata": {
    "colab": {
      "name": "String Operations in Python.ipynb",
      "provenance": [],
      "toc_visible": true,
      "authorship_tag": "ABX9TyPxGYj2llWDaKP+akXPFEEB",
      "include_colab_link": true
    },
    "kernelspec": {
      "name": "python3",
      "display_name": "Python 3"
    },
    "language_info": {
      "name": "python"
    }
  },
  "cells": [
    {
      "cell_type": "markdown",
      "metadata": {
        "id": "view-in-github",
        "colab_type": "text"
      },
      "source": [
        "<a href=\"https://colab.research.google.com/github/datagrad/Learning-Python/blob/main/String_Operations_in_Python.ipynb\" target=\"_parent\"><img src=\"https://colab.research.google.com/assets/colab-badge.svg\" alt=\"Open In Colab\"/></a>"
      ]
    },
    {
      "cell_type": "code",
      "execution_count": null,
      "metadata": {
        "colab": {
          "base_uri": "https://localhost:8080/"
        },
        "id": "o4vR4XDxrxz2",
        "outputId": "b241d7e3-e7bb-4916-9dcd-3a648fa6d304"
      },
      "outputs": [
        {
          "output_type": "stream",
          "name": "stdout",
          "text": [
            "Hello\n",
            "Hello\n"
          ]
        }
      ],
      "source": [
        "print(\"Hello\")\n",
        "print('Hello')"
      ]
    },
    {
      "cell_type": "code",
      "source": [
        "a = \"Hello\"\n",
        "print(a)"
      ],
      "metadata": {
        "colab": {
          "base_uri": "https://localhost:8080/"
        },
        "id": "O38VwXa2r8Mc",
        "outputId": "ad7f88e8-9369-4027-a508-e517b1a47950"
      },
      "execution_count": null,
      "outputs": [
        {
          "output_type": "stream",
          "name": "stdout",
          "text": [
            "Hello\n"
          ]
        }
      ]
    },
    {
      "cell_type": "markdown",
      "source": [
        "## Multiline Strings\n"
      ],
      "metadata": {
        "id": "F_iZB_51sD_p"
      }
    },
    {
      "cell_type": "markdown",
      "source": [
        "* use three double quotes\n",
        "or\n",
        "* use three single quotes:\n",
        "\n",
        "\n",
        "\n"
      ],
      "metadata": {
        "id": "7ABRrUJOsc_n"
      }
    },
    {
      "cell_type": "code",
      "source": [
        "a = \"\"\"Lorem ipsum dolor sit amet,\n",
        "consectetur adipiscing elit,\n",
        "sed do eiusmod tempor incididunt\n",
        "ut labore et dolore magna aliqua.\"\"\"\n",
        "print(a)\n",
        "\n",
        "\n",
        "b = '''Lorem ipsum dolor sit amet,\n",
        "consectetur adipiscing elit,\n",
        "sed do eiusmod tempor incididunt\n",
        "ut labore et dolore magna aliqua.'''\n",
        "print(BaseException)"
      ],
      "metadata": {
        "colab": {
          "base_uri": "https://localhost:8080/"
        },
        "id": "0vpe4MrzsAcW",
        "outputId": "4fbf645a-541b-4c65-bbfc-33d97bec50fe"
      },
      "execution_count": null,
      "outputs": [
        {
          "output_type": "stream",
          "name": "stdout",
          "text": [
            "Lorem ipsum dolor sit amet,\n",
            "consectetur adipiscing elit,\n",
            "sed do eiusmod tempor incididunt\n",
            "ut labore et dolore magna aliqua.\n",
            "<class 'BaseException'>\n"
          ]
        }
      ]
    },
    {
      "cell_type": "markdown",
      "source": [
        "# Slicing"
      ],
      "metadata": {
        "id": "PwsgkqfotCEr"
      }
    },
    {
      "cell_type": "code",
      "source": [
        "# Get the characters from position 0:\n",
        "\n",
        "b = \"Hello, World!\"\n",
        "print(b[0])\n",
        "print(b[1])\n",
        "print(b[2])\n",
        "print(b[3])"
      ],
      "metadata": {
        "colab": {
          "base_uri": "https://localhost:8080/"
        },
        "id": "2dA8ex_St6xp",
        "outputId": "2d2fcff8-b452-4f88-cf14-888964910928"
      },
      "execution_count": null,
      "outputs": [
        {
          "output_type": "stream",
          "name": "stdout",
          "text": [
            "H\n",
            "e\n",
            "l\n",
            "l\n"
          ]
        }
      ]
    },
    {
      "cell_type": "code",
      "source": [
        "# Get the characters from position 0:\n",
        "\n",
        "b = \"Hello, World!\"\n",
        "print(b[-1])\n",
        "print(b[-2])\n",
        "print(b[-3])\n",
        "print(b[-4])"
      ],
      "metadata": {
        "colab": {
          "base_uri": "https://localhost:8080/"
        },
        "id": "XPomNyJYuPVi",
        "outputId": "53a68298-5041-45d1-f4a4-c009c28ee5b2"
      },
      "execution_count": null,
      "outputs": [
        {
          "output_type": "stream",
          "name": "stdout",
          "text": [
            "!\n",
            "d\n",
            "l\n",
            "r\n"
          ]
        }
      ]
    },
    {
      "cell_type": "code",
      "source": [
        "# Get the characters from position 2 to position 5 (not included):\n",
        "\n",
        "b = \"Hello, World!\"\n",
        "print(b[2:5])\n",
        "\n",
        "\n",
        "# Output: position 2: l\n",
        "# position 3: l\n",
        "# position 4: 0"
      ],
      "metadata": {
        "colab": {
          "base_uri": "https://localhost:8080/"
        },
        "id": "FQ5PA0bAsOjy",
        "outputId": "a50d2b26-048d-4ebe-86b3-e6f74f944e16"
      },
      "execution_count": null,
      "outputs": [
        {
          "output_type": "stream",
          "name": "stdout",
          "text": [
            "llo\n"
          ]
        }
      ]
    },
    {
      "cell_type": "markdown",
      "source": [
        "## Slice from anywhere"
      ],
      "metadata": {
        "id": "UhknnYs3an6S"
      }
    },
    {
      "cell_type": "code",
      "source": [
        "b = \"Hello, World!\"\n",
        "print(b[2:5])"
      ],
      "metadata": {
        "colab": {
          "base_uri": "https://localhost:8080/"
        },
        "id": "qp9BW-5uatnV",
        "outputId": "cc864a91-32e8-42f3-8ebd-3ce88f3c62f6"
      },
      "execution_count": 2,
      "outputs": [
        {
          "output_type": "stream",
          "name": "stdout",
          "text": [
            "llo\n"
          ]
        }
      ]
    },
    {
      "cell_type": "code",
      "source": [
        "x = \"abcdefghijklmnopqrstuvwxyz\"\n",
        "\n",
        "print(x[-1])\n",
        "print(x[2:5])\n",
        "print(x[0:5])\n",
        "print(x[:5])\n",
        "print(x[5:])\n",
        "\n",
        "print(x[-5:-2])\n",
        "print(x[:-5])"
      ],
      "metadata": {
        "colab": {
          "base_uri": "https://localhost:8080/"
        },
        "id": "mCeUjdlma7v0",
        "outputId": "6a039ea5-31ed-41f3-f4da-a77604df44a4"
      },
      "execution_count": 9,
      "outputs": [
        {
          "output_type": "stream",
          "name": "stdout",
          "text": [
            "z\n",
            "cde\n",
            "abcde\n",
            "abcde\n",
            "fghijklmnopqrstuvwxyz\n",
            "vwx\n",
            "abcdefghijklmnopqrstu\n"
          ]
        }
      ]
    },
    {
      "cell_type": "markdown",
      "source": [
        "## Slice From the Start\n"
      ],
      "metadata": {
        "id": "eWanL6PxubAh"
      }
    },
    {
      "cell_type": "code",
      "source": [
        "b = \"Hello, World!\"\n",
        "print(b[:5])"
      ],
      "metadata": {
        "colab": {
          "base_uri": "https://localhost:8080/"
        },
        "id": "ZvnHxhbnsXby",
        "outputId": "f7c75746-404c-4326-d2e4-f27ee5efe51d"
      },
      "execution_count": null,
      "outputs": [
        {
          "output_type": "stream",
          "name": "stdout",
          "text": [
            "Hello\n"
          ]
        }
      ]
    },
    {
      "cell_type": "markdown",
      "source": [
        "## Slice To the End\n"
      ],
      "metadata": {
        "id": "FKUdv8sZupWj"
      }
    },
    {
      "cell_type": "code",
      "source": [
        "b = \"Hello, World!\"\n",
        "print(b[2:])\n"
      ],
      "metadata": {
        "colab": {
          "base_uri": "https://localhost:8080/"
        },
        "id": "t-M-gUmPup6v",
        "outputId": "cebbae5f-6f30-43ae-a2cc-b2a2e5c37c36"
      },
      "execution_count": null,
      "outputs": [
        {
          "output_type": "stream",
          "name": "stdout",
          "text": [
            "llo, World!\n"
          ]
        }
      ]
    },
    {
      "cell_type": "markdown",
      "source": [
        "## Negative Indexing\n"
      ],
      "metadata": {
        "id": "aOPfWQhzu4Uv"
      }
    },
    {
      "cell_type": "code",
      "source": [
        "b = \"Hello, World!\"\n",
        "print(b[-5:-2])"
      ],
      "metadata": {
        "colab": {
          "base_uri": "https://localhost:8080/"
        },
        "id": "UDCmsDDRugER",
        "outputId": "a1d6fb1d-c2dd-4e20-8e62-8f5330c89734"
      },
      "execution_count": null,
      "outputs": [
        {
          "output_type": "stream",
          "name": "stdout",
          "text": [
            "orl\n"
          ]
        }
      ]
    },
    {
      "cell_type": "markdown",
      "source": [
        "# Modify String"
      ],
      "metadata": {
        "id": "fLFj9TFIcO9f"
      }
    },
    {
      "cell_type": "markdown",
      "source": [
        "## Upper Case \n",
        "\n",
        "\n",
        "---\n",
        "\n",
        "\n",
        "a.upper()\n",
        "\n",
        "\n",
        "\n",
        "---\n",
        "\n"
      ],
      "metadata": {
        "id": "r3djmZUPcdLi"
      }
    },
    {
      "cell_type": "markdown",
      "source": [
        "## Lower Case\n",
        "\n",
        "\n",
        "---\n",
        "\n",
        "\n",
        "a.lower()\n",
        "\n",
        "---\n",
        "\n",
        "\n"
      ],
      "metadata": {
        "id": "2bRe8ZQlcfZJ"
      }
    },
    {
      "cell_type": "markdown",
      "source": [
        "## Remove WhiteSpace\n",
        "\n",
        "---\n",
        "\n",
        "a.strip()\n",
        "\n",
        "\n",
        "---\n"
      ],
      "metadata": {
        "id": "K9kS31MBcicT"
      }
    },
    {
      "cell_type": "markdown",
      "source": [
        "\n",
        "## Replace String\n",
        "\n",
        "\n",
        "\n",
        "---\n",
        "\n",
        "a.replace(\"ex\", \"new\")\n",
        "\n",
        "\n",
        "---\n",
        "\n"
      ],
      "metadata": {
        "id": "ntdOcFTocowz"
      }
    },
    {
      "cell_type": "markdown",
      "source": [
        "## Split String\n",
        "\n",
        "---\n",
        "\n",
        "a.split(\",\")\n",
        "\n",
        "\n",
        "---\n"
      ],
      "metadata": {
        "id": "psUHBvyucu8X"
      }
    },
    {
      "cell_type": "markdown",
      "source": [
        "## Modify String Examples"
      ],
      "metadata": {
        "id": "zGM0dEsteHpK"
      }
    },
    {
      "cell_type": "code",
      "source": [
        "a= \"Hi Gentlemen, I am Kamal Kumar! \""
      ],
      "metadata": {
        "id": "5LB9AfS6u8dp"
      },
      "execution_count": 24,
      "outputs": []
    },
    {
      "cell_type": "code",
      "source": [
        "print(a.upper())"
      ],
      "metadata": {
        "id": "J6qeK8hbeTzF",
        "outputId": "525d314b-6b89-4aac-97b3-14f20b8fe089",
        "colab": {
          "base_uri": "https://localhost:8080/"
        }
      },
      "execution_count": 28,
      "outputs": [
        {
          "output_type": "stream",
          "name": "stdout",
          "text": [
            "HI GENTLEMEN, I AM KAMAL KUMAR! \n"
          ]
        }
      ]
    },
    {
      "cell_type": "code",
      "source": [
        "print(a.lower())"
      ],
      "metadata": {
        "id": "q_BuFXyOeXJR",
        "outputId": "8e6116af-5c43-4bd7-e59f-9dd878dc947e",
        "colab": {
          "base_uri": "https://localhost:8080/"
        }
      },
      "execution_count": 27,
      "outputs": [
        {
          "output_type": "stream",
          "name": "stdout",
          "text": [
            "hi gentlemen, i am kamal kumar! \n"
          ]
        }
      ]
    },
    {
      "cell_type": "code",
      "source": [
        "print(a.strip())"
      ],
      "metadata": {
        "id": "VRq8_HC_eojD",
        "outputId": "9a0c373b-ffa9-40f7-d3a7-1d05b320ec38",
        "colab": {
          "base_uri": "https://localhost:8080/"
        }
      },
      "execution_count": 26,
      "outputs": [
        {
          "output_type": "stream",
          "name": "stdout",
          "text": [
            "Hi Gentlemen, I am Kamal Kumar!\n"
          ]
        }
      ]
    },
    {
      "cell_type": "code",
      "source": [
        "print(a.replace(\"Hi\", \"Hello\"))"
      ],
      "metadata": {
        "id": "SuOyGLDletG7",
        "outputId": "0a91d83e-1abb-4996-c1ab-19ae75579fc2",
        "colab": {
          "base_uri": "https://localhost:8080/"
        }
      },
      "execution_count": 25,
      "outputs": [
        {
          "output_type": "stream",
          "name": "stdout",
          "text": [
            "Hello Gentlemen, I am Kamal Kumar! \n"
          ]
        }
      ]
    },
    {
      "cell_type": "code",
      "source": [
        ""
      ],
      "metadata": {
        "id": "fu8fMXWle5O7"
      },
      "execution_count": null,
      "outputs": []
    },
    {
      "cell_type": "markdown",
      "source": [
        "# Concatenate \n",
        "\n",
        "---\n",
        "\n",
        "* print(a,\", \",b)\n",
        "* or\n",
        "* print(a +\", \" + b)\n",
        "\n",
        "---"
      ],
      "metadata": {
        "id": "I4pvxCdBfdsN"
      }
    },
    {
      "cell_type": "code",
      "source": [
        "a = \"Hi Gentlemen\"\n",
        "b = \"I am Kamal Kumar!\"\n",
        "intro = a +\", \" + b\n",
        "print(intro)"
      ],
      "metadata": {
        "id": "87T46bz6ho_u",
        "outputId": "e8705ef6-b12d-4e0e-8bf5-7736eb6f8ef3",
        "colab": {
          "base_uri": "https://localhost:8080/"
        }
      },
      "execution_count": 30,
      "outputs": [
        {
          "output_type": "stream",
          "name": "stdout",
          "text": [
            "Hi Gentlemen, I am Kamal Kumar!\n"
          ]
        }
      ]
    },
    {
      "cell_type": "code",
      "source": [
        "print(a,\", \",b)"
      ],
      "metadata": {
        "id": "-8G11Nr8h33O",
        "outputId": "9ee3b997-06a3-4527-8a4d-12e5cb2f3d87",
        "colab": {
          "base_uri": "https://localhost:8080/"
        }
      },
      "execution_count": 31,
      "outputs": [
        {
          "output_type": "stream",
          "name": "stdout",
          "text": [
            "Hi Gentlemen ,  I am Kamal Kumar!\n"
          ]
        }
      ]
    },
    {
      "cell_type": "code",
      "source": [
        "print(a +\", \" + b)"
      ],
      "metadata": {
        "id": "XhEJt3k_iCAa",
        "outputId": "98a6bc51-ceab-4aaf-85a9-3926fb8c9876",
        "colab": {
          "base_uri": "https://localhost:8080/"
        }
      },
      "execution_count": 32,
      "outputs": [
        {
          "output_type": "stream",
          "name": "stdout",
          "text": [
            "Hi Gentlemen, I am Kamal Kumar!\n"
          ]
        }
      ]
    },
    {
      "cell_type": "markdown",
      "source": [
        "# Format String"
      ],
      "metadata": {
        "id": "GoOSGmzticsq"
      }
    },
    {
      "cell_type": "code",
      "source": [
        "quantity = 3\n",
        "itemno = 567\n",
        "price = 49.95\n",
        "myorder = \"I want to pay {2} dollars for {0} pieces of item {1}.\"\n",
        "print(myorder.format(quantity, itemno, price))"
      ],
      "metadata": {
        "id": "McMqiKIoiHAc",
        "outputId": "d82ff399-4685-4341-a9f1-84eced23d3a9",
        "colab": {
          "base_uri": "https://localhost:8080/"
        }
      },
      "execution_count": 33,
      "outputs": [
        {
          "output_type": "stream",
          "name": "stdout",
          "text": [
            "I want to pay 49.95 dollars for 3 pieces of item 567.\n"
          ]
        }
      ]
    },
    {
      "cell_type": "code",
      "source": [
        "quantity = input(int())\n",
        "itemno = input(int())\n",
        "price = input(float())\n",
        "myorder = \"I want to pay {2} dollars for {0} pieces of item {1}.\"\n",
        "print(myorder.format(quantity, itemno, price))"
      ],
      "metadata": {
        "id": "_zgi48bQjDIb",
        "outputId": "99ced822-a65f-4f75-c01c-d69f91e99898",
        "colab": {
          "base_uri": "https://localhost:8080/"
        }
      },
      "execution_count": 34,
      "outputs": [
        {
          "output_type": "stream",
          "name": "stdout",
          "text": [
            "12\n",
            "3\n",
            "36\n",
            "I want to pay 36 dollars for 12 pieces of item 3.\n"
          ]
        }
      ]
    },
    {
      "cell_type": "markdown",
      "source": [
        "# Escape Character\n",
        "\n",
        "* An escape character is a backslash \\ followed by the character you want to insert.\n",
        "* Escape character are illegal character in a string, for example: double quote inside a string.\n",
        "\n",
        "**txt = \"We are the so-called \"Vikings\" from the north.\"**\n",
        "* The above string will not be displayed correctly in string, to display it correctly, we should use \\ before \" wherever \" is part of string.\n"
      ],
      "metadata": {
        "id": "FoW0-rpDjrfh"
      }
    },
    {
      "cell_type": "code",
      "source": [
        "txt = \"We are the so-called \\\"Vikings\\\" from the north.\"\n",
        "print(txt)"
      ],
      "metadata": {
        "id": "rBjyRKP9jUcy",
        "outputId": "ec7034db-0139-486d-bc4a-e01b452d146d",
        "colab": {
          "base_uri": "https://localhost:8080/"
        }
      },
      "execution_count": 37,
      "outputs": [
        {
          "output_type": "stream",
          "name": "stdout",
          "text": [
            "We are the so-called \"Vikings\" from the north.\n"
          ]
        }
      ]
    },
    {
      "cell_type": "markdown",
      "source": [
        "## Escape Cahracters:\n",
        "\n",
        "\n",
        "\n",
        "---\n",
        "\n",
        "    \\'      =>     \tSingle Quote\n",
        "\n",
        "\n",
        "\n",
        "---\n",
        "\n",
        "    \\\\      =>     \tBackslash\n",
        "\n",
        "---\n",
        "\n",
        "    \\n      =>     \tNew Line\n",
        "\n",
        "---\n",
        "\n",
        "    \\r      =>     \tCarriage Return\n",
        "\n",
        "---\n",
        "\n",
        "    \\t      =>     \tTab\n",
        "\n",
        "---\n",
        "\n",
        "    \\b      =>     \tBackspace\n",
        "\n",
        "---\n",
        "\n",
        "    \\f      =>     \tForm Feed\n",
        "\n",
        "---\n",
        "\n",
        "    \\ooo      =>     \tOctal value\n",
        "\n",
        "---\n",
        "\n",
        "    \\xhh      =>     \tHex value\n",
        "\n",
        "---\n",
        "\n"
      ],
      "metadata": {
        "id": "tF4cUqk7lUlR"
      }
    },
    {
      "cell_type": "markdown",
      "source": [
        "# String Methods\n",
        "\n",
        "\n",
        "---\n",
        "\n",
        "\n",
        "```\n",
        "a.capitalize()\n",
        "```\n",
        "\n",
        "* capitalises first character and all other character to lower case.\n",
        "\n",
        "\n",
        "---\n",
        "```\n",
        "a.casefold()\n",
        "```\n",
        "\n",
        "* converts complete text to lower case.\n",
        "\n",
        "\n",
        "---\n",
        "```\n",
        "a.center(length, character)\n",
        "```\n",
        "\n",
        "* The center() method will center align the string, using a specified character (space is default) as the fill character.\n",
        "\n",
        "\n",
        "\n",
        "---\n",
        "```\n",
        "a.count(value, start, end)\n",
        "```\n",
        "\n",
        "* counts the number of times a specified value appears in the string.\n",
        "* \n",
        "```\n",
        "Example: a.count(\"apple\", 10, 24)\n",
        "```\n",
        "---\n",
        "```\n",
        "a.find(value, start, end)\n",
        "```\n",
        "\n",
        "\n",
        "* The find() method finds the first occurrence of the specified value.\n",
        "\n",
        "* The find() method returns -1 if the value is not found.\n",
        "\n",
        "* The find() method is almost the same as the index() method, the only difference is that the index() method raises an exception if the value is not found.\n",
        "---\n",
        "\n",
        "\n",
        "\n",
        "\n",
        "---\n",
        "\n",
        "\n"
      ],
      "metadata": {
        "id": "g_T5BCJXmkZl"
      }
    },
    {
      "cell_type": "markdown",
      "source": [
        ""
      ],
      "metadata": {
        "id": "Q33EwAC0pW3S"
      }
    },
    {
      "cell_type": "code",
      "source": [
        "a= \"hi Gentlemen, I am Kamal Kumar!. How are you? \""
      ],
      "metadata": {
        "id": "aQ1r2LI_k9CA"
      },
      "execution_count": 44,
      "outputs": []
    },
    {
      "cell_type": "code",
      "source": [
        "print(a.capitalize())"
      ],
      "metadata": {
        "id": "mWTNbUEgmxmR",
        "outputId": "4d269ecc-be93-417a-d790-c3a01dbd1e55",
        "colab": {
          "base_uri": "https://localhost:8080/"
        }
      },
      "execution_count": 43,
      "outputs": [
        {
          "output_type": "stream",
          "name": "stdout",
          "text": [
            "Hi gentlemen, i am kamal kumar!. how are you? \n"
          ]
        }
      ]
    },
    {
      "cell_type": "code",
      "source": [
        "print(a.casefold())"
      ],
      "metadata": {
        "id": "0MwHS1Tvm1xC",
        "outputId": "baebfa21-e52f-41c2-afc8-b5ed841810da",
        "colab": {
          "base_uri": "https://localhost:8080/"
        }
      },
      "execution_count": 46,
      "outputs": [
        {
          "output_type": "stream",
          "name": "stdout",
          "text": [
            "hi gentlemen, i am kamal kumar!. how are you? \n"
          ]
        }
      ]
    },
    {
      "cell_type": "code",
      "source": [
        "# string.center(length, character)\n",
        "\n",
        "print(a.center(100,))"
      ],
      "metadata": {
        "id": "1kqhmPcbnb_Z",
        "outputId": "6624acdc-fc41-42b6-b1fa-56133e982d7b",
        "colab": {
          "base_uri": "https://localhost:8080/"
        }
      },
      "execution_count": 48,
      "outputs": [
        {
          "output_type": "stream",
          "name": "stdout",
          "text": [
            "                           hi Gentlemen, I am Kamal Kumar!. How are you?                            \n"
          ]
        }
      ]
    },
    {
      "cell_type": "code",
      "source": [
        "# string.count(value, start, end)\n",
        "\n",
        "\n",
        "x= \"An apple a Day Keeps the Doctor Away, but why not more than one apples a day?\"\n",
        "print(x.count(\"a\"))"
      ],
      "metadata": {
        "id": "bx7IZTTony-a",
        "outputId": "d1cab324-193f-4dfb-b734-6d1a58d886e1",
        "colab": {
          "base_uri": "https://localhost:8080/"
        }
      },
      "execution_count": 61,
      "outputs": [
        {
          "output_type": "stream",
          "name": "stdout",
          "text": [
            "8\n"
          ]
        }
      ]
    },
    {
      "cell_type": "code",
      "source": [
        "print(x.endswith(\".\"))\n",
        "\n",
        "print(x)\n"
      ],
      "metadata": {
        "id": "TDc1kVpootjx",
        "outputId": "27a42104-f834-4f41-f785-f75cd9b7924a",
        "colab": {
          "base_uri": "https://localhost:8080/"
        }
      },
      "execution_count": 62,
      "outputs": [
        {
          "output_type": "stream",
          "name": "stdout",
          "text": [
            "False\n",
            "An apple a Day Keeps the Doctor Away, but why not more than one apples a day?\n"
          ]
        }
      ]
    },
    {
      "cell_type": "code",
      "source": [
        "print(x.endswith(\"?\"))\n",
        "\n",
        "print(x)\n"
      ],
      "metadata": {
        "id": "OneOwJm5ryKl",
        "outputId": "09fd6e51-193a-4481-c3b0-a8a2374a4415",
        "colab": {
          "base_uri": "https://localhost:8080/"
        }
      },
      "execution_count": 63,
      "outputs": [
        {
          "output_type": "stream",
          "name": "stdout",
          "text": [
            "True\n",
            "An apple a Day Keeps the Doctor Away, but why not more than one apples a day?\n"
          ]
        }
      ]
    },
    {
      "cell_type": "code",
      "source": [
        "print(x.find(\"apple\"))\n",
        "print(x.find(\"Doctor\"))\n",
        "print(x.find(\"apple\", 10))"
      ],
      "metadata": {
        "id": "FJGX2Ehqr3tb",
        "outputId": "72fe63e1-d81f-467b-fe8a-588107d010e5",
        "colab": {
          "base_uri": "https://localhost:8080/"
        }
      },
      "execution_count": 66,
      "outputs": [
        {
          "output_type": "stream",
          "name": "stdout",
          "text": [
            "3\n",
            "25\n",
            "64\n"
          ]
        }
      ]
    },
    {
      "cell_type": "code",
      "source": [
        "print(x)"
      ],
      "metadata": {
        "id": "4fKMuF1usHjB",
        "outputId": "6fa26099-3bda-4a69-b91c-f460fb6dbcef",
        "colab": {
          "base_uri": "https://localhost:8080/"
        }
      },
      "execution_count": 60,
      "outputs": [
        {
          "output_type": "stream",
          "name": "stdout",
          "text": [
            "-1\n"
          ]
        }
      ]
    },
    {
      "cell_type": "code",
      "source": [
        ""
      ],
      "metadata": {
        "id": "jt2jxTnesdJE"
      },
      "execution_count": null,
      "outputs": []
    }
  ]
}