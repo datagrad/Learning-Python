{
  "nbformat": 4,
  "nbformat_minor": 0,
  "metadata": {
    "colab": {
      "name": "Sets.ipynb",
      "provenance": [],
      "authorship_tag": "ABX9TyPlZHtS31ruFKzPwq2/A4aG",
      "include_colab_link": true
    },
    "kernelspec": {
      "name": "python3",
      "display_name": "Python 3"
    },
    "language_info": {
      "name": "python"
    }
  },
  "cells": [
    {
      "cell_type": "markdown",
      "metadata": {
        "id": "view-in-github",
        "colab_type": "text"
      },
      "source": [
        "<a href=\"https://colab.research.google.com/github/datagrad/Learning-Python/blob/main/Sets.ipynb\" target=\"_parent\"><img src=\"https://colab.research.google.com/assets/colab-badge.svg\" alt=\"Open In Colab\"/></a>"
      ]
    },
    {
      "cell_type": "markdown",
      "source": [
        "# Sets\n",
        "\n",
        "\n",
        "**`set1 = {0, 1, 2, 3, 5, 6, 7, 8, 9, 'am', 'Hi', 54, 'I'}`**\n",
        "\n",
        "---\n",
        "\n",
        "\n",
        "* Set is an unordered collection of data type that is iterable, mutable and has no duplicate elements.\n",
        "* The order of elements in a set is undefined though it may consist of various elements.\n",
        "\n",
        "\n",
        "\n",
        "* It has a highly optimized method for checking whether a specific element is contained in the set.\n",
        "\n",
        "\n",
        "---\n",
        "\n"
      ],
      "metadata": {
        "id": "4TXeSgik_kG3"
      }
    },
    {
      "cell_type": "code",
      "execution_count": 2,
      "metadata": {
        "colab": {
          "base_uri": "https://localhost:8080/"
        },
        "id": "U_xJr5uM_YaA",
        "outputId": "64f14df8-e082-4d99-db37-4e10368f84d8"
      },
      "outputs": [
        {
          "output_type": "stream",
          "name": "stdout",
          "text": [
            "set()\n"
          ]
        }
      ],
      "source": [
        "set1 = set()\n",
        "print(set1)"
      ]
    },
    {
      "cell_type": "markdown",
      "source": [
        "# String to set"
      ],
      "metadata": {
        "id": "CzNAgwA-AmeB"
      }
    },
    {
      "cell_type": "code",
      "source": [
        "set2 = set(\"STRING\")\n",
        "print(set2)\n",
        "\n",
        "set3 = set(\"ORANGE IS ONE OF THE TASTIEST FRUIT\")\n",
        "print(set3)"
      ],
      "metadata": {
        "colab": {
          "base_uri": "https://localhost:8080/"
        },
        "id": "mnQYmn72AEJS",
        "outputId": "979bbf1d-4e46-4a51-9f8b-4a8621733627"
      },
      "execution_count": 6,
      "outputs": [
        {
          "output_type": "stream",
          "name": "stdout",
          "text": [
            "{'S', 'G', 'N', 'R', 'I', 'T'}\n",
            "{'S', 'U', 'G', 'N', 'O', 'R', 'F', 'H', ' ', 'I', 'E', 'A', 'T'}\n"
          ]
        }
      ]
    },
    {
      "cell_type": "markdown",
      "source": [
        "## List to Set"
      ],
      "metadata": {
        "id": "KEsaGdAjA-6u"
      }
    },
    {
      "cell_type": "code",
      "source": [
        "set4 = set([\"ORANGE\", \"IS\", \"ONE\", \"OF\", \"THE\", \"TASTIEST\", \"FRUIT\"])\n",
        "print(set4)\n",
        "\n"
      ],
      "metadata": {
        "colab": {
          "base_uri": "https://localhost:8080/"
        },
        "id": "Go_ONN-YASZl",
        "outputId": "42bdb55f-52f5-4e4e-f9e4-a5a42fc0002d"
      },
      "execution_count": 8,
      "outputs": [
        {
          "output_type": "stream",
          "name": "stdout",
          "text": [
            "{'IS', 'OF', 'THE', 'TASTIEST', 'FRUIT', 'ORANGE', 'ONE'}\n"
          ]
        }
      ]
    },
    {
      "cell_type": "code",
      "source": [
        "set5 = set([1,2,3,54,7,6,5,3,8,9,0,\"Hi\", \"I\", \"am\",\"Hi\"])\n",
        "print(set5)\n"
      ],
      "metadata": {
        "colab": {
          "base_uri": "https://localhost:8080/"
        },
        "id": "s2LnTQVFA3sp",
        "outputId": "b8962ced-3899-4673-a0ac-91257af55c39"
      },
      "execution_count": 12,
      "outputs": [
        {
          "output_type": "stream",
          "name": "stdout",
          "text": [
            "{0, 1, 2, 3, 5, 6, 7, 8, 9, 'am', 'Hi', 54, 'I'}\n"
          ]
        }
      ]
    },
    {
      "cell_type": "code",
      "source": [
        "set6 = set([\"Hi\",\"I\", \"am\", \"Kamal\", \"I\", \"am\", \"an\", \"Engineer\"])\n",
        "print(set6)"
      ],
      "metadata": {
        "colab": {
          "base_uri": "https://localhost:8080/"
        },
        "id": "3pTFoPHoBaEy",
        "outputId": "e13593d1-e2fc-460b-d64b-1ec0561465b7"
      },
      "execution_count": 11,
      "outputs": [
        {
          "output_type": "stream",
          "name": "stdout",
          "text": [
            "{'Kamal', 'am', 'Hi', 'an', 'Engineer', 'I'}\n"
          ]
        }
      ]
    },
    {
      "cell_type": "markdown",
      "source": [
        "## Addition of elements in a Set\n",
        "set1.add(\"an\")"
      ],
      "metadata": {
        "id": "Ptc1gYgqCewA"
      }
    },
    {
      "cell_type": "code",
      "source": [
        "set1 = set()\n",
        "print(set1)\n",
        "\n",
        "# Adding element and tuple to the Set\n",
        "set1.add(8)\n",
        "set1.add(\"an\")\n",
        "set1.add((6,7))\n",
        "print(\"\\nSet after Addition of Three elements: \")\n",
        "print(set1)\n",
        "\n"
      ],
      "metadata": {
        "colab": {
          "base_uri": "https://localhost:8080/"
        },
        "id": "I5TzXxEhCbHU",
        "outputId": "f5902302-8cff-41bc-fcde-930a67ce6844"
      },
      "execution_count": 14,
      "outputs": [
        {
          "output_type": "stream",
          "name": "stdout",
          "text": [
            "set()\n",
            "\n",
            "Set after Addition of Three elements: \n",
            "{8, (6, 7), 'an'}\n"
          ]
        }
      ]
    },
    {
      "cell_type": "code",
      "source": [
        "# Adding elements to the Set\n",
        "# using Iterator\n",
        "for i in range(1, 6):\n",
        "\tset1.add(i)\n",
        "print(\"\\nSet after Addition of elements from 1-5: \")\n",
        "print(set1)\n"
      ],
      "metadata": {
        "id": "ebvSieXQBOch"
      },
      "execution_count": null,
      "outputs": []
    }
  ]
}