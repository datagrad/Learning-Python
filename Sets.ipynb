{
  "nbformat": 4,
  "nbformat_minor": 0,
  "metadata": {
    "colab": {
      "name": "Sets.ipynb",
      "provenance": [],
      "toc_visible": true,
      "authorship_tag": "ABX9TyNPJGFsF4A7BV93si5DPpTA",
      "include_colab_link": true
    },
    "kernelspec": {
      "name": "python3",
      "display_name": "Python 3"
    },
    "language_info": {
      "name": "python"
    }
  },
  "cells": [
    {
      "cell_type": "markdown",
      "metadata": {
        "id": "view-in-github",
        "colab_type": "text"
      },
      "source": [
        "<a href=\"https://colab.research.google.com/github/datagrad/Learning-Python/blob/main/Sets.ipynb\" target=\"_parent\"><img src=\"https://colab.research.google.com/assets/colab-badge.svg\" alt=\"Open In Colab\"/></a>"
      ]
    },
    {
      "cell_type": "markdown",
      "source": [
        "# Sets\n",
        "\n",
        "\n",
        "**`set1 = {0, 1, 2, 3, 5, 6, 7, 8, 9, 'am', 'Hi', 54, 'I'}`**\n",
        "\n",
        "---\n",
        "\n",
        "\n",
        "* Set is an unordered collection of data type that is iterable, mutable and has no duplicate elements.\n",
        "* The order of elements in a set is undefined though it may consist of various elements.\n",
        "\n",
        "\n",
        "\n",
        "* It has a highly optimized method for checking whether a specific element is contained in the set.\n",
        "\n",
        "\n",
        "---\n",
        "\n"
      ],
      "metadata": {
        "id": "4TXeSgik_kG3"
      }
    },
    {
      "cell_type": "code",
      "execution_count": 2,
      "metadata": {
        "colab": {
          "base_uri": "https://localhost:8080/"
        },
        "id": "U_xJr5uM_YaA",
        "outputId": "64f14df8-e082-4d99-db37-4e10368f84d8"
      },
      "outputs": [
        {
          "output_type": "stream",
          "name": "stdout",
          "text": [
            "set()\n"
          ]
        }
      ],
      "source": [
        "set1 = set()\n",
        "print(set1)"
      ]
    },
    {
      "cell_type": "markdown",
      "source": [
        "## String to set"
      ],
      "metadata": {
        "id": "CzNAgwA-AmeB"
      }
    },
    {
      "cell_type": "code",
      "source": [
        "set2 = set(\"STRING\")\n",
        "print(set2)\n",
        "\n",
        "set3 = set(\"ORANGE IS ONE OF THE TASTIEST FRUIT\")\n",
        "print(set3)"
      ],
      "metadata": {
        "colab": {
          "base_uri": "https://localhost:8080/"
        },
        "id": "mnQYmn72AEJS",
        "outputId": "979bbf1d-4e46-4a51-9f8b-4a8621733627"
      },
      "execution_count": 6,
      "outputs": [
        {
          "output_type": "stream",
          "name": "stdout",
          "text": [
            "{'S', 'G', 'N', 'R', 'I', 'T'}\n",
            "{'S', 'U', 'G', 'N', 'O', 'R', 'F', 'H', ' ', 'I', 'E', 'A', 'T'}\n"
          ]
        }
      ]
    },
    {
      "cell_type": "markdown",
      "source": [
        "## List to Set"
      ],
      "metadata": {
        "id": "KEsaGdAjA-6u"
      }
    },
    {
      "cell_type": "code",
      "source": [
        "set4 = set([\"ORANGE\", \"IS\", \"ONE\", \"OF\", \"THE\", \"TASTIEST\", \"FRUIT\"])\n",
        "print(set4)\n",
        "\n"
      ],
      "metadata": {
        "colab": {
          "base_uri": "https://localhost:8080/"
        },
        "id": "Go_ONN-YASZl",
        "outputId": "42bdb55f-52f5-4e4e-f9e4-a5a42fc0002d"
      },
      "execution_count": 8,
      "outputs": [
        {
          "output_type": "stream",
          "name": "stdout",
          "text": [
            "{'IS', 'OF', 'THE', 'TASTIEST', 'FRUIT', 'ORANGE', 'ONE'}\n"
          ]
        }
      ]
    },
    {
      "cell_type": "code",
      "source": [
        "set5 = set([1,2,3,54,7,6,5,3,8,9,0,\"Hi\", \"I\", \"am\",\"Hi\"])\n",
        "print(set5)\n"
      ],
      "metadata": {
        "colab": {
          "base_uri": "https://localhost:8080/"
        },
        "id": "s2LnTQVFA3sp",
        "outputId": "b8962ced-3899-4673-a0ac-91257af55c39"
      },
      "execution_count": 12,
      "outputs": [
        {
          "output_type": "stream",
          "name": "stdout",
          "text": [
            "{0, 1, 2, 3, 5, 6, 7, 8, 9, 'am', 'Hi', 54, 'I'}\n"
          ]
        }
      ]
    },
    {
      "cell_type": "code",
      "source": [
        "set6 = set([\"Hi\",\"I\", \"am\", \"Kamal\", \"I\", \"am\", \"an\", \"Engineer\"])\n",
        "print(set6)"
      ],
      "metadata": {
        "colab": {
          "base_uri": "https://localhost:8080/"
        },
        "id": "3pTFoPHoBaEy",
        "outputId": "e13593d1-e2fc-460b-d64b-1ec0561465b7"
      },
      "execution_count": 11,
      "outputs": [
        {
          "output_type": "stream",
          "name": "stdout",
          "text": [
            "{'Kamal', 'am', 'Hi', 'an', 'Engineer', 'I'}\n"
          ]
        }
      ]
    },
    {
      "cell_type": "markdown",
      "source": [
        "## Addition of elements in a Set\n",
        "set1.add(\"an\")"
      ],
      "metadata": {
        "id": "Ptc1gYgqCewA"
      }
    },
    {
      "cell_type": "code",
      "source": [
        "set1 = set()\n",
        "print(set1)\n",
        "\n",
        "# Adding element and tuple to the Set\n",
        "set1.add(8)\n",
        "set1.add(\"an\")\n",
        "set1.add((6,7))\n",
        "print(\"\\nSet after Addition of Three elements: \")\n",
        "print(set1)\n",
        "\n"
      ],
      "metadata": {
        "colab": {
          "base_uri": "https://localhost:8080/"
        },
        "id": "I5TzXxEhCbHU",
        "outputId": "54be3877-756a-44bc-a662-1f3b4d2a4ed0"
      },
      "execution_count": 1,
      "outputs": [
        {
          "output_type": "stream",
          "name": "stdout",
          "text": [
            "set()\n",
            "\n",
            "Set after Addition of Three elements: \n",
            "{8, (6, 7), 'an'}\n"
          ]
        }
      ]
    },
    {
      "cell_type": "code",
      "source": [
        "# Adding elements to the Set\n",
        "# using Iterator\n",
        "for i in range(1, 6):\n",
        "\tset1.add(i)\n",
        "print(\"\\nSet after Addition of elements from 1-5: \")\n",
        "print(set1)\n"
      ],
      "metadata": {
        "colab": {
          "base_uri": "https://localhost:8080/"
        },
        "id": "ebvSieXQBOch",
        "outputId": "da762f9f-5d38-4ef4-b8f2-35f432c94149"
      },
      "execution_count": 2,
      "outputs": [
        {
          "output_type": "stream",
          "name": "stdout",
          "text": [
            "\n",
            "Set after Addition of elements from 1-5: \n",
            "{1, 2, 3, (6, 7), 4, 5, 8, 'an'}\n"
          ]
        }
      ]
    },
    {
      "cell_type": "markdown",
      "source": [
        "## Using update() method\n",
        "* Used for addition of two or more elements Update() method is used.\n",
        "* The update() method accepts lists, strings, tuples as well as other sets as its arguments. In all of these cases, duplicate elements are avoided."
      ],
      "metadata": {
        "id": "W1jsPIOolC8R"
      }
    },
    {
      "cell_type": "code",
      "source": [
        "# Addition of elements to the Set using Update function\n",
        "set1 = set([ 4, 5, (6, 7)])\n",
        "set1.update([10, 11])\n",
        "set1.update([4, 10,12, 11])\n",
        "print(set1)\n"
      ],
      "metadata": {
        "colab": {
          "base_uri": "https://localhost:8080/"
        },
        "id": "gKxmflLNkovH",
        "outputId": "fd9a1b27-7ecb-4ee7-a795-fd5215088654"
      },
      "execution_count": 5,
      "outputs": [
        {
          "output_type": "stream",
          "name": "stdout",
          "text": [
            "{4, 5, (6, 7), 10, 11, 12}\n"
          ]
        }
      ]
    },
    {
      "cell_type": "markdown",
      "source": [
        "## Accessing a Set"
      ],
      "metadata": {
        "id": "s2fuDs9ilrf9"
      }
    },
    {
      "cell_type": "code",
      "source": [
        "set1 = set([\"Orange\", \"is\", \"orange\"])\n",
        "for i in set1:\n",
        "\tprint(i, end=\" \")\n",
        "\n",
        "print(\"is\" in set1)  # Checking the element using in keyword\n",
        "\n"
      ],
      "metadata": {
        "colab": {
          "base_uri": "https://localhost:8080/"
        },
        "id": "N8qNNVNkk57K",
        "outputId": "4380f0f9-771d-4f9e-e72c-ec779bdf0671"
      },
      "execution_count": 14,
      "outputs": [
        {
          "output_type": "stream",
          "name": "stdout",
          "text": [
            "Orange orange is True\n"
          ]
        }
      ]
    },
    {
      "cell_type": "markdown",
      "source": [
        "## Removing elements from the Set\n",
        "Elements can be removed from the Set by using built-in remove() function but a KeyError arises if element doesn’t exist in the set. To remove elements from a set without KeyError, use discard(), if the element doesn’t exist in the set, it remains unchanged.\n",
        "\n"
      ],
      "metadata": {
        "id": "QfX7AJnVptFK"
      }
    },
    {
      "cell_type": "markdown",
      "source": [
        "#### Using .discard()"
      ],
      "metadata": {
        "id": "-2lBRoaSqY1f"
      }
    },
    {
      "cell_type": "code",
      "source": [
        "set1 = set([1, 2, 3, 4, 5, 6, 7, 8, 9, 10, 11, 12])\n",
        "\n",
        "# Removing elements from Set using Discard() method\n",
        "set1.discard(8)\n",
        "set1.discard(9)\n",
        "\n",
        "print(set1)\n"
      ],
      "metadata": {
        "colab": {
          "base_uri": "https://localhost:8080/"
        },
        "id": "TNFR0ldhmpQj",
        "outputId": "2ff58e41-3c03-49c2-ad3b-486b36794e50"
      },
      "execution_count": 19,
      "outputs": [
        {
          "output_type": "stream",
          "name": "stdout",
          "text": [
            "{1, 2, 3, 4, 5, 6, 7, 10, 11, 12}\n"
          ]
        }
      ]
    },
    {
      "cell_type": "markdown",
      "source": [
        "#### Using .remove()"
      ],
      "metadata": {
        "id": "UyY9wjDLrDr1"
      }
    },
    {
      "cell_type": "code",
      "source": [
        "\n",
        "set1 = set([1, 2, 3, 4, 5, 6, 7, 8, 9, 10, 11, 12])\n",
        "\n",
        "# Removing elements from Set  using Remove() method\n",
        "set1.remove(5)\n",
        "set1.remove(6)\n",
        "print(set1)\n",
        "\n"
      ],
      "metadata": {
        "colab": {
          "base_uri": "https://localhost:8080/"
        },
        "id": "Mc7pytwmpypF",
        "outputId": "76b8c791-e195-4101-e269-80e591ba8b0c"
      },
      "execution_count": 20,
      "outputs": [
        {
          "output_type": "stream",
          "name": "stdout",
          "text": [
            "{1, 2, 3, 4, 7, 8, 9, 10, 11, 12}\n"
          ]
        }
      ]
    },
    {
      "cell_type": "markdown",
      "source": [
        "#### Using iteration"
      ],
      "metadata": {
        "id": "5XgCKI-Pq_st"
      }
    },
    {
      "cell_type": "code",
      "source": [
        "\n",
        "set1 = set([1, 2, 3, 4, 5, 6, 7, 8, 9, 10, 11, 12])\n",
        "\n",
        "# Removing elements from Set using iterator method\n",
        "for i in range(1, 5):\n",
        "  set1.remove(i)\n",
        "\n",
        "print(set1)\n"
      ],
      "metadata": {
        "colab": {
          "base_uri": "https://localhost:8080/"
        },
        "id": "s6eUtZdRqTtT",
        "outputId": "d3a5f35b-8dfb-4f1a-cdab-c7da6b134b97"
      },
      "execution_count": 21,
      "outputs": [
        {
          "output_type": "stream",
          "name": "stdout",
          "text": [
            "{5, 6, 7, 8, 9, 10, 11, 12}\n"
          ]
        }
      ]
    },
    {
      "cell_type": "markdown",
      "source": [
        "#### Using .pop()"
      ],
      "metadata": {
        "id": "eCImIYsiq7eq"
      }
    },
    {
      "cell_type": "code",
      "source": [
        "\n",
        "set1 = set([1, 2, 3, 4, 5, 6, 7, 8, 9, 10, 11, 12])\n",
        "\n",
        "# Removing elements from Set  using Remove() method\n",
        "set1.pop()\n",
        "\n",
        "print(set1)\n",
        "\n"
      ],
      "metadata": {
        "colab": {
          "base_uri": "https://localhost:8080/"
        },
        "id": "lJva08brqqYp",
        "outputId": "e8650843-95eb-4ef8-b026-1d9be9a490e1"
      },
      "execution_count": 22,
      "outputs": [
        {
          "output_type": "stream",
          "name": "stdout",
          "text": [
            "{2, 3, 4, 5, 6, 7, 8, 9, 10, 11, 12}\n"
          ]
        }
      ]
    },
    {
      "cell_type": "code",
      "source": [
        ""
      ],
      "metadata": {
        "id": "fPM_QX-Pq5rt"
      },
      "execution_count": null,
      "outputs": []
    },
    {
      "cell_type": "markdown",
      "source": [
        "#### Using .clear()\n",
        "To remove all the elements from the set"
      ],
      "metadata": {
        "id": "8x0v2Pf_rTIa"
      }
    },
    {
      "cell_type": "code",
      "source": [
        "\n",
        "set1 = set([1, 2, 3, 4, 5, 6, 7, 8, 9, 10, 11, 12])\n",
        "\n",
        "# Removing elements from Set  using Remove() method\n",
        "set1.clear()\n",
        "\n",
        "print(set1)\n",
        "\n"
      ],
      "metadata": {
        "colab": {
          "base_uri": "https://localhost:8080/"
        },
        "outputId": "38d93674-209b-4649-ce5a-83f1d6ef670f",
        "id": "DRxlr8mErTIb"
      },
      "execution_count": 23,
      "outputs": [
        {
          "output_type": "stream",
          "name": "stdout",
          "text": [
            "set()\n"
          ]
        }
      ]
    },
    {
      "cell_type": "markdown",
      "source": [
        "## Union of Sets"
      ],
      "metadata": {
        "id": "ccX9otVyrz3t"
      }
    },
    {
      "cell_type": "code",
      "source": [
        "set1 = {2, 4, 5, 6}\n",
        "set2 = {4, 6, 7, 8}\n",
        "set3 = {7, 8, 9, 10}\n",
        "\n",
        "# union of two sets\n",
        "print(\"set1 U set2 : \", set1 | set2) # We can use “|” operator to find the union of the sets.\n",
        "\n",
        "# union of three sets\n",
        "print(\"set1 U set2 U set3 :\", set1 |set2 | set3) # We can use “|” operator to find the union of the sets.\n",
        "\n",
        "\n",
        "\n",
        "# union of two sets\n",
        "print(\"set1 U set2 : \", set1.union(set2))\n",
        "\n",
        "# union of three sets\n",
        "print(\"set1 U set2 U set3 :\", set1.union(set2, set3))\n"
      ],
      "metadata": {
        "colab": {
          "base_uri": "https://localhost:8080/"
        },
        "id": "RGF6Jt2ErbyJ",
        "outputId": "3cbf7106-7524-4336-9ca5-4da3e7ef590b"
      },
      "execution_count": 26,
      "outputs": [
        {
          "output_type": "stream",
          "name": "stdout",
          "text": [
            "set1 U set2 :  {2, 4, 5, 6, 7, 8}\n",
            "set1 U set2 U set3 : {2, 4, 5, 6, 7, 8, 9, 10}\n",
            "set1 U set2 :  {2, 4, 5, 6, 7, 8}\n",
            "set1 U set2 U set3 : {2, 4, 5, 6, 7, 8, 9, 10}\n"
          ]
        }
      ]
    },
    {
      "cell_type": "code",
      "source": [
        ""
      ],
      "metadata": {
        "id": "RDjPgBRyr6mu"
      },
      "execution_count": null,
      "outputs": []
    }
  ]
}