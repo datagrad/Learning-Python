{
  "nbformat": 4,
  "nbformat_minor": 0,
  "metadata": {
    "colab": {
      "name": "Python_Statistics.ipynb",
      "provenance": [],
      "collapsed_sections": [],
      "toc_visible": true,
      "authorship_tag": "ABX9TyMKuForx8hk3haFRMCQl/ll",
      "include_colab_link": true
    },
    "kernelspec": {
      "name": "python3",
      "display_name": "Python 3"
    },
    "language_info": {
      "name": "python"
    }
  },
  "cells": [
    {
      "cell_type": "markdown",
      "metadata": {
        "id": "view-in-github",
        "colab_type": "text"
      },
      "source": [
        "<a href=\"https://colab.research.google.com/github/datagrad/Learning-Python/blob/main/Python_Statistics.ipynb\" target=\"_parent\"><img src=\"https://colab.research.google.com/assets/colab-badge.svg\" alt=\"Open In Colab\"/></a>"
      ]
    },
    {
      "cell_type": "markdown",
      "source": [
        "# Mean, Median, Mode"
      ],
      "metadata": {
        "id": "-4z0aU0RrHX8"
      }
    },
    {
      "cell_type": "markdown",
      "source": [
        "## Mean"
      ],
      "metadata": {
        "id": "QilOI7Gdr6fo"
      }
    },
    {
      "cell_type": "code",
      "execution_count": 3,
      "metadata": {
        "colab": {
          "base_uri": "https://localhost:8080/"
        },
        "id": "L78-TtyrrB3p",
        "outputId": "d411d71e-caba-4fef-cd6d-013b2b27f018"
      },
      "outputs": [
        {
          "output_type": "stream",
          "name": "stdout",
          "text": [
            "89.76923076923077\n"
          ]
        }
      ],
      "source": [
        "import numpy\n",
        "\n",
        "speed = [99,86,87,88,111,86,103,87,94,78,77,85,86]\n",
        "\n",
        "x = numpy.mean(speed)\n",
        "\n",
        "print(x)"
      ]
    },
    {
      "cell_type": "code",
      "source": [
        "import numpy\n",
        "\n",
        "speed = [99,86,87,88,111,86,103,87,94,78,77,85,86, 88, 88, 88]\n",
        "\n",
        "x = numpy.median(speed)\n",
        "\n",
        "print(x)"
      ],
      "metadata": {
        "colab": {
          "base_uri": "https://localhost:8080/"
        },
        "id": "Kvc0Q5w6ra6z",
        "outputId": "d8f90a23-f8af-4adb-fdd4-487bfb646339"
      },
      "execution_count": 9,
      "outputs": [
        {
          "output_type": "stream",
          "name": "stdout",
          "text": [
            "87.5\n"
          ]
        }
      ]
    },
    {
      "cell_type": "code",
      "source": [
        "from scipy import stats\n",
        "\n",
        "speed = [99,86,87,88,111,86,103,87,94,78,77,85,86]\n",
        "\n",
        "x = stats.mode(speed)\n",
        "\n",
        "print(x)"
      ],
      "metadata": {
        "colab": {
          "base_uri": "https://localhost:8080/"
        },
        "id": "_P-dUO16reeZ",
        "outputId": "a0502f3d-4d10-43eb-f77f-8654fa2484b5"
      },
      "execution_count": 10,
      "outputs": [
        {
          "output_type": "stream",
          "name": "stdout",
          "text": [
            "ModeResult(mode=array([86]), count=array([3]))\n"
          ]
        }
      ]
    },
    {
      "cell_type": "code",
      "source": [
        "\n"
      ],
      "metadata": {
        "id": "HqFeoKGVsY5s"
      },
      "execution_count": null,
      "outputs": []
    },
    {
      "cell_type": "markdown",
      "source": [
        "# Standard Deviation\n",
        "\n",
        "* Standard deviation is a number that describes how spread out the values are.\n",
        "* A low standard deviation means that most of the numbers are close to the mean (average) value.\n",
        "* A high standard deviation means that the values are spread out over a wider range."
      ],
      "metadata": {
        "id": "pgwNXsHGstOx"
      }
    },
    {
      "cell_type": "markdown",
      "source": [
        "Example:\n",
        "This time we have registered the speed of 7 cars:\n",
        "\n",
        "speed = [86,87,88,86,87,85,86]\n",
        "\n",
        "The standard deviation is:\n",
        "\n",
        "0.9\n",
        "\n",
        "Meaning that most of the values are within the range of 0.9 from the mean value, which is 86.4.\n"
      ],
      "metadata": {
        "id": "sPrdLsEHwYVi"
      }
    },
    {
      "cell_type": "code",
      "source": [
        "import numpy\n",
        "\n",
        "speed = [86,87,88,86,87,85,86]\n",
        "\n",
        "x = numpy.std(speed)\n",
        "\n",
        "print(x)\n"
      ],
      "metadata": {
        "colab": {
          "base_uri": "https://localhost:8080/"
        },
        "id": "UTStEpdEsv-l",
        "outputId": "a4452f15-9946-41e5-c51e-c3ba98e47702"
      },
      "execution_count": 12,
      "outputs": [
        {
          "output_type": "stream",
          "name": "stdout",
          "text": [
            "0.9035079029052513\n"
          ]
        }
      ]
    },
    {
      "cell_type": "code",
      "source": [
        "import numpy\n",
        "\n",
        "speed = [32,111,138,28,59,77,97]\n",
        "\n",
        "x = numpy.std(speed)\n",
        "\n",
        "print(x)"
      ],
      "metadata": {
        "colab": {
          "base_uri": "https://localhost:8080/"
        },
        "id": "xT40xOGVwyI1",
        "outputId": "1cb7168b-1073-4f58-ad8d-71aa14ac83fe"
      },
      "execution_count": 13,
      "outputs": [
        {
          "output_type": "stream",
          "name": "stdout",
          "text": [
            "37.84501153334721\n"
          ]
        }
      ]
    },
    {
      "cell_type": "markdown",
      "source": [
        "# Variance\n",
        "\n",
        "\n",
        "---\n",
        "\n",
        "\n",
        "***Variance = square(Standard Deviation)***\n",
        "\n",
        "---\n",
        "\n",
        "\n",
        "Variance is another number that indicates how spread out the values are.\n",
        "\n",
        "In fact, if you take the square root of the variance, you get the standard deviation!\n",
        "\n",
        "Or the other way around, if you multiply the standard deviation by itself, you get the variance!\n",
        "\n"
      ],
      "metadata": {
        "id": "UD_5DvI9xM7u"
      }
    },
    {
      "cell_type": "code",
      "source": [
        "import numpy\n",
        "\n",
        "speed = [32,111,138,28,59,77,97]\n",
        "\n",
        "x = numpy.var(speed)\n",
        "\n",
        "print(x)"
      ],
      "metadata": {
        "colab": {
          "base_uri": "https://localhost:8080/"
        },
        "id": "zAQW-pTGw2Yr",
        "outputId": "6110430f-c4e2-4988-94a8-88b2d526dcde"
      },
      "execution_count": 15,
      "outputs": [
        {
          "output_type": "stream",
          "name": "stdout",
          "text": [
            "1432.2448979591834\n"
          ]
        }
      ]
    },
    {
      "cell_type": "markdown",
      "source": [
        "# Percentiles\n",
        "* Percentiles are used in statistics to give you a number that describes the value that a given percent of the values are lower than.\n",
        "\n",
        "* 95 percentile marks means 95% people have score lower than you.\n"
      ],
      "metadata": {
        "id": "jjTBlc6IyOEb"
      }
    },
    {
      "cell_type": "code",
      "source": [
        "# Find the 75 percentile of the data.\n",
        "import numpy\n",
        "\n",
        "ages = [5,31,43,48,50,41,7,11,15,39,80,82,32,2,8,6,25,36,27,61,31]\n",
        "\n",
        "x = numpy.percentile(ages, 75)\n",
        "\n",
        "print(x)"
      ],
      "metadata": {
        "colab": {
          "base_uri": "https://localhost:8080/"
        },
        "id": "9OV4eLuDxDSR",
        "outputId": "5695deab-d51a-4b06-c1b2-88044ed7d0a7"
      },
      "execution_count": 16,
      "outputs": [
        {
          "output_type": "stream",
          "name": "stdout",
          "text": [
            "43.0\n"
          ]
        }
      ]
    },
    {
      "cell_type": "code",
      "source": [
        "# What is 90 percentile marks of the given data?\n",
        "import numpy\n",
        "\n",
        "ages = [5,31,43,48,50,41,7,11,15,39,80,82,32,2,8,6,25,36,27,61,31]\n",
        "\n",
        "x = numpy.percentile(ages, 90)\n",
        "\n",
        "print(x)"
      ],
      "metadata": {
        "colab": {
          "base_uri": "https://localhost:8080/"
        },
        "id": "Sy75AnrVyqER",
        "outputId": "afb3a87b-8edb-448e-d266-c6f3a3e1edea"
      },
      "execution_count": 17,
      "outputs": [
        {
          "output_type": "stream",
          "name": "stdout",
          "text": [
            "61.0\n"
          ]
        }
      ]
    },
    {
      "cell_type": "markdown",
      "source": [
        "# Import Uniform Random Values"
      ],
      "metadata": {
        "id": "L1gMTOXO1mN8"
      }
    },
    {
      "cell_type": "code",
      "source": [
        "# Create an array containing 250 random floats between 0 and 5:\n",
        "\n",
        "import numpy\n",
        "\n",
        "x = numpy.random.uniform(0, 5, 250)\n",
        "\n",
        "print(x)"
      ],
      "metadata": {
        "colab": {
          "base_uri": "https://localhost:8080/"
        },
        "id": "bVJGBzWdz6L6",
        "outputId": "2578595c-df3d-4f1d-f4e6-e42dc362c837"
      },
      "execution_count": 21,
      "outputs": [
        {
          "output_type": "stream",
          "name": "stdout",
          "text": [
            "[4.53418067 1.27519708 2.26496545 0.82197245 2.50260496 2.01439317\n",
            " 2.94188767 1.34428817 0.51704758 0.76994796 0.16893513 3.7193423\n",
            " 4.3655577  0.99163075 0.62943447 0.03510925 0.76484921 2.70360512\n",
            " 3.30773551 3.4353524  2.44984937 4.69849385 4.58169583 3.15511443\n",
            " 3.42694449 0.56728067 0.83854032 1.2211671  4.19230717 1.04942027\n",
            " 0.73170025 3.1799542  4.62269695 1.56751333 4.08793659 0.13299464\n",
            " 4.29946318 3.22678417 4.99000555 3.1829136  2.33940963 2.35582914\n",
            " 3.28320872 3.43238593 2.78606693 4.89842173 1.71279443 3.7584678\n",
            " 1.07664765 3.75756104 4.09960264 4.51150445 1.89310326 4.24810136\n",
            " 3.0049254  0.02706962 3.82544417 1.81152087 1.73564672 2.67292614\n",
            " 0.62439217 0.01939901 2.79082071 3.19431912 2.47488961 4.44752504\n",
            " 1.46770211 3.81762539 3.70152422 2.12971748 3.66161956 0.36149428\n",
            " 4.26407099 0.95160456 2.38459265 0.43680791 4.70301856 1.88133174\n",
            " 1.7719467  2.31642281 3.51896801 0.51059537 1.97572358 1.72663135\n",
            " 3.09148091 3.78522851 4.9763356  1.62747893 3.72611952 1.95869629\n",
            " 1.51864215 1.20413532 3.41598558 3.27223757 1.52391106 3.97873605\n",
            " 2.57285873 0.80587444 1.75292268 1.22040082 4.41811263 2.45124359\n",
            " 3.02027688 3.53706896 3.43761129 4.33108876 1.11373637 0.8029591\n",
            " 4.82241081 1.9853766  3.77941424 2.43739565 0.15408845 4.79235253\n",
            " 2.30044139 1.82733614 4.63704306 0.50409975 1.14768005 2.43406803\n",
            " 4.07853058 2.78715347 3.30227867 0.43594656 2.49396501 1.06984685\n",
            " 0.55744493 4.08876081 2.66437722 1.66592118 1.00351193 4.93534428\n",
            " 3.57564766 4.10026672 3.86792097 1.23713185 1.54446948 0.13448477\n",
            " 4.7558312  0.59702085 3.97179942 2.04424998 4.1380738  0.83094208\n",
            " 1.44456395 3.74927546 2.67179183 3.96360718 1.79145815 3.05240092\n",
            " 3.13630563 0.40694319 4.84893843 2.58660544 2.59254082 4.71122757\n",
            " 0.7443365  4.76778268 3.7610419  4.2718866  0.7805319  1.3496326\n",
            " 1.57675526 1.7679521  4.47352221 3.39845891 0.51603594 2.88584572\n",
            " 3.09007131 3.76635151 0.73357896 3.48614309 2.33252653 1.7108312\n",
            " 2.26178455 2.02006728 4.05768844 0.4776207  1.36970964 1.24673449\n",
            " 0.55744344 4.20116319 4.28204798 2.55110466 3.42813758 3.01441547\n",
            " 1.5810376  2.19676385 1.16387824 1.68635306 1.77179256 2.6498856\n",
            " 0.65370412 3.14702858 3.65843164 0.18990238 2.2079367  4.81576575\n",
            " 1.97217907 2.12871132 2.49041304 2.92213882 2.70955221 2.53417982\n",
            " 4.0471839  2.53536577 2.20356791 0.45054345 3.2662178  2.5650826\n",
            " 4.10618646 4.46990127 4.11519606 4.80216143 1.14861484 1.87472313\n",
            " 3.22203324 1.27820484 1.36207261 1.81105895 1.25966075 0.71434689\n",
            " 2.56840445 1.70677029 4.63877995 3.30139238 1.85348939 2.72257346\n",
            " 2.11981801 4.85230069 0.83945693 0.29007948 2.35800455 1.53710168\n",
            " 0.81792405 1.10700809 3.23870938 0.28802672 1.01897436 3.15099636\n",
            " 2.24233437 1.9520055  0.14740586 0.243124   2.23678731 0.33145958\n",
            " 2.65859718 4.81476025 3.57338927 1.12150821]\n"
          ]
        }
      ]
    },
    {
      "cell_type": "code",
      "source": [
        "# Create an array with 100000 random numbers, and display them using a histogram with 100 bars:\n",
        "import numpy\n",
        "import matplotlib.pyplot as plt\n",
        "\n",
        "x = numpy.random.uniform(0.0, 5.0, 100000)\n",
        "\n",
        "plt.hist(x, 10)\n",
        "plt.show()\n"
      ],
      "metadata": {
        "colab": {
          "base_uri": "https://localhost:8080/",
          "height": 265
        },
        "id": "inIPSaW-1x_K",
        "outputId": "905430e6-227b-4219-8ba2-43e2cfd61b17"
      },
      "execution_count": 23,
      "outputs": [
        {
          "output_type": "display_data",
          "data": {
            "text/plain": [
              "<Figure size 432x288 with 1 Axes>"
            ],
            "image/png": "[encoded data removed]"
          },
          "metadata": {
            "needs_background": "light"
          }
        }
      ]
    },
    {
      "cell_type": "markdown",
      "source": [
        "# Import Normal Random Values"
      ],
      "metadata": {
        "id": "_afCzJHx2hMc"
      }
    },
    {
      "cell_type": "code",
      "source": [
        "import numpy\n",
        "import matplotlib.pyplot as plt\n",
        "\n",
        "x = numpy.random.normal(5.0, 1.0, 100000)\n",
        "print(x)"
      ],
      "metadata": {
        "colab": {
          "base_uri": "https://localhost:8080/"
        },
        "id": "qzTyc2a32Ky-",
        "outputId": "e836c7aa-89e1-4994-bd41-6e3f321cd71b"
      },
      "execution_count": 26,
      "outputs": [
        {
          "output_type": "stream",
          "name": "stdout",
          "text": [
            "[4.57040525 3.52093873 4.1180846  ... 4.72896178 4.17689472 5.42266627]\n"
          ]
        }
      ]
    },
    {
      "cell_type": "code",
      "source": [
        "import numpy\n",
        "import matplotlib.pyplot as plt\n",
        "\n",
        "x = numpy.random.normal(5.0, 1.0, 10000)\n",
        "\n",
        "plt.hist(x, 100)\n",
        "plt.show()"
      ],
      "metadata": {
        "colab": {
          "base_uri": "https://localhost:8080/",
          "height": 276
        },
        "id": "0lc_mTbR2pFZ",
        "outputId": "bdafa52e-c7b5-43a8-a826-b17e201ca7da"
      },
      "execution_count": 1,
      "outputs": [
        {
          "output_type": "display_data",
          "data": {
            "text/plain": [
              "<Figure size 432x288 with 1 Axes>"
            ],
            "image/png": "[encoded data removed]"
          },
          "metadata": {
            "needs_background": "light"
          }
        }
      ]
    },
    {
      "cell_type": "markdown",
      "source": [
        "# scatter Plot"
      ],
      "metadata": {
        "id": "2TubCGis4DEn"
      }
    },
    {
      "cell_type": "code",
      "source": [
        "import matplotlib.pyplot as plt\n",
        "\n",
        "x = [5,7,8,7,2,17,2,9,4,11,12,9,6]\n",
        "y = [99,86,87,88,111,86,103,87,94,78,77,85,86]\n",
        "\n",
        "plt.scatter(x, y)\n",
        "plt.show()"
      ],
      "metadata": {
        "colab": {
          "base_uri": "https://localhost:8080/",
          "height": 265
        },
        "id": "u8UIu7Lo2tfA",
        "outputId": "e7f9829e-e94f-42ac-ab7e-b29b16c5f6b0"
      },
      "execution_count": 2,
      "outputs": [
        {
          "output_type": "display_data",
          "data": {
            "text/plain": [
              "<Figure size 432x288 with 1 Axes>"
            ],
            "image/png": "[encoded data removed]"
          },
          "metadata": {
            "needs_background": "light"
          }
        }
      ]
    },
    {
      "cell_type": "code",
      "source": [
        "import numpy\n",
        "import matplotlib.pyplot as plt\n",
        "\n",
        "x = numpy.random.normal(5.0, 1.0, 1000)\n",
        "y = numpy.random.normal(10.0, 2.0, 1000)\n",
        "\n",
        "plt.scatter(x, y)\n",
        "plt.show()"
      ],
      "metadata": {
        "colab": {
          "base_uri": "https://localhost:8080/",
          "height": 265
        },
        "id": "l09GYhDt4IjW",
        "outputId": "c4321aa9-a35d-43fe-9cf6-d83988446b47"
      },
      "execution_count": 3,
      "outputs": [
        {
          "output_type": "display_data",
          "data": {
            "text/plain": [
              "<Figure size 432x288 with 1 Axes>"
            ],
            "image/png": "[encoded data removed]"
          },
          "metadata": {
            "needs_background": "light"
          }
        }
      ]
    },
    {
      "cell_type": "code",
      "source": [
        "import numpy\n",
        "import matplotlib.pyplot as plt\n",
        "\n",
        "x = numpy.random.uniform(0, 5, 250)\n",
        "y = numpy.random.uniform(0, 5, 250)\n",
        "\n",
        "plt.scatter(x, y)\n",
        "plt.show()"
      ],
      "metadata": {
        "colab": {
          "base_uri": "https://localhost:8080/",
          "height": 265
        },
        "id": "Op_wI1HZ4OqQ",
        "outputId": "80a52c19-4c4c-49bd-91fe-adf1e62f7b08"
      },
      "execution_count": 6,
      "outputs": [
        {
          "output_type": "display_data",
          "data": {
            "text/plain": [
              "<Figure size 432x288 with 1 Axes>"
            ],
            "image/png": "[encoded data removed]"
          },
          "metadata": {
            "needs_background": "light"
          }
        }
      ]
    },
    {
      "cell_type": "code",
      "source": [
        ""
      ],
      "metadata": {
        "id": "tnHiYkmd4ZWM"
      },
      "execution_count": null,
      "outputs": []
    }
  ]
}