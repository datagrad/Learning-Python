{
  "nbformat": 4,
  "nbformat_minor": 0,
  "metadata": {
    "colab": {
      "name": "NumPy.ipynb",
      "provenance": [],
      "collapsed_sections": [],
      "toc_visible": true,
      "authorship_tag": "ABX9TyPezCxFiFy5UU8In0V6PpsT",
      "include_colab_link": true
    },
    "kernelspec": {
      "name": "python3",
      "display_name": "Python 3"
    },
    "language_info": {
      "name": "python"
    }
  },
  "cells": [
    {
      "cell_type": "markdown",
      "metadata": {
        "id": "view-in-github",
        "colab_type": "text"
      },
      "source": [
        "<a href=\"https://colab.research.google.com/github/datagrad/Learning-Python/blob/main/NumPy.ipynb\" target=\"_parent\"><img src=\"https://colab.research.google.com/assets/colab-badge.svg\" alt=\"Open In Colab\"/></a>"
      ]
    },
    {
      "cell_type": "markdown",
      "source": [
        "# NumPy\n",
        "\n",
        "* Python NumPy is a general-purpose array processing package which provides tools for handling the n-dimensional arrays.\n",
        "* It provides various computing tools such as comprehensive mathematical functions, linear algebra routines. \n",
        "* NumPy provides both the flexibility of Python and the speed of well-optimized compiled C code.\n",
        "* It’s easy to use syntax makes it highly accessible and productive for programmers from any background.\n",
        "\n"
      ],
      "metadata": {
        "id": "0nGdta-vawg_"
      }
    },
    {
      "cell_type": "code",
      "execution_count": 10,
      "metadata": {
        "id": "kGdcE1ZOY5sg"
      },
      "outputs": [],
      "source": [
        "import numpy as np\n"
      ]
    },
    {
      "cell_type": "markdown",
      "source": [
        "### Object Type"
      ],
      "metadata": {
        "id": "HyVOLaTfdiBo"
      }
    },
    {
      "cell_type": "code",
      "source": [
        "# Creating array object\n",
        "arr = np.array( [[ 1, 2, 3],\n",
        "\t\t\t\t[ 4, 2, 5]] )\n",
        "\n",
        "# Type of object\n",
        "print(\"Array is of type: \", type(arr))\n"
      ],
      "metadata": {
        "colab": {
          "base_uri": "https://localhost:8080/"
        },
        "id": "LZXNtxObb-m_",
        "outputId": "583fb3c6-fd8f-4bbd-9691-6c212d13c8e0"
      },
      "execution_count": 11,
      "outputs": [
        {
          "output_type": "stream",
          "name": "stdout",
          "text": [
            "Array is of type:  <class 'numpy.ndarray'>\n"
          ]
        }
      ]
    },
    {
      "cell_type": "code",
      "source": [
        "array1 = np.array([[\"a\", \"b\",\"c\"],[1,2,3],[\"t\",2,\"p\"]])\n",
        "\n",
        "print(array1)\n",
        "\n",
        "print(\"\"*10)\n",
        "print(\"Shape: \",array1.shape)\n",
        "\n",
        "print(\"\"*10)\n",
        "print(\"Shape: \",array1.ndim)\n",
        "\n",
        "print(\"\"*10)\n",
        "print(\"Shape: \",array1.size)\n",
        "\n",
        "print(\"\"*10)\n",
        "print(\"Shape: \",array1.dtype)"
      ],
      "metadata": {
        "colab": {
          "base_uri": "https://localhost:8080/"
        },
        "id": "1BNtBDP5jhhG",
        "outputId": "874f9260-f671-49f6-8f68-abf007cf8143"
      },
      "execution_count": 48,
      "outputs": [
        {
          "output_type": "stream",
          "name": "stdout",
          "text": [
            "[['a' 'b' 'c']\n",
            " ['1' '2' '3']\n",
            " ['t' '2' 'p']]\n",
            "\n",
            "Shape:  (3, 3)\n",
            "\n",
            "Shape:  2\n",
            "\n",
            "Shape:  9\n",
            "\n",
            "Shape:  <U21\n"
          ]
        }
      ]
    },
    {
      "cell_type": "markdown",
      "source": [
        "### Dimensions"
      ],
      "metadata": {
        "id": "SzadFsB2dr9q"
      }
    },
    {
      "cell_type": "code",
      "source": [
        "arr = np.array( [[ 1, 2, 3],\n",
        "\t\t\t\t[ 4, 2, 5]] )\n",
        "\n",
        "\n",
        "# Checking the number of dimensions (axes)\n",
        "print(\"No. of dimensions: \", arr.ndim)\n",
        "\n"
      ],
      "metadata": {
        "colab": {
          "base_uri": "https://localhost:8080/"
        },
        "id": "UwLuUNe3cK98",
        "outputId": "9cb87259-70ce-4e9e-cdcf-12772a69ccd3"
      },
      "execution_count": 12,
      "outputs": [
        {
          "output_type": "stream",
          "name": "stdout",
          "text": [
            "No. of dimensions:  2\n"
          ]
        }
      ]
    },
    {
      "cell_type": "markdown",
      "source": [
        "### Shape of array\n",
        "        * array.shape\n"
      ],
      "metadata": {
        "id": "-c0k2btady-_"
      }
    },
    {
      "cell_type": "code",
      "source": [
        "arr = np.array( [[ 1, 2, 3],\n",
        "\t\t\t\t[ 4, 2, 5]] )\n",
        "\n",
        "# Checking the shape of array\n",
        "print(\"Shape of array: \", arr.shape)\n",
        "\n"
      ],
      "metadata": {
        "colab": {
          "base_uri": "https://localhost:8080/"
        },
        "id": "F802VVkpdPlM",
        "outputId": "0d9171a7-a242-4a37-b045-ff814e0980b2"
      },
      "execution_count": 32,
      "outputs": [
        {
          "output_type": "stream",
          "name": "stdout",
          "text": [
            "Shape of array:  (2, 3)\n"
          ]
        }
      ]
    },
    {
      "cell_type": "code",
      "source": [
        "array1 = np.array([[1,5,2],[3,2,1]])\n",
        "\n",
        "print(array1)\n",
        "\n",
        "print(\"Shape: \",array1.shape)"
      ],
      "metadata": {
        "colab": {
          "base_uri": "https://localhost:8080/"
        },
        "id": "4ODqSTdXiNlY",
        "outputId": "683348c8-6b85-484d-d366-e81abd048ee9"
      },
      "execution_count": 40,
      "outputs": [
        {
          "output_type": "stream",
          "name": "stdout",
          "text": [
            "[[1 5 2]\n",
            " [3 2 1]]\n",
            "Shape:  (2, 3)\n"
          ]
        }
      ]
    },
    {
      "cell_type": "markdown",
      "source": [
        "### Size"
      ],
      "metadata": {
        "id": "1lnlsBkfd9Dz"
      }
    },
    {
      "cell_type": "code",
      "source": [
        "arr = np.array( [[ 1, 2, 3],\n",
        "\t\t\t\t[ 4, 2, 5]] )\n",
        "\n",
        "# Checking the size (total number of elements) of array\n",
        "print(\"Size of array: \", arr.size)\n",
        "\n"
      ],
      "metadata": {
        "colab": {
          "base_uri": "https://localhost:8080/"
        },
        "id": "XDB9aSNcdP1Z",
        "outputId": "d9dd1b29-586e-424a-9754-305315b4cf6b"
      },
      "execution_count": 14,
      "outputs": [
        {
          "output_type": "stream",
          "name": "stdout",
          "text": [
            "Size of array:  6\n"
          ]
        }
      ]
    },
    {
      "cell_type": "markdown",
      "source": [
        "### Type of elements in array"
      ],
      "metadata": {
        "id": "3hU_gBt_eC5H"
      }
    },
    {
      "cell_type": "code",
      "source": [
        "# Creating array object\n",
        "arr = np.array( [[ 1, 2, 3],\n",
        "\t\t\t\t[ 4, 2, 5]] )\n",
        "\n",
        "# Checking the type of elements in array\n",
        "print(\"Array stores elements of type: \", arr.dtype)\n"
      ],
      "metadata": {
        "colab": {
          "base_uri": "https://localhost:8080/"
        },
        "id": "GJhCRFiXdQG8",
        "outputId": "53b6d2ba-9fe0-4fce-c23c-9c3edcc11624"
      },
      "execution_count": 15,
      "outputs": [
        {
          "output_type": "stream",
          "name": "stdout",
          "text": [
            "Array stores elements of type:  int64\n"
          ]
        }
      ]
    },
    {
      "cell_type": "code",
      "source": [
        ""
      ],
      "metadata": {
        "id": "FD-hCHILdQXN"
      },
      "execution_count": 15,
      "outputs": []
    },
    {
      "cell_type": "markdown",
      "source": [
        "## Creating Array"
      ],
      "metadata": {
        "id": "hZSL0s6QeazE"
      }
    },
    {
      "cell_type": "markdown",
      "source": [
        "### Array from list"
      ],
      "metadata": {
        "id": "vDXBpONCfrzy"
      }
    },
    {
      "cell_type": "code",
      "source": [
        "# Creating array from list with type float\n",
        "a = np.array([[1, 2, 4], [5, 8, 7]], dtype = 'float')\n",
        "print (\"Array created using passed list:\\n\", a)\n",
        "\n"
      ],
      "metadata": {
        "colab": {
          "base_uri": "https://localhost:8080/"
        },
        "id": "kiXWt6c-dQp4",
        "outputId": "205775e8-7e42-4fbd-ff48-80fadf47afcf"
      },
      "execution_count": 16,
      "outputs": [
        {
          "output_type": "stream",
          "name": "stdout",
          "text": [
            "Array created using passed list:\n",
            " [[1. 2. 4.]\n",
            " [5. 8. 7.]]\n"
          ]
        }
      ]
    },
    {
      "cell_type": "markdown",
      "source": [
        "### Array from tuple"
      ],
      "metadata": {
        "id": "q2wQactrgGER"
      }
    },
    {
      "cell_type": "code",
      "source": [
        "# Creating array from tuple\n",
        "b = np.array((1 , 3, 2))\n",
        "print (\"\\nArray created using passed tuple:\\n\", b)\n"
      ],
      "metadata": {
        "colab": {
          "base_uri": "https://localhost:8080/"
        },
        "id": "OuxWYcDSmebJ",
        "outputId": "386e054e-5525-4493-c6a9-1fa755064600"
      },
      "execution_count": 49,
      "outputs": [
        {
          "output_type": "stream",
          "name": "stdout",
          "text": [
            "\n",
            "Array created using passed tuple:\n",
            " [1 3 2]\n"
          ]
        }
      ]
    },
    {
      "cell_type": "code",
      "source": [
        "# Creating array from tuple\n",
        "b1 = np.array([1 , 3, 2])\n",
        "print (\"\\nArray created using passed tuple:\\n\", b1)\n"
      ],
      "metadata": {
        "colab": {
          "base_uri": "https://localhost:8080/"
        },
        "id": "-0Ge3eIRmaH_",
        "outputId": "76dfac6d-446b-4a85-f9e2-2c8729e0d53a"
      },
      "execution_count": 51,
      "outputs": [
        {
          "output_type": "stream",
          "name": "stdout",
          "text": [
            "\n",
            "Array created using passed tuple:\n",
            " [1 3 2]\n"
          ]
        }
      ]
    },
    {
      "cell_type": "markdown",
      "source": [
        "### Creating an array with all zeros\n",
        "      * np.zeros((m, n))\n"
      ],
      "metadata": {
        "id": "4e1neA_3gMWt"
      }
    },
    {
      "cell_type": "code",
      "source": [
        "# Creating a 3X4 array with all zeros\n",
        "c = np.zeros((3, 4))\n",
        "print (\"\\nAn array initialized with all zeros:\\n\", c)\n"
      ],
      "metadata": {
        "colab": {
          "base_uri": "https://localhost:8080/"
        },
        "id": "BaG090t8e9ma",
        "outputId": "444999fb-d84b-4a38-9314-957b2aff976e"
      },
      "execution_count": 18,
      "outputs": [
        {
          "output_type": "stream",
          "name": "stdout",
          "text": [
            "\n",
            "An array initialized with all zeros:\n",
            " [[0. 0. 0. 0.]\n",
            " [0. 0. 0. 0.]\n",
            " [0. 0. 0. 0.]]\n"
          ]
        }
      ]
    },
    {
      "cell_type": "code",
      "source": [
        "d = np.zeros((4,5))\n",
        "print(d)"
      ],
      "metadata": {
        "colab": {
          "base_uri": "https://localhost:8080/"
        },
        "id": "coQi5akmm0qJ",
        "outputId": "9488a500-6094-4980-b81d-25207d623c27"
      },
      "execution_count": 53,
      "outputs": [
        {
          "output_type": "stream",
          "name": "stdout",
          "text": [
            "[[0. 0. 0. 0. 0.]\n",
            " [0. 0. 0. 0. 0.]\n",
            " [0. 0. 0. 0. 0.]\n",
            " [0. 0. 0. 0. 0.]]\n"
          ]
        }
      ]
    },
    {
      "cell_type": "code",
      "source": [
        "# Create a constant value array of complex type\n",
        "d = np.full((3, 3), 6, dtype = 'complex')\n",
        "print (\"\\nAn array initialized with all 6s.\"\n",
        "\t\t\t\"Array type is complex:\\n\", d)\n"
      ],
      "metadata": {
        "colab": {
          "base_uri": "https://localhost:8080/"
        },
        "id": "aWHuoHHCfBHC",
        "outputId": "82f78ca1-0511-4270-85e5-172ec210790f"
      },
      "execution_count": 19,
      "outputs": [
        {
          "output_type": "stream",
          "name": "stdout",
          "text": [
            "\n",
            "An array initialized with all 6s.Array type is complex:\n",
            " [[6.+0.j 6.+0.j 6.+0.j]\n",
            " [6.+0.j 6.+0.j 6.+0.j]\n",
            " [6.+0.j 6.+0.j 6.+0.j]]\n"
          ]
        }
      ]
    },
    {
      "cell_type": "code",
      "source": [
        "d1 = np.full((4,3), 6, dtype = \"complex\")\n",
        "\n",
        "print(d1)"
      ],
      "metadata": {
        "colab": {
          "base_uri": "https://localhost:8080/"
        },
        "id": "la8XWeLknGqz",
        "outputId": "d48c4c5a-da00-44ad-903d-d278fa91f0c5"
      },
      "execution_count": 58,
      "outputs": [
        {
          "output_type": "stream",
          "name": "stdout",
          "text": [
            "[[6.+0.j 6.+0.j 6.+0.j]\n",
            " [6.+0.j 6.+0.j 6.+0.j]\n",
            " [6.+0.j 6.+0.j 6.+0.j]\n",
            " [6.+0.j 6.+0.j 6.+0.j]]\n"
          ]
        }
      ]
    },
    {
      "cell_type": "code",
      "source": [
        "# Create an array with random values\n",
        "e = np.random.random((2, 2))\n",
        "print (\"A random array:\\n\", e)\n"
      ],
      "metadata": {
        "colab": {
          "base_uri": "https://localhost:8080/"
        },
        "id": "oqiwqxXsfESZ",
        "outputId": "ac5d53c4-e60e-4c40-a776-78202c7ad949"
      },
      "execution_count": 28,
      "outputs": [
        {
          "output_type": "stream",
          "name": "stdout",
          "text": [
            "A random array:\n",
            " [[0.12933097 0.92078753]\n",
            " [0.91004653 0.64166649]]\n"
          ]
        }
      ]
    },
    {
      "cell_type": "code",
      "source": [
        "# Create a sequence of integers\n",
        "# from 0 to 30 with steps of 5\n",
        "f = np.arange(0, 30, 5)\n",
        "print (\"A sequential array with steps of 5:\\n\", f)\n"
      ],
      "metadata": {
        "colab": {
          "base_uri": "https://localhost:8080/"
        },
        "id": "IDMopnSqfHD0",
        "outputId": "19b24e59-5e66-4693-d60b-61f979418b84"
      },
      "execution_count": 30,
      "outputs": [
        {
          "output_type": "stream",
          "name": "stdout",
          "text": [
            "\n",
            "A sequential array with steps of 5:\n",
            " [ 0  5 10 15 20 25]\n"
          ]
        }
      ]
    },
    {
      "cell_type": "code",
      "source": [
        "# Create a sequence of 10 values in range 0 to 5\n",
        "g = np.linspace(0, 5, 10)\n",
        "print (\"A sequential array with 10 values between\"\n",
        "\t\t\t\t\t\t\t\t\t\t\"0 and 5:\\n\", g)\n"
      ],
      "metadata": {
        "colab": {
          "base_uri": "https://localhost:8080/"
        },
        "id": "GQ9wMFCnfJT3",
        "outputId": "1f9acbe3-461b-4106-90d7-3a866c3b2dda"
      },
      "execution_count": 31,
      "outputs": [
        {
          "output_type": "stream",
          "name": "stdout",
          "text": [
            "A sequential array with 10 values between0 and 5:\n",
            " [0.         0.55555556 1.11111111 1.66666667 2.22222222 2.77777778\n",
            " 3.33333333 3.88888889 4.44444444 5.        ]\n"
          ]
        }
      ]
    },
    {
      "cell_type": "code",
      "source": [
        "# Reshaping 3X4 array to 2X2X3 array\n",
        "arr = np.array([[1, 2, 3, 4],\n",
        "\t\t\t\t[5, 2, 4, 2],\n",
        "\t\t\t\t[1, 2, 0, 1]])\n",
        "\n",
        "newarr = arr.reshape(2, 2, 3)\n",
        "\n",
        "print (\"\\nOriginal array:\\n\", arr)\n",
        "print (\"Reshaped array:\\n\", newarr)\n",
        "\n"
      ],
      "metadata": {
        "colab": {
          "base_uri": "https://localhost:8080/"
        },
        "id": "6N7FKBFUfLEx",
        "outputId": "d9fb7d4b-c8e6-4e85-d843-ae8c2b22b4a9"
      },
      "execution_count": 23,
      "outputs": [
        {
          "output_type": "stream",
          "name": "stdout",
          "text": [
            "\n",
            "Original array:\n",
            " [[1 2 3 4]\n",
            " [5 2 4 2]\n",
            " [1 2 0 1]]\n",
            "Reshaped array:\n",
            " [[[1 2 3]\n",
            "  [4 5 2]]\n",
            "\n",
            " [[4 2 1]\n",
            "  [2 0 1]]]\n"
          ]
        }
      ]
    },
    {
      "cell_type": "code",
      "source": [
        "abc = np.array([[1,2,3],[5,6,4],[3,8,5]])\n",
        "print(abc)\n",
        "\n",
        "print(\"\"*10)\n",
        "reshapeabc = abc.reshape(3,1,3)   # (new array count, No. of rows in each array, no. of clms in each array)\n",
        "print(reshapeabc)\n",
        "\n",
        "print(\"\"*10)\n",
        "reabc = abc.reshape(3,3,1) #(3 array, 3 row in each array, 1 clm in each array)\n",
        "print(reabc)"
      ],
      "metadata": {
        "colab": {
          "base_uri": "https://localhost:8080/"
        },
        "id": "7jXMjuRyp9SN",
        "outputId": "c3b00342-0529-4e19-c67d-4b01de7c3264"
      },
      "execution_count": 65,
      "outputs": [
        {
          "output_type": "stream",
          "name": "stdout",
          "text": [
            "[[1 2 3]\n",
            " [5 6 4]\n",
            " [3 8 5]]\n",
            "\n",
            "[[[1 2 3]]\n",
            "\n",
            " [[5 6 4]]\n",
            "\n",
            " [[3 8 5]]]\n",
            "\n",
            "[[[1]\n",
            "  [2]\n",
            "  [3]]\n",
            "\n",
            " [[5]\n",
            "  [6]\n",
            "  [4]]\n",
            "\n",
            " [[3]\n",
            "  [8]\n",
            "  [5]]]\n"
          ]
        }
      ]
    },
    {
      "cell_type": "code",
      "source": [
        "# Flatten array\n",
        "arr = np.array([[1, 2, 3], [4, 5, 6]])\n",
        "flarr = arr.flatten()\n",
        "\n",
        "print (\"\\nOriginal array:\\n\", arr)\n",
        "print (\"Fattened array:\\n\", flarr)\n"
      ],
      "metadata": {
        "colab": {
          "base_uri": "https://localhost:8080/"
        },
        "id": "PxjH2huLfQ-b",
        "outputId": "353f31fa-2043-4c41-f5e0-53593d74b463"
      },
      "execution_count": 24,
      "outputs": [
        {
          "output_type": "stream",
          "name": "stdout",
          "text": [
            "\n",
            "Original array:\n",
            " [[1 2 3]\n",
            " [4 5 6]]\n",
            "Fattened array:\n",
            " [1 2 3 4 5 6]\n"
          ]
        }
      ]
    },
    {
      "cell_type": "code",
      "source": [
        ""
      ],
      "metadata": {
        "id": "okjO450UfRra"
      },
      "execution_count": null,
      "outputs": []
    }
  ]
}