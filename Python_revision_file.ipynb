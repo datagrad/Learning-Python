{
  "nbformat": 4,
  "nbformat_minor": 0,
  "metadata": {
    "colab": {
      "name": "Python_revision_file.ipynb",
      "provenance": [],
      "collapsed_sections": [],
      "toc_visible": true,
      "authorship_tag": "ABX9TyOm54ObwbsNaeZgEo0BZHgu",
      "include_colab_link": true
    },
    "kernelspec": {
      "name": "python3",
      "display_name": "Python 3"
    },
    "language_info": {
      "name": "python"
    }
  },
  "cells": [
    {
      "cell_type": "markdown",
      "metadata": {
        "id": "view-in-github",
        "colab_type": "text"
      },
      "source": [
        "<a href=\"https://colab.research.google.com/github/datagrad/Learning-Python/blob/main/Python_revision_file.ipynb\" target=\"_parent\"><img src=\"https://colab.research.google.com/assets/colab-badge.svg\" alt=\"Open In Colab\"/></a>"
      ]
    },
    {
      "cell_type": "markdown",
      "source": [
        "# Python Revision"
      ],
      "metadata": {
        "id": "5fsKzk9r7SzZ"
      }
    },
    {
      "cell_type": "markdown",
      "source": [
        "## 1. How Python Code Gets Executed"
      ],
      "metadata": {
        "id": "PY2lCtSugVch"
      }
    },
    {
      "cell_type": "markdown",
      "source": [
        "\n",
        "## 2. How Long It Takes To Learn Python"
      ],
      "metadata": {
        "id": "TgFadxnrgYuW"
      }
    },
    {
      "cell_type": "markdown",
      "source": [
        "## 3. Variables"
      ],
      "metadata": {
        "id": "qdTEaa1wggvM"
      }
    },
    {
      "cell_type": "code",
      "source": [
        ""
      ],
      "metadata": {
        "id": "oeR5-CXmjG_G"
      },
      "execution_count": null,
      "outputs": []
    },
    {
      "cell_type": "code",
      "execution_count": null,
      "metadata": {
        "colab": {
          "base_uri": "https://localhost:8080/"
        },
        "outputId": "0ff6c644-1749-412f-93a2-a1c19a278caf",
        "id": "7OK9FuYnjHUb"
      },
      "outputs": [
        {
          "output_type": "stream",
          "name": "stdout",
          "text": [
            "120\n"
          ]
        }
      ],
      "source": [
        "#Price of each quantity is 15, cost of 12 objects?\n",
        "a = 10\n",
        "b = 12\n",
        "\n",
        "Cost = a*b\n",
        "print(Cost)"
      ]
    },
    {
      "cell_type": "code",
      "source": [
        "name = \"Kamal Kuamr\"\n",
        "age = \"29\"\n",
        "course = \"Python\"\n",
        "is_new = True\n",
        "\n",
        "print(\"Hi, my name is \",name,\"!\",\"/n I am \",age,\" year old and enrolled into \",course,\" program. \")"
      ],
      "metadata": {
        "colab": {
          "base_uri": "https://localhost:8080/"
        },
        "outputId": "9faa707d-57d7-498e-abfd-5b0c5b29c44e",
        "id": "IjB4UucfjHUc"
      },
      "execution_count": null,
      "outputs": [
        {
          "output_type": "stream",
          "name": "stdout",
          "text": [
            "Hi, my name is  Kamal Kuamr ! /n I am  29  year old and enrolled into  Python  program.\n"
          ]
        }
      ]
    },
    {
      "cell_type": "markdown",
      "source": [
        "## 4. Receiving Input"
      ],
      "metadata": {
        "id": "UyGwjaQSgmgs"
      }
    },
    {
      "cell_type": "code",
      "source": [
        ""
      ],
      "metadata": {
        "id": "0KVH0-7TjN6n"
      },
      "execution_count": null,
      "outputs": []
    },
    {
      "cell_type": "code",
      "source": [
        "#Price of each quantity is 15, cost of 12 objects?\n",
        "a = int(input(\"Enter the Quantity: \"))\n",
        "b = int(input(\"Enter the price of one: \"))\n",
        "\n",
        "Cost = a*b\n",
        "print(\"Total Cost : \",Cost)"
      ],
      "metadata": {
        "colab": {
          "base_uri": "https://localhost:8080/"
        },
        "outputId": "74775757-bf7c-4554-ce27-0b057a0b2b37",
        "id": "6aE49aNyjOMf"
      },
      "execution_count": null,
      "outputs": [
        {
          "output_type": "stream",
          "name": "stdout",
          "text": [
            "Enter the Quantity: 12\n",
            "Enter the price of one: 6\n",
            "Total Cost :  72\n"
          ]
        }
      ]
    },
    {
      "cell_type": "code",
      "source": [
        "# Speed = distance / Time\n",
        "dist = float(input(\"Enter the distance in KM: \"))\n",
        "time = float(input(\"Enter the time taken in hr: \"))\n",
        "\n",
        "speed = dist / time\n",
        "print(\"Speed : \",speed, \"KM/hr\")\n"
      ],
      "metadata": {
        "colab": {
          "base_uri": "https://localhost:8080/"
        },
        "outputId": "94f9fe47-c1ce-4797-8033-1e8ea5d999b0",
        "id": "dgtyf5jyjOMf"
      },
      "execution_count": null,
      "outputs": [
        {
          "output_type": "stream",
          "name": "stdout",
          "text": [
            "Enter the distance in KM: 123\n",
            "Enter the time taken in hr: 2\n",
            "Speed :  61.5 KM/hr\n"
          ]
        }
      ]
    },
    {
      "cell_type": "code",
      "source": [
        "name= input(\"Please enter your name: \")\n",
        "print(\"Hi\",name,\"!\" )\n",
        "mobile= int(input(\"Please enter your 10 digit mobile number: \"))\n",
        "print(\"Hi\",name, \"Please confirm your mobile number is: \",mobile )\n",
        "confirm = input(bool())\n",
        "print(confirm)"
      ],
      "metadata": {
        "colab": {
          "base_uri": "https://localhost:8080/"
        },
        "id": "rrGM2_mkjkeC",
        "outputId": "370f7850-2eca-4294-df1a-0d8ba1b6669d"
      },
      "execution_count": 13,
      "outputs": [
        {
          "output_type": "stream",
          "name": "stdout",
          "text": [
            "Please enter your name: Kamal\n",
            "Hi Kamal !\n",
            "Please enter your 10 digit mobile number: 9738919340\n",
            "Hi Kamal Please confirm your mobile number is:  9738919340\n",
            "True\n",
            "True\n"
          ]
        }
      ]
    },
    {
      "cell_type": "code",
      "source": [
        "name= input(\"Please enter your name: \")\n",
        "color= input(\"Please enter your favourite color: \")\n",
        "print(name,\"likes\",color )\n"
      ],
      "metadata": {
        "colab": {
          "base_uri": "https://localhost:8080/"
        },
        "id": "dpzM-ycrlNwM",
        "outputId": "76bd5812-e372-4432-9738-4a4d94c64c8b"
      },
      "execution_count": 16,
      "outputs": [
        {
          "output_type": "stream",
          "name": "stdout",
          "text": [
            "Please enter your name: Kamal\n",
            "Please enter your favourite color: Blue\n",
            "Kamal likes Blue\n"
          ]
        }
      ]
    },
    {
      "cell_type": "markdown",
      "source": [
        "## 5. Python Cheat Sheet\n",
        "[Cheat Sheet by Mosh](https://www.youtube.com/redirect?event=video_description&redir_token=QUFFLUhqbFdpSXJocnFpYmNxS0ljdXN1OUR2ZzFVWXlJUXxBQ3Jtc0trb1dhanN3XzNPOS03cWYzVVN0UzFxc3Z4YXhpdjlEbkpYWGRvN21tOHR0WlY0a0JaVTNITHVQaDM5U2ZMclFNaDE1X2F1VnU4N21yajZPaXlwNHZJQllBSmJCdml4cHFBUUpUbkpDYUwzWWVoTlk3TQ&q=http%3A%2F%2Fbit.ly%2F2Gp80s6&v=_uQrJ0TkZlc)"
      ],
      "metadata": {
        "id": "J4j0IYi_gmdN"
      }
    },
    {
      "cell_type": "code",
      "source": [
        ""
      ],
      "metadata": {
        "id": "rQY0t6yDjbVB"
      },
      "execution_count": null,
      "outputs": []
    },
    {
      "cell_type": "markdown",
      "source": [
        "## 6. Type Conversion\n"
      ],
      "metadata": {
        "id": "l5vBZrBsgmaw"
      }
    },
    {
      "cell_type": "code",
      "source": [
        "birth_year = int(input(\"Please enter your year of birth:\"))\n",
        "current_year = 2022\n",
        "\n",
        "age = current_year - birth_year\n",
        "print(\"Your current age is: \",age)"
      ],
      "metadata": {
        "colab": {
          "base_uri": "https://localhost:8080/"
        },
        "id": "hus5dCfWrQOk",
        "outputId": "7f867341-91c4-4923-98f2-42e49031de56"
      },
      "execution_count": 20,
      "outputs": [
        {
          "output_type": "stream",
          "name": "stdout",
          "text": [
            "Please enter your year of birth:1993\n",
            "Your current age is:  29\n"
          ]
        }
      ]
    },
    {
      "cell_type": "code",
      "source": [
        "year = input()\n",
        "print(type(year))"
      ],
      "metadata": {
        "colab": {
          "base_uri": "https://localhost:8080/"
        },
        "id": "XQ0gfQLZsCx6",
        "outputId": "2b027497-b618-4767-fad4-f4e7a273f9a0"
      },
      "execution_count": 1,
      "outputs": [
        {
          "output_type": "stream",
          "name": "stdout",
          "text": [
            "1993\n",
            "<class 'str'>\n"
          ]
        }
      ]
    },
    {
      "cell_type": "code",
      "source": [
        "year = int(input())\n",
        "print(type(year))"
      ],
      "metadata": {
        "colab": {
          "base_uri": "https://localhost:8080/"
        },
        "id": "9W7aLrg8aNL7",
        "outputId": "bee939c6-3513-44d3-e91e-9b3d80d33f0e"
      },
      "execution_count": 2,
      "outputs": [
        {
          "output_type": "stream",
          "name": "stdout",
          "text": [
            "1993\n",
            "<class 'int'>\n"
          ]
        }
      ]
    },
    {
      "cell_type": "markdown",
      "source": [
        "## 7. Strings\n",
        "\n"
      ],
      "metadata": {
        "id": "y-qK1C8RgmW_"
      }
    },
    {
      "cell_type": "markdown",
      "source": [
        "## 8. Formatted Strings\n"
      ],
      "metadata": {
        "id": "uJ0yyo2TgmUd"
      }
    },
    {
      "cell_type": "markdown",
      "source": [
        "## 9. String Methods\n"
      ],
      "metadata": {
        "id": "pNuB4CkFgmQz"
      }
    },
    {
      "cell_type": "markdown",
      "source": [
        "## 10. Arithmetic Operations\n"
      ],
      "metadata": {
        "id": "5igz5ohjgmOG"
      }
    },
    {
      "cell_type": "markdown",
      "source": [
        "## 11. Operator Precedence\n"
      ],
      "metadata": {
        "id": "Zkzifq5xgmKw"
      }
    },
    {
      "cell_type": "markdown",
      "source": [
        "## 12. Math Functions\n"
      ],
      "metadata": {
        "id": "Frqt3WzHgmHn"
      }
    },
    {
      "cell_type": "markdown",
      "source": [
        "## 13. If Statements\n"
      ],
      "metadata": {
        "id": "JVbiot2-gmEw"
      }
    },
    {
      "cell_type": "markdown",
      "source": [
        "## 14. Logical Operators\n"
      ],
      "metadata": {
        "id": "MI4tSgD_gmB5"
      }
    },
    {
      "cell_type": "markdown",
      "source": [
        "## 15. Comparison Operators\n"
      ],
      "metadata": {
        "id": "4vcDAKUPgl-X"
      }
    },
    {
      "cell_type": "markdown",
      "source": [
        "## 16. Weight Converter Program\n"
      ],
      "metadata": {
        "id": "83nOAnOagl7a"
      }
    },
    {
      "cell_type": "markdown",
      "source": [
        "## 17. While Loops\n"
      ],
      "metadata": {
        "id": "z2TfzJemgl4O"
      }
    },
    {
      "cell_type": "markdown",
      "source": [
        "## 18. Building a Guessing Game\n"
      ],
      "metadata": {
        "id": "kKUiLik1gl1J"
      }
    },
    {
      "cell_type": "markdown",
      "source": [
        "## 19. Building the Car Game\n"
      ],
      "metadata": {
        "id": "I1v4ctRgglx-"
      }
    },
    {
      "cell_type": "markdown",
      "source": [
        "## 20. For Loops\n"
      ],
      "metadata": {
        "id": "rXYa_TlvglvI"
      }
    },
    {
      "cell_type": "markdown",
      "source": [
        "## 21. Nested Loops\n"
      ],
      "metadata": {
        "id": "yIDShG_8glr8"
      }
    },
    {
      "cell_type": "markdown",
      "source": [
        "## 22. Lists\n"
      ],
      "metadata": {
        "id": "DPmH4WxKglos"
      }
    },
    {
      "cell_type": "markdown",
      "source": [
        "## 23. 2D Lists\n"
      ],
      "metadata": {
        "id": "Y3H_MV1Fgllx"
      }
    },
    {
      "cell_type": "markdown",
      "source": [
        "## 24. My Complete Python Course\n"
      ],
      "metadata": {
        "id": "1GbmW6zwglis"
      }
    },
    {
      "cell_type": "markdown",
      "source": [
        "## 25. List Methods\n"
      ],
      "metadata": {
        "id": "40jkRwmhglfp"
      }
    },
    {
      "cell_type": "markdown",
      "source": [
        "## 26. Tuples\n"
      ],
      "metadata": {
        "id": "yutbHyvJglcv"
      }
    },
    {
      "cell_type": "markdown",
      "source": [
        "## 27. Unpacking\n"
      ],
      "metadata": {
        "id": "dgCtl3b6glZx"
      }
    },
    {
      "cell_type": "markdown",
      "source": [
        "## 28.  Dictionaries\n"
      ],
      "metadata": {
        "id": "hJXXgg47glW9"
      }
    },
    {
      "cell_type": "markdown",
      "source": [
        "## 29. Emoji Converter\n"
      ],
      "metadata": {
        "id": "xU3Kr7f9glTR"
      }
    },
    {
      "cell_type": "markdown",
      "source": [
        "## 30. Functions\n"
      ],
      "metadata": {
        "id": "cV_0KZt8glQK"
      }
    },
    {
      "cell_type": "markdown",
      "source": [
        "## 31. Parameters\n"
      ],
      "metadata": {
        "id": "Y0_WhHmZglNA"
      }
    },
    {
      "cell_type": "markdown",
      "source": [
        "## 32. Keyword Arguments\n"
      ],
      "metadata": {
        "id": "-SXa4mrDglJv"
      }
    },
    {
      "cell_type": "markdown",
      "source": [
        "## 33. Return Statement\n"
      ],
      "metadata": {
        "id": "9r_3FcWeglG3"
      }
    },
    {
      "cell_type": "markdown",
      "source": [
        "## 34. Creating a Reusable Function\n"
      ],
      "metadata": {
        "id": "LQcN1jcbglDs"
      }
    },
    {
      "cell_type": "markdown",
      "source": [
        "## 35. Exceptions\n"
      ],
      "metadata": {
        "id": "333VfZmLglAt"
      }
    },
    {
      "cell_type": "markdown",
      "source": [
        "## 36. Comments\n"
      ],
      "metadata": {
        "id": "6Abdv2kogk9r"
      }
    },
    {
      "cell_type": "markdown",
      "source": [
        "## 37. Classes\n"
      ],
      "metadata": {
        "id": "nmraWeVQgk6Y"
      }
    },
    {
      "cell_type": "markdown",
      "source": [
        "## 38. Constructors\n"
      ],
      "metadata": {
        "id": "MdGblqvxgk3d"
      }
    },
    {
      "cell_type": "markdown",
      "source": [
        "## 39. Inheritance\n"
      ],
      "metadata": {
        "id": "hBE9AuCGgk0H"
      }
    },
    {
      "cell_type": "markdown",
      "source": [
        "## 40. Modules\n"
      ],
      "metadata": {
        "id": "9dWEyle_gkxF"
      }
    },
    {
      "cell_type": "markdown",
      "source": [
        "## 41. Packages\n"
      ],
      "metadata": {
        "id": "4pTbWLbQgkuL"
      }
    },
    {
      "cell_type": "markdown",
      "source": [
        "## 42. Generating Random Values\n"
      ],
      "metadata": {
        "id": "cpqbWec2gkrU"
      }
    },
    {
      "cell_type": "markdown",
      "source": [
        "## 43. Working with Directories\n"
      ],
      "metadata": {
        "id": "XClJyVlbgkoG"
      }
    },
    {
      "cell_type": "markdown",
      "source": [
        "## 44. Pypi and Pip"
      ],
      "metadata": {
        "id": "Q5OdZ1JsgklB"
      }
    },
    {
      "cell_type": "markdown",
      "source": [
        "\n",
        "## 45. Project 1: Automation with Python"
      ],
      "metadata": {
        "id": "h35-ujWmgkeb"
      }
    },
    {
      "cell_type": "markdown",
      "source": [
        "\n",
        "## 46. Project 2: Machine Learning with Python"
      ],
      "metadata": {
        "id": "nx9uBIjngkVW"
      }
    },
    {
      "cell_type": "markdown",
      "source": [
        "\n",
        "## 47. Project 3: Building a Website with Django"
      ],
      "metadata": {
        "id": "uR34yloLio6P"
      }
    }
  ]
}